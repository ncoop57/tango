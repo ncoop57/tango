{
 "cells": [
  {
   "cell_type": "code",
   "execution_count": null,
   "metadata": {},
   "outputs": [],
   "source": [
    "#default_exp cli"
   ]
  },
  {
   "cell_type": "code",
   "execution_count": null,
   "metadata": {},
   "outputs": [],
   "source": [
    "#hide\n",
    "%reload_ext autoreload\n",
    "%autoreload 2\n",
    "%matplotlib inline"
   ]
  },
  {
   "cell_type": "markdown",
   "metadata": {},
   "source": [
    "# CLI\n",
    "\n",
    "\n",
    "> This module contains all the code for defining Tango's CLI"
   ]
  },
  {
   "cell_type": "code",
   "execution_count": null,
   "metadata": {},
   "outputs": [],
   "source": [
    "# export\n",
    "import pickle\n",
    "import pprint\n",
    "\n",
    "from fastscript import call_parse, Param, bool_arg\n",
    "from pathlib import Path\n",
    "from tango.prep import *\n",
    "from tango.features import *\n",
    "from tango.eval import *\n",
    "from tango.model import *\n",
    "from tango.approach import *"
   ]
  },
  {
   "cell_type": "code",
   "execution_count": null,
   "metadata": {},
   "outputs": [],
   "source": [
    "# export\n",
    "@call_parse\n",
    "def tango(\n",
    "    q_path:Param(\"Path to the query video\", str),\n",
    "    cor_path:Param(\"Path to the corpus\", str),\n",
    "    cb_path:Param(\"Path to the codebook\", str),\n",
    "    vis_path:Param(\"Path to SimCLR checkpoint\", str),\n",
    "    fps:Param(\"FPS to set the vidoes to\", int) = 30,\n",
    "    approach:Param(\"Approach to use: vis, txt, comb\", str) = 'vis'\n",
    "):\n",
    "    q_path = Path(q_path)\n",
    "    cor_path = Path(cor_path)\n",
    "    cb_path = Path(cb_path)\n",
    "    vis_path = Path(vis_path)\n",
    "    \n",
    "    q_vid = Video(q_path, fps)\n",
    "    codebook = pickle.load(open(cb_path, 'rb'))\n",
    "    simclr = SimCLRModel.load_from_checkpoint(checkpoint_path = str(vis_path)).eval()\n",
    "    model = SimCLRExtractor(simclr)\n",
    "\n",
    "    vid_ds = VideoDataset.from_path(cor_path).label_from_paths()\n",
    "    sorted_rankings = compute_sims(q_vid, vid_ds, model, codebook, 1_000, fps, 5)\n",
    "    pp = pprint.PrettyPrinter(indent=4)\n",
    "    pp.pprint(sorted_rankings)"
   ]
  },
  {
   "cell_type": "code",
   "execution_count": null,
   "metadata": {},
   "outputs": [
    {
     "name": "stdout",
     "output_type": "stream",
     "text": [
      "Converted 00_prep.ipynb.\n",
      "Converted 01_features.ipynb.\n",
      "Converted 02_eval.ipynb.\n",
      "Converted 03_model.ipynb.\n",
      "Converted 04_approach.ipynb.\n",
      "Converted 05_cli.ipynb.\n",
      "Converted 06_results.ipynb.\n",
      "Converted index.ipynb.\n"
     ]
    }
   ],
   "source": [
    "from nbdev.export import notebook2script\n",
    "notebook2script()"
   ]
  }
 ],
 "metadata": {
  "kernelspec": {
   "display_name": "Python 3",
   "language": "python",
   "name": "python3"
  }
 },
 "nbformat": 4,
 "nbformat_minor": 2
}
