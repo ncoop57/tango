{
 "cells": [
  {
   "cell_type": "code",
   "execution_count": null,
   "metadata": {},
   "outputs": [],
   "source": [
    "#default_exp cli"
   ]
  },
  {
   "cell_type": "code",
   "execution_count": 1,
   "metadata": {},
   "outputs": [],
   "source": [
    "#hide\n",
    "%reload_ext autoreload\n",
    "%autoreload 2\n",
    "%matplotlib inline"
   ]
  },
  {
   "cell_type": "markdown",
   "metadata": {},
   "source": [
    "# CLI\n",
    "\n",
    "\n",
    "> This module contains all the code for defining Tango's CLI"
   ]
  },
  {
   "cell_type": "code",
   "execution_count": 5,
   "metadata": {},
   "outputs": [],
   "source": [
    "# export\n",
    "import logging\n",
    "import pickle\n",
    "import pprint\n",
    "import random\n",
    "import requests\n",
    "import subprocess\n",
    "import time\n",
    "import zipfile\n",
    "\n",
    "from fastcore.script import call_parse, Param\n",
    "from pathlib import Path\n",
    "from two_to_tango.prep import *\n",
    "from two_to_tango.features import *\n",
    "from two_to_tango.eval import *\n",
    "from two_to_tango.model import *\n",
    "from two_to_tango.approach import *\n",
    "from two_to_tango.combo import *\n",
    "from tqdm.auto import tqdm\n",
    "\n",
    "logger = logging.getLogger()\n",
    "logger.setLevel(logging.INFO)"
   ]
  },
  {
   "cell_type": "code",
   "execution_count": 3,
   "metadata": {},
   "outputs": [],
   "source": [
    "# export\n",
    "URLs = {\n",
    "    \"reproduction_package\": \"https://zenodo.org/record/<record_num>/files/<file_name>\",\n",
    "}"
   ]
  },
  {
   "cell_type": "code",
   "execution_count": 4,
   "metadata": {},
   "outputs": [],
   "source": [
    "# export\n",
    "# @call_parse\n",
    "def _download(\n",
    "    out_path#: Param(\"The output path to save and unzip all files.\", str)\n",
    "):\n",
    "    \"\"\"Function for downloading all data and results related to this tool's paper\"\"\"\n",
    "    out_path = Path(out_path)\n",
    "    out_path.mkdir(parents=True, exist_ok=True)\n",
    "    \n",
    "    logging.info(f\"Downloading and extracting datasets and models to {str(out_path)}.\")\n",
    "    r = requests.get(URLs[\"reproduction_package\"])\n",
    "    z = zipfile.ZipFile(io.BytesIO(r.content))\n",
    "    z.extractall(out_path / \"reproduction_package\")"
   ]
  },
  {
   "cell_type": "code",
   "execution_count": null,
   "metadata": {},
   "outputs": [],
   "source": [
    "# export\n",
    "@call_parse\n",
    "def download(\n",
    "    out_path: Param(\"The output path to save and unzip all files.\", str)\n",
    "):\n",
    "    _download(out_path)"
   ]
  },
  {
   "cell_type": "code",
   "execution_count": 8,
   "metadata": {},
   "outputs": [],
   "source": [
    "# export\n",
    "# all hyperparameters used\n",
    "VWORDS = [1_000, 5_000, 10_000]\n",
    "N_IMGS = 15_000\n",
    "N_FRAMES_TO_KEEP = [1, 5]\n",
    "FPS = 30\n",
    "\n",
    "BEST_DL_MODELS= [\n",
    "    \"SimCLR-1000vw-5ftk-bovw\", \"SimCLR-5000vw-5ftk-bovw_lcs\",\n",
    "    \"SimCLR-5000vw-5ftk-bovw_weighted_lcs\", \"SimCLR-1000vw-5ftk-bovw_weighted_lcs\"\n",
    "]\n",
    "BEST_IR_MODELS = [\n",
    "    \"ocr+ir--1ftk-all_text\", \"ocr+ir--5ftk-all_text\",\n",
    "    \"ocr+ir--5ftk-unique_frames\", \"ocr+ir--5ftk-unique_words\"\n",
    "]"
   ]
  },
  {
   "cell_type": "code",
   "execution_count": 6,
   "metadata": {},
   "outputs": [],
   "source": [
    "# export\n",
    "def _generate_vis_results(vid_ds, out_path, art_path, vis_model):\n",
    "    if vis_model == \"SimCLR\":\n",
    "        simclr = SimCLRModel.load_from_checkpoint(\n",
    "            checkpoint_path = str(\n",
    "                art_path/\"models\"/\"SimCLR\"/\"checkpointepoch=98.ckpt\"\n",
    "            )\n",
    "        ).eval()\n",
    "        model = SimCLRExtractor(simclr)\n",
    "        sim_func = simclr_frame_sim\n",
    "    else:\n",
    "        model = SIFTExtractor(cv2.xfeatures2d.SIFT_create(nfeatures = 10))\n",
    "        sim_func = sift_frame_sim\n",
    "\n",
    "    logging.info(f\"Computing rankings and calculating metrics for {vis_model} visual model.\")\n",
    "    for vw in tqdm(VWORDS):\n",
    "        for ftk in tqdm(N_FRAMES_TO_KEEP):\n",
    "            evaluation_metrics = {}\n",
    "            cb_path = art_path/\"models\"/vis_model/f\"cookbook_{vis_model}_{vw}vw.model\"\n",
    "            codebook = pickle.load(open(cb_path, \"rb\"))\n",
    "            start = time.time()\n",
    "            vid_ds_features = gen_extracted_features(vid_ds, model, FPS, ftk)\n",
    "            end = time.time()\n",
    "            feature_gen_time = end - start\n",
    "            \n",
    "            df, bovw_vid_ds_sims = gen_bovw_similarity(\n",
    "                vid_ds, vid_ds_features, model, codebook, vw, ftk\n",
    "            )\n",
    "            lcs_vid_ds_sims = gen_lcs_similarity(\n",
    "                vid_ds, vid_ds_features, sim_func, model, codebook, df, vw, ftk\n",
    "            )\n",
    "            rankings = approach(\n",
    "                vid_ds, vid_ds_features, bovw_vid_ds_sims, lcs_vid_ds_sims, model, sim_func,\n",
    "                codebook, df, vw, fps = FPS, ftk = ftk,\n",
    "            )\n",
    "\n",
    "            for k, v in rankings.items():\n",
    "                evaluation_metrics[k] = evaluate(rankings[k])\n",
    "\n",
    "            id_name = f\"user_{N_IMGS}n_{vw}vw_{FPS}fps_{ftk}ftk\"\n",
    "            results_path = out_path/\"results\"/vis_model\n",
    "            results_path.mkdir(parents=True, exist_ok=True)\n",
    "            logging.info(f\"Saving rankings and metrics to {str(results_path)}.\")\n",
    "            with open(results_path/f\"rankings_{id_name}.pkl\", \"wb\") as f:\n",
    "                pickle.dump(rankings, f, protocol=pickle.HIGHEST_PROTOCOL)\n",
    "\n",
    "            with open(results_path/f\"evaluation_metrics_{id_name}.pkl\", 'wb') as f:\n",
    "                pickle.dump(evaluation_metrics, f, protocol=pickle.HIGHEST_PROTOCOL)"
   ]
  },
  {
   "cell_type": "code",
   "execution_count": 17,
   "metadata": {
    "scrolled": true
   },
   "outputs": [],
   "source": [
    "VWORDS = [1_000]\n",
    "N_IMGS = 15_000\n",
    "N_FRAMES_TO_KEEP = [1]\n",
    "FPS = 30\n",
    "\n",
    "out_path = Path(\"/tf/main/tango_reproduction_package/outputs\")\n",
    "art_path = Path(\"/tf/main/tango_reproduction_package/artifacts\")\n",
    "vis_model = \"SimCLR\"\n",
    "\n",
    "vid_ds = VideoDataset.from_path(\n",
    "    art_path/\"videos\", fr = FPS\n",
    ").label_from_paths()\n",
    "\n",
    "# _generate_vis_results(vid_ds, out_path, art_path, vis_model)"
   ]
  },
  {
   "cell_type": "code",
   "execution_count": 18,
   "metadata": {},
   "outputs": [],
   "source": [
    "# export\n",
    "def _generate_txt_results(vid_ds, out_path, art_path, vis_model):\n",
    "    logging.info(\"Computing rankings and calculating metrics for textual model.\")\n",
    "    csv_file_path = art_path/\"user_assignment.csv\"\n",
    "    settings_path = out_path/\"evaluation_settings\"\n",
    "    settings_path.mkdir(parents=True, exist_ok=True)\n",
    "    video_data = read_video_data(csv_file_path)\n",
    "    generate_setting2(video_data, settings_path)\n",
    "    convert_results_format(out_path/\"results\", settings_path, out_path, [vis_model])\n",
    "\n",
    "    # Check if files already exist and skip if they do because it takes a long time\n",
    "    txt_out_path = out_path/\"extracted_text\"\n",
    "    for ftk in N_FRAMES_TO_KEEP:\n",
    "        if not (txt_out_path/f\"text_{ftk}\").exists():\n",
    "            get_all_texts(vid_ds, txt_out_path, fps = ftk)\n",
    "\n",
    "    txt_path = art_path/\"models\"/\"OCR+IR\"\n",
    "    subprocess.check_output(\n",
    "        [\"sh\", \"build_run.sh\", str(txt_out_path), str(settings_path)],\n",
    "        cwd=str(txt_path),\n",
    "    )"
   ]
  },
  {
   "cell_type": "code",
   "execution_count": 19,
   "metadata": {
    "scrolled": true
   },
   "outputs": [
    {
     "name": "stderr",
     "output_type": "stream",
     "text": [
      "INFO:root:Computing rankings and calculating metrics for textual model.\n"
     ]
    },
    {
     "name": "stdout",
     "output_type": "stream",
     "text": [
      "{'CC1': [('U1', 'APOD-CC1-U1'), ('U2', 'APOD-CC1-U2'), ('U12', 'APOD-CC1-U12')],\n",
      " 'CC2': [('U1', 'APOD-CC2-U1'), ('U2', 'APOD-CC2-U2'), ('U12', 'APOD-CC2-U12')],\n",
      " 'CC3': [('U1', 'APOD-CC3-U1'), ('U2', 'APOD-CC3-U2'), ('U12', 'APOD-CC3-U12')],\n",
      " 'CC4': [('U7', 'APOD-CC4-U7'), ('U8', 'APOD-CC4-U8'), ('U12', 'APOD-CC4-U12')],\n",
      " 'CC5': [('U7', 'APOD-CC5-U7'), ('U8', 'APOD-CC5-U8'), ('U12', 'APOD-CC5-U12')],\n",
      " 'CC6': [('U7', 'APOD-CC6-U7'), ('U8', 'APOD-CC6-U8'), ('U12', 'APOD-CC6-U12')],\n",
      " 'CC7': [('U7', 'APOD-CC7-U7'), ('U8', 'APOD-CC7-U8'), ('U12', 'APOD-CC7-U12')],\n",
      " 'CC8': [('U5', 'APOD-CC8-U5'),\n",
      "         ('U10', 'APOD-CC8-U10'),\n",
      "         ('U12', 'APOD-CC8-U12')],\n",
      " 'CC9': [('U5', 'APOD-CC9-U5'), ('U9', 'APOD-CC9-U9'), ('U12', 'APOD-CC9-U12')],\n",
      " 'RB': [('U1', 'APOD-RB-U1'), ('U5', 'APOD-RB-U5'), ('U12', 'APOD-RB-U12')]}\n",
      "{'CC1': [('U6', 'DROID-CC1-U6'),\n",
      "         ('U10', 'DROID-CC1-U10'),\n",
      "         ('U13', 'DROID-CC1-U13')],\n",
      " 'CC11': [('U7', 'DROID-CC11-U7'),\n",
      "          ('U10', 'DROID-CC11-U10'),\n",
      "          ('U13', 'DROID-CC11-U13')],\n",
      " 'CC2': [('U7', 'DROID-CC2-U7'),\n",
      "         ('U10', 'DROID-CC2-U10'),\n",
      "         ('U13', 'DROID-CC2-U13')],\n",
      " 'CC3': [('U6', 'DROID-CC3-U6'),\n",
      "         ('U9', 'DROID-CC3-U9'),\n",
      "         ('U13', 'DROID-CC3-U13')],\n",
      " 'CC4': [('U7', 'DROID-CC4-U7'),\n",
      "         ('U10', 'DROID-CC4-U10'),\n",
      "         ('U13', 'DROID-CC4-U13')],\n",
      " 'CC5': [('U7', 'DROID-CC5-U7'),\n",
      "         ('U8', 'DROID-CC5-U8'),\n",
      "         ('U13', 'DROID-CC5-U13')],\n",
      " 'CC6': [('U7', 'DROID-CC6-U7'),\n",
      "         ('U8', 'DROID-CC6-U8'),\n",
      "         ('U13', 'DROID-CC6-U13')],\n",
      " 'CC7': [('U7', 'DROID-CC7-U7'),\n",
      "         ('U8', 'DROID-CC7-U8'),\n",
      "         ('U13', 'DROID-CC7-U13')],\n",
      " 'CC8': [('U9', 'DROID-CC8-U9'),\n",
      "         ('U10', 'DROID-CC8-U10'),\n",
      "         ('U13', 'DROID-CC8-U13')],\n",
      " 'CC9': [('U9', 'DROID-CC9-U9'),\n",
      "         ('U10', 'DROID-CC9-U10'),\n",
      "         ('U13', 'DROID-CC9-U13')]}\n",
      "{'CC1': [('U2', 'TIME-CC1-U2'), ('U3', 'TIME-CC1-U3'), ('U11', 'TIME-CC1-U11')],\n",
      " 'CC2': [('U2', 'TIME-CC2-U2'), ('U3', 'TIME-CC2-U3'), ('U11', 'TIME-CC2-U11')],\n",
      " 'CC3': [('U2', 'TIME-CC3-U2'), ('U3', 'TIME-CC3-U3'), ('U11', 'TIME-CC3-U11')],\n",
      " 'CC4': [('U9', 'TIME-CC4-U9'),\n",
      "         ('U10', 'TIME-CC4-U10'),\n",
      "         ('U11', 'TIME-CC4-U11')],\n",
      " 'CC5': [('U9', 'TIME-CC5-U9'),\n",
      "         ('U10', 'TIME-CC5-U10'),\n",
      "         ('U11', 'TIME-CC5-U11')],\n",
      " 'CC6': [('U9', 'TIME-CC6-U9'),\n",
      "         ('U10', 'TIME-CC6-U10'),\n",
      "         ('U11', 'TIME-CC6-U11')],\n",
      " 'CC7': [('U9', 'TIME-CC7-U9'),\n",
      "         ('U10', 'TIME-CC7-U10'),\n",
      "         ('U11', 'TIME-CC7-U11')],\n",
      " 'CC8': [('U2', 'TIME-CC8-U2'), ('U3', 'TIME-CC8-U3'), ('U11', 'TIME-CC8-U11')],\n",
      " 'CC9': [('U5', 'TIME-CC9-U5'), ('U9', 'TIME-CC9-U9'), ('U11', 'TIME-CC9-U11')],\n",
      " 'RC': [('U2', 'TIME-RC-U2'), ('U5', 'TIME-RC-U5'), ('U11', 'TIME-RC-U11')]}\n",
      "{'CC1': [('U4', 'GNU-CC1-U4'), ('U5', 'GNU-CC1-U5'), ('U13', 'GNU-CC1-U13')],\n",
      " 'CC2': [('U4', 'GNU-CC2-U4'), ('U5', 'GNU-CC2-U5'), ('U13', 'GNU-CC2-U13')],\n",
      " 'CC3': [('U4', 'GNU-CC3-U4'), ('U5', 'GNU-CC3-U5'), ('U13', 'GNU-CC3-U13')],\n",
      " 'CC4': [('U1', 'GNU-CC4-U1'), ('U3', 'GNU-CC4-U3'), ('U13', 'GNU-CC4-U13')],\n",
      " 'CC5': [('U10', 'GNU-CC5-U10'), ('U3', 'GNU-CC5-U3'), ('U13', 'GNU-CC5-U13')],\n",
      " 'CC6': [('U1', 'GNU-CC6-U1'), ('U3', 'GNU-CC6-U3'), ('U13', 'GNU-CC6-U13')],\n",
      " 'CC7': [('U1', 'GNU-CC7-U1'), ('U3', 'GNU-CC7-U3'), ('U13', 'GNU-CC7-U13')],\n",
      " 'CC8': [('U6', 'GNU-CC8-U6'), ('U10', 'GNU-CC8-U10'), ('U13', 'GNU-CC8-U13')],\n",
      " 'CC9': [('U6', 'GNU-CC9-U6'), ('U10', 'GNU-CC9-U10'), ('U13', 'GNU-CC9-U13')],\n",
      " 'RC': [('U4', 'GNU-RC-U4'), ('U6', 'GNU-RC-U6'), ('U13', 'GNU-RC-U13')]}\n",
      "{'CC1': [('U5', 'GROW-CC1-U5'), ('U6', 'GROW-CC1-U6'), ('U14', 'GROW-CC1-U14')],\n",
      " 'CC2': [('U10', 'GROW-CC2-U10'),\n",
      "         ('U6', 'GROW-CC2-U6'),\n",
      "         ('U14', 'GROW-CC2-U14')],\n",
      " 'CC3': [('U5', 'GROW-CC3-U5'), ('U6', 'GROW-CC3-U6'), ('U14', 'GROW-CC3-U14')],\n",
      " 'CC4': [('U4', 'GROW-CC4-U4'), ('U6', 'GROW-CC4-U6'), ('U14', 'GROW-CC4-U14')],\n",
      " 'CC5': [('U4', 'GROW-CC5-U4'), ('U8', 'GROW-CC5-U8'), ('U14', 'GROW-CC5-U14')],\n",
      " 'CC6': [('U4', 'GROW-CC6-U4'), ('U7', 'GROW-CC6-U7'), ('U14', 'GROW-CC6-U14')],\n",
      " 'CC7': [('U4', 'GROW-CC7-U4'), ('U6', 'GROW-CC7-U6'), ('U14', 'GROW-CC7-U14')],\n",
      " 'CC8': [('U7', 'GROW-CC8-U7'), ('U8', 'GROW-CC8-U8'), ('U14', 'GROW-CC8-U14')],\n",
      " 'CC9': [('U7', 'GROW-CC9-U7'), ('U8', 'GROW-CC9-U8'), ('U14', 'GROW-CC9-U14')],\n",
      " 'RC': [('U5', 'GROW-RC-U5'),\n",
      "        ('U7', 'GROW-RC-U7'),\n",
      "        ('U8', 'GROW-RC-U8'),\n",
      "        ('U14', 'GROW-RC-U14')]}\n",
      "{'CC1': [('U3', 'TOK-CC1-U3'), ('U4', 'TOK-CC1-U4'), ('U11', 'TOK-CC1-U11')],\n",
      " 'CC2': [('U3', 'TOK-CC2-U3'), ('U4', 'TOK-CC2-U4'), ('U11', 'TOK-CC2-U11')],\n",
      " 'CC3': [('U3', 'TOK-CC3-U3'), ('U4', 'TOK-CC3-U4'), ('U11', 'TOK-CC3-U11')],\n",
      " 'CC4': [('U1', 'TOK-CC4-U1'), ('U2', 'TOK-CC4-U2'), ('U11', 'TOK-CC4-U11')],\n",
      " 'CC5': [('U1', 'TOK-CC5-U1'), ('U2', 'TOK-CC5-U2'), ('U11', 'TOK-CC5-U11')],\n",
      " 'CC6': [('U1', 'TOK-CC6-U1'), ('U2', 'TOK-CC6-U2'), ('U11', 'TOK-CC6-U11')],\n",
      " 'CC7': [('U1', 'TOK-CC7-U1'), ('U2', 'TOK-CC7-U2'), ('U11', 'TOK-CC7-U11')],\n",
      " 'CC8': [('U9', 'TOK-CC8-U9'), ('U10', 'TOK-CC8-U10'), ('U11', 'TOK-CC8-U11')],\n",
      " 'CC9': [('U9', 'TOK-CC9-U9'), ('U10', 'TOK-CC9-U10'), ('U11', 'TOK-CC9-U11')],\n",
      " 'RB': [('U3', 'TOK-RB-U3'), ('U4', 'TOK-RB-U4'), ('U11', 'TOK-RB-U11')]}\n",
      "dict_keys(['lcs', 'weighted_lcs', 'bovw', 'bovw_lcs', 'bovw_weighted_lcs'])\n",
      "Running config:  {'model': 'SimCLR', 'vwords': '1000vw', 'fps': '5ftk', 'technique': 'weighted_lcs'}\n",
      "Running setting setting2\n",
      "dict_keys(['lcs', 'weighted_lcs', 'bovw', 'bovw_lcs', 'bovw_weighted_lcs'])\n",
      "Running config:  {'model': 'SimCLR', 'vwords': '1000vw', 'fps': '5ftk', 'technique': 'bovw'}\n",
      "Running setting setting2\n",
      "dict_keys(['lcs', 'weighted_lcs', 'bovw', 'bovw_lcs', 'bovw_weighted_lcs'])\n",
      "Running config:  {'model': 'SimCLR', 'vwords': '1000vw', 'fps': '5ftk', 'technique': 'lcs'}\n",
      "Running setting setting2\n",
      "dict_keys(['lcs', 'weighted_lcs', 'bovw', 'bovw_lcs', 'bovw_weighted_lcs'])\n",
      "Running config:  {'model': 'SimCLR', 'vwords': '1000vw', 'fps': '5ftk', 'technique': 'bovw_lcs'}\n",
      "Running setting setting2\n",
      "dict_keys(['lcs', 'weighted_lcs', 'bovw', 'bovw_lcs', 'bovw_weighted_lcs'])\n",
      "Running config:  {'model': 'SimCLR', 'vwords': '1000vw', 'fps': '5ftk', 'technique': 'bovw_weighted_lcs'}\n",
      "Running setting setting2\n",
      "dict_keys(['lcs', 'weighted_lcs', 'bovw', 'bovw_lcs', 'bovw_weighted_lcs'])\n",
      "Running config:  {'model': 'SimCLR', 'vwords': '1000vw', 'fps': '1ftk', 'technique': 'weighted_lcs'}\n",
      "Running setting setting2\n",
      "dict_keys(['lcs', 'weighted_lcs', 'bovw', 'bovw_lcs', 'bovw_weighted_lcs'])\n",
      "Running config:  {'model': 'SimCLR', 'vwords': '1000vw', 'fps': '1ftk', 'technique': 'bovw'}\n",
      "Running setting setting2\n",
      "dict_keys(['lcs', 'weighted_lcs', 'bovw', 'bovw_lcs', 'bovw_weighted_lcs'])\n",
      "Running config:  {'model': 'SimCLR', 'vwords': '1000vw', 'fps': '1ftk', 'technique': 'lcs'}\n",
      "Running setting setting2\n",
      "dict_keys(['lcs', 'weighted_lcs', 'bovw', 'bovw_lcs', 'bovw_weighted_lcs'])\n",
      "Running config:  {'model': 'SimCLR', 'vwords': '1000vw', 'fps': '1ftk', 'technique': 'bovw_lcs'}\n",
      "Running setting setting2\n",
      "dict_keys(['lcs', 'weighted_lcs', 'bovw', 'bovw_lcs', 'bovw_weighted_lcs'])\n",
      "Running config:  {'model': 'SimCLR', 'vwords': '1000vw', 'fps': '1ftk', 'technique': 'bovw_weighted_lcs'}\n",
      "Running setting setting2\n",
      "Writing results and rankings\n",
      "done\n"
     ]
    }
   ],
   "source": [
    "N_FRAMES_TO_KEEP = [1, 5]\n",
    "_generate_txt_results(vid_ds, out_path, art_path, vis_model)"
   ]
  },
  {
   "cell_type": "code",
   "execution_count": 20,
   "metadata": {},
   "outputs": [
    {
     "name": "stdout",
     "output_type": "stream",
     "text": [
      "('SimCLR', '1000vw', '5ftk', 'bovw') ('ocr+ir', '1', 'all_text')\n",
      "('SimCLR', '1000vw', '5ftk', 'bovw') ('ocr+ir', '5', 'all_text')\n",
      "('SimCLR', '1000vw', '5ftk', 'bovw') ('ocr+ir', '5', 'unique_frames')\n",
      "('SimCLR', '1000vw', '5ftk', 'bovw') ('ocr+ir', '5', 'unique_words')\n",
      "('SimCLR', '1000vw', '5ftk', 'bovw_weighted_lcs') ('ocr+ir', '1', 'all_text')\n",
      "('SimCLR', '1000vw', '5ftk', 'bovw_weighted_lcs') ('ocr+ir', '5', 'all_text')\n",
      "('SimCLR', '1000vw', '5ftk', 'bovw_weighted_lcs') ('ocr+ir', '5', 'unique_frames')\n",
      "('SimCLR', '1000vw', '5ftk', 'bovw_weighted_lcs') ('ocr+ir', '5', 'unique_words')\n",
      "--- 269.1505823135376 seconds ---\n",
      "Writing data\n"
     ]
    }
   ],
   "source": [
    "combo_out_path = out_path/\"combined\"\n",
    "dl_ranking_path = out_path/\"user_rankings_weighted_all\"/\"all_rankings.csv\"\n",
    "txt_path = art_path/\"models\"/\"OCR+IR\"\n",
    "ir_rankings_path = txt_path/\"tango_txt_rankings\"/\"all_rankings.json\"\n",
    "settings_path = out_path/\"evaluation_settings\"\n",
    "\n",
    "tango_combined(combo_out_path, dl_ranking_path, ir_rankings_path, settings_path, BEST_DL_MODELS, BEST_IR_MODELS)"
   ]
  },
  {
   "cell_type": "code",
   "execution_count": null,
   "metadata": {},
   "outputs": [],
   "source": [
    "# export\n",
    "@call_parse\n",
    "def reproduce(\n",
    "    down_path: Param(\"The directory where all the files will be downloaded and extracted to.\", str),\n",
    "    out_path: Param(\"The output path to place all results in.\", str),\n",
    "    vis_model: Param(\"The type of visual model. Can be either SimCLR or SIFT, taking ~6h or >24h, respectively, for all apps on our machine with 755G of RAM and 72 CPUs.\", str)\n",
    "):\n",
    "    \"\"\"Function for reproducing all results related to this tool's paper\"\"\"\n",
    "    print(down_path, out_path, vis_model)\n",
    "    random.seed(42)\n",
    "    _download(down_path)\n",
    "#     down_path = Path(down_path)\n",
    "#     out_path = Path(out_path)\n",
    "#     art_path = down_path/\"tango_reproduction_package\"/\"artifacts\"\n",
    "\n",
    "#     logging.info(\"Loading videos.\")\n",
    "#     vid_ds = VideoDataset.from_path(\n",
    "#         art_path/\"videos\", fr = FPS\n",
    "#     ).label_from_paths()\n",
    "\n",
    "#     _generate_vis_results(vid_ds, out_path, art_path, vis_model)\n",
    "#     _generate_txt_results(out_path, art_path, vis_model)\n",
    "\n",
    "#     combo_out_path = out_path/\"combined\"\n",
    "#     dl_ranking_path = out_path/\"user_rankings_weighted_all\"/\"all_rankings.csv\"\n",
    "#     txt_path = art_path/\"models\"/\"OCR+IR\"\n",
    "#     ir_rankings_path = txt_path/\"tango_txt_rankings\"/\"all_rankings.json\"\n",
    "#     settings_path = out_path/\"evaluation_settings\"\n",
    "\n",
    "#     tango_combined(combo_out_path, dl_ranking_path, ir_rankings_path, settings_path, BEST_DL_MODELS, BEST_IR_MODELS)"
   ]
  },
  {
   "cell_type": "code",
   "execution_count": 6,
   "metadata": {},
   "outputs": [],
   "source": [
    "# export\n",
    "@call_parse\n",
    "def tango(\n",
    "    q_path: Param(\"Path to the query video\", str),\n",
    "    cor_path: Param(\"Path to the corpus\", str),\n",
    "    simclr_path: Param(\"Path to the SimCLR model directory\", str)\n",
    "):\n",
    "    \"\"\"\n",
    "    Function for calculating similarity scores of a corpus of video-based bug\n",
    "    reports to a query video-based bug report. Currently only uses the top\n",
    "    performing SimCLR model from our paper\n",
    "    \"It Takes Two to TANGO: Combining Visual andTextual Information for Detecting DuplicateVideo-Based Bug Reports\".\n",
    "    \"\"\"\n",
    "    q_path = Path(q_path)\n",
    "    cor_path = Path(cor_path)\n",
    "    simclr_path = Path(simclr_path)\n",
    "    best_vw = 1_000\n",
    "    best_ftk = 5\n",
    "    \n",
    "    q_vid = Video(q_path, FPS)\n",
    "    codebook = pickle.load(open(simclr_path/f\"cookbook_SimCLR_{best_vw}vw.model\", 'rb'))\n",
    "    simclr = SimCLRModel.load_from_checkpoint(\n",
    "        checkpoint_path=str(simclr_path/\"checkpointepoch=98.ckpt\")\n",
    "    ).eval()\n",
    "    model = SimCLRExtractor(simclr)\n",
    "\n",
    "    vid_ds = VideoDataset.from_path(cor_path).label_from_paths()\n",
    "    sorted_rankings = compute_sims(q_vid, vid_ds, model, codebook, best_vw, FPS, best_ftk)\n",
    "    pp = pprint.PrettyPrinter(indent=4)\n",
    "    pp.pprint(sorted_rankings)"
   ]
  },
  {
   "cell_type": "code",
   "execution_count": 15,
   "metadata": {},
   "outputs": [
    {
     "name": "stderr",
     "output_type": "stream",
     "text": [
      "Downloading: \"https://download.pytorch.org/models/resnet50-19c8e357.pth\" to /.cache/torch/hub/checkpoints/resnet50-19c8e357.pth\n"
     ]
    },
    {
     "data": {
      "application/vnd.jupyter.widget-view+json": {
       "model_id": "abe2a016b5e44940a525ab50bc8f2178",
       "version_major": 2,
       "version_minor": 0
      },
      "text/plain": [
       "HBox(children=(FloatProgress(value=0.0, max=102502400.0), HTML(value='')))"
      ]
     },
     "metadata": {},
     "output_type": "display_data"
    },
    {
     "name": "stdout",
     "output_type": "stream",
     "text": [
      "\n"
     ]
    },
    {
     "data": {
      "application/vnd.jupyter.widget-view+json": {
       "model_id": "062f1ace8aea448599426734470137ed",
       "version_major": 2,
       "version_minor": 0
      },
      "text/plain": [
       "HBox(children=(FloatProgress(value=0.0, max=1.0), HTML(value='')))"
      ]
     },
     "metadata": {},
     "output_type": "display_data"
    },
    {
     "name": "stdout",
     "output_type": "stream",
     "text": [
      "\n"
     ]
    },
    {
     "data": {
      "application/vnd.jupyter.widget-view+json": {
       "model_id": "596a6b2f41514a679248c2bdcd3ba015",
       "version_major": 2,
       "version_minor": 0
      },
      "text/plain": [
       "HBox(children=(FloatProgress(value=0.0, max=1.0), HTML(value='')))"
      ]
     },
     "metadata": {},
     "output_type": "display_data"
    },
    {
     "name": "stdout",
     "output_type": "stream",
     "text": [
      "\n",
      "OrderedDict([   (('APOD', 'CC1', 'U12'), 0.7996704325393119),\n",
      "                (('APOD', 'CC6', 'U12'), 0.7364922718579903),\n",
      "                (('APOD', 'CC1', 'U1'), 0.7332507342941189),\n",
      "                (('APOD', 'CC9', 'U12'), 0.6771152833856062),\n",
      "                (('APOD', 'CC6', 'U8'), 0.6507815428194939),\n",
      "                (('APOD', 'CC4', 'U12'), 0.5841917588438166),\n",
      "                (('APOD', 'CC1', 'U2'), 0.5544971299942728),\n",
      "                (('APOD', 'CC9', 'U5'), 0.5334441824755306),\n",
      "                (('APOD', 'CC9', 'U9'), 0.45347669958173925),\n",
      "                (('APOD', 'CC4', 'U7'), 0.3297032943580328),\n",
      "                (('APOD', 'CC6', 'U7'), 0.2642996863611519),\n",
      "                (('APOD', 'CC2', 'U2'), 0.2303172035345576),\n",
      "                (('APOD', 'CC4', 'U8'), 0.21686658074782778),\n",
      "                (('APOD', 'CC7', 'U8'), 0.12601272446475553),\n",
      "                (('APOD', 'CC3', 'U2'), 0.1244614376844308),\n",
      "                (('APOD', 'CC8', 'U5'), 0.1112754764096246),\n",
      "                (('APOD', 'CC5', 'U8'), 0.10532449257759816),\n",
      "                (('APOD', 'CC5', 'U12'), 0.10306407241657699),\n",
      "                (('APOD', 'RB', 'U1'), 0.08703351841311421),\n",
      "                (('APOD', 'CC5', 'U7'), 0.078095938555396),\n",
      "                (('APOD', 'CC8', 'U12'), 0.06853184449467153),\n",
      "                (('APOD', 'RB', 'U5'), 0.06675366259781142),\n",
      "                (('APOD', 'CC3', 'U1'), 0.06249489483830017),\n",
      "                (('APOD', 'CC7', 'U12'), 0.05806132202221084),\n",
      "                (('APOD', 'CC3', 'U12'), 0.05778136085915167),\n",
      "                (('APOD', 'CC2', 'U1'), 0.04392865549478352),\n",
      "                (('APOD', 'CC2', 'U12'), 0.03856166009012557),\n",
      "                (('APOD', 'CC7', 'U7'), 0.0356791725386482),\n",
      "                (('APOD', 'CC8', 'U10'), 0.0352537704749028),\n",
      "                (('APOD', 'RB', 'U12'), 0.024031821359592725)])\n"
     ]
    }
   ],
   "source": [
    "corpus_path = Path(\"/tf/main/tango_reproduction_package.mod/artifacts/cli_videos\")\n",
    "query_path = corpus_path/\"U1\"/\"APOD\"/\"CC1\"/\"APOD-CC1.mp4\"\n",
    "simclr_path = Path(\"/tf/main/tango_reproduction_package.mod/artifacts/models/SimCLR\")\n",
    "tango(query_path, corpus_path, simclr_path)"
   ]
  },
  {
   "cell_type": "code",
   "execution_count": null,
   "metadata": {},
   "outputs": [],
   "source": [
    "# # export\n",
    "# @call_parse\n",
    "# def tango(\n",
    "#     q_path:Param(\"Path to the query video\", str),\n",
    "#     cor_path:Param(\"Path to the corpus\", str),\n",
    "#     cb_path:Param(\"Path to the codebook\", str),\n",
    "#     vis_path:Param(\"Path to SimCLR checkpoint\", str),\n",
    "#     fps:Param(\"FPS to set the vidoes to\", int) = 30,\n",
    "#     approach:Param(\"Approach to use: vis, txt, comb\", str) = 'vis'\n",
    "# ):\n",
    "#     q_path = Path(q_path)\n",
    "#     cor_path = Path(cor_path)\n",
    "#     cb_path = Path(cb_path)\n",
    "#     vis_path = Path(vis_path)\n",
    "    \n",
    "#     q_vid = Video(q_path, fps)\n",
    "#     codebook = pickle.load(open(cb_path, 'rb'))\n",
    "#     simclr = SimCLRModel.load_from_checkpoint(checkpoint_path = str(vis_path)).eval()\n",
    "#     model = SimCLRExtractor(simclr)\n",
    "\n",
    "#     vid_ds = VideoDataset.from_path(cor_path).label_from_paths()\n",
    "#     sorted_rankings = compute_sims(q_vid, vid_ds, model, codebook, 1_000, fps, 5)\n",
    "#     pp = pprint.PrettyPrinter(indent=4)\n",
    "#     pp.pprint(sorted_rankings)"
   ]
  },
  {
   "cell_type": "code",
   "execution_count": 3,
   "metadata": {},
   "outputs": [
    {
     "name": "stdout",
     "output_type": "stream",
     "text": [
      "Converted 00_prep.ipynb.\n",
      "Converted 01_features.ipynb.\n",
      "Converted 02_eval.ipynb.\n",
      "Converted 03_model.ipynb.\n",
      "Converted 04_approach.ipynb.\n",
      "Converted 05_cli.ipynb.\n",
      "Converted 06_results.ipynb.\n",
      "Converted 07_utils.ipynb.\n",
      "Converted 08_combo.ipynb.\n",
      "Converted index.ipynb.\n"
     ]
    }
   ],
   "source": [
    "from nbdev.export import notebook2script\n",
    "notebook2script()"
   ]
  }
 ],
 "metadata": {
  "kernelspec": {
   "display_name": "Python 3",
   "language": "python",
   "name": "python3"
  },
  "language_info": {
   "codemirror_mode": {
    "name": "ipython",
    "version": 3
   },
   "file_extension": ".py",
   "mimetype": "text/x-python",
   "name": "python",
   "nbconvert_exporter": "python",
   "pygments_lexer": "ipython3",
   "version": "3.6.9"
  }
 },
 "nbformat": 4,
 "nbformat_minor": 2
}
