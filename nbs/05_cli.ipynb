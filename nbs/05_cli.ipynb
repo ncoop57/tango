{
 "cells": [
  {
   "cell_type": "code",
   "execution_count": null,
   "metadata": {},
   "outputs": [],
   "source": [
    "#default_exp cli"
   ]
  },
  {
   "cell_type": "code",
   "execution_count": 1,
   "metadata": {},
   "outputs": [],
   "source": [
    "#hide\n",
    "%reload_ext autoreload\n",
    "%autoreload 2\n",
    "%matplotlib inline"
   ]
  },
  {
   "cell_type": "markdown",
   "metadata": {},
   "source": [
    "# CLI\n",
    "\n",
    "\n",
    "> This module contains all the code for defining Tango's CLI"
   ]
  },
  {
   "cell_type": "code",
   "execution_count": 2,
   "metadata": {},
   "outputs": [],
   "source": [
    "# export\n",
    "import logging\n",
    "import io\n",
    "import pickle\n",
    "import pprint\n",
    "import random\n",
    "import requests\n",
    "import subprocess\n",
    "import time\n",
    "import zipfile\n",
    "\n",
    "import numpy as np\n",
    "import pandas as pd\n",
    "\n",
    "from fastcore.script import call_parse, Param\n",
    "from pathlib import Path\n",
    "from two_to_tango.prep import *\n",
    "from two_to_tango.features import *\n",
    "from two_to_tango.eval import *\n",
    "from two_to_tango.model import *\n",
    "from two_to_tango.approach import *\n",
    "from two_to_tango.combo import *\n",
    "from tqdm.auto import tqdm\n",
    "\n",
    "logger = logging.getLogger()\n",
    "logger.setLevel(logging.INFO)"
   ]
  },
  {
   "cell_type": "code",
   "execution_count": 3,
   "metadata": {},
   "outputs": [],
   "source": [
    "# export\n",
    "URLs = {\n",
    "    \"tango_reproduction_package\": \"https://zenodo.org/record/4453765/files/tango_reproduction_package.zip\",\n",
    "}"
   ]
  },
  {
   "cell_type": "code",
   "execution_count": 4,
   "metadata": {},
   "outputs": [],
   "source": [
    "# export\n",
    "# @call_parse\n",
    "def _download(\n",
    "    out_path\n",
    "):\n",
    "    \"\"\"Function for downloading all data and results related to this tool's paper\"\"\"\n",
    "    out_path = Path(out_path)\n",
    "    if (out_path / \"tango_reproduction_package\").exists():\n",
    "        logging.info(f\"{out_path}/tango_reproduction_package exists, skipping download\")\n",
    "        return\n",
    "    out_path.mkdir(parents=True, exist_ok=True)\n",
    "    \n",
    "    logging.info(f\"Downloading and extracting datasets and models to {str(out_path)}.\")\n",
    "    r = requests.get(URLs[\"tango_reproduction_package\"])\n",
    "    z = zipfile.ZipFile(io.BytesIO(r.content))\n",
    "    z.extractall(out_path)"
   ]
  },
  {
   "cell_type": "code",
   "execution_count": 5,
   "metadata": {},
   "outputs": [],
   "source": [
    "# export\n",
    "@call_parse\n",
    "def download(\n",
    "    out_path: Param(\"The output path to save and unzip all files.\", str)\n",
    "):\n",
    "    _download(out_path)"
   ]
  },
  {
   "cell_type": "code",
   "execution_count": null,
   "metadata": {},
   "outputs": [],
   "source": [
    "download(\"/tf/main/data\")"
   ]
  },
  {
   "cell_type": "code",
   "execution_count": 6,
   "metadata": {},
   "outputs": [],
   "source": [
    "# export\n",
    "# all hyperparameters used\n",
    "VWORDS = [1_000, 5_000, 10_000]\n",
    "N_IMGS = 15_000\n",
    "N_FRAMES_TO_KEEP = [1, 5]\n",
    "FPS = 30\n",
    "\n",
    "# Fix naming issue and number of models reported...\n",
    "BEST_DL_MODELS= [\n",
    "    \"SIFT-10000vw-1ftk-bovw_weighted_lcs\",\n",
    "    \"SimCLR-1000vw-5ftk-bovw\", \"SimCLR-5000vw-5ftk-bovw_lcs\",\n",
    "    \"SimCLR-5000vw-5ftk-bovw_weighted_lcs\", \"SimCLR-1000vw-5ftk-bovw_weighted_lcs\"\n",
    "]\n",
    "BEST_IR_MODELS = [\n",
    "    \"ocr+ir-1ftk-all_text\", \"ocr+ir-5ftk-all_text\",\n",
    "    \"ocr+ir-5ftk-unique_frames\", \"ocr+ir-5ftk-unique_words\"\n",
    "]\n",
    "\n",
    "BEST_MODEL_CONFIGS = {\n",
    "    \"SimCLR\": \"SimCLR-1000vw-5ftk-bovw\",\n",
    "    \"SIFT\": \"SIFT-10000vw-1ftk-bovw_weighted_lcs\",\n",
    "    \"OCR+IR\": \"ocr+ir-5ftk-all_text\"\n",
    "}"
   ]
  },
  {
   "cell_type": "code",
   "execution_count": 7,
   "metadata": {},
   "outputs": [],
   "source": [
    "# export\n",
    "def _generate_vis_results(vid_ds, out_path, art_path, vis_model):\n",
    "    if vis_model == \"SimCLR\":\n",
    "        simclr = SimCLRModel.load_from_checkpoint(\n",
    "            checkpoint_path = str(\n",
    "                art_path/\"models\"/\"SimCLR\"/\"checkpointepoch=98.ckpt\"\n",
    "            )\n",
    "        ).eval()\n",
    "        model = SimCLRExtractor(simclr)\n",
    "        sim_func = simclr_frame_sim\n",
    "    else:\n",
    "        model = SIFTExtractor(cv2.xfeatures2d.SIFT_create(nfeatures = 10))\n",
    "        sim_func = sift_frame_sim\n",
    "\n",
    "    logging.info(f\"Computing rankings and calculating metrics for {vis_model} visual model.\")\n",
    "    for vw in tqdm(VWORDS):\n",
    "        for ftk in tqdm(N_FRAMES_TO_KEEP):\n",
    "            evaluation_metrics = {}\n",
    "            cb_path = art_path/\"models\"/vis_model/f\"cookbook_{vis_model}_{vw}vw.model\"\n",
    "            codebook = pickle.load(open(cb_path, \"rb\"))\n",
    "            start = time.time()\n",
    "            vid_ds_features = gen_extracted_features(vid_ds, model, FPS, ftk)\n",
    "            end = time.time()\n",
    "            feature_gen_time = end - start\n",
    "            \n",
    "            df, bovw_vid_ds_sims = gen_bovw_similarity(\n",
    "                vid_ds, vid_ds_features, model, codebook, vw, ftk\n",
    "            )\n",
    "            lcs_vid_ds_sims = gen_lcs_similarity(\n",
    "                vid_ds, vid_ds_features, sim_func, model, codebook, df, vw, ftk\n",
    "            )\n",
    "            rankings = approach(\n",
    "                vid_ds, vid_ds_features, bovw_vid_ds_sims, lcs_vid_ds_sims, model, sim_func,\n",
    "                codebook, df, vw, fps = FPS, ftk = ftk,\n",
    "            )\n",
    "\n",
    "            for k, v in rankings.items():\n",
    "                evaluation_metrics[k] = evaluate(rankings[k])\n",
    "\n",
    "            id_name = f\"user_{N_IMGS}n_{vw}vw_{FPS}fps_{ftk}ftk\"\n",
    "            results_path = out_path/\"results\"/vis_model\n",
    "            results_path.mkdir(parents=True, exist_ok=True)\n",
    "            logging.info(f\"Saving rankings and metrics to {str(results_path)}.\")\n",
    "            with open(results_path/f\"rankings_{id_name}.pkl\", \"wb\") as f:\n",
    "                pickle.dump(rankings, f, protocol=pickle.HIGHEST_PROTOCOL)\n",
    "\n",
    "            with open(results_path/f\"evaluation_metrics_{id_name}.pkl\", 'wb') as f:\n",
    "                pickle.dump(evaluation_metrics, f, protocol=pickle.HIGHEST_PROTOCOL)"
   ]
  },
  {
   "cell_type": "code",
   "execution_count": null,
   "metadata": {
    "scrolled": true
   },
   "outputs": [],
   "source": [
    "# VWORDS = [1_000]\n",
    "# N_IMGS = 15_000\n",
    "# N_FRAMES_TO_KEEP = [1]\n",
    "FPS = 30\n",
    "\n",
    "out_path = Path(\"/tf/main/data/output\")\n",
    "art_path = Path(\"/tf/main/data/tango_reproduction_package/artifacts\")\n",
    "vis_model = \"SimCLR\"\n",
    "\n",
    "# vid_ds = VideoDataset.from_path(\n",
    "#     art_path/\"videos\", fr = FPS\n",
    "# ).label_from_paths()\n",
    "\n",
    "# _generate_vis_results(vid_ds, out_path, art_path, vis_model)"
   ]
  },
  {
   "cell_type": "code",
   "execution_count": 8,
   "metadata": {},
   "outputs": [],
   "source": [
    "# export\n",
    "def _generate_txt_results(vid_ds, out_path, art_path, vis_model):\n",
    "    logging.info(\"Computing rankings and calculating metrics for textual model.\")\n",
    "    csv_file_path = art_path/\"user_assignment.csv\"\n",
    "    settings_path = out_path/\"evaluation_settings\"\n",
    "    settings_path.mkdir(parents=True, exist_ok=True)\n",
    "    video_data = read_video_data(csv_file_path)\n",
    "    generate_setting2(video_data, settings_path)\n",
    "    convert_results_format(out_path/\"results\", settings_path, out_path, [vis_model])\n",
    "\n",
    "    # Check if files already exist and skip if they do because it takes a long time\n",
    "    txt_out_path = out_path/\"extracted_text\"\n",
    "    for ftk in N_FRAMES_TO_KEEP:\n",
    "        if not (txt_out_path/f\"text_{ftk}\").exists():\n",
    "            get_all_texts(vid_ds, txt_out_path, fps = ftk)\n",
    "\n",
    "    txt_path = art_path/\"models\"/\"OCR+IR\"\n",
    "    subprocess.check_output(\n",
    "        [\"sh\", \"build_run.sh\", str(txt_out_path), str(settings_path)],\n",
    "        cwd=str(txt_path),\n",
    "    )"
   ]
  },
  {
   "cell_type": "code",
   "execution_count": null,
   "metadata": {
    "scrolled": true
   },
   "outputs": [],
   "source": [
    "N_FRAMES_TO_KEEP = [1, 5]\n",
    "_generate_txt_results(None, out_path, art_path, vis_model)"
   ]
  },
  {
   "cell_type": "code",
   "execution_count": null,
   "metadata": {
    "scrolled": false
   },
   "outputs": [],
   "source": [
    "out_path = Path(\"/tf/main/data/output\")\n",
    "\n",
    "combo_out_path = out_path/\"combined\"\n",
    "dl_ranking_path = out_path/\"user_rankings_weighted_all\"/\"all_rankings.csv\"\n",
    "txt_path = art_path/\"models\"/\"OCR+IR\"\n",
    "ir_rankings_path = txt_path/\"tango_txt_rankings\"/\"all_rankings.json\"\n",
    "settings_path = out_path/\"evaluation_settings\"\n",
    "\n",
    "tango_combined(combo_out_path, dl_ranking_path, ir_rankings_path, settings_path, BEST_DL_MODELS, BEST_IR_MODELS)"
   ]
  },
  {
   "cell_type": "code",
   "execution_count": 9,
   "metadata": {},
   "outputs": [],
   "source": [
    "# export\n",
    "def _get_single_model_performance(pkl_path, technique):\n",
    "    evals = pickle.load(open(fname, 'rb'))\n",
    "    mRRs = []\n",
    "    mAPs = []\n",
    "    mean_Rs = []\n",
    "    for app in evals[technique]:\n",
    "        mRRs.append(evals[technique][app][\"App mRR\"])\n",
    "        mAPs.append(evals[technique][app][\"App mAP\"])\n",
    "        mean_Rs.append(evals[technique][app][\"App mean rank\"])\n",
    "    \n",
    "    return np.mean(mRRs), np.mean(mAPs), np.mean(mean_Rs)"
   ]
  },
  {
   "cell_type": "code",
   "execution_count": 10,
   "metadata": {},
   "outputs": [],
   "source": [
    "# export\n",
    "def _print_performance(model, mRR, mAP, mean_R):\n",
    "    print(\n",
    "        f\"\"\"\\\n",
    "        Model: {model}\n",
    "        Overall mRR: {mRR}\n",
    "        Overall mAP: {mAP}\n",
    "        Overall Mean Rank: {mean_R}\n",
    "        \"\"\"\n",
    "    )\n",
    "def _output_performance(out_path, dl_model_config, ir_model_config):\n",
    "    all_results = pd.read_csv(\n",
    "        out_path/\"combined\"/\"tango_comb_results\"/\"all_results.csv\", sep=\";\"\n",
    "    )\n",
    "    # Print the comb model results\n",
    "    comb_results = all_results[\n",
    "        all_results[\"model_config\"] == f\"({dl_model_config},{ir_model_config})\"\n",
    "    ][all_results[\"weight\"] == \"0.2-0\"]\n",
    "    _print_performance(\n",
    "        f\"{dl_model_config},{ir_model_config},weight=0.2-0\", np.mean(comb_results['recip_rank'].values),\n",
    "        np.mean(comb_results['avg_precision'].values), np.mean(comb_results['first_rank'].values)\n",
    "    )\n",
    "\n",
    "    # Print the vis model results\n",
    "    vis_singl_results = all_results[\n",
    "        all_results[\"model_config\"] == f\"({dl_model_config},{ir_model_config})\"\n",
    "    ][all_results[\"weight\"] == \"0.0\"]\n",
    "    _print_performance(\n",
    "        f\"{dl_model_config}\", np.mean(vis_singl_results['recip_rank'].values),\n",
    "        np.mean(vis_singl_results['avg_precision'].values), np.mean(vis_singl_results['first_rank'].values)\n",
    "    )\n",
    "    # Print the txt model results\n",
    "    ir_singl_results = all_results[\n",
    "        all_results[\"model_config\"] == f\"({dl_model_config},{ir_model_config})\"\n",
    "    ][all_results[\"weight\"] == \"1.0\"]\n",
    "    _print_performance(\n",
    "        f\"{ir_model_config}\", np.mean(ir_singl_results['recip_rank'].values),\n",
    "        np.mean(ir_singl_results['avg_precision'].values), np.mean(ir_singl_results['first_rank'].values)\n",
    "    )"
   ]
  },
  {
   "cell_type": "code",
   "execution_count": null,
   "metadata": {
    "scrolled": false
   },
   "outputs": [],
   "source": [
    "vis_model = \"SimCLR\"\n",
    "out_path = Path(\"/tf/main/data/output\")\n",
    "_output_performance(out_path, BEST_MODEL_CONFIGS[vis_model], BEST_MODEL_CONFIGS[\"OCR+IR\"])"
   ]
  },
  {
   "cell_type": "code",
   "execution_count": 11,
   "metadata": {},
   "outputs": [],
   "source": [
    "# export\n",
    "@call_parse\n",
    "def reproduce(\n",
    "    down_path: Param(\"The directory where all the files will be downloaded and extracted to.\", str),\n",
    "    out_path: Param(\"The output path to place all results in.\", str),\n",
    "    vis_model: Param(\"The type of visual model. Can be either SimCLR or SIFT, taking ~6 hours or >2 weeks, respectively, for all apps on our machine with 755G of RAM and 72 CPUs.\", str)\n",
    "):\n",
    "    \"\"\"Function for reproducing all results related to this tool's paper\"\"\"\n",
    "    random.seed(42)\n",
    "    _download(down_path)\n",
    "    down_path = Path(down_path)\n",
    "    out_path = Path(out_path)\n",
    "    art_path = down_path/\"tango_reproduction_package\"/\"artifacts\"\n",
    "\n",
    "    logging.info(\"Loading videos.\")\n",
    "    vid_ds = VideoDataset.from_path(\n",
    "        art_path/\"videos\", fr = None\n",
    "    ).label_from_paths()\n",
    "\n",
    "    _generate_vis_results(vid_ds, out_path, art_path, vis_model)\n",
    "    _generate_txt_results(vid_ds, out_path, art_path, vis_model)\n",
    "\n",
    "    combo_out_path = out_path/\"combined\"\n",
    "    dl_ranking_path = out_path/\"user_rankings_weighted_all\"/\"all_rankings.csv\"\n",
    "    txt_path = art_path/\"models\"/\"OCR+IR\"\n",
    "    ir_rankings_path = txt_path/\"tango_txt_rankings\"/\"all_rankings.json\"\n",
    "    settings_path = out_path/\"evaluation_settings\"\n",
    "\n",
    "    tango_combined(combo_out_path, dl_ranking_path, ir_rankings_path, settings_path, BEST_DL_MODELS, BEST_IR_MODELS)\n",
    "    _output_performance(out_path, BEST_MODEL_CONFIGS[vis_model], BEST_MODEL_CONFIGS[\"OCR+IR\"])"
   ]
  },
  {
   "cell_type": "code",
   "execution_count": 12,
   "metadata": {},
   "outputs": [
    {
     "name": "stderr",
     "output_type": "stream",
     "text": [
      "INFO:root:/tf/data exists, skipping download\n",
      "INFO:root:Loading videos.\n",
      "INFO:root:Computing rankings and calculating metrics for SimCLR visual model.\n"
     ]
    },
    {
     "data": {
      "application/vnd.jupyter.widget-view+json": {
       "model_id": "d677ef0f1f20484187cef304f9067b19",
       "version_major": 2,
       "version_minor": 0
      },
      "text/plain": [
       "HBox(children=(FloatProgress(value=0.0, max=1.0), HTML(value='')))"
      ]
     },
     "metadata": {},
     "output_type": "display_data"
    },
    {
     "data": {
      "application/vnd.jupyter.widget-view+json": {
       "model_id": "b48f591481a045b1ae36b412d2b06abc",
       "version_major": 2,
       "version_minor": 0
      },
      "text/plain": [
       "HBox(children=(FloatProgress(value=0.0, max=1.0), HTML(value='')))"
      ]
     },
     "metadata": {},
     "output_type": "display_data"
    },
    {
     "data": {
      "application/vnd.jupyter.widget-view+json": {
       "model_id": "7e212b7852cb4864ab8b81ccafb41bdb",
       "version_major": 2,
       "version_minor": 0
      },
      "text/plain": [
       "HBox(children=(FloatProgress(value=0.0, max=6.0), HTML(value='')))"
      ]
     },
     "metadata": {},
     "output_type": "display_data"
    },
    {
     "name": "stdout",
     "output_type": "stream",
     "text": [
      "\n"
     ]
    },
    {
     "data": {
      "application/vnd.jupyter.widget-view+json": {
       "model_id": "0f32964e6b824c5aa8dc18671cb19036",
       "version_major": 2,
       "version_minor": 0
      },
      "text/plain": [
       "HBox(children=(FloatProgress(value=0.0, max=435.0), HTML(value='')))"
      ]
     },
     "metadata": {},
     "output_type": "display_data"
    },
    {
     "name": "stdout",
     "output_type": "stream",
     "text": [
      "\n"
     ]
    },
    {
     "data": {
      "application/vnd.jupyter.widget-view+json": {
       "model_id": "01959a2055614c9e81077801b3147440",
       "version_major": 2,
       "version_minor": 0
      },
      "text/plain": [
       "HBox(children=(FloatProgress(value=0.0, max=435.0), HTML(value='')))"
      ]
     },
     "metadata": {},
     "output_type": "display_data"
    },
    {
     "name": "stdout",
     "output_type": "stream",
     "text": [
      "\n"
     ]
    },
    {
     "data": {
      "application/vnd.jupyter.widget-view+json": {
       "model_id": "2cbd9ff843544e7e907799bc440b65a2",
       "version_major": 2,
       "version_minor": 0
      },
      "text/plain": [
       "HBox(children=(FloatProgress(value=0.0, max=435.0), HTML(value='')))"
      ]
     },
     "metadata": {},
     "output_type": "display_data"
    },
    {
     "name": "stdout",
     "output_type": "stream",
     "text": [
      "\n"
     ]
    },
    {
     "data": {
      "application/vnd.jupyter.widget-view+json": {
       "model_id": "53f33f6bd52741c893a64a3531877973",
       "version_major": 2,
       "version_minor": 0
      },
      "text/plain": [
       "HBox(children=(FloatProgress(value=0.0, max=435.0), HTML(value='')))"
      ]
     },
     "metadata": {},
     "output_type": "display_data"
    },
    {
     "name": "stdout",
     "output_type": "stream",
     "text": [
      "\n"
     ]
    },
    {
     "data": {
      "application/vnd.jupyter.widget-view+json": {
       "model_id": "63c2452ccda04429beec0ced84a96214",
       "version_major": 2,
       "version_minor": 0
      },
      "text/plain": [
       "HBox(children=(FloatProgress(value=0.0, max=465.0), HTML(value='')))"
      ]
     },
     "metadata": {},
     "output_type": "display_data"
    },
    {
     "name": "stdout",
     "output_type": "stream",
     "text": [
      "\n"
     ]
    },
    {
     "data": {
      "application/vnd.jupyter.widget-view+json": {
       "model_id": "fcf8621284934ea8b0dfdd48c425b60c",
       "version_major": 2,
       "version_minor": 0
      },
      "text/plain": [
       "HBox(children=(FloatProgress(value=0.0, max=435.0), HTML(value='')))"
      ]
     },
     "metadata": {},
     "output_type": "display_data"
    },
    {
     "name": "stdout",
     "output_type": "stream",
     "text": [
      "\n"
     ]
    },
    {
     "data": {
      "application/vnd.jupyter.widget-view+json": {
       "model_id": "293f78bc117c42afa8b2810754c4c561",
       "version_major": 2,
       "version_minor": 0
      },
      "text/plain": [
       "HBox(children=(FloatProgress(value=0.0, max=435.0), HTML(value='')))"
      ]
     },
     "metadata": {},
     "output_type": "display_data"
    },
    {
     "name": "stdout",
     "output_type": "stream",
     "text": [
      "\n"
     ]
    },
    {
     "data": {
      "application/vnd.jupyter.widget-view+json": {
       "model_id": "5e9458db7a6f4ac1baac5ef34e62790a",
       "version_major": 2,
       "version_minor": 0
      },
      "text/plain": [
       "HBox(children=(FloatProgress(value=0.0, max=435.0), HTML(value='')))"
      ]
     },
     "metadata": {},
     "output_type": "display_data"
    },
    {
     "name": "stdout",
     "output_type": "stream",
     "text": [
      "\n"
     ]
    },
    {
     "data": {
      "application/vnd.jupyter.widget-view+json": {
       "model_id": "3034d785918d4eddaa54ff574e5f56f9",
       "version_major": 2,
       "version_minor": 0
      },
      "text/plain": [
       "HBox(children=(FloatProgress(value=0.0, max=435.0), HTML(value='')))"
      ]
     },
     "metadata": {},
     "output_type": "display_data"
    },
    {
     "name": "stdout",
     "output_type": "stream",
     "text": [
      "\n"
     ]
    },
    {
     "data": {
      "application/vnd.jupyter.widget-view+json": {
       "model_id": "ec775abe0eb24a31ab9aa5df87fa64cc",
       "version_major": 2,
       "version_minor": 0
      },
      "text/plain": [
       "HBox(children=(FloatProgress(value=0.0, max=435.0), HTML(value='')))"
      ]
     },
     "metadata": {},
     "output_type": "display_data"
    },
    {
     "name": "stdout",
     "output_type": "stream",
     "text": [
      "\n"
     ]
    },
    {
     "data": {
      "application/vnd.jupyter.widget-view+json": {
       "model_id": "7bc8dd27239e4e61892d074433eb1db4",
       "version_major": 2,
       "version_minor": 0
      },
      "text/plain": [
       "HBox(children=(FloatProgress(value=0.0, max=465.0), HTML(value='')))"
      ]
     },
     "metadata": {},
     "output_type": "display_data"
    },
    {
     "name": "stdout",
     "output_type": "stream",
     "text": [
      "\n"
     ]
    },
    {
     "data": {
      "application/vnd.jupyter.widget-view+json": {
       "model_id": "e99a74418809478db4d05ddce4cfea6b",
       "version_major": 2,
       "version_minor": 0
      },
      "text/plain": [
       "HBox(children=(FloatProgress(value=0.0, max=435.0), HTML(value='')))"
      ]
     },
     "metadata": {},
     "output_type": "display_data"
    },
    {
     "name": "stdout",
     "output_type": "stream",
     "text": [
      "\n",
      "APOD Elapsed Time in Seconds 459.515353679657\n",
      "APOD σ Rank 4.948737212663448\n",
      "APOD μ Rank 5.1\n",
      "APOD Median Rank 3.5\n",
      "APOD mRR: 0.41324428495481125\n",
      "APOD mAP: 0.3686715745268377\n",
      "APOD Hit@1: 0.23333333333333334\n",
      "APOD Hit@5: 0.7666666666666667\n",
      "APOD Hit@10: 0.9\n",
      "GNU Elapsed Time in Seconds 550.3582806587219\n",
      "GNU σ Rank 4.206344414492628\n",
      "GNU μ Rank 5.8\n",
      "GNU Median Rank 5.5\n",
      "GNU mRR: 0.3392471091000503\n",
      "GNU mAP: 0.30884543985600654\n",
      "GNU Hit@1: 0.16666666666666666\n",
      "GNU Hit@5: 0.5\n",
      "GNU Hit@10: 0.8666666666666667\n",
      "TOK Elapsed Time in Seconds 473.6596939563751\n",
      "TOK σ Rank 6.375386698511358\n",
      "TOK μ Rank 7.233333333333333\n",
      "TOK Median Rank 6.0\n",
      "TOK mRR: 0.3013678752809187\n",
      "TOK mAP: 0.2770579630340926\n",
      "TOK Hit@1: 0.13333333333333333\n",
      "TOK Hit@5: 0.4666666666666667\n",
      "TOK Hit@10: 0.8333333333333334\n",
      "DROID Elapsed Time in Seconds 220.30856943130493\n",
      "DROID σ Rank 5.505653659850229\n",
      "DROID μ Rank 6.233333333333333\n",
      "DROID Median Rank 3.5\n",
      "DROID mRR: 0.36665260665260657\n",
      "DROID mAP: 0.298834676683134\n",
      "DROID Hit@1: 0.16666666666666666\n",
      "DROID Hit@5: 0.6\n",
      "DROID Hit@10: 0.7666666666666667\n",
      "GROW Elapsed Time in Seconds 700.3544430732727\n",
      "GROW σ Rank 7.0055723323990104\n",
      "GROW μ Rank 6.774193548387097\n",
      "GROW Median Rank 4.0\n",
      "GROW mRR: 0.4243936599476571\n",
      "GROW mAP: 0.35943442456036956\n",
      "GROW Hit@1: 0.25806451612903225\n",
      "GROW Hit@5: 0.5806451612903226\n",
      "GROW Hit@10: 0.7419354838709677\n",
      "TIME Elapsed Time in Seconds 590.931146144867\n",
      "TIME σ Rank 4.910759162854105\n",
      "TIME μ Rank 7.866666666666666\n",
      "TIME Median Rank 8.5\n",
      "TIME mRR: 0.25059176685775153\n",
      "TIME mAP: 0.21006791542191414\n",
      "TIME Hit@1: 0.1\n",
      "TIME Hit@5: 0.3333333333333333\n",
      "TIME Hit@10: 0.8\n",
      "APOD Elapsed Time in Seconds 459.515353679657\n",
      "APOD σ Rank 6.275260065438634\n",
      "APOD μ Rank 6.566666666666666\n",
      "APOD Median Rank 3.0\n",
      "APOD mRR: 0.3756358134619004\n",
      "APOD mAP: 0.27881342174235196\n",
      "APOD Hit@1: 0.16666666666666666\n",
      "APOD Hit@5: 0.5333333333333333\n",
      "APOD Hit@10: 0.8\n",
      "GNU Elapsed Time in Seconds 550.3582806587219\n",
      "GNU σ Rank 5.293706955747865\n",
      "GNU μ Rank 6.1\n",
      "GNU Median Rank 4.0\n",
      "GNU mRR: 0.36518375143375137\n",
      "GNU mAP: 0.2536808701459624\n",
      "GNU Hit@1: 0.2\n",
      "GNU Hit@5: 0.6333333333333333\n",
      "GNU Hit@10: 0.8333333333333334\n",
      "TOK Elapsed Time in Seconds 473.6596939563751\n",
      "TOK σ Rank 6.447135453482853\n",
      "TOK μ Rank 10.033333333333333\n",
      "TOK Median Rank 9.0\n",
      "TOK mRR: 0.23319275896675273\n",
      "TOK mAP: 0.1886344936474334\n",
      "TOK Hit@1: 0.1\n",
      "TOK Hit@5: 0.23333333333333334\n",
      "TOK Hit@10: 0.6\n",
      "DROID Elapsed Time in Seconds 220.30856943130493\n",
      "DROID σ Rank 5.9089386149760905\n",
      "DROID μ Rank 7.866666666666666\n",
      "DROID Median Rank 6.5\n",
      "DROID mRR: 0.2975715297774121\n",
      "DROID mAP: 0.2206528504823026\n",
      "DROID Hit@1: 0.13333333333333333\n",
      "DROID Hit@5: 0.43333333333333335\n",
      "DROID Hit@10: 0.6666666666666666\n",
      "GROW Elapsed Time in Seconds 700.3544430732727\n",
      "GROW σ Rank 3.7990633601128483\n",
      "GROW μ Rank 3.225806451612903\n",
      "GROW Median Rank 2.0\n",
      "GROW mRR: 0.6367383512544803\n",
      "GROW mAP: 0.5015863743672483\n",
      "GROW Hit@1: 0.4838709677419355\n",
      "GROW Hit@5: 0.8064516129032258\n",
      "GROW Hit@10: 0.9354838709677419\n",
      "TIME Elapsed Time in Seconds 590.931146144867\n",
      "TIME σ Rank 6.764285295251491\n",
      "TIME μ Rank 7.666666666666667\n",
      "TIME Median Rank 6.0\n",
      "TIME mRR: 0.34020772303381\n",
      "TIME mAP: 0.27588732642756286\n",
      "TIME Hit@1: 0.16666666666666666\n",
      "TIME Hit@5: 0.5\n",
      "TIME Hit@10: 0.7333333333333333\n",
      "APOD Elapsed Time in Seconds 285.73545503616333\n",
      "APOD σ Rank 2.662496739695448\n",
      "APOD μ Rank 2.6666666666666665\n",
      "APOD Median Rank 1.0\n",
      "APOD mRR: 0.6848821548821548\n",
      "APOD mAP: 0.5361217023717024\n",
      "APOD Hit@1: 0.5666666666666667\n",
      "APOD Hit@5: 0.9\n",
      "APOD Hit@10: 0.9666666666666667\n",
      "GNU Elapsed Time in Seconds 331.9815237522125\n",
      "GNU σ Rank 2.0752509888364505\n",
      "GNU μ Rank 2.4\n",
      "GNU Median Rank 1.0\n",
      "GNU mRR: 0.689537037037037\n",
      "GNU mAP: 0.6106869981869981\n",
      "GNU Hit@1: 0.5666666666666667\n",
      "GNU Hit@5: 0.9333333333333333\n",
      "GNU Hit@10: 1.0\n",
      "TOK Elapsed Time in Seconds 293.6363306045532\n",
      "TOK σ Rank 1.782943882708844\n",
      "TOK μ Rank 2.433333333333333\n",
      "TOK Median Rank 2.0\n",
      "TOK mRR: 0.6295238095238094\n",
      "TOK mAP: 0.5464713663243075\n",
      "TOK Hit@1: 0.43333333333333335\n",
      "TOK Hit@5: 0.9333333333333333\n",
      "TOK Hit@10: 1.0\n",
      "DROID Elapsed Time in Seconds 157.03888654708862\n",
      "DROID σ Rank 4.787019485604331\n",
      "DROID μ Rank 4.866666666666666\n",
      "DROID Median Rank 2.5\n",
      "DROID mRR: 0.539083630794157\n",
      "DROID mAP: 0.4567747544641137\n",
      "DROID Hit@1: 0.43333333333333335\n",
      "DROID Hit@5: 0.5666666666666667\n",
      "DROID Hit@10: 0.8666666666666667\n",
      "GROW Elapsed Time in Seconds 404.57024455070496\n",
      "GROW σ Rank 3.9412966062712935\n",
      "GROW μ Rank 3.4193548387096775\n",
      "GROW Median Rank 1.0\n",
      "GROW mRR: 0.6417387554908777\n",
      "GROW mAP: 0.589178348512703\n",
      "GROW Hit@1: 0.5161290322580645\n",
      "GROW Hit@5: 0.8064516129032258\n",
      "GROW Hit@10: 0.967741935483871\n",
      "TIME Elapsed Time in Seconds 342.07769441604614\n",
      "TIME σ Rank 5.521775076911409\n",
      "TIME μ Rank 4.1\n",
      "TIME Median Rank 2.0\n",
      "TIME mRR: 0.6255916305916306\n",
      "TIME mAP: 0.5348301983704348\n",
      "TIME Hit@1: 0.4666666666666667\n",
      "TIME Hit@5: 0.7666666666666667\n",
      "TIME Hit@10: 0.8666666666666667\n",
      "APOD Elapsed Time in Seconds 745.2508087158203\n",
      "APOD σ Rank 2.3607908279501033\n",
      "APOD μ Rank 2.6\n",
      "APOD Median Rank 1.0\n",
      "APOD mRR: 0.6794841269841269\n",
      "APOD mAP: 0.5483092833092833\n",
      "APOD Hit@1: 0.5666666666666667\n",
      "APOD Hit@5: 0.9\n",
      "APOD Hit@10: 1.0\n",
      "GNU Elapsed Time in Seconds 882.3398044109344\n",
      "GNU σ Rank 2.15225979431439\n",
      "GNU μ Rank 2.3666666666666667\n",
      "GNU Median Rank 1.0\n",
      "GNU mRR: 0.7117592592592591\n",
      "GNU mAP: 0.6128962669597345\n",
      "GNU Hit@1: 0.6\n",
      "GNU Hit@5: 0.9\n",
      "GNU Hit@10: 1.0\n",
      "TOK Elapsed Time in Seconds 767.2960245609283\n",
      "TOK σ Rank 1.9947152400502908\n",
      "TOK μ Rank 2.7666666666666666\n",
      "TOK Median Rank 2.0\n",
      "TOK mRR: 0.5737037037037036\n",
      "TOK mAP: 0.4947619047619047\n",
      "TOK Hit@1: 0.36666666666666664\n",
      "TOK Hit@5: 0.9\n",
      "TOK Hit@10: 1.0\n",
      "DROID Elapsed Time in Seconds 377.34745597839355\n",
      "DROID σ Rank 4.688520259337931\n",
      "DROID μ Rank 4.866666666666666\n",
      "DROID Median Rank 3.5\n",
      "DROID mRR: 0.5476996151996152\n",
      "DROID mAP: 0.4773150426285101\n",
      "DROID Hit@1: 0.4666666666666667\n",
      "DROID Hit@5: 0.6\n",
      "DROID Hit@10: 0.8666666666666667\n",
      "GROW Elapsed Time in Seconds 1104.9246876239777\n",
      "GROW σ Rank 4.675082842449631\n",
      "GROW μ Rank 3.4193548387096775\n",
      "GROW Median Rank 1.0\n",
      "GROW mRR: 0.6886968766001024\n",
      "GROW mAP: 0.612172577292161\n",
      "GROW Hit@1: 0.5806451612903226\n",
      "GROW Hit@5: 0.7741935483870968\n",
      "GROW Hit@10: 0.967741935483871\n",
      "TIME Elapsed Time in Seconds 933.0088405609131\n",
      "TIME σ Rank 5.051292463870565\n",
      "TIME μ Rank 4.133333333333334\n",
      "TIME Median Rank 2.0\n",
      "TIME mRR: 0.5219047619047619\n",
      "TIME mAP: 0.4500296262767659\n",
      "TIME Hit@1: 0.3\n",
      "TIME Hit@5: 0.8\n",
      "TIME Hit@10: 0.9\n",
      "APOD Elapsed Time in Seconds 745.2508087158203\n",
      "APOD σ Rank 3.896437118987322\n",
      "APOD μ Rank 3.1333333333333333\n",
      "APOD Median Rank 1.5\n",
      "APOD mRR: 0.6508333333333333\n",
      "APOD mAP: 0.5216913870729659\n",
      "APOD Hit@1: 0.5\n",
      "APOD Hit@5: 0.8\n",
      "APOD Hit@10: 0.9666666666666667\n",
      "GNU Elapsed Time in Seconds 882.3398044109344\n",
      "GNU σ Rank 3.1382939455839516\n",
      "GNU μ Rank 2.8666666666666667\n",
      "GNU Median Rank 2.0\n",
      "GNU mRR: 0.6166830065359477\n",
      "GNU mAP: 0.49084878448578134\n",
      "GNU Hit@1: 0.43333333333333335\n",
      "GNU Hit@5: 0.9\n",
      "GNU Hit@10: 0.9666666666666667\n",
      "TOK Elapsed Time in Seconds 767.2960245609283\n",
      "TOK σ Rank 3.9756201472921875\n",
      "TOK μ Rank 4.833333333333333\n",
      "TOK Median Rank 3.5\n",
      "TOK mRR: 0.42040114025408143\n",
      "TOK mAP: 0.35603929567164855\n",
      "TOK Hit@1: 0.23333333333333334\n",
      "TOK Hit@5: 0.7\n",
      "TOK Hit@10: 0.9\n"
     ]
    },
    {
     "name": "stderr",
     "output_type": "stream",
     "text": [
      "INFO:root:Saving rankings and metrics to /tf/data/tango_reproduction_package/outputs/results/SimCLR.\n"
     ]
    },
    {
     "name": "stdout",
     "output_type": "stream",
     "text": [
      "DROID Elapsed Time in Seconds 377.34745597839355\n",
      "DROID σ Rank 4.8675798230058165\n",
      "DROID μ Rank 5.2\n",
      "DROID Median Rank 3.5\n",
      "DROID mRR: 0.4831512605042017\n",
      "DROID mAP: 0.3790710018109398\n",
      "DROID Hit@1: 0.3333333333333333\n",
      "DROID Hit@5: 0.6666666666666666\n",
      "DROID Hit@10: 0.8\n",
      "GROW Elapsed Time in Seconds 1104.9246876239777\n",
      "GROW σ Rank 3.246706487764163\n",
      "GROW μ Rank 2.6774193548387095\n",
      "GROW Median Rank 1.0\n",
      "GROW mRR: 0.7255696364567332\n",
      "GROW mAP: 0.6425019003073783\n",
      "GROW Hit@1: 0.6129032258064516\n",
      "GROW Hit@5: 0.8387096774193549\n",
      "GROW Hit@10: 0.967741935483871\n",
      "TIME Elapsed Time in Seconds 933.0088405609131\n",
      "TIME σ Rank 5.782060378638589\n",
      "TIME μ Rank 5.366666666666666\n",
      "TIME Median Rank 2.5\n",
      "TIME mRR: 0.49428515584862337\n",
      "TIME mAP: 0.43014005559284196\n",
      "TIME Hit@1: 0.3333333333333333\n",
      "TIME Hit@5: 0.6666666666666666\n",
      "TIME Hit@10: 0.8\n"
     ]
    },
    {
     "name": "stderr",
     "output_type": "stream",
     "text": [
      "INFO:root:Computing rankings and calculating metrics for textual model.\n"
     ]
    },
    {
     "name": "stdout",
     "output_type": "stream",
     "text": [
      "\n",
      "\n",
      "{'CC1': [('U2', 'TIME-CC1-U2'), ('U3', 'TIME-CC1-U3'), ('U11', 'TIME-CC1-U11')],\n",
      " 'CC2': [('U2', 'TIME-CC2-U2'), ('U3', 'TIME-CC2-U3'), ('U11', 'TIME-CC2-U11')],\n",
      " 'CC3': [('U2', 'TIME-CC3-U2'), ('U3', 'TIME-CC3-U3'), ('U11', 'TIME-CC3-U11')],\n",
      " 'CC4': [('U9', 'TIME-CC4-U9'),\n",
      "         ('U10', 'TIME-CC4-U10'),\n",
      "         ('U11', 'TIME-CC4-U11')],\n",
      " 'CC5': [('U9', 'TIME-CC5-U9'),\n",
      "         ('U10', 'TIME-CC5-U10'),\n",
      "         ('U11', 'TIME-CC5-U11')],\n",
      " 'CC6': [('U9', 'TIME-CC6-U9'),\n",
      "         ('U10', 'TIME-CC6-U10'),\n",
      "         ('U11', 'TIME-CC6-U11')],\n",
      " 'CC7': [('U9', 'TIME-CC7-U9'),\n",
      "         ('U10', 'TIME-CC7-U10'),\n",
      "         ('U11', 'TIME-CC7-U11')],\n",
      " 'CC8': [('U2', 'TIME-CC8-U2'), ('U3', 'TIME-CC8-U3'), ('U11', 'TIME-CC8-U11')],\n",
      " 'CC9': [('U5', 'TIME-CC9-U5'), ('U9', 'TIME-CC9-U9'), ('U11', 'TIME-CC9-U11')],\n",
      " 'RC': [('U2', 'TIME-RC-U2'), ('U5', 'TIME-RC-U5'), ('U11', 'TIME-RC-U11')]}\n",
      "{'CC1': [('U4', 'GNU-CC1-U4'), ('U5', 'GNU-CC1-U5'), ('U13', 'GNU-CC1-U13')],\n",
      " 'CC2': [('U4', 'GNU-CC2-U4'), ('U5', 'GNU-CC2-U5'), ('U13', 'GNU-CC2-U13')],\n",
      " 'CC3': [('U4', 'GNU-CC3-U4'), ('U5', 'GNU-CC3-U5'), ('U13', 'GNU-CC3-U13')],\n",
      " 'CC4': [('U1', 'GNU-CC4-U1'), ('U3', 'GNU-CC4-U3'), ('U13', 'GNU-CC4-U13')],\n",
      " 'CC5': [('U10', 'GNU-CC5-U10'), ('U3', 'GNU-CC5-U3'), ('U13', 'GNU-CC5-U13')],\n",
      " 'CC6': [('U1', 'GNU-CC6-U1'), ('U3', 'GNU-CC6-U3'), ('U13', 'GNU-CC6-U13')],\n",
      " 'CC7': [('U1', 'GNU-CC7-U1'), ('U3', 'GNU-CC7-U3'), ('U13', 'GNU-CC7-U13')],\n",
      " 'CC8': [('U6', 'GNU-CC8-U6'), ('U10', 'GNU-CC8-U10'), ('U13', 'GNU-CC8-U13')],\n",
      " 'CC9': [('U6', 'GNU-CC9-U6'), ('U10', 'GNU-CC9-U10'), ('U13', 'GNU-CC9-U13')],\n",
      " 'RC': [('U4', 'GNU-RC-U4'), ('U6', 'GNU-RC-U6'), ('U13', 'GNU-RC-U13')]}\n",
      "{'CC1': [('U3', 'TOK-CC1-U3'), ('U4', 'TOK-CC1-U4'), ('U11', 'TOK-CC1-U11')],\n",
      " 'CC2': [('U3', 'TOK-CC2-U3'), ('U4', 'TOK-CC2-U4'), ('U11', 'TOK-CC2-U11')],\n",
      " 'CC3': [('U3', 'TOK-CC3-U3'), ('U4', 'TOK-CC3-U4'), ('U11', 'TOK-CC3-U11')],\n",
      " 'CC4': [('U1', 'TOK-CC4-U1'), ('U2', 'TOK-CC4-U2'), ('U11', 'TOK-CC4-U11')],\n",
      " 'CC5': [('U1', 'TOK-CC5-U1'), ('U2', 'TOK-CC5-U2'), ('U11', 'TOK-CC5-U11')],\n",
      " 'CC6': [('U1', 'TOK-CC6-U1'), ('U2', 'TOK-CC6-U2'), ('U11', 'TOK-CC6-U11')],\n",
      " 'CC7': [('U1', 'TOK-CC7-U1'), ('U2', 'TOK-CC7-U2'), ('U11', 'TOK-CC7-U11')],\n",
      " 'CC8': [('U9', 'TOK-CC8-U9'), ('U10', 'TOK-CC8-U10'), ('U11', 'TOK-CC8-U11')],\n",
      " 'CC9': [('U9', 'TOK-CC9-U9'), ('U10', 'TOK-CC9-U10'), ('U11', 'TOK-CC9-U11')],\n",
      " 'RB': [('U3', 'TOK-RB-U3'), ('U4', 'TOK-RB-U4'), ('U11', 'TOK-RB-U11')]}\n",
      "{'CC1': [('U6', 'DROID-CC1-U6'),\n",
      "         ('U10', 'DROID-CC1-U10'),\n",
      "         ('U13', 'DROID-CC1-U13')],\n",
      " 'CC11': [('U7', 'DROID-CC11-U7'),\n",
      "          ('U10', 'DROID-CC11-U10'),\n",
      "          ('U13', 'DROID-CC11-U13')],\n",
      " 'CC2': [('U7', 'DROID-CC2-U7'),\n",
      "         ('U10', 'DROID-CC2-U10'),\n",
      "         ('U13', 'DROID-CC2-U13')],\n",
      " 'CC3': [('U6', 'DROID-CC3-U6'),\n",
      "         ('U9', 'DROID-CC3-U9'),\n",
      "         ('U13', 'DROID-CC3-U13')],\n",
      " 'CC4': [('U7', 'DROID-CC4-U7'),\n",
      "         ('U10', 'DROID-CC4-U10'),\n",
      "         ('U13', 'DROID-CC4-U13')],\n",
      " 'CC5': [('U7', 'DROID-CC5-U7'),\n",
      "         ('U8', 'DROID-CC5-U8'),\n",
      "         ('U13', 'DROID-CC5-U13')],\n",
      " 'CC6': [('U7', 'DROID-CC6-U7'),\n",
      "         ('U8', 'DROID-CC6-U8'),\n",
      "         ('U13', 'DROID-CC6-U13')],\n",
      " 'CC7': [('U7', 'DROID-CC7-U7'),\n",
      "         ('U8', 'DROID-CC7-U8'),\n",
      "         ('U13', 'DROID-CC7-U13')],\n",
      " 'CC8': [('U9', 'DROID-CC8-U9'),\n",
      "         ('U10', 'DROID-CC8-U10'),\n",
      "         ('U13', 'DROID-CC8-U13')],\n",
      " 'CC9': [('U9', 'DROID-CC9-U9'),\n",
      "         ('U10', 'DROID-CC9-U10'),\n",
      "         ('U13', 'DROID-CC9-U13')]}\n",
      "{'CC1': [('U5', 'GROW-CC1-U5'), ('U6', 'GROW-CC1-U6'), ('U14', 'GROW-CC1-U14')],\n",
      " 'CC2': [('U10', 'GROW-CC2-U10'),\n",
      "         ('U6', 'GROW-CC2-U6'),\n",
      "         ('U14', 'GROW-CC2-U14')],\n",
      " 'CC3': [('U5', 'GROW-CC3-U5'), ('U6', 'GROW-CC3-U6'), ('U14', 'GROW-CC3-U14')],\n",
      " 'CC4': [('U4', 'GROW-CC4-U4'), ('U6', 'GROW-CC4-U6'), ('U14', 'GROW-CC4-U14')],\n",
      " 'CC5': [('U4', 'GROW-CC5-U4'), ('U8', 'GROW-CC5-U8'), ('U14', 'GROW-CC5-U14')],\n",
      " 'CC6': [('U4', 'GROW-CC6-U4'), ('U7', 'GROW-CC6-U7'), ('U14', 'GROW-CC6-U14')],\n",
      " 'CC7': [('U4', 'GROW-CC7-U4'), ('U6', 'GROW-CC7-U6'), ('U14', 'GROW-CC7-U14')],\n",
      " 'CC8': [('U7', 'GROW-CC8-U7'), ('U8', 'GROW-CC8-U8'), ('U14', 'GROW-CC8-U14')],\n",
      " 'CC9': [('U7', 'GROW-CC9-U7'), ('U8', 'GROW-CC9-U8'), ('U14', 'GROW-CC9-U14')],\n",
      " 'RC': [('U5', 'GROW-RC-U5'),\n",
      "        ('U7', 'GROW-RC-U7'),\n",
      "        ('U8', 'GROW-RC-U8'),\n",
      "        ('U14', 'GROW-RC-U14')]}\n",
      "{'CC1': [('U1', 'APOD-CC1-U1'), ('U2', 'APOD-CC1-U2'), ('U12', 'APOD-CC1-U12')],\n",
      " 'CC2': [('U1', 'APOD-CC2-U1'), ('U2', 'APOD-CC2-U2'), ('U12', 'APOD-CC2-U12')],\n",
      " 'CC3': [('U1', 'APOD-CC3-U1'), ('U2', 'APOD-CC3-U2'), ('U12', 'APOD-CC3-U12')],\n",
      " 'CC4': [('U7', 'APOD-CC4-U7'), ('U8', 'APOD-CC4-U8'), ('U12', 'APOD-CC4-U12')],\n",
      " 'CC5': [('U7', 'APOD-CC5-U7'), ('U8', 'APOD-CC5-U8'), ('U12', 'APOD-CC5-U12')],\n",
      " 'CC6': [('U7', 'APOD-CC6-U7'), ('U8', 'APOD-CC6-U8'), ('U12', 'APOD-CC6-U12')],\n",
      " 'CC7': [('U7', 'APOD-CC7-U7'), ('U8', 'APOD-CC7-U8'), ('U12', 'APOD-CC7-U12')],\n",
      " 'CC8': [('U5', 'APOD-CC8-U5'),\n",
      "         ('U10', 'APOD-CC8-U10'),\n",
      "         ('U12', 'APOD-CC8-U12')],\n",
      " 'CC9': [('U5', 'APOD-CC9-U5'), ('U9', 'APOD-CC9-U9'), ('U12', 'APOD-CC9-U12')],\n",
      " 'RB': [('U1', 'APOD-RB-U1'), ('U5', 'APOD-RB-U5'), ('U12', 'APOD-RB-U12')]}\n",
      "Loading /tf/data/tango_reproduction_package/outputs/results/SimCLR/rankings_user_15000n_1000vw_5ftk.pkl\n",
      "dict_keys(['lcs', 'weighted_lcs', 'bovw', 'bovw_lcs', 'bovw_weighted_lcs'])\n",
      "Running config:  {'model': 'SimCLR', 'vwords': '1000vw', 'fps': '30fps', 'ftk': '5ftk', 'technique': 'weighted_lcs'}\n",
      "Running setting setting2\n",
      "dict_keys(['lcs', 'weighted_lcs', 'bovw', 'bovw_lcs', 'bovw_weighted_lcs'])\n",
      "Running config:  {'model': 'SimCLR', 'vwords': '1000vw', 'fps': '30fps', 'ftk': '5ftk', 'technique': 'bovw'}\n",
      "Running setting setting2\n",
      "dict_keys(['lcs', 'weighted_lcs', 'bovw', 'bovw_lcs', 'bovw_weighted_lcs'])\n",
      "Running config:  {'model': 'SimCLR', 'vwords': '1000vw', 'fps': '30fps', 'ftk': '5ftk', 'technique': 'lcs'}\n",
      "Running setting setting2\n",
      "dict_keys(['lcs', 'weighted_lcs', 'bovw', 'bovw_lcs', 'bovw_weighted_lcs'])\n",
      "Running config:  {'model': 'SimCLR', 'vwords': '1000vw', 'fps': '30fps', 'ftk': '5ftk', 'technique': 'bovw_lcs'}\n",
      "Running setting setting2\n",
      "dict_keys(['lcs', 'weighted_lcs', 'bovw', 'bovw_lcs', 'bovw_weighted_lcs'])\n",
      "Running config:  {'model': 'SimCLR', 'vwords': '1000vw', 'fps': '30fps', 'ftk': '5ftk', 'technique': 'bovw_weighted_lcs'}\n",
      "Running setting setting2\n",
      "Loading /tf/data/tango_reproduction_package/outputs/results/SimCLR/rankings_user_15000n_1000vw_1ftk.pkl\n",
      "dict_keys(['lcs', 'weighted_lcs', 'bovw', 'bovw_lcs', 'bovw_weighted_lcs'])\n",
      "Running config:  {'model': 'SimCLR', 'vwords': '1000vw', 'fps': '30fps', 'ftk': '1ftk', 'technique': 'weighted_lcs'}\n",
      "Running setting setting2\n",
      "dict_keys(['lcs', 'weighted_lcs', 'bovw', 'bovw_lcs', 'bovw_weighted_lcs'])\n",
      "Running config:  {'model': 'SimCLR', 'vwords': '1000vw', 'fps': '30fps', 'ftk': '1ftk', 'technique': 'bovw'}\n",
      "Running setting setting2\n",
      "dict_keys(['lcs', 'weighted_lcs', 'bovw', 'bovw_lcs', 'bovw_weighted_lcs'])\n",
      "Running config:  {'model': 'SimCLR', 'vwords': '1000vw', 'fps': '30fps', 'ftk': '1ftk', 'technique': 'lcs'}\n",
      "Running setting setting2\n",
      "dict_keys(['lcs', 'weighted_lcs', 'bovw', 'bovw_lcs', 'bovw_weighted_lcs'])\n",
      "Running config:  {'model': 'SimCLR', 'vwords': '1000vw', 'fps': '30fps', 'ftk': '1ftk', 'technique': 'bovw_lcs'}\n",
      "Running setting setting2\n",
      "dict_keys(['lcs', 'weighted_lcs', 'bovw', 'bovw_lcs', 'bovw_weighted_lcs'])\n",
      "Running config:  {'model': 'SimCLR', 'vwords': '1000vw', 'fps': '30fps', 'ftk': '1ftk', 'technique': 'bovw_weighted_lcs'}\n",
      "Running setting setting2\n",
      "Loading /tf/data/tango_reproduction_package/outputs/results/SimCLR/rankings_user_15000n_1000vw_30fps_5ftk.pkl\n",
      "dict_keys(['lcs', 'weighted_lcs', 'bovw', 'bovw_lcs', 'bovw_weighted_lcs'])\n",
      "Running config:  {'model': 'SimCLR', 'vwords': '1000vw', 'fps': '30fps', 'ftk': '30fps', 'technique': 'weighted_lcs'}\n",
      "Running setting setting2\n",
      "dict_keys(['lcs', 'weighted_lcs', 'bovw', 'bovw_lcs', 'bovw_weighted_lcs'])\n",
      "Running config:  {'model': 'SimCLR', 'vwords': '1000vw', 'fps': '30fps', 'ftk': '30fps', 'technique': 'bovw'}\n",
      "Running setting setting2\n",
      "dict_keys(['lcs', 'weighted_lcs', 'bovw', 'bovw_lcs', 'bovw_weighted_lcs'])\n",
      "Running config:  {'model': 'SimCLR', 'vwords': '1000vw', 'fps': '30fps', 'ftk': '30fps', 'technique': 'lcs'}\n",
      "Running setting setting2\n",
      "dict_keys(['lcs', 'weighted_lcs', 'bovw', 'bovw_lcs', 'bovw_weighted_lcs'])\n",
      "Running config:  {'model': 'SimCLR', 'vwords': '1000vw', 'fps': '30fps', 'ftk': '30fps', 'technique': 'bovw_lcs'}\n",
      "Running setting setting2\n",
      "dict_keys(['lcs', 'weighted_lcs', 'bovw', 'bovw_lcs', 'bovw_weighted_lcs'])\n",
      "Running config:  {'model': 'SimCLR', 'vwords': '1000vw', 'fps': '30fps', 'ftk': '30fps', 'technique': 'bovw_weighted_lcs'}\n",
      "Running setting setting2\n",
      "Writing results and rankings\n",
      "done\n",
      "('SimCLR', '1000vw', '5ftk', 'bovw') ('ocr+ir', '1ftk', 'all_text')\n",
      "('SimCLR', '1000vw', '5ftk', 'bovw') ('ocr+ir', '5ftk', 'all_text')\n",
      "('SimCLR', '1000vw', '5ftk', 'bovw') ('ocr+ir', '5ftk', 'unique_frames')\n",
      "('SimCLR', '1000vw', '5ftk', 'bovw') ('ocr+ir', '5ftk', 'unique_words')\n",
      "('SimCLR', '1000vw', '5ftk', 'bovw_weighted_lcs') ('ocr+ir', '1ftk', 'all_text')\n",
      "('SimCLR', '1000vw', '5ftk', 'bovw_weighted_lcs') ('ocr+ir', '5ftk', 'all_text')\n",
      "('SimCLR', '1000vw', '5ftk', 'bovw_weighted_lcs') ('ocr+ir', '5ftk', 'unique_frames')\n",
      "('SimCLR', '1000vw', '5ftk', 'bovw_weighted_lcs') ('ocr+ir', '5ftk', 'unique_words')\n",
      "--- 194.6686704158783 seconds ---\n",
      "Writing data\n"
     ]
    },
    {
     "name": "stderr",
     "output_type": "stream",
     "text": [
      "/usr/local/lib/python3.6/dist-packages/IPython/core/interactiveshell.py:3343: DtypeWarning: Columns (40) have mixed types. Specify dtype option on import or set low_memory=False.\n",
      "  exec(code_obj, self.user_global_ns, self.user_ns)\n"
     ]
    },
    {
     "name": "stdout",
     "output_type": "stream",
     "text": [
      "        Model: SimCLR-1000vw-5ftk-bovw,ocr+ir-5ftk-all_text,weight=0.2-0\n",
      "        Overall mRR: 0.7976274131675366\n",
      "        Overall mAP: 0.7320586931929522\n",
      "        Overall Mean Rank: 1.7333333333333334\n",
      "        \n",
      "        Model: SimCLR-1000vw-5ftk-bovw\n",
      "        Overall mRR: 0.789426523916157\n",
      "        Overall mAP: 0.6872024860661221\n",
      "        Overall Mean Rank: 1.8782562466772994\n",
      "        \n",
      "        Model: ocr+ir-5ftk-all_text\n",
      "        Overall mRR: 0.6570458455819772\n",
      "        Overall mAP: 0.5920101278164506\n",
      "        Overall Mean Rank: 2.5850159404888418\n",
      "        \n"
     ]
    },
    {
     "name": "stderr",
     "output_type": "stream",
     "text": [
      "/usr/local/lib/python3.6/dist-packages/ipykernel_launcher.py:18: UserWarning: Boolean Series key will be reindexed to match DataFrame index.\n",
      "/usr/local/lib/python3.6/dist-packages/ipykernel_launcher.py:27: UserWarning: Boolean Series key will be reindexed to match DataFrame index.\n",
      "/usr/local/lib/python3.6/dist-packages/ipykernel_launcher.py:35: UserWarning: Boolean Series key will be reindexed to match DataFrame index.\n"
     ]
    }
   ],
   "source": [
    "VWORDS = [1_000]\n",
    "N_IMGS = 15_000\n",
    "N_FRAMES_TO_KEEP = [5]\n",
    "FPS = 30\n",
    "\n",
    "down_path = \"/tf/data\"\n",
    "out_path = \"/tf/data/tango_reproduction_package/outputs\"\n",
    "vis_model = \"SimCLR\"\n",
    "\n",
    "reproduce(down_path, out_path, vis_model)"
   ]
  },
  {
   "cell_type": "code",
   "execution_count": null,
   "metadata": {},
   "outputs": [],
   "source": [
    "# export\n",
    "@call_parse\n",
    "def tango(\n",
    "    q_path: Param(\"Path to the query video\", str),\n",
    "    cor_path: Param(\"Path to the corpus\", str),\n",
    "    simclr_path: Param(\"Path to the SimCLR model directory\", str)\n",
    "):\n",
    "    \"\"\"\n",
    "    Function for calculating similarity scores of a corpus of video-based bug\n",
    "    reports to a query video-based bug report. Currently only uses the top\n",
    "    performing SimCLR model from our paper\n",
    "    \"It Takes Two to TANGO: Combining Visual andTextual Information for Detecting DuplicateVideo-Based Bug Reports\".\n",
    "    \"\"\"\n",
    "    q_path = Path(q_path)\n",
    "    cor_path = Path(cor_path)\n",
    "    simclr_path = Path(simclr_path)\n",
    "    best_vw = 1_000\n",
    "    best_ftk = 5\n",
    "    \n",
    "    q_vid = Video(q_path, FPS)\n",
    "    codebook = pickle.load(open(simclr_path/f\"cookbook_SimCLR_{best_vw}vw.model\", 'rb'))\n",
    "    simclr = SimCLRModel.load_from_checkpoint(\n",
    "        checkpoint_path=str(simclr_path/\"checkpointepoch=98.ckpt\")\n",
    "    ).eval()\n",
    "    model = SimCLRExtractor(simclr)\n",
    "\n",
    "    vid_ds = VideoDataset.from_path(cor_path, fr=FPS).label_from_paths()\n",
    "    sorted_rankings = compute_sims(q_vid, vid_ds, model, codebook, best_vw, FPS, best_ftk)\n",
    "    pp = pprint.PrettyPrinter(indent=4)\n",
    "    pp.pprint(sorted_rankings)"
   ]
  },
  {
   "cell_type": "code",
   "execution_count": null,
   "metadata": {
    "scrolled": true
   },
   "outputs": [],
   "source": [
    "corpus_path = Path(\"/tf/main/tango_reproduction_package/artifacts/cli_videos\")\n",
    "query_path = corpus_path/\"U1\"/\"APOD\"/\"CC1\"/\"APOD-CC1_fixed_30.mp4\"\n",
    "simclr_path = Path(\"/tf/main/tango_reproduction_package/artifacts/models/SimCLR\")\n",
    "tango(query_path, corpus_path, simclr_path)"
   ]
  },
  {
   "cell_type": "code",
   "execution_count": null,
   "metadata": {
    "scrolled": true
   },
   "outputs": [],
   "source": [
    "from nbdev.export import notebook2script\n",
    "notebook2script()"
   ]
  },
  {
   "cell_type": "code",
   "execution_count": null,
   "metadata": {},
   "outputs": [],
   "source": []
  }
 ],
 "metadata": {
  "interpreter": {
   "hash": "31f2aee4e71d21fbe5cf8b01ff0e069b9275f58929596ceb00d14d90e3e16cd6"
  },
  "kernelspec": {
   "display_name": "Python 3.8.10 64-bit",
   "name": "python3"
  },
  "language_info": {
   "codemirror_mode": {
    "name": "ipython",
    "version": 3
   },
   "file_extension": ".py",
   "mimetype": "text/x-python",
   "name": "python",
   "nbconvert_exporter": "python",
   "pygments_lexer": "ipython3",
   "version": "3.6.9"
  }
 },
 "nbformat": 4,
 "nbformat_minor": 2
}
