{
 "cells": [
  {
   "cell_type": "code",
   "execution_count": null,
   "metadata": {},
   "outputs": [],
   "source": [
    "#default_exp approach"
   ]
  },
  {
   "cell_type": "code",
   "execution_count": null,
   "metadata": {},
   "outputs": [],
   "source": [
    "#hide\n",
    "%reload_ext autoreload\n",
    "%autoreload 2\n",
    "%matplotlib inline"
   ]
  },
  {
   "cell_type": "markdown",
   "metadata": {},
   "source": [
    "# Approach\n",
    "\n",
    "\n",
    "> This module contains all the code for defining the various approaches"
   ]
  },
  {
   "cell_type": "code",
   "execution_count": null,
   "metadata": {},
   "outputs": [],
   "source": [
    "#export\n",
    "import copy\n",
    "import cv2\n",
    "import multiprocessing\n",
    "import pickle\n",
    "import time\n",
    "\n",
    "import numpy as np\n",
    "\n",
    "from collections import defaultdict, OrderedDict\n",
    "from itertools import combinations, combinations_with_replacement, permutations\n",
    "from joblib import Parallel, delayed\n",
    "from pathlib import Path\n",
    "from tango.eval import *\n",
    "from tango.features import *\n",
    "from tango.model import *\n",
    "from tango.prep import *\n",
    "from tqdm.auto import tqdm\n",
    "from sklearn.metrics.pairwise import cosine_similarity"
   ]
  },
  {
   "cell_type": "code",
   "execution_count": null,
   "metadata": {},
   "outputs": [],
   "source": [
    "# export\n",
    "def flatten_dict(d_in, d_out, parent_key):\n",
    "    for k, v in d_in.items():\n",
    "        if isinstance(v, dict):\n",
    "            flatten_dict(v, d_out, parent_key + (k,))\n",
    "        else:\n",
    "            d_out[parent_key + (k,)] = v"
   ]
  },
  {
   "cell_type": "code",
   "execution_count": null,
   "metadata": {},
   "outputs": [],
   "source": [
    "# export\n",
    "def gen_extracted_features(vid_ds, mdl, fps, ftk):\n",
    "    vid_ds_features = {}\n",
    "    for app in tqdm(vid_ds.labels):\n",
    "        start = time.time()\n",
    "        vid_ds_features[app] = {}\n",
    "        for bug in vid_ds[app]:\n",
    "            vid_ds_features[app][bug] = {}\n",
    "            for report in vid_ds[app][bug]:\n",
    "                vid_ds_features[app][bug][report] = {\n",
    "                    'features': extract_features(vid_ds[app][bug][report], mdl, fps, frames_to_keep = ftk)\n",
    "                }\n",
    "        end = time.time()\n",
    "        vid_ds_features[app]['elapsed_time'] = end - start\n",
    "        \n",
    "    return vid_ds_features"
   ]
  },
  {
   "cell_type": "code",
   "execution_count": null,
   "metadata": {},
   "outputs": [],
   "source": [
    "# export\n",
    "def gen_tfidfs(vid_ds_features, vw, codebook, df, ftk):\n",
    "    vid_tfids = defaultdict(\n",
    "        lambda: defaultdict(dict)\n",
    "    )\n",
    "    \n",
    "    for app in vid_ds_features:\n",
    "        for bug in vid_ds_features[app]:\n",
    "            if bug == 'elapsed_time': continue\n",
    "            for report in vid_ds_features[app][bug]:\n",
    "                bovw = new_get_bovw(\n",
    "                    vid_ds_features[app][bug][report]['features'],\n",
    "                    codebook, vw\n",
    "                )\n",
    "                vid_tfids[app][bug][report] = calc_tf_idf(bovw, df)\n",
    "    \n",
    "    return vid_tfids"
   ]
  },
  {
   "cell_type": "code",
   "execution_count": null,
   "metadata": {},
   "outputs": [],
   "source": [
    "# export\n",
    "def gen_bovw_similarity(vid_ds, vid_ds_features, mdl, codebook, vw, ftk):\n",
    "    results = defaultdict(\n",
    "        lambda: defaultdict(\n",
    "            lambda: defaultdict(\n",
    "                lambda: defaultdict(\n",
    "                    lambda: defaultdict(\n",
    "                        lambda: defaultdict(float)\n",
    "                    )\n",
    "                )\n",
    "            )\n",
    "        )\n",
    "    )\n",
    "    \n",
    "    vid_ds_features = copy.deepcopy(vid_ds_features)\n",
    "    df = np.histogram(codebook.labels_, bins = range(vw + 1))[0]\n",
    "    vid_tfids = gen_tfidfs(vid_ds_features, vw, codebook, df, ftk)\n",
    "    for app, bugs in vid_ds.labels.items():\n",
    "        start = time.time()\n",
    "        l = [(bug, report) for bug in bugs for report in bugs[bug] if bug != 'elapsed_time']\n",
    "        pairs = list(x for x in combinations_with_replacement(l, 2) if x[0] != x[1])\n",
    "        for (bug_i, report_i), (bug_j, report_j) in pairs:\n",
    "            results[app][bug_i][report_i][bug_j][report_j]['bovw'] = np.dot(vid_tfids[app][bug_i][report_i], vid_tfids[app][bug_j][report_j]) / (np.linalg.norm(vid_tfids[app][bug_i][report_i]) * np.linalg.norm(vid_tfids[app][bug_j][report_j]))\n",
    "        end = time.time()\n",
    "        results[app]['elapsed_time'] = end - start + vid_ds_features[app]['elapsed_time']\n",
    "            \n",
    "    return df, results"
   ]
  },
  {
   "cell_type": "code",
   "execution_count": null,
   "metadata": {},
   "outputs": [],
   "source": [
    "# export\n",
    "# Modified from geeksforgeeks: https://www.geeksforgeeks.org/longest-common-substring-dp-29/\n",
    "def fuzzy_LCS(X, Y, m, n, sim_func, codebook, df, vw, mdl_frame_threshold = 0.0):\n",
    "    LCSuff = [[0 for k in range(n + 1)] for l in range(m + 1)]\n",
    "    LCSuff_weighted = [[0 for k in range(n + 1)] for l in range(m + 1)]\n",
    "      \n",
    "    # To store the length of  \n",
    "    # longest common substring \n",
    "    result = result_weighted = 0 \n",
    "  \n",
    "    # Following steps to build \n",
    "    # LCSuff[m+1][n+1] in bottom up fashion \n",
    "    for i in range(0, m + 1):\n",
    "        for j in range(0, n + 1):\n",
    "            if (i == 0 or j == 0): \n",
    "                LCSuff[i][j] = 0\n",
    "                LCSuff_weighted[i][j] = 0\n",
    "                continue\n",
    "            \n",
    "            sim = sim_func(X[i - 1], Y[j - 1], codebook, df, vw)\n",
    "            if sim > mdl_frame_threshold:\n",
    "                LCSuff[i][j] = LCSuff[i - 1][j - 1] + sim\n",
    "                LCSuff_weighted[i][j] = LCSuff_weighted[i - 1][j - 1] + sim * (i / m) * (j / n)\n",
    "                if LCSuff[i][j] > result:\n",
    "                    result = LCSuff[i][j]\n",
    "                    result_weighted = LCSuff_weighted[i][j]\n",
    "            else: \n",
    "                LCSuff[i][j] = 0\n",
    "                LCSuff_weighted[i][j] = 0\n",
    "        \n",
    "    mini, maxi = min(m, n), max(m, n)\n",
    "    sum_w = 0\n",
    "    max_v = maxi + 1\n",
    "    for i in reversed(range(1, mini + 1)):\n",
    "        sum_w += (i / mini) * (max_v / maxi)\n",
    "        max_v -= 1\n",
    "    return result / min(m, n), result_weighted / sum_w"
   ]
  },
  {
   "cell_type": "markdown",
   "metadata": {},
   "source": [
    "Some examples showing the differences between f-LCS and w-LCS\n",
    "\n",
    "This example shows an example where there is a lot of overlap causes f-LCS similarity to be high, but since the overlap is not toward the end, the w-LCS similarity is lower."
   ]
  },
  {
   "cell_type": "code",
   "execution_count": null,
   "metadata": {},
   "outputs": [],
   "source": [
    "X = [1, 2, 3, 4, 5]\n",
    "Y = [3, 4, 5, 6, 7, 8]\n",
    "test_sim_func = lambda *args: int(args[0] == args[1])\n",
    "lcs, weighted_lcs = fuzzy_LCS(X, Y, len(X), len(Y), test_sim_func, None, None, None)\n",
    "lcs, weighted_lcs"
   ]
  },
  {
   "cell_type": "markdown",
   "metadata": {},
   "source": [
    "This example shows that if the overlap is towards the end of the two sequences, w-LCS will have a higher similarity than f-LCS"
   ]
  },
  {
   "cell_type": "code",
   "execution_count": null,
   "metadata": {},
   "outputs": [],
   "source": [
    "X = [1, 2, 3, 4, 5]\n",
    "Y = [11, 12, 3, 4, 5]\n",
    "lcs, weighted_lcs = fuzzy_LCS(X, Y, len(X), len(Y), test_sim_func, None, None, None)\n",
    "lcs, weighted_lcs"
   ]
  },
  {
   "cell_type": "code",
   "execution_count": null,
   "metadata": {},
   "outputs": [],
   "source": [
    "# export\n",
    "def gen_lcs_similarity(vid_ds, vid_ds_features, sim_func, mdl, codebook, df, vw, ftk):\n",
    "    results = defaultdict(\n",
    "        lambda: defaultdict(\n",
    "            lambda: defaultdict(\n",
    "                lambda: defaultdict(\n",
    "                    lambda: defaultdict(\n",
    "                        lambda: defaultdict(float)\n",
    "                    )\n",
    "                )\n",
    "            )\n",
    "        )\n",
    "    )\n",
    "    \n",
    "    vid_ds_features = copy.deepcopy(vid_ds_features)\n",
    "    for app, bugs in vid_ds.labels.items():\n",
    "        start = time.time()\n",
    "        l = [(bug, report) for bug in bugs for report in bugs[bug] if bug != 'elapsed_time']\n",
    "        pairs = list(x for x in combinations_with_replacement(l, 2) if x[0] != x[1])\n",
    "        for (bug_i, report_i), (bug_j, report_j) in tqdm(pairs):\n",
    "            lcs_sim, weighted_lcs_sim = fuzzy_LCS(\n",
    "                vid_ds_features[app][bug_i][report_i]['features'],\n",
    "                vid_ds_features[app][bug_j][report_j]['features'],\n",
    "                len(vid_ds_features[app][bug_i][report_i]['features']),\n",
    "                len(vid_ds_features[app][bug_j][report_j]['features']),\n",
    "                sim_func, codebook, df, vw\n",
    "            )\n",
    "            results[app][bug_i][report_i][bug_j][report_j]['lcs'] = lcs_sim\n",
    "            results[app][bug_i][report_i][bug_j][report_j]['weighted_lcs'] = weighted_lcs_sim\n",
    "\n",
    "        end = time.time()\n",
    "        results[app]['elapsed_time'] = end - start + vid_ds_features[app]['elapsed_time']\n",
    "        \n",
    "    return results"
   ]
  },
  {
   "cell_type": "code",
   "execution_count": null,
   "metadata": {},
   "outputs": [],
   "source": [
    "# export\n",
    "def fix_sims(vid_sims, vid_ds):\n",
    "    for sim_type in vid_sims:\n",
    "        for app in vid_sims[sim_type]:\n",
    "            l = [(bug, report) for bug in vid_ds[app] for report in vid_ds[app][bug] if bug != 'elapsed_time']\n",
    "            pairs = reversed(list(x for x in permutations(l, 2) if x[0] != x[1]))\n",
    "            for (bug_i, report_i), (bug_j, report_j) in pairs:\n",
    "                if (bug_i, report_i) == (bug_j, report_j): continue\n",
    "                vid_sims[sim_type][app][bug_i][report_i][bug_j][report_j] = vid_sims[sim_type][app][bug_j][report_j][bug_i][report_i]\n",
    "    \n",
    "    return vid_sims"
   ]
  },
  {
   "cell_type": "code",
   "execution_count": null,
   "metadata": {},
   "outputs": [],
   "source": [
    "# export\n",
    "def sort_rankings(vid_sims):\n",
    "    sorted_rankings = {}\n",
    "    for sim_type in vid_sims:\n",
    "        sorted_rankings[sim_type] = {}\n",
    "        for app in vid_sims[sim_type]:\n",
    "            sorted_rankings[sim_type][app] = {'elapsed_time': vid_sims[sim_type][app][f'elapsed_time']}\n",
    "            for bug in vid_sims[sim_type][app]:\n",
    "                if bug == 'elapsed_time': continue\n",
    "                sorted_rankings[sim_type][app][bug] = {}\n",
    "                for report in vid_sims[sim_type][app][bug]:\n",
    "                    sorted_rankings[sim_type][app][bug][report] = []\n",
    "                    d_out = {}\n",
    "                    flatten_dict(vid_sims[sim_type][app][bug][report], d_out, tuple())\n",
    "                    sorted_rankings[sim_type][app][bug][report] = OrderedDict(\n",
    "                        sorted(d_out.items(), key = lambda x: str(x[1]), reverse = True)\n",
    "                    )\n",
    "    \n",
    "    return sorted_rankings"
   ]
  },
  {
   "cell_type": "code",
   "execution_count": null,
   "metadata": {},
   "outputs": [],
   "source": [
    "# export\n",
    "def approach(\n",
    "    vid_ds, vid_ds_features, bovw_vid_ds_sims, lcs_vid_ds_sims,\n",
    "    mdl, sim_func, codebook, df, vw, fps = 30, ftk = 1\n",
    "):\n",
    "    vid_ds_sims = defaultdict(\n",
    "        lambda: defaultdict(\n",
    "            lambda: defaultdict(\n",
    "                lambda: defaultdict(\n",
    "                    lambda: defaultdict(\n",
    "                        lambda: defaultdict(\n",
    "                            lambda: defaultdict(float)\n",
    "                        )\n",
    "                    )\n",
    "                )\n",
    "            )\n",
    "        )\n",
    "    )\n",
    "    \n",
    "    vid_ds_features = copy.deepcopy(vid_ds_features)\n",
    "    bovw_vid_ds_sims = copy.deepcopy(bovw_vid_ds_sims)\n",
    "    lcs_vid_ds_sims = copy.deepcopy(lcs_vid_ds_sims)\n",
    "    for app, bugs in vid_ds.labels.items():\n",
    "        l = [(bug, report) for bug in bugs for report in bugs[bug] if bug != 'elapsed_time']\n",
    "        pairs = list(x for x in combinations_with_replacement(l, 2) if x[0] != x[1])\n",
    "        for (bug_i, report_i), (bug_j, report_j) in tqdm(pairs):\n",
    "            lcs = lcs_vid_ds_sims[app][bug_i][report_i][bug_j][report_j]['lcs']\n",
    "            weighted_lcs = lcs_vid_ds_sims[app][bug_i][report_i][bug_j][report_j]['weighted_lcs']\n",
    "            vid_ds_sims['lcs'][app][bug_i][report_i][bug_j][report_j] = lcs\n",
    "            vid_ds_sims['weighted_lcs'][app][bug_i][report_i][bug_j][report_j] = weighted_lcs\n",
    "            \n",
    "            bovw = bovw_vid_ds_sims[app][bug_i][report_i][bug_j][report_j]['bovw']\n",
    "            vid_ds_sims['bovw'][app][bug_i][report_i][bug_j][report_j] = bovw\n",
    "            vid_ds_sims['bovw_lcs'][app][bug_i][report_i][bug_j][report_j] = (bovw + lcs) / 2\n",
    "            vid_ds_sims['bovw_weighted_lcs'][app][bug_i][report_i][bug_j][report_j] = (bovw + weighted_lcs) / 2\n",
    "\n",
    "        bovw_time = bovw_vid_ds_sims[app]['elapsed_time']\n",
    "        lcs_time = lcs_vid_ds_sims[app]['elapsed_time']\n",
    "        \n",
    "        vid_ds_sims['bovw'][app]['elapsed_time'] = bovw_time\n",
    "        vid_ds_sims['lcs'][app]['elapsed_time'] = lcs_time\n",
    "        vid_ds_sims['weighted_lcs'][app]['elapsed_time'] = lcs_time\n",
    "        vid_ds_sims['bovw_lcs'][app]['elapsed_time'] = bovw_time + lcs_time\n",
    "        vid_ds_sims['bovw_weighted_lcs'][app]['elapsed_time'] = bovw_time + lcs_time\n",
    "\n",
    "    fixed_vid_ds_sims = fix_sims(vid_ds_sims, vid_ds)\n",
    "    rankings = sort_rankings(fixed_vid_ds_sims)\n",
    "    return rankings"
   ]
  },
  {
   "cell_type": "code",
   "execution_count": null,
   "metadata": {},
   "outputs": [],
   "source": [
    "path = Path(\"/tf/data/datasets/validation_set\")\n",
    "vid_ds = VideoDataset.from_path(path).label_from_paths()\n",
    "vid_ds.get_labels()"
   ]
  },
  {
   "cell_type": "code",
   "execution_count": null,
   "metadata": {},
   "outputs": [],
   "source": [
    "fps = 30\n",
    "ftk = 1\n",
    "vw = 1_000\n",
    "model_01 = 'M01'\n",
    "simclr = SimCLRModel.load_from_checkpoint(checkpoint_path = str('/tf/data/models/simclr/checkpointepoch=98.ckpt')).eval()\n",
    "M01 = SimCLRExtractor(simclr)\n",
    "\n",
    "fname = f'/tf/data/models/codebooks/M01/cookbook_M01_{vw}vw.model'\n",
    "codebook_01 = pickle.load(open(fname, 'rb'))"
   ]
  },
  {
   "cell_type": "code",
   "execution_count": null,
   "metadata": {},
   "outputs": [],
   "source": [
    "vid_ds_features = gen_extracted_features(vid_ds, M01, fps, ftk)\n",
    "df, bovw_vid_ds_sims = gen_bovw_similarity(vid_ds, vid_ds_features, M01, codebook_01, vw, ftk)\n",
    "lcs_vid_ds_sims = gen_lcs_similarity(vid_ds, vid_ds_features, simclr_frame_sim, M01, codebook_01, df, vw, ftk)"
   ]
  },
  {
   "cell_type": "code",
   "execution_count": null,
   "metadata": {},
   "outputs": [],
   "source": [
    "# vid_ds_features = gen_extracted_features(vid_ds, M01, fps, ftk)\n",
    "# df, vid_ds_sims = gen_similarity(vid_ds, vid_ds_features, M01, codebook_01, vw, ftk)\n",
    "rankings_01 = approach(\n",
    "    vid_ds, vid_ds_features, bovw_vid_ds_sims, lcs_vid_ds_sims, M01, simclr_frame_sim,\n",
    "    codebook_01, df, vw, fps = fps, ftk = ftk,\n",
    ")"
   ]
  },
  {
   "cell_type": "code",
   "execution_count": null,
   "metadata": {},
   "outputs": [],
   "source": [
    "rankings_01['weighted_lcs']"
   ]
  },
  {
   "cell_type": "code",
   "execution_count": null,
   "metadata": {},
   "outputs": [],
   "source": [
    "evals = evaluate(rankings_01['lcs'])"
   ]
  },
  {
   "cell_type": "code",
   "execution_count": null,
   "metadata": {},
   "outputs": [],
   "source": [
    "# export\n",
    "def compute_sims(q_vid, vid_ds, model, codebook, vw, fps, ftk):\n",
    "    df = np.histogram(codebook.labels_, bins = range(vw + 1))[0]\n",
    "    \n",
    "    q_features = extract_features(q_vid, model, fps, frames_to_keep = ftk)\n",
    "    bovw = new_get_bovw(\n",
    "        q_features,\n",
    "        codebook, vw\n",
    "    )\n",
    "    q_tfids = calc_tf_idf(bovw, df)\n",
    "    \n",
    "    vid_ds_features = gen_extracted_features(vid_ds, model, fps, ftk)\n",
    "    vid_ds_tfids = gen_tfidfs(vid_ds_features, vw, codebook, df, ftk)\n",
    "    results = {}\n",
    "    for app in tqdm(vid_ds.labels):\n",
    "        start = time.time()\n",
    "        results[app] = {}\n",
    "        for bug in vid_ds[app]:\n",
    "            results[app][bug] = {}\n",
    "            for report in vid_ds[app][bug]:\n",
    "                results[app][bug][report] = np.dot(q_tfids, vid_ds_tfids[app][bug][report]) / (np.linalg.norm(q_tfids) * np.linalg.norm(vid_ds_tfids[app][bug][report]))\n",
    "    \n",
    "    d_out = {}\n",
    "    flatten_dict(results, d_out, tuple())\n",
    "    sorted_rankings = OrderedDict(\n",
    "        sorted(d_out.items(), key = lambda x: str(x[1]), reverse = True)\n",
    "    )\n",
    "    \n",
    "    return sorted_rankings"
   ]
  },
  {
   "cell_type": "code",
   "execution_count": null,
   "metadata": {},
   "outputs": [],
   "source": [
    "from nbdev.export import notebook2script\n",
    "notebook2script()"
   ]
  },
  {
   "cell_type": "code",
   "execution_count": null,
   "metadata": {},
   "outputs": [],
   "source": []
  }
 ],
 "metadata": {
  "kernelspec": {
   "display_name": "Python 3",
   "language": "python",
   "name": "python3"
  },
  "language_info": {
   "codemirror_mode": {
    "name": "ipython",
    "version": 3
   },
   "file_extension": ".py",
   "mimetype": "text/x-python",
   "name": "python",
   "nbconvert_exporter": "python",
   "pygments_lexer": "ipython3",
   "version": "3.6.9"
  }
 },
 "nbformat": 4,
 "nbformat_minor": 2
}
