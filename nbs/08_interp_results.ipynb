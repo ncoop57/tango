{
 "cells": [
  {
   "cell_type": "code",
   "execution_count": 1,
   "metadata": {},
   "outputs": [],
   "source": [
    "#hide\n",
    "%load_ext autoreload\n",
    "%autoreload 2\n",
    "%matplotlib inline"
   ]
  },
  {
   "cell_type": "markdown",
   "metadata": {},
   "source": [
    "# Results\n",
    "\n",
    "> This module contains all the code for running our experiments for Tango."
   ]
  },
  {
   "cell_type": "code",
   "execution_count": 2,
   "metadata": {},
   "outputs": [],
   "source": [
    "#hide\n",
    "import pickle\n",
    "\n",
    "from pathlib import Path\n",
    "\n",
    "# tango\n",
    "from tango.eval import *\n",
    "\n",
    "from tqdm.auto import tqdm"
   ]
  },
  {
   "cell_type": "code",
   "execution_count": 33,
   "metadata": {},
   "outputs": [],
   "source": [
    "def get_eval_results(evals, app, item):\n",
    "    for bug in evals[app]:\n",
    "        if bug == 'elapsed_time' or bug == 'Bug Hit@1' \\\n",
    "        or bug == 'Bug Hit@5' or bug == 'Bug Hit@10' \\\n",
    "        or bug == 'App std rank' or bug == 'App mean rank' \\\n",
    "        or bug == 'App median rank' or bug == 'App mRR' \\\n",
    "        or bug == 'App mAP' or bug == 'App Hit@1' \\\n",
    "        or bug == 'App Hit@5' or bug == 'App Hit@10': continue\n",
    "        for vid in evals[app][bug]:\n",
    "            try:\n",
    "                print(evals[app][bug][vid][item])\n",
    "            except: continue"
   ]
  },
  {
   "cell_type": "code",
   "execution_count": 13,
   "metadata": {},
   "outputs": [],
   "source": [
    "path = Path(\"/tf/data/results\")"
   ]
  },
  {
   "cell_type": "code",
   "execution_count": 783,
   "metadata": {},
   "outputs": [],
   "source": [
    "ds_name = 'user'\n",
    "id_name = f'{ds_name}_15000n_10000vw_5ftk'\n",
    "model_name = 'M01'\n",
    "fname = path/f'{model_name}/{ds_name}/evaluation_metrics_{id_name}.pkl'\n",
    "eval_m = pickle.load(open(fname, 'rb'))"
   ]
  },
  {
   "cell_type": "code",
   "execution_count": 785,
   "metadata": {
    "scrolled": false
   },
   "outputs": [
    {
     "name": "stdout",
     "output_type": "stream",
     "text": [
      "1\n",
      "2\n",
      "4\n",
      "10\n",
      "9\n",
      "14\n",
      "1\n",
      "4\n",
      "7\n",
      "1\n",
      "4\n",
      "3\n",
      "6\n",
      "6\n",
      "6\n",
      "1\n",
      "3\n",
      "2\n",
      "1\n",
      "1\n",
      "1\n",
      "1\n",
      "1\n",
      "2\n",
      "3\n",
      "1\n",
      "2\n",
      "1\n",
      "1\n",
      "1\n"
     ]
    }
   ],
   "source": [
    "get_eval_results(eval_m['bovw_lcs'], 'GNU', 'rank')"
   ]
  },
  {
   "cell_type": "code",
   "execution_count": 247,
   "metadata": {
    "scrolled": true
   },
   "outputs": [
    {
     "data": {
      "text/plain": [
       "dict_keys(['APOD', 'GROW', 'TIME', 'TOK', 'DROID', 'GNU'])"
      ]
     },
     "execution_count": 247,
     "metadata": {},
     "output_type": "execute_result"
    }
   ],
   "source": [
    "eval_m['bovw'].keys()"
   ]
  },
  {
   "cell_type": "code",
   "execution_count": 786,
   "metadata": {},
   "outputs": [
    {
     "data": {
      "text/plain": [
       "dict_keys(['CC1', 'Bug Hit@1', 'Bug Hit@5', 'Bug Hit@10', 'CC2', 'CC3', 'CC4', 'CC5', 'CC6', 'CC7', 'CC8', 'CC9', 'RC', 'App std rank', 'App mean rank', 'App median rank', 'App mRR', 'App mAP', 'App Hit@1', 'App Hit@5', 'App Hit@10'])"
      ]
     },
     "execution_count": 786,
     "metadata": {},
     "output_type": "execute_result"
    }
   ],
   "source": [
    "eval_m['bovw']['GNU'].keys()"
   ]
  },
  {
   "cell_type": "code",
   "execution_count": 824,
   "metadata": {},
   "outputs": [
    {
     "name": "stdout",
     "output_type": "stream",
     "text": [
      "0.8333333333333334\n",
      "0.8333333333333334\n",
      "0.8666666666666667\n",
      "0.8666666666666667\n",
      "0.9333333333333333\n",
      "0.9333333333333333\n",
      "1.0\n",
      "1.0\n",
      "0.7666666666666667\n",
      "0.8333333333333334\n",
      "0.9333333333333333\n",
      "0.9\n",
      "0.9666666666666667\n",
      "0.9666666666666667\n",
      "1.0\n",
      "1.0\n",
      "0.7666666666666667\n",
      "0.8333333333333334\n",
      "0.8666666666666667\n",
      "0.9\n",
      "0.8666666666666667\n",
      "0.9\n",
      "0.9333333333333333\n",
      "0.9666666666666667\n"
     ]
    }
   ],
   "source": [
    "ds_name = 'user'\n",
    "app_name = 'GNU'\n",
    "for vw in [1_000, 5_000, 10_000]:\n",
    "    for md_name in ['M00', 'M01']:\n",
    "        for ftk in [1, 5]:\n",
    "            id_name = f'{ds_name}_15000n_{vw}vw_{ftk}ftk'\n",
    "#             print(id_name)\n",
    "            fname = path/f'{md_name}/{ds_name}/evaluation_metrics_{id_name}.pkl'\n",
    "            eval_m = pickle.load(open(fname, 'rb'))\n",
    "            print(eval_m['bovw'][app_name]['App Hit@10'])\n",
    "            print(eval_m['bovw_lcs'][app_name]['App Hit@10'])"
   ]
  },
  {
   "cell_type": "code",
   "execution_count": null,
   "metadata": {},
   "outputs": [],
   "source": []
  },
  {
   "cell_type": "code",
   "execution_count": 825,
   "metadata": {},
   "outputs": [
    {
     "name": "stdout",
     "output_type": "stream",
     "text": [
      "279.57757091522217\n",
      "419.7191596031189\n"
     ]
    }
   ],
   "source": [
    "ds_name = 'user'\n",
    "id_name = f'{ds_name}_15000n_1000vw_5ftk'\n",
    "app_name = 'APOD'\n",
    "model_name = 'M01'\n",
    "fname = path/f'{model_name}/{ds_name}/rankings_{id_name}.pkl'\n",
    "rankings = pickle.load(open(fname, 'rb'))\n",
    "print(rankings['bovw'][app_name]['elapsed_time'])\n",
    "print(rankings['bovw_lcs'][app_name]['elapsed_time'])"
   ]
  },
  {
   "cell_type": "code",
   "execution_count": 803,
   "metadata": {},
   "outputs": [
    {
     "name": "stdout",
     "output_type": "stream",
     "text": [
      "138.36045861244202\n",
      "276.28366780281067\n",
      "633.5196807384491\n",
      "3811.7537462711334\n",
      "66.13585305213928\n",
      "74.01681804656982\n",
      "314.3877522945404\n",
      "495.0781440734863\n",
      "133.51320028305054\n",
      "627.7222151756287\n",
      "635.3792560100555\n",
      "12268.689321041107\n",
      "66.08221054077148\n",
      "74.02809858322144\n",
      "317.43042254447937\n",
      "496.28961157798767\n",
      "132.64465618133545\n",
      "1217.8476750850677\n",
      "637.5826160907745\n",
      "28080.37076473236\n",
      "64.81975221633911\n",
      "72.71082520484924\n",
      "315.5424256324768\n",
      "491.63515400886536\n"
     ]
    }
   ],
   "source": [
    "ds_name = 'user'\n",
    "app_name = 'GNU'\n",
    "for vw in [1_000, 5_000, 10_000]:\n",
    "    for md_name in ['M00', 'M01']:\n",
    "        for ftk in [1, 5]:\n",
    "            id_name = f'{ds_name}_15000n_{vw}vw_{ftk}ftk'\n",
    "#             print(id_name)\n",
    "            fname = path/f'{md_name}/{ds_name}/rankings_{id_name}.pkl'\n",
    "            rankings = pickle.load(open(fname, 'rb'))\n",
    "            print(rankings['bovw'][app_name]['elapsed_time'])\n",
    "            print(rankings['bovw_lcs'][app_name]['elapsed_time'])"
   ]
  },
  {
   "cell_type": "code",
   "execution_count": 829,
   "metadata": {},
   "outputs": [
    {
     "data": {
      "text/plain": [
       "0.8694912806258361"
      ]
     },
     "execution_count": 829,
     "metadata": {},
     "output_type": "execute_result"
    }
   ],
   "source": [
    "rankings['bovw']['APOD']['CC1']['U1'][('CC1', 'Carlos')]#.keys()"
   ]
  },
  {
   "cell_type": "code",
   "execution_count": null,
   "metadata": {},
   "outputs": [],
   "source": []
  },
  {
   "cell_type": "code",
   "execution_count": null,
   "metadata": {},
   "outputs": [],
   "source": []
  },
  {
   "cell_type": "code",
   "execution_count": null,
   "metadata": {},
   "outputs": [],
   "source": []
  },
  {
   "cell_type": "code",
   "execution_count": 39,
   "metadata": {
    "scrolled": true
   },
   "outputs": [
    {
     "name": "stdout",
     "output_type": "stream",
     "text": [
      "car_report Elapsed Time in Seconds 128.32347989082336\n",
      "car_report σ Rank 1.469693845669907\n",
      "car_report μ Rank 1.8\n",
      "car_report Median Rank 1.0\n",
      "car_report mRR: 0.7975000000000001\n",
      "car_report mAP: 0.7071234272550061\n",
      "car_report Hit@1: 0.7\n",
      "car_report Hit@5: 0.95\n",
      "car_report Hit@10: 1.0\n",
      "king Elapsed Time in Seconds 189.417409658432\n",
      "king σ Rank 1.8674849396983098\n",
      "king μ Rank 2.25\n",
      "king Median Rank 1.0\n",
      "king mRR: 0.7171428571428571\n",
      "king mAP: 0.6380351310053323\n",
      "king Hit@1: 0.6\n",
      "king Hit@5: 0.9\n",
      "king Hit@10: 1.0\n",
      "tasty Elapsed Time in Seconds 141.91829991340637\n",
      "tasty σ Rank 0.3570714214271425\n",
      "tasty μ Rank 1.15\n",
      "tasty Median Rank 1.0\n",
      "tasty mRR: 0.925\n",
      "tasty mAP: 0.906031746031746\n",
      "tasty Hit@1: 0.85\n",
      "tasty Hit@5: 1.0\n",
      "tasty Hit@10: 1.0\n",
      "car_report Elapsed Time in Seconds 949.5704715251923\n",
      "car_report σ Rank 1.8601075237738274\n",
      "car_report μ Rank 2.2\n",
      "car_report Median Rank 1.0\n",
      "car_report mRR: 0.7054166666666667\n",
      "car_report mAP: 0.6291170330644015\n",
      "car_report Hit@1: 0.55\n",
      "car_report Hit@5: 0.95\n",
      "car_report Hit@10: 1.0\n",
      "king Elapsed Time in Seconds 1649.7825808525085\n",
      "king σ Rank 1.7109938632268673\n",
      "king μ Rank 2.15\n",
      "king Median Rank 1.0\n",
      "king mRR: 0.7213095238095237\n",
      "king mAP: 0.6079001502453515\n",
      "king Hit@1: 0.6\n",
      "king Hit@5: 0.95\n",
      "king Hit@10: 1.0\n",
      "tasty Elapsed Time in Seconds 972.6389503479004\n",
      "tasty σ Rank 0.0\n",
      "tasty μ Rank 1.0\n",
      "tasty Median Rank 1.0\n",
      "tasty mRR: 1.0\n",
      "tasty mAP: 0.9102777777777777\n",
      "tasty Hit@1: 1.0\n",
      "tasty Hit@5: 1.0\n",
      "tasty Hit@10: 1.0\n"
     ]
    }
   ],
   "source": [
    "ds_name = 'val'\n",
    "id_name = f'{ds_name}_15000n_10000vw_1ftk'\n",
    "model_name = 'M00'\n",
    "fname = path/f'{model_name}/{ds_name}/rankings_{id_name}.pkl'\n",
    "rankings = pickle.load(open(fname, 'rb'))\n",
    "eval_metrics = {}\n",
    "eval_metrics['bovw'] = evaluate(rankings['bovw'])\n",
    "eval_metrics['bovw_lcs'] = evaluate(rankings['bovw_lcs'])"
   ]
  },
  {
   "cell_type": "code",
   "execution_count": 40,
   "metadata": {},
   "outputs": [],
   "source": [
    "with open(path/f'{model_name}/{ds_name}/evaluation_metrics_{id_name}.pkl', 'wb') as f:\n",
    "    pickle.dump(eval_metrics, f, protocol=pickle.HIGHEST_PROTOCOL)"
   ]
  },
  {
   "cell_type": "code",
   "execution_count": null,
   "metadata": {},
   "outputs": [],
   "source": []
  }
 ],
 "metadata": {
  "kernelspec": {
   "display_name": "Python 3",
   "language": "python",
   "name": "python3"
  },
  "language_info": {
   "codemirror_mode": {
    "name": "ipython",
    "version": 3
   },
   "file_extension": ".py",
   "mimetype": "text/x-python",
   "name": "python",
   "nbconvert_exporter": "python",
   "pygments_lexer": "ipython3",
   "version": "3.6.9"
  }
 },
 "nbformat": 4,
 "nbformat_minor": 2
}
