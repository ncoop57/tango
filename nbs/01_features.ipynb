{
 "cells": [
  {
   "cell_type": "code",
   "execution_count": null,
   "metadata": {},
   "outputs": [],
   "source": [
    "# default_exp features"
   ]
  },
  {
   "cell_type": "code",
   "execution_count": null,
   "metadata": {},
   "outputs": [],
   "source": [
    "#hide\n",
    "%load_ext autoreload\n",
    "%autoreload 2\n",
    "%matplotlib inline"
   ]
  },
  {
   "cell_type": "markdown",
   "metadata": {},
   "source": [
    "# Features\n",
    "\n",
    "> This module contains all the necessary functions for extracting and organizing features from videos."
   ]
  },
  {
   "cell_type": "code",
   "execution_count": null,
   "metadata": {},
   "outputs": [],
   "source": [
    "#hide\n",
    "import cv2\n",
    "import ffmpeg\n",
    "\n",
    "import numpy as np\n",
    "\n",
    "from abc import ABC, abstractmethod\n",
    "\n",
    "from fastprogress import progress_bar\n",
    "\n",
    "# tango\n",
    "from tango.prep import *\n",
    "\n",
    "from pathlib import Path\n",
    "\n",
    "from matplotlib import pyplot as plt\n",
    "\n",
    "from nbdev.showdoc import *\n",
    "\n",
    "from sklearn.cluster import KMeans\n",
    "from sklearn.metrics.pairwise import cosine_similarity"
   ]
  },
  {
   "cell_type": "code",
   "execution_count": null,
   "metadata": {},
   "outputs": [
    {
     "data": {
      "text/plain": [
       "[PosixPath('/tf/data/datasets/videos/art_and_design/ibis_paint/scenario1/video.mp4'),\n",
       " PosixPath('/tf/data/datasets/videos/art_and_design/ibis_paint/scenario2/video.mp4'),\n",
       " PosixPath('/tf/data/datasets/videos/art_and_design/pixel_art_paint/scenario1/video.mp4'),\n",
       " PosixPath('/tf/data/datasets/videos/art_and_design/pixel_art_paint/scenario2/video.mp4'),\n",
       " PosixPath('/tf/data/datasets/videos/auto_and_vehicles/car_part/scenario1/video.mp4'),\n",
       " PosixPath('/tf/data/datasets/videos/auto_and_vehicles/car_part/scenario2/video.mp4')]"
      ]
     },
     "execution_count": null,
     "metadata": {},
     "output_type": "execute_result"
    }
   ],
   "source": [
    "#hide\n",
    "path = Path(\"/tf/data/datasets/videos\")\n",
    "video_paths = sorted(path.glob(\"**/video.mp4\")); video_paths[:6]"
   ]
  },
  {
   "cell_type": "code",
   "execution_count": null,
   "metadata": {},
   "outputs": [],
   "source": [
    "class Extractor(ABC):\n",
    " \n",
    "    def __init__(self, extractor):\n",
    "        self.extractor = extractor\n",
    "        super().__init__()\n",
    "    \n",
    "    @abstractmethod\n",
    "    def extract(self, img):\n",
    "        pass"
   ]
  },
  {
   "cell_type": "code",
   "execution_count": null,
   "metadata": {},
   "outputs": [],
   "source": [
    "class SIFTExtractor(Extractor):\n",
    "\n",
    "    def extract(self, img):\n",
    "        _, features = self.extractor.detectAndCompute(img, None)\n",
    "        return features\n",
    "    \n",
    "class CNNExtractor(Extractor):\n",
    "   \n",
    "    def extract(self, img):\n",
    "        # TODO: Add code to return extracted features from CNN\n",
    "        pass"
   ]
  },
  {
   "cell_type": "code",
   "execution_count": null,
   "metadata": {},
   "outputs": [],
   "source": [
    "imgs = get_rand_imgs(video_paths[0], 30_000, n = 5)"
   ]
  },
  {
   "cell_type": "code",
   "execution_count": null,
   "metadata": {},
   "outputs": [],
   "source": [
    "extractor = SIFTExtractor(cv2.xfeatures2d.SIFT_create())"
   ]
  },
  {
   "cell_type": "code",
   "execution_count": null,
   "metadata": {},
   "outputs": [
    {
     "data": {
      "text/plain": [
       "(2, 128)"
      ]
     },
     "execution_count": null,
     "metadata": {},
     "output_type": "execute_result"
    }
   ],
   "source": [
    "features = extractor.extract(imgs[1]); features[:2].shape"
   ]
  },
  {
   "cell_type": "code",
   "execution_count": null,
   "metadata": {},
   "outputs": [],
   "source": [
    "#export\n",
    "def gen_vcodebook(imgs, extractor, vwords = 10_000):\n",
    "    \"\"\"\n",
    "        Constructs a visual codebook based on the given images.\n",
    "        You can change vwords to increase the vocabulary of the codebook.\n",
    "    \"\"\"\n",
    "    features_list = []\n",
    "    for img in imgs:\n",
    "        features = extractor.extract(img)\n",
    "        features_list.extend(features)\n",
    "    \n",
    "    codebook = KMeans(n_clusters = vwords)\n",
    "    codebook.fit(features_list)\n",
    "    \n",
    "    return codebook"
   ]
  },
  {
   "cell_type": "code",
   "execution_count": null,
   "metadata": {},
   "outputs": [],
   "source": [
    "vwords = 1_000\n",
    "codebook = gen_vcodebook(imgs, extractor, vwords)"
   ]
  },
  {
   "cell_type": "code",
   "execution_count": null,
   "metadata": {},
   "outputs": [],
   "source": [
    "features = extractor.extract(imgs[0]);"
   ]
  },
  {
   "cell_type": "code",
   "execution_count": null,
   "metadata": {},
   "outputs": [
    {
     "data": {
      "image/png": "[encoded data removed]",
      "text/plain": [
       "<Figure size 432x288 with 1 Axes>"
      ]
     },
     "metadata": {
      "needs_background": "light"
     },
     "output_type": "display_data"
    }
   ],
   "source": [
    "labels = codebook.predict(features)\n",
    "hist = numpy.histogram(labels, bins = vwords)\n",
    "plt.bar(range(vwords), hist[0])\n",
    "plt.show()"
   ]
  },
  {
   "cell_type": "code",
   "execution_count": null,
   "metadata": {},
   "outputs": [],
   "source": [
    "#export\n",
    "def get_df(imgs, extractor, codebook):\n",
    "    \"\"\"Generates the document frequency for the visual words\"\"\"\n",
    "    hist = None\n",
    "    for img in imgs:\n",
    "        features = extractor.extract(img);\n",
    "        vw = codebook.predict(features)\n",
    "        if hist is not None:\n",
    "            hist += np.clip(np.histogram(vw, bins = vwords)[0], 0, 1)\n",
    "        else:\n",
    "            hist = np.clip(np.histogram(vw, bins = vwords)[0], 0, 1)\n",
    "    \n",
    "    return hist"
   ]
  },
  {
   "cell_type": "code",
   "execution_count": null,
   "metadata": {},
   "outputs": [],
   "source": [
    "df = get_df(imgs, extractor, codebook)"
   ]
  },
  {
   "cell_type": "code",
   "execution_count": null,
   "metadata": {},
   "outputs": [
    {
     "data": {
      "text/plain": [
       "array([5, 4, 3, 4, 4, 4, 4, 5, 5, 5, 4, 4, 5, 5, 5, 5, 5, 5, 5, 4, 5, 4,\n",
       "       4, 4, 4, 5, 5, 5, 4, 5, 5, 4, 4, 4, 5, 5, 5, 5, 3, 5, 2, 5, 5, 5,\n",
       "       5, 5, 5, 4, 4, 4, 4, 5, 5, 5, 5, 5, 5, 4, 5, 5, 5, 5, 5, 5, 5, 5,\n",
       "       5, 5, 4, 5, 5, 5, 5, 5, 5, 5, 4, 5, 4, 5, 4, 4, 5, 4, 4, 5, 5, 4,\n",
       "       5, 5, 5, 5, 4, 5, 5, 4, 5, 2, 5, 5, 5, 5, 5, 5, 5, 5, 5, 4, 5, 5,\n",
       "       5, 4, 5, 5, 5, 5, 5, 5, 5, 5, 5, 5, 5, 5, 5, 5, 4, 5, 5, 4, 5, 5,\n",
       "       5, 5, 5, 4, 5, 5, 5, 5, 5, 4, 5, 5, 5, 4, 5, 5, 5, 5, 5, 5, 5, 4,\n",
       "       4, 5, 5, 5, 5, 5, 4, 5, 5, 4, 5, 3, 5, 5, 3, 5, 5, 5, 5, 4, 5, 5,\n",
       "       4, 5, 5, 5, 5, 5, 5, 5, 5, 5, 5, 4, 5, 3, 5, 5, 5, 5, 5, 5, 5, 5,\n",
       "       5, 4, 5, 5, 5, 5, 5, 3, 4, 5, 5, 5, 5, 5, 5, 5, 5, 4, 5, 5, 5, 4,\n",
       "       4, 4, 5, 5, 5, 4, 4, 4, 5, 5, 4, 5, 5, 5, 5, 5, 5, 5, 5, 4, 5, 4,\n",
       "       4, 2, 4, 5, 4, 4, 5, 5, 5, 5, 5, 4, 5, 4, 5, 5, 5, 4, 4, 5, 5, 5,\n",
       "       5, 5, 5, 4, 5, 4, 5, 4, 5, 5, 5, 5, 5, 5, 5, 5, 4, 5, 5, 5, 4, 5,\n",
       "       5, 4, 3, 5, 5, 5, 5, 4, 5, 5, 5, 4, 4, 5, 5, 5, 5, 5, 5, 5, 5, 5,\n",
       "       5, 5, 5, 5, 4, 5, 4, 5, 4, 5, 5, 5, 5, 5, 4, 5, 3, 5, 5, 5, 5, 5,\n",
       "       4, 5, 5, 4, 5, 5, 4, 5, 5, 5, 5, 5, 5, 4, 5, 5, 5, 4, 5, 5, 5, 5,\n",
       "       5, 4, 5, 5, 5, 5, 5, 5, 5, 3, 4, 5, 5, 5, 5, 5, 5, 4, 5, 5, 5, 5,\n",
       "       5, 4, 4, 4, 5, 5, 5, 5, 4, 4, 4, 5, 5, 5, 5, 3, 3, 5, 5, 5, 5, 5,\n",
       "       5, 3, 4, 4, 5, 5, 5, 5, 3, 5, 5, 4, 2, 5, 5, 4, 5, 5, 5, 5, 3, 5,\n",
       "       5, 5, 4, 2, 4, 4, 4, 4, 4, 4, 5, 5, 5, 4, 5, 4, 5, 4, 5, 5, 5, 5,\n",
       "       5, 4, 5, 5, 4, 5, 4, 5, 5, 3, 4, 5, 3, 4, 5, 5, 4, 5, 5, 5, 5, 4,\n",
       "       5, 4, 5, 5, 4, 3, 4, 5, 5, 3, 5, 5, 5, 4, 5, 4, 4, 4, 4, 5, 5, 4,\n",
       "       4, 5, 4, 4, 4, 5, 5, 4, 5, 4, 5, 4, 5, 4, 5, 5, 5, 5, 3, 5, 4, 5,\n",
       "       5, 4, 1, 4, 5, 5, 4, 3, 5, 4, 2, 5, 4, 5, 4, 5, 5, 5, 5, 4, 5, 4,\n",
       "       5, 5, 5, 5, 4, 5, 4, 5, 3, 5, 5, 4, 5, 5, 4, 5, 5, 4, 3, 3, 5, 5,\n",
       "       5, 5, 4, 4, 5, 5, 5, 5, 5, 5, 5, 5, 5, 4, 5, 5, 5, 5, 4, 4, 4, 4,\n",
       "       5, 4, 5, 4, 5, 5, 5, 5, 5, 4, 5, 4, 5, 3, 4, 4, 5, 4, 5, 5, 4, 4,\n",
       "       5, 5, 4, 5, 5, 5, 5, 5, 5, 3, 5, 5, 5, 5, 5, 5, 5, 5, 5, 5, 5, 4,\n",
       "       4, 5, 4, 4, 5, 5, 4, 5, 4, 5, 4, 5, 4, 4, 5, 5, 4, 4, 5, 5, 5, 5,\n",
       "       4, 5, 5, 3, 5, 5, 4, 5, 5, 4, 5, 4, 4, 5, 4, 2, 5, 3, 5, 4, 5, 5,\n",
       "       5, 4, 5, 5, 4, 5, 4, 4, 4, 5, 5, 5, 4, 5, 5, 4, 4, 5, 4, 4, 5, 5,\n",
       "       5, 4, 4, 5, 3, 5, 4, 5, 5, 4, 5, 5, 5, 4, 5, 4, 4, 4, 5, 4, 5, 2,\n",
       "       5, 4, 4, 4, 4, 5, 5, 5, 4, 5, 4, 5, 5, 5, 4, 4, 5, 4, 4, 5, 5, 4,\n",
       "       4, 5, 5, 5, 5, 4, 4, 4, 5, 4, 4, 5, 5, 5, 5, 5, 5, 4, 5, 3, 1, 5,\n",
       "       5, 3, 4, 4, 4, 5, 2, 4, 5, 4, 5, 4, 5, 4, 5, 4, 3, 5, 2, 5, 5, 5,\n",
       "       5, 4, 4, 4, 5, 3, 5, 4, 4, 5, 5, 4, 4, 4, 4, 5, 5, 4, 4, 4, 5, 4,\n",
       "       5, 5, 5, 4, 5, 4, 4, 4, 5, 5, 1, 3, 3, 5, 4, 5, 4, 4, 5, 5, 5, 4,\n",
       "       4, 5, 5, 4, 5, 4, 5, 5, 3, 1, 4, 5, 5, 4, 4, 5, 4, 4, 5, 3, 4, 5,\n",
       "       5, 5, 4, 4, 4, 3, 5, 5, 4, 5, 5, 5, 5, 5, 5, 5, 5, 1, 5, 5, 4, 5,\n",
       "       5, 5, 5, 5, 5, 3, 5, 5, 2, 5, 3, 4, 5, 5, 4, 4, 4, 2, 5, 5, 5, 5,\n",
       "       5, 5, 5, 4, 5, 5, 4, 5, 5, 3, 4, 5, 3, 2, 4, 5, 4, 4, 5, 5, 4, 4,\n",
       "       5, 4, 4, 3, 4, 3, 3, 3, 3, 5, 4, 5, 2, 5, 4, 5, 5, 5, 3, 3, 3, 5,\n",
       "       4, 4, 5, 5, 4, 5, 4, 4, 5, 5, 5, 5, 5, 5, 5, 5, 5, 4, 4, 5, 4, 3,\n",
       "       4, 5, 5, 5, 3, 5, 5, 3, 3, 4, 5, 4, 4, 5, 3, 4, 5, 4, 5, 5, 4, 5,\n",
       "       5, 3, 5, 5, 3, 3, 5, 5, 3, 4, 4, 1, 4, 4, 5, 5, 3, 5, 5, 5, 5, 3,\n",
       "       5, 5, 4, 5, 5, 4, 5, 3, 5, 5])"
      ]
     },
     "execution_count": null,
     "metadata": {},
     "output_type": "execute_result"
    }
   ],
   "source": [
    "df"
   ]
  },
  {
   "cell_type": "code",
   "execution_count": null,
   "metadata": {},
   "outputs": [
    {
     "data": {
      "image/png": "[encoded data removed]",
      "text/plain": [
       "<Figure size 432x288 with 1 Axes>"
      ]
     },
     "metadata": {
      "needs_background": "light"
     },
     "output_type": "display_data"
    }
   ],
   "source": [
    "plt.bar(range(vwords), df)\n",
    "plt.show()"
   ]
  },
  {
   "cell_type": "code",
   "execution_count": null,
   "metadata": {},
   "outputs": [],
   "source": [
    "#export\n",
    "def get_bovw(vid_path, extractor, codebook):\n",
    "    \"\"\"Generates the bag of visual words (bovw) for an entire video.\"\"\"\n",
    "    vid = cv2.VideoCapture(str(vid_path))\n",
    "    \n",
    "    # checks whether frames were extracted \n",
    "    success = 1\n",
    "    bovw = numpy.array([])\n",
    "    for i in progress_bar(range(100)):\n",
    "        # vid object calls read \n",
    "        # function extract frames \n",
    "        success, img = vid.read() \n",
    "        if success:\n",
    "            features = extractor.extract(img)\n",
    "            vw = codebook.predict(features)\n",
    "            bovw = numpy.concatenate((bovw, vw))\n",
    "    \n",
    "    hist = numpy.histogram(bovw, bins = vwords)[0]\n",
    "    return hist, bovw"
   ]
  },
  {
   "cell_type": "code",
   "execution_count": null,
   "metadata": {},
   "outputs": [
    {
     "data": {
      "text/html": [
       "\n",
       "    <div>\n",
       "        <style>\n",
       "            /* Turns off some styling */\n",
       "            progress {\n",
       "                /* gets rid of default border in Firefox and Opera. */\n",
       "                border: none;\n",
       "                /* Needs to be in here for Safari polyfill so background images work as expected. */\n",
       "                background-size: auto;\n",
       "            }\n",
       "            .progress-bar-interrupted, .progress-bar-interrupted::-webkit-progress-bar {\n",
       "                background: #F44336;\n",
       "            }\n",
       "        </style>\n",
       "      <progress value='100' class='' max='100', style='width:300px; height:20px; vertical-align: middle;'></progress>\n",
       "      100.00% [100/100 01:19<00:00]\n",
       "    </div>\n",
       "    "
      ],
      "text/plain": [
       "<IPython.core.display.HTML object>"
      ]
     },
     "metadata": {},
     "output_type": "display_data"
    }
   ],
   "source": [
    "hist, bovw = get_bovw(video_paths[3], extractor, codebook)"
   ]
  },
  {
   "cell_type": "code",
   "execution_count": null,
   "metadata": {},
   "outputs": [
    {
     "data": {
      "image/png": "[encoded data removed]",
      "text/plain": [
       "<Figure size 432x288 with 1 Axes>"
      ]
     },
     "metadata": {
      "needs_background": "light"
     },
     "output_type": "display_data"
    }
   ],
   "source": [
    "plt.bar(range(vwords), hist)\n",
    "plt.show()"
   ]
  },
  {
   "cell_type": "code",
   "execution_count": null,
   "metadata": {},
   "outputs": [
    {
     "data": {
      "image/png": "[encoded data removed]",
      "text/plain": [
       "<Figure size 432x288 with 1 Axes>"
      ]
     },
     "metadata": {
      "needs_background": "light"
     },
     "output_type": "display_data"
    }
   ],
   "source": [
    "plt.bar(range(vwords), hist)\n",
    "plt.show()"
   ]
  },
  {
   "cell_type": "code",
   "execution_count": null,
   "metadata": {},
   "outputs": [
    {
     "data": {
      "image/png": "[encoded data removed]",
      "text/plain": [
       "<Figure size 432x288 with 1 Axes>"
      ]
     },
     "metadata": {
      "needs_background": "light"
     },
     "output_type": "display_data"
    }
   ],
   "source": [
    "plt.bar(range(vwords), hist)\n",
    "plt.show()"
   ]
  },
  {
   "cell_type": "code",
   "execution_count": null,
   "metadata": {},
   "outputs": [
    {
     "data": {
      "image/png": "[encoded data removed]",
      "text/plain": [
       "<Figure size 432x288 with 1 Axes>"
      ]
     },
     "metadata": {
      "needs_background": "light"
     },
     "output_type": "display_data"
    }
   ],
   "source": [
    "plt.bar(range(vwords), hist)\n",
    "plt.show()"
   ]
  },
  {
   "cell_type": "code",
   "execution_count": null,
   "metadata": {},
   "outputs": [],
   "source": [
    "#export\n",
    "def calc_tf_idf(tfs, dfs):\n",
    "    tf_idf = numpy.array([])\n",
    "    for tf, df in zip(tfs, dfs):\n",
    "        tf = tf / numpy.sum(tfs)\n",
    "        idf = numpy.log(len(tfs) / (df + 1))\n",
    "        tf_idf = numpy.append(tf_idf, tf * idf)\n",
    "    \n",
    "    return tf_idf"
   ]
  },
  {
   "cell_type": "code",
   "execution_count": null,
   "metadata": {},
   "outputs": [],
   "source": [
    "tf_idf4 = calc_tf_idf(hist, df)"
   ]
  },
  {
   "cell_type": "code",
   "execution_count": null,
   "metadata": {},
   "outputs": [
    {
     "data": {
      "text/plain": [
       "0.9049203455361574"
      ]
     },
     "execution_count": null,
     "metadata": {},
     "output_type": "execute_result"
    }
   ],
   "source": [
    "np.dot(tf_idf3, tf_idf4) / (np.linalg.norm(tf_idf3) * np.linalg.norm(tf_idf4))"
   ]
  },
  {
   "cell_type": "code",
   "execution_count": null,
   "metadata": {},
   "outputs": [
    {
     "data": {
      "text/plain": [
       "0.9049203455361574"
      ]
     },
     "execution_count": null,
     "metadata": {},
     "output_type": "execute_result"
    }
   ],
   "source": [
    "np.dot(tf_idf4, tf_idf3) / (np.linalg.norm(tf_idf4) * np.linalg.norm(tf_idf3))"
   ]
  },
  {
   "cell_type": "code",
   "execution_count": null,
   "metadata": {},
   "outputs": [
    {
     "data": {
      "text/plain": [
       "0.5365116934450727"
      ]
     },
     "execution_count": null,
     "metadata": {},
     "output_type": "execute_result"
    }
   ],
   "source": [
    "np.dot(tf_idf2, tf_idf3) / (np.linalg.norm(tf_idf2) * np.linalg.norm(tf_idf3))"
   ]
  },
  {
   "cell_type": "code",
   "execution_count": null,
   "metadata": {},
   "outputs": [
    {
     "data": {
      "text/plain": [
       "0.6075318986344004"
      ]
     },
     "execution_count": null,
     "metadata": {},
     "output_type": "execute_result"
    }
   ],
   "source": [
    "np.dot(tf_idf, tf_idf3) / (np.linalg.norm(tf_idf) * np.linalg.norm(tf_idf3))"
   ]
  },
  {
   "cell_type": "code",
   "execution_count": null,
   "metadata": {},
   "outputs": [
    {
     "data": {
      "text/plain": [
       "0.9379406872000852"
      ]
     },
     "execution_count": null,
     "metadata": {},
     "output_type": "execute_result"
    }
   ],
   "source": [
    "np.dot(tf_idf, tf_idf2) / (np.linalg.norm(tf_idf) * np.linalg.norm(tf_idf2))"
   ]
  },
  {
   "cell_type": "code",
   "execution_count": null,
   "metadata": {},
   "outputs": [
    {
     "name": "stdout",
     "output_type": "stream",
     "text": [
      "Converted 00_prep.ipynb.\n",
      "Converted 01_features.ipynb.\n",
      "Converted 02_eval.ipynb.\n",
      "Converted index.ipynb.\n",
      "Converted lesson1-pets.ipynb.\n"
     ]
    }
   ],
   "source": [
    "from nbdev.export import notebook2script\n",
    "notebook2script()"
   ]
  },
  {
   "cell_type": "code",
   "execution_count": null,
   "metadata": {},
   "outputs": [],
   "source": []
  }
 ],
 "metadata": {
  "kernelspec": {
   "display_name": "Python 3",
   "language": "python",
   "name": "python3"
  }
 },
 "nbformat": 4,
 "nbformat_minor": 2
}
