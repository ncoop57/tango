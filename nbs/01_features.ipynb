{
 "cells": [
  {
   "cell_type": "code",
   "execution_count": null,
   "metadata": {},
   "outputs": [],
   "source": [
    "# default_exp features"
   ]
  },
  {
   "cell_type": "code",
   "execution_count": 1,
   "metadata": {},
   "outputs": [],
   "source": [
    "#hide\n",
    "%load_ext autoreload\n",
    "%autoreload 2\n",
    "%matplotlib inline"
   ]
  },
  {
   "cell_type": "code",
   "execution_count": 3,
   "metadata": {},
   "outputs": [
    {
     "name": "stdout",
     "output_type": "stream",
     "text": [
      "Requirement already satisfied: opencv-python in /usr/local/lib/python3.6/dist-packages (4.2.0.34)\n",
      "Requirement already satisfied: ffmpeg in /usr/local/lib/python3.6/dist-packages (1.4)\n",
      "Collecting pytesseract\n",
      "  Downloading pytesseract-0.3.4.tar.gz (13 kB)\n",
      "Requirement already satisfied: numpy>=1.11.3 in /usr/local/lib/python3.6/dist-packages (from opencv-python) (1.18.5)\n",
      "Requirement already satisfied: Pillow in /usr/local/lib/python3.6/dist-packages (from pytesseract) (7.2.0)\n",
      "Building wheels for collected packages: pytesseract\n",
      "  Building wheel for pytesseract (setup.py) ... \u001b[?25ldone\n",
      "\u001b[?25h  Created wheel for pytesseract: filename=pytesseract-0.3.4-py2.py3-none-any.whl size=13811 sha256=a24c68ec6ec933495efe66c45dada7161cc09e9dfa80da5aa87512f171ab082d\n",
      "  Stored in directory: /root/.cache/pip/wheels/df/da/38/ab64f024f69d2c013ae96b75003fd874460698362ccdc054e1\n",
      "Successfully built pytesseract\n",
      "Installing collected packages: pytesseract\n",
      "Successfully installed pytesseract-0.3.4\n"
     ]
    }
   ],
   "source": [
    "! pip install opencv-python ffmpeg pytesseract"
   ]
  },
  {
   "cell_type": "code",
   "execution_count": 8,
   "metadata": {},
   "outputs": [
    {
     "name": "stdout",
     "output_type": "stream",
     "text": [
      "Reading package lists... Done\n",
      "Building dependency tree       \n",
      "Reading state information... Done\n",
      "git is already the newest version (1:2.17.1-1ubuntu0.7).\n",
      "The following additional packages will be installed:\n",
      "  fontconfig fontconfig-config fonts-dejavu-core libbsd0 libcairo2 libdatrie1\n",
      "  libfontconfig1 libgif7 libgpm2 libgraphite2-3 libharfbuzz0b libice6 libicu60\n",
      "  libjbig0 liblept5 libleptonica-dev libopenjp2-7 libpango-1.0-0\n",
      "  libpangocairo-1.0-0 libpangoft2-1.0-0 libpixman-1-0 libpthread-stubs0-dev\n",
      "  libtesseract4 libthai-data libthai0 libtiff5 libwebp6 libx11-6 libx11-data\n",
      "  libx11-dev libx11-doc libx264-152 libxau-dev libxau6 libxcb-render0\n",
      "  libxcb-shm0 libxcb1 libxcb1-dev libxdmcp-dev libxdmcp6 libxrender1\n",
      "  tesseract-ocr-eng tesseract-ocr-osd ucf vim-common vim-runtime x11-common\n",
      "  x11proto-core-dev x11proto-dev xorg-sgml-doctools xtrans-dev xxd\n",
      "Suggested packages:\n",
      "  gpm libxcb-doc ctags vim-doc vim-scripts\n",
      "The following NEW packages will be installed:\n",
      "  fontconfig fontconfig-config fonts-dejavu-core libbsd0 libcairo2 libdatrie1\n",
      "  libfontconfig1 libgif7 libgpm2 libgraphite2-3 libharfbuzz0b libice6 libicu60\n",
      "  libjbig0 liblept5 libleptonica-dev libopenjp2-7 libpango-1.0-0\n",
      "  libpangocairo-1.0-0 libpangoft2-1.0-0 libpixman-1-0 libpthread-stubs0-dev\n",
      "  libsm6 libtesseract-dev libtesseract4 libthai-data libthai0 libtiff5\n",
      "  libwebp6 libx11-6 libx11-data libx11-dev libx11-doc libx264-152 libx264-dev\n",
      "  libxau-dev libxau6 libxcb-render0 libxcb-shm0 libxcb1 libxcb1-dev\n",
      "  libxdmcp-dev libxdmcp6 libxext6 libxrender-dev libxrender1 tesseract-ocr\n",
      "  tesseract-ocr-eng tesseract-ocr-osd ucf vim vim-common vim-runtime wget\n",
      "  x11-common x11proto-core-dev x11proto-dev xorg-sgml-doctools xtrans-dev xxd\n",
      "0 upgraded, 60 newly installed, 0 to remove and 33 not upgraded.\n",
      "Need to get 33.4 MB of archives.\n",
      "After this operation, 135 MB of additional disk space will be used.\n",
      "Get:1 http://archive.ubuntu.com/ubuntu bionic/main amd64 libxau6 amd64 1:1.0.8-1 [8376 B]\n",
      "Get:2 http://archive.ubuntu.com/ubuntu bionic-updates/main amd64 libbsd0 amd64 0.8.7-1ubuntu0.1 [41.6 kB]\n",
      "Get:3 http://archive.ubuntu.com/ubuntu bionic/main amd64 libxdmcp6 amd64 1:1.1.2-3 [10.7 kB]\n",
      "Get:4 http://archive.ubuntu.com/ubuntu bionic-updates/main amd64 libxcb1 amd64 1.13-2~ubuntu18.04 [45.5 kB]\n",
      "Get:5 http://archive.ubuntu.com/ubuntu bionic-updates/main amd64 libx11-data all 2:1.6.4-3ubuntu0.2 [113 kB]\n",
      "Get:6 http://archive.ubuntu.com/ubuntu bionic-updates/main amd64 libx11-6 amd64 2:1.6.4-3ubuntu0.2 [569 kB]\n",
      "Get:7 http://archive.ubuntu.com/ubuntu bionic/main amd64 libxext6 amd64 2:1.3.3-1 [29.4 kB]\n",
      "Get:8 http://archive.ubuntu.com/ubuntu bionic/main amd64 ucf all 3.0038 [50.5 kB]\n",
      "Get:9 http://archive.ubuntu.com/ubuntu bionic/main amd64 fonts-dejavu-core all 2.37-1 [1041 kB]\n",
      "Get:10 http://archive.ubuntu.com/ubuntu bionic/main amd64 fontconfig-config all 2.12.6-0ubuntu2 [55.8 kB]\n",
      "Get:11 http://archive.ubuntu.com/ubuntu bionic/main amd64 libfontconfig1 amd64 2.12.6-0ubuntu2 [137 kB]\n",
      "Get:12 http://archive.ubuntu.com/ubuntu bionic/main amd64 fontconfig amd64 2.12.6-0ubuntu2 [169 kB]\n",
      "Get:13 http://archive.ubuntu.com/ubuntu bionic-updates/main amd64 x11-common all 1:7.7+19ubuntu7.1 [22.5 kB]\n",
      "Get:14 http://archive.ubuntu.com/ubuntu bionic/main amd64 libice6 amd64 2:1.0.9-2 [40.2 kB]\n",
      "Get:15 http://archive.ubuntu.com/ubuntu bionic/main amd64 libsm6 amd64 2:1.2.2-1 [15.8 kB]\n",
      "Get:16 http://archive.ubuntu.com/ubuntu bionic-updates/main amd64 libicu60 amd64 60.2-3ubuntu3.1 [8054 kB]\n",
      "Get:17 http://archive.ubuntu.com/ubuntu bionic-updates/main amd64 xxd amd64 2:8.0.1453-1ubuntu1.3 [49.4 kB]\n",
      "Get:18 http://archive.ubuntu.com/ubuntu bionic-updates/main amd64 vim-common all 2:8.0.1453-1ubuntu1.3 [70.6 kB]\n",
      "Get:19 http://archive.ubuntu.com/ubuntu bionic-updates/main amd64 wget amd64 1.19.4-1ubuntu2.2 [316 kB]\n",
      "Get:20 http://archive.ubuntu.com/ubuntu bionic/main amd64 libpixman-1-0 amd64 0.34.0-2 [229 kB]\n",
      "Get:21 http://archive.ubuntu.com/ubuntu bionic-updates/main amd64 libxcb-render0 amd64 1.13-2~ubuntu18.04 [14.7 kB]\n",
      "Get:22 http://archive.ubuntu.com/ubuntu bionic-updates/main amd64 libxcb-shm0 amd64 1.13-2~ubuntu18.04 [5600 B]\n",
      "Get:23 http://archive.ubuntu.com/ubuntu bionic/main amd64 libxrender1 amd64 1:0.9.10-1 [18.7 kB]\n",
      "Get:24 http://archive.ubuntu.com/ubuntu bionic-updates/main amd64 libcairo2 amd64 1.15.10-2ubuntu0.1 [580 kB]\n",
      "Get:25 http://archive.ubuntu.com/ubuntu bionic/main amd64 libdatrie1 amd64 0.2.10-7 [17.8 kB]\n",
      "Get:26 http://archive.ubuntu.com/ubuntu bionic-updates/main amd64 libgif7 amd64 5.1.4-2ubuntu0.1 [30.9 kB]\n",
      "Get:27 http://archive.ubuntu.com/ubuntu bionic/main amd64 libgpm2 amd64 1.20.7-5 [15.1 kB]\n",
      "Get:28 http://archive.ubuntu.com/ubuntu bionic/main amd64 libgraphite2-3 amd64 1.3.11-2 [78.7 kB]\n",
      "Get:29 http://archive.ubuntu.com/ubuntu bionic/main amd64 libharfbuzz0b amd64 1.7.2-1ubuntu1 [232 kB]\n",
      "Get:30 http://archive.ubuntu.com/ubuntu bionic-updates/universe amd64 libopenjp2-7 amd64 2.3.0-2build0.18.04.1 [145 kB]\n",
      "Get:31 http://archive.ubuntu.com/ubuntu bionic/main amd64 libjbig0 amd64 2.1-3.1build1 [26.7 kB]\n",
      "Get:32 http://archive.ubuntu.com/ubuntu bionic-updates/main amd64 libtiff5 amd64 4.0.9-5ubuntu0.3 [153 kB]\n",
      "Get:33 http://archive.ubuntu.com/ubuntu bionic/main amd64 libwebp6 amd64 0.6.1-2 [185 kB]\n",
      "Get:34 http://archive.ubuntu.com/ubuntu bionic/universe amd64 liblept5 amd64 1.75.3-3 [929 kB]\n",
      "Get:35 http://archive.ubuntu.com/ubuntu bionic/universe amd64 libleptonica-dev amd64 1.75.3-3 [1308 kB]\n",
      "Get:36 http://archive.ubuntu.com/ubuntu bionic/main amd64 libthai-data all 0.1.27-2 [133 kB]\n",
      "Get:37 http://archive.ubuntu.com/ubuntu bionic/main amd64 libthai0 amd64 0.1.27-2 [18.0 kB]\n",
      "Get:38 http://archive.ubuntu.com/ubuntu bionic-updates/main amd64 libpango-1.0-0 amd64 1.40.14-1ubuntu0.1 [153 kB]\n",
      "Get:39 http://archive.ubuntu.com/ubuntu bionic-updates/main amd64 libpangoft2-1.0-0 amd64 1.40.14-1ubuntu0.1 [33.2 kB]\n",
      "Get:40 http://archive.ubuntu.com/ubuntu bionic-updates/main amd64 libpangocairo-1.0-0 amd64 1.40.14-1ubuntu0.1 [20.8 kB]\n",
      "Get:41 http://archive.ubuntu.com/ubuntu bionic/main amd64 libpthread-stubs0-dev amd64 0.3-4 [4068 B]\n",
      "Get:42 http://archive.ubuntu.com/ubuntu bionic/universe amd64 libtesseract4 amd64 4.00~git2288-10f4998a-2 [1163 kB]\n",
      "Get:43 http://archive.ubuntu.com/ubuntu bionic/universe amd64 libtesseract-dev amd64 4.00~git2288-10f4998a-2 [1447 kB]\n",
      "Get:44 http://archive.ubuntu.com/ubuntu bionic/main amd64 xorg-sgml-doctools all 1:1.11-1 [12.9 kB]\n",
      "Get:45 http://archive.ubuntu.com/ubuntu bionic/main amd64 x11proto-dev all 2018.4-4 [251 kB]\n",
      "Get:46 http://archive.ubuntu.com/ubuntu bionic/main amd64 x11proto-core-dev all 2018.4-4 [2620 B]\n",
      "Get:47 http://archive.ubuntu.com/ubuntu bionic/main amd64 libxau-dev amd64 1:1.0.8-1 [11.1 kB]\n",
      "Get:48 http://archive.ubuntu.com/ubuntu bionic/main amd64 libxdmcp-dev amd64 1:1.1.2-3 [25.1 kB]\n",
      "Get:49 http://archive.ubuntu.com/ubuntu bionic/main amd64 xtrans-dev all 1.3.5-1 [70.5 kB]\n",
      "Get:50 http://archive.ubuntu.com/ubuntu bionic-updates/main amd64 libxcb1-dev amd64 1.13-2~ubuntu18.04 [80.0 kB]\n",
      "Get:51 http://archive.ubuntu.com/ubuntu bionic-updates/main amd64 libx11-dev amd64 2:1.6.4-3ubuntu0.2 [640 kB]\n",
      "Get:52 http://archive.ubuntu.com/ubuntu bionic-updates/main amd64 libx11-doc all 2:1.6.4-3ubuntu0.2 [2065 kB]\n",
      "Get:53 http://archive.ubuntu.com/ubuntu bionic/universe amd64 libx264-152 amd64 2:0.152.2854+gite9a5903-2 [609 kB]\n",
      "Get:54 http://archive.ubuntu.com/ubuntu bionic/universe amd64 libx264-dev amd64 2:0.152.2854+gite9a5903-2 [461 kB]\n",
      "Get:55 http://archive.ubuntu.com/ubuntu bionic/main amd64 libxrender-dev amd64 1:0.9.10-1 [24.9 kB]\n",
      "Get:56 http://archive.ubuntu.com/ubuntu bionic/universe amd64 tesseract-ocr-eng all 4.00~git24-0e00fe6-1.2 [1588 kB]\n",
      "Get:57 http://archive.ubuntu.com/ubuntu bionic/universe amd64 tesseract-ocr-osd all 4.00~git24-0e00fe6-1.2 [2989 kB]\n",
      "Get:58 http://archive.ubuntu.com/ubuntu bionic/universe amd64 tesseract-ocr amd64 4.00~git2288-10f4998a-2 [218 kB]\n",
      "Get:59 http://archive.ubuntu.com/ubuntu bionic-updates/main amd64 vim-runtime all 2:8.0.1453-1ubuntu1.3 [5436 kB]\n",
      "Get:60 http://archive.ubuntu.com/ubuntu bionic-updates/main amd64 vim amd64 2:8.0.1453-1ubuntu1.3 [1153 kB]\n",
      "Fetched 33.4 MB in 2s (15.5 MB/s)\n",
      "debconf: delaying package configuration, since apt-utils is not installed\n"
     ]
    },
    {
     "name": "stdout",
     "output_type": "stream",
     "text": [
      "Selecting previously unselected package libxau6:amd64.\n",
      "(Reading database ... 17013 files and directories currently installed.)\n",
      "Preparing to unpack .../00-libxau6_1%3a1.0.8-1_amd64.deb ...\n",
      "Unpacking libxau6:amd64 (1:1.0.8-1) ...\n",
      "Selecting previously unselected package libbsd0:amd64.\n",
      "Preparing to unpack .../01-libbsd0_0.8.7-1ubuntu0.1_amd64.deb ...\n",
      "Unpacking libbsd0:amd64 (0.8.7-1ubuntu0.1) ...\n",
      "Selecting previously unselected package libxdmcp6:amd64.\n",
      "Preparing to unpack .../02-libxdmcp6_1%3a1.1.2-3_amd64.deb ...\n",
      "Unpacking libxdmcp6:amd64 (1:1.1.2-3) ...\n",
      "Selecting previously unselected package libxcb1:amd64.\n",
      "Preparing to unpack .../03-libxcb1_1.13-2~ubuntu18.04_amd64.deb ...\n",
      "Unpacking libxcb1:amd64 (1.13-2~ubuntu18.04) ...\n",
      "Selecting previously unselected package libx11-data.\n",
      "Preparing to unpack .../04-libx11-data_2%3a1.6.4-3ubuntu0.2_all.deb ...\n",
      "Unpacking libx11-data (2:1.6.4-3ubuntu0.2) ...\n",
      "Selecting previously unselected package libx11-6:amd64.\n",
      "Preparing to unpack .../05-libx11-6_2%3a1.6.4-3ubuntu0.2_amd64.deb ...\n",
      "Unpacking libx11-6:amd64 (2:1.6.4-3ubuntu0.2) ...\n",
      "Selecting previously unselected package libxext6:amd64.\n",
      "Preparing to unpack .../06-libxext6_2%3a1.3.3-1_amd64.deb ...\n",
      "Unpacking libxext6:amd64 (2:1.3.3-1) ...\n",
      "Selecting previously unselected package ucf.\n",
      "Preparing to unpack .../07-ucf_3.0038_all.deb ...\n",
      "Moving old data out of the way\n",
      "Unpacking ucf (3.0038) ...\n",
      "Selecting previously unselected package fonts-dejavu-core.\n",
      "Preparing to unpack .../08-fonts-dejavu-core_2.37-1_all.deb ...\n",
      "Unpacking fonts-dejavu-core (2.37-1) ...\n",
      "Selecting previously unselected package fontconfig-config.\n",
      "Preparing to unpack .../09-fontconfig-config_2.12.6-0ubuntu2_all.deb ...\n",
      "Unpacking fontconfig-config (2.12.6-0ubuntu2) ...\n",
      "Selecting previously unselected package libfontconfig1:amd64.\n",
      "Preparing to unpack .../10-libfontconfig1_2.12.6-0ubuntu2_amd64.deb ...\n",
      "Unpacking libfontconfig1:amd64 (2.12.6-0ubuntu2) ...\n",
      "Selecting previously unselected package fontconfig.\n",
      "Preparing to unpack .../11-fontconfig_2.12.6-0ubuntu2_amd64.deb ...\n",
      "Unpacking fontconfig (2.12.6-0ubuntu2) ...\n",
      "Selecting previously unselected package x11-common.\n",
      "Preparing to unpack .../12-x11-common_1%3a7.7+19ubuntu7.1_all.deb ...\n",
      "dpkg-query: no packages found matching nux-tools\n",
      "Unpacking x11-common (1:7.7+19ubuntu7.1) ...\n",
      "Selecting previously unselected package libice6:amd64.\n",
      "Preparing to unpack .../13-libice6_2%3a1.0.9-2_amd64.deb ...\n",
      "Unpacking libice6:amd64 (2:1.0.9-2) ...\n",
      "Selecting previously unselected package libsm6:amd64.\n",
      "Preparing to unpack .../14-libsm6_2%3a1.2.2-1_amd64.deb ...\n",
      "Unpacking libsm6:amd64 (2:1.2.2-1) ...\n",
      "Selecting previously unselected package libicu60:amd64.\n",
      "Preparing to unpack .../15-libicu60_60.2-3ubuntu3.1_amd64.deb ...\n",
      "Unpacking libicu60:amd64 (60.2-3ubuntu3.1) ...\n",
      "Selecting previously unselected package xxd.\n",
      "Preparing to unpack .../16-xxd_2%3a8.0.1453-1ubuntu1.3_amd64.deb ...\n",
      "Unpacking xxd (2:8.0.1453-1ubuntu1.3) ...\n",
      "Selecting previously unselected package vim-common.\n",
      "Preparing to unpack .../17-vim-common_2%3a8.0.1453-1ubuntu1.3_all.deb ...\n",
      "Unpacking vim-common (2:8.0.1453-1ubuntu1.3) ...\n",
      "Selecting previously unselected package wget.\n",
      "Preparing to unpack .../18-wget_1.19.4-1ubuntu2.2_amd64.deb ...\n",
      "Unpacking wget (1.19.4-1ubuntu2.2) ...\n",
      "Selecting previously unselected package libpixman-1-0:amd64.\n",
      "Preparing to unpack .../19-libpixman-1-0_0.34.0-2_amd64.deb ...\n",
      "Unpacking libpixman-1-0:amd64 (0.34.0-2) ...\n",
      "Selecting previously unselected package libxcb-render0:amd64.\n",
      "Preparing to unpack .../20-libxcb-render0_1.13-2~ubuntu18.04_amd64.deb ...\n",
      "Unpacking libxcb-render0:amd64 (1.13-2~ubuntu18.04) ...\n",
      "Selecting previously unselected package libxcb-shm0:amd64.\n",
      "Preparing to unpack .../21-libxcb-shm0_1.13-2~ubuntu18.04_amd64.deb ...\n",
      "Unpacking libxcb-shm0:amd64 (1.13-2~ubuntu18.04) ...\n",
      "Selecting previously unselected package libxrender1:amd64.\n",
      "Preparing to unpack .../22-libxrender1_1%3a0.9.10-1_amd64.deb ...\n",
      "Unpacking libxrender1:amd64 (1:0.9.10-1) ...\n",
      "Selecting previously unselected package libcairo2:amd64.\n",
      "Preparing to unpack .../23-libcairo2_1.15.10-2ubuntu0.1_amd64.deb ...\n",
      "Unpacking libcairo2:amd64 (1.15.10-2ubuntu0.1) ...\n",
      "Selecting previously unselected package libdatrie1:amd64.\n",
      "Preparing to unpack .../24-libdatrie1_0.2.10-7_amd64.deb ...\n",
      "Unpacking libdatrie1:amd64 (0.2.10-7) ...\n",
      "Selecting previously unselected package libgif7:amd64.\n",
      "Preparing to unpack .../25-libgif7_5.1.4-2ubuntu0.1_amd64.deb ...\n",
      "Unpacking libgif7:amd64 (5.1.4-2ubuntu0.1) ...\n",
      "Selecting previously unselected package libgpm2:amd64.\n",
      "Preparing to unpack .../26-libgpm2_1.20.7-5_amd64.deb ...\n",
      "Unpacking libgpm2:amd64 (1.20.7-5) ...\n",
      "Selecting previously unselected package libgraphite2-3:amd64.\n",
      "Preparing to unpack .../27-libgraphite2-3_1.3.11-2_amd64.deb ...\n",
      "Unpacking libgraphite2-3:amd64 (1.3.11-2) ...\n",
      "Selecting previously unselected package libharfbuzz0b:amd64.\n",
      "Preparing to unpack .../28-libharfbuzz0b_1.7.2-1ubuntu1_amd64.deb ...\n",
      "Unpacking libharfbuzz0b:amd64 (1.7.2-1ubuntu1) ...\n",
      "Selecting previously unselected package libopenjp2-7:amd64.\n",
      "Preparing to unpack .../29-libopenjp2-7_2.3.0-2build0.18.04.1_amd64.deb ...\n",
      "Unpacking libopenjp2-7:amd64 (2.3.0-2build0.18.04.1) ...\n",
      "Selecting previously unselected package libjbig0:amd64.\n",
      "Preparing to unpack .../30-libjbig0_2.1-3.1build1_amd64.deb ...\n",
      "Unpacking libjbig0:amd64 (2.1-3.1build1) ...\n",
      "Selecting previously unselected package libtiff5:amd64.\n",
      "Preparing to unpack .../31-libtiff5_4.0.9-5ubuntu0.3_amd64.deb ...\n",
      "Unpacking libtiff5:amd64 (4.0.9-5ubuntu0.3) ...\n",
      "Selecting previously unselected package libwebp6:amd64.\n",
      "Preparing to unpack .../32-libwebp6_0.6.1-2_amd64.deb ...\n",
      "Unpacking libwebp6:amd64 (0.6.1-2) ...\n",
      "Selecting previously unselected package liblept5.\n",
      "Preparing to unpack .../33-liblept5_1.75.3-3_amd64.deb ...\n",
      "Unpacking liblept5 (1.75.3-3) ...\n",
      "Selecting previously unselected package libleptonica-dev.\n",
      "Preparing to unpack .../34-libleptonica-dev_1.75.3-3_amd64.deb ...\n",
      "Unpacking libleptonica-dev (1.75.3-3) ...\n",
      "Selecting previously unselected package libthai-data.\n",
      "Preparing to unpack .../35-libthai-data_0.1.27-2_all.deb ...\n",
      "Unpacking libthai-data (0.1.27-2) ...\n",
      "Selecting previously unselected package libthai0:amd64.\n",
      "Preparing to unpack .../36-libthai0_0.1.27-2_amd64.deb ...\n",
      "Unpacking libthai0:amd64 (0.1.27-2) ...\n",
      "Selecting previously unselected package libpango-1.0-0:amd64.\n",
      "Preparing to unpack .../37-libpango-1.0-0_1.40.14-1ubuntu0.1_amd64.deb ...\n",
      "Unpacking libpango-1.0-0:amd64 (1.40.14-1ubuntu0.1) ...\n",
      "Selecting previously unselected package libpangoft2-1.0-0:amd64.\n",
      "Preparing to unpack .../38-libpangoft2-1.0-0_1.40.14-1ubuntu0.1_amd64.deb ...\n",
      "Unpacking libpangoft2-1.0-0:amd64 (1.40.14-1ubuntu0.1) ...\n",
      "Selecting previously unselected package libpangocairo-1.0-0:amd64.\n",
      "Preparing to unpack .../39-libpangocairo-1.0-0_1.40.14-1ubuntu0.1_amd64.deb ...\n",
      "Unpacking libpangocairo-1.0-0:amd64 (1.40.14-1ubuntu0.1) ...\n",
      "Selecting previously unselected package libpthread-stubs0-dev:amd64.\n",
      "Preparing to unpack .../40-libpthread-stubs0-dev_0.3-4_amd64.deb ...\n",
      "Unpacking libpthread-stubs0-dev:amd64 (0.3-4) ...\n",
      "Selecting previously unselected package libtesseract4.\n",
      "Preparing to unpack .../41-libtesseract4_4.00~git2288-10f4998a-2_amd64.deb ...\n",
      "Unpacking libtesseract4 (4.00~git2288-10f4998a-2) ...\n",
      "Selecting previously unselected package libtesseract-dev.\n",
      "Preparing to unpack .../42-libtesseract-dev_4.00~git2288-10f4998a-2_amd64.deb ...\n",
      "Unpacking libtesseract-dev (4.00~git2288-10f4998a-2) ...\n",
      "Selecting previously unselected package xorg-sgml-doctools.\n",
      "Preparing to unpack .../43-xorg-sgml-doctools_1%3a1.11-1_all.deb ...\n",
      "Unpacking xorg-sgml-doctools (1:1.11-1) ...\n",
      "Selecting previously unselected package x11proto-dev.\n",
      "Preparing to unpack .../44-x11proto-dev_2018.4-4_all.deb ...\n",
      "Unpacking x11proto-dev (2018.4-4) ...\n",
      "Selecting previously unselected package x11proto-core-dev.\n",
      "Preparing to unpack .../45-x11proto-core-dev_2018.4-4_all.deb ...\n",
      "Unpacking x11proto-core-dev (2018.4-4) ...\n",
      "Selecting previously unselected package libxau-dev:amd64.\n",
      "Preparing to unpack .../46-libxau-dev_1%3a1.0.8-1_amd64.deb ...\n",
      "Unpacking libxau-dev:amd64 (1:1.0.8-1) ...\n",
      "Selecting previously unselected package libxdmcp-dev:amd64.\n",
      "Preparing to unpack .../47-libxdmcp-dev_1%3a1.1.2-3_amd64.deb ...\n",
      "Unpacking libxdmcp-dev:amd64 (1:1.1.2-3) ...\n"
     ]
    },
    {
     "name": "stdout",
     "output_type": "stream",
     "text": [
      "Selecting previously unselected package xtrans-dev.\n",
      "Preparing to unpack .../48-xtrans-dev_1.3.5-1_all.deb ...\n",
      "Unpacking xtrans-dev (1.3.5-1) ...\n",
      "Selecting previously unselected package libxcb1-dev:amd64.\n",
      "Preparing to unpack .../49-libxcb1-dev_1.13-2~ubuntu18.04_amd64.deb ...\n",
      "Unpacking libxcb1-dev:amd64 (1.13-2~ubuntu18.04) ...\n",
      "Selecting previously unselected package libx11-dev:amd64.\n",
      "Preparing to unpack .../50-libx11-dev_2%3a1.6.4-3ubuntu0.2_amd64.deb ...\n",
      "Unpacking libx11-dev:amd64 (2:1.6.4-3ubuntu0.2) ...\n",
      "Selecting previously unselected package libx11-doc.\n",
      "Preparing to unpack .../51-libx11-doc_2%3a1.6.4-3ubuntu0.2_all.deb ...\n",
      "Unpacking libx11-doc (2:1.6.4-3ubuntu0.2) ...\n",
      "Selecting previously unselected package libx264-152:amd64.\n",
      "Preparing to unpack .../52-libx264-152_2%3a0.152.2854+gite9a5903-2_amd64.deb ...\n",
      "Unpacking libx264-152:amd64 (2:0.152.2854+gite9a5903-2) ...\n",
      "Selecting previously unselected package libx264-dev:amd64.\n",
      "Preparing to unpack .../53-libx264-dev_2%3a0.152.2854+gite9a5903-2_amd64.deb ...\n",
      "Unpacking libx264-dev:amd64 (2:0.152.2854+gite9a5903-2) ...\n",
      "Selecting previously unselected package libxrender-dev:amd64.\n",
      "Preparing to unpack .../54-libxrender-dev_1%3a0.9.10-1_amd64.deb ...\n",
      "Unpacking libxrender-dev:amd64 (1:0.9.10-1) ...\n",
      "Selecting previously unselected package tesseract-ocr-eng.\n",
      "Preparing to unpack .../55-tesseract-ocr-eng_4.00~git24-0e00fe6-1.2_all.deb ...\n",
      "Unpacking tesseract-ocr-eng (4.00~git24-0e00fe6-1.2) ...\n",
      "Selecting previously unselected package tesseract-ocr-osd.\n",
      "Preparing to unpack .../56-tesseract-ocr-osd_4.00~git24-0e00fe6-1.2_all.deb ...\n",
      "Unpacking tesseract-ocr-osd (4.00~git24-0e00fe6-1.2) ...\n",
      "Selecting previously unselected package tesseract-ocr.\n",
      "Preparing to unpack .../57-tesseract-ocr_4.00~git2288-10f4998a-2_amd64.deb ...\n",
      "Unpacking tesseract-ocr (4.00~git2288-10f4998a-2) ...\n",
      "Selecting previously unselected package vim-runtime.\n",
      "Preparing to unpack .../58-vim-runtime_2%3a8.0.1453-1ubuntu1.3_all.deb ...\n",
      "Adding 'diversion of /usr/share/vim/vim80/doc/help.txt to /usr/share/vim/vim80/doc/help.txt.vim-tiny by vim-runtime'\n",
      "Adding 'diversion of /usr/share/vim/vim80/doc/tags to /usr/share/vim/vim80/doc/tags.vim-tiny by vim-runtime'\n",
      "Unpacking vim-runtime (2:8.0.1453-1ubuntu1.3) ...\n",
      "Selecting previously unselected package vim.\n",
      "Preparing to unpack .../59-vim_2%3a8.0.1453-1ubuntu1.3_amd64.deb ...\n",
      "Unpacking vim (2:8.0.1453-1ubuntu1.3) ...\n",
      "Setting up libicu60:amd64 (60.2-3ubuntu3.1) ...\n",
      "Setting up libx264-152:amd64 (2:0.152.2854+gite9a5903-2) ...\n",
      "Setting up libopenjp2-7:amd64 (2.3.0-2build0.18.04.1) ...\n",
      "Setting up xxd (2:8.0.1453-1ubuntu1.3) ...\n",
      "Setting up libjbig0:amd64 (2.1-3.1build1) ...\n",
      "Setting up libgpm2:amd64 (1.20.7-5) ...\n",
      "Setting up libpthread-stubs0-dev:amd64 (0.3-4) ...\n",
      "Setting up fonts-dejavu-core (2.37-1) ...\n",
      "Setting up xorg-sgml-doctools (1:1.11-1) ...\n",
      "Setting up libdatrie1:amd64 (0.2.10-7) ...\n",
      "Setting up libtiff5:amd64 (4.0.9-5ubuntu0.3) ...\n",
      "Setting up libgif7:amd64 (5.1.4-2ubuntu0.1) ...\n",
      "Setting up libbsd0:amd64 (0.8.7-1ubuntu0.1) ...\n",
      "Setting up ucf (3.0038) ...\n",
      "debconf: unable to initialize frontend: Dialog\n",
      "debconf: (No usable dialog-like program is installed, so the dialog based frontend cannot be used. at /usr/share/perl5/Debconf/FrontEnd/Dialog.pm line 76.)\n",
      "debconf: falling back to frontend: Readline\n",
      "Setting up x11proto-dev (2018.4-4) ...\n",
      "Setting up libgraphite2-3:amd64 (1.3.11-2) ...\n",
      "Setting up tesseract-ocr-osd (4.00~git24-0e00fe6-1.2) ...\n",
      "Setting up libpixman-1-0:amd64 (0.34.0-2) ...\n",
      "Setting up tesseract-ocr-eng (4.00~git24-0e00fe6-1.2) ...\n",
      "Setting up xtrans-dev (1.3.5-1) ...\n",
      "Setting up wget (1.19.4-1ubuntu2.2) ...\n",
      "Setting up vim-common (2:8.0.1453-1ubuntu1.3) ...\n",
      "Setting up libx11-doc (2:1.6.4-3ubuntu0.2) ...\n",
      "Setting up vim-runtime (2:8.0.1453-1ubuntu1.3) ...\n",
      "Setting up libthai-data (0.1.27-2) ...\n",
      "Setting up libxdmcp6:amd64 (1:1.1.2-3) ...\n",
      "Setting up x11-common (1:7.7+19ubuntu7.1) ...\n",
      "debconf: unable to initialize frontend: Dialog\n",
      "debconf: (No usable dialog-like program is installed, so the dialog based frontend cannot be used. at /usr/share/perl5/Debconf/FrontEnd/Dialog.pm line 76.)\n",
      "debconf: falling back to frontend: Readline\n",
      "update-rc.d: warning: start and stop actions are no longer supported; falling back to defaults\n",
      "invoke-rc.d: could not determine current runlevel\n",
      "invoke-rc.d: policy-rc.d denied execution of start.\n",
      "Setting up libx11-data (2:1.6.4-3ubuntu0.2) ...\n",
      "Setting up libxau6:amd64 (1:1.0.8-1) ...\n",
      "Setting up libwebp6:amd64 (0.6.1-2) ...\n",
      "Setting up libx264-dev:amd64 (2:0.152.2854+gite9a5903-2) ...\n",
      "Setting up fontconfig-config (2.12.6-0ubuntu2) ...\n",
      "Setting up x11proto-core-dev (2018.4-4) ...\n",
      "Setting up vim (2:8.0.1453-1ubuntu1.3) ...\n",
      "update-alternatives: using /usr/bin/vim.basic to provide /usr/bin/vim (vim) in auto mode\n",
      "update-alternatives: using /usr/bin/vim.basic to provide /usr/bin/vimdiff (vimdiff) in auto mode\n",
      "update-alternatives: using /usr/bin/vim.basic to provide /usr/bin/rvim (rvim) in auto mode\n",
      "update-alternatives: using /usr/bin/vim.basic to provide /usr/bin/rview (rview) in auto mode\n",
      "update-alternatives: using /usr/bin/vim.basic to provide /usr/bin/vi (vi) in auto mode\n",
      "update-alternatives: warning: skip creation of /usr/share/man/fr/man1/vi.1.gz because associated file /usr/share/man/fr/man1/vim.1.gz (of link group vi) doesn't exist\n",
      "update-alternatives: warning: skip creation of /usr/share/man/it/man1/vi.1.gz because associated file /usr/share/man/it/man1/vim.1.gz (of link group vi) doesn't exist\n",
      "update-alternatives: warning: skip creation of /usr/share/man/pl/man1/vi.1.gz because associated file /usr/share/man/pl/man1/vim.1.gz (of link group vi) doesn't exist\n",
      "update-alternatives: warning: skip creation of /usr/share/man/ru/man1/vi.1.gz because associated file /usr/share/man/ru/man1/vim.1.gz (of link group vi) doesn't exist\n",
      "update-alternatives: warning: skip creation of /usr/share/man/ja/man1/vi.1.gz because associated file /usr/share/man/ja/man1/vim.1.gz (of link group vi) doesn't exist\n",
      "update-alternatives: warning: skip creation of /usr/share/man/man1/vi.1.gz because associated file /usr/share/man/man1/vim.1.gz (of link group vi) doesn't exist\n",
      "update-alternatives: using /usr/bin/vim.basic to provide /usr/bin/view (view) in auto mode\n",
      "update-alternatives: warning: skip creation of /usr/share/man/fr/man1/view.1.gz because associated file /usr/share/man/fr/man1/vim.1.gz (of link group view) doesn't exist\n",
      "update-alternatives: warning: skip creation of /usr/share/man/it/man1/view.1.gz because associated file /usr/share/man/it/man1/vim.1.gz (of link group view) doesn't exist\n",
      "update-alternatives: warning: skip creation of /usr/share/man/pl/man1/view.1.gz because associated file /usr/share/man/pl/man1/vim.1.gz (of link group view) doesn't exist\n",
      "update-alternatives: warning: skip creation of /usr/share/man/ru/man1/view.1.gz because associated file /usr/share/man/ru/man1/vim.1.gz (of link group view) doesn't exist\n",
      "update-alternatives: warning: skip creation of /usr/share/man/ja/man1/view.1.gz because associated file /usr/share/man/ja/man1/vim.1.gz (of link group view) doesn't exist\n",
      "update-alternatives: warning: skip creation of /usr/share/man/man1/view.1.gz because associated file /usr/share/man/man1/vim.1.gz (of link group view) doesn't exist\n",
      "update-alternatives: using /usr/bin/vim.basic to provide /usr/bin/ex (ex) in auto mode\n",
      "update-alternatives: warning: skip creation of /usr/share/man/fr/man1/ex.1.gz because associated file /usr/share/man/fr/man1/vim.1.gz (of link group ex) doesn't exist\n",
      "update-alternatives: warning: skip creation of /usr/share/man/it/man1/ex.1.gz because associated file /usr/share/man/it/man1/vim.1.gz (of link group ex) doesn't exist\n",
      "update-alternatives: warning: skip creation of /usr/share/man/pl/man1/ex.1.gz because associated file /usr/share/man/pl/man1/vim.1.gz (of link group ex) doesn't exist\n",
      "update-alternatives: warning: skip creation of /usr/share/man/ru/man1/ex.1.gz because associated file /usr/share/man/ru/man1/vim.1.gz (of link group ex) doesn't exist\n",
      "update-alternatives: warning: skip creation of /usr/share/man/ja/man1/ex.1.gz because associated file /usr/share/man/ja/man1/vim.1.gz (of link group ex) doesn't exist\n",
      "update-alternatives: warning: skip creation of /usr/share/man/man1/ex.1.gz because associated file /usr/share/man/man1/vim.1.gz (of link group ex) doesn't exist\n",
      "update-alternatives: using /usr/bin/vim.basic to provide /usr/bin/editor (editor) in auto mode\n",
      "update-alternatives: warning: skip creation of /usr/share/man/fr/man1/editor.1.gz because associated file /usr/share/man/fr/man1/vim.1.gz (of link group editor) doesn't exist\n",
      "update-alternatives: warning: skip creation of /usr/share/man/it/man1/editor.1.gz because associated file /usr/share/man/it/man1/vim.1.gz (of link group editor) doesn't exist\n",
      "update-alternatives: warning: skip creation of /usr/share/man/pl/man1/editor.1.gz because associated file /usr/share/man/pl/man1/vim.1.gz (of link group editor) doesn't exist\n",
      "update-alternatives: warning: skip creation of /usr/share/man/ru/man1/editor.1.gz because associated file /usr/share/man/ru/man1/vim.1.gz (of link group editor) doesn't exist\n",
      "update-alternatives: warning: skip creation of /usr/share/man/ja/man1/editor.1.gz because associated file /usr/share/man/ja/man1/vim.1.gz (of link group editor) doesn't exist\n",
      "update-alternatives: warning: skip creation of /usr/share/man/man1/editor.1.gz because associated file /usr/share/man/man1/vim.1.gz (of link group editor) doesn't exist\n"
     ]
    },
    {
     "name": "stdout",
     "output_type": "stream",
     "text": [
      "Setting up libharfbuzz0b:amd64 (1.7.2-1ubuntu1) ...\n",
      "Setting up libxau-dev:amd64 (1:1.0.8-1) ...\n",
      "Setting up libthai0:amd64 (0.1.27-2) ...\n",
      "Setting up liblept5 (1.75.3-3) ...\n",
      "Setting up libxdmcp-dev:amd64 (1:1.1.2-3) ...\n",
      "Setting up libice6:amd64 (2:1.0.9-2) ...\n",
      "Setting up libxcb1:amd64 (1.13-2~ubuntu18.04) ...\n",
      "Setting up libfontconfig1:amd64 (2.12.6-0ubuntu2) ...\n",
      "Setting up libsm6:amd64 (2:1.2.2-1) ...\n",
      "Setting up libxcb-render0:amd64 (1.13-2~ubuntu18.04) ...\n",
      "Setting up libleptonica-dev (1.75.3-3) ...\n",
      "Setting up libx11-6:amd64 (2:1.6.4-3ubuntu0.2) ...\n",
      "Setting up libtesseract4 (4.00~git2288-10f4998a-2) ...\n",
      "Setting up libtesseract-dev (4.00~git2288-10f4998a-2) ...\n",
      "Setting up libxcb-shm0:amd64 (1.13-2~ubuntu18.04) ...\n",
      "Setting up libxrender1:amd64 (1:0.9.10-1) ...\n",
      "Setting up libxcb1-dev:amd64 (1.13-2~ubuntu18.04) ...\n",
      "Setting up libx11-dev:amd64 (2:1.6.4-3ubuntu0.2) ...\n",
      "Setting up fontconfig (2.12.6-0ubuntu2) ...\n",
      "Regenerating fonts cache... done.\n",
      "Setting up libxext6:amd64 (2:1.3.3-1) ...\n",
      "Setting up libxrender-dev:amd64 (1:0.9.10-1) ...\n",
      "Setting up libpango-1.0-0:amd64 (1.40.14-1ubuntu0.1) ...\n",
      "Setting up libcairo2:amd64 (1.15.10-2ubuntu0.1) ...\n",
      "Setting up libpangoft2-1.0-0:amd64 (1.40.14-1ubuntu0.1) ...\n",
      "Setting up libpangocairo-1.0-0:amd64 (1.40.14-1ubuntu0.1) ...\n",
      "Setting up tesseract-ocr (4.00~git2288-10f4998a-2) ...\n",
      "Processing triggers for libc-bin (2.27-3ubuntu1) ...\n",
      "Processing triggers for mime-support (3.60ubuntu1) ...\n"
     ]
    }
   ],
   "source": [
    "! apt-get install git wget vim libsm6 libxext6 libxrender-dev libx264-dev tesseract-ocr libtesseract-dev -y"
   ]
  },
  {
   "cell_type": "markdown",
   "metadata": {},
   "source": [
    "# Features\n",
    "\n",
    "\n",
    "> This module contains all the necessary functions for extracting and organizing features from videos."
   ]
  },
  {
   "cell_type": "code",
   "execution_count": 35,
   "metadata": {},
   "outputs": [],
   "source": [
    "#export\n",
    "import cv2\n",
    "# import ffmpeg\n",
    "\n",
    "import torch\n",
    "\n",
    "import numpy as np\n",
    "\n",
    "from abc import ABC, abstractmethod\n",
    "\n",
    "# from fastprogress.fastprogress import progress_bar\n",
    "\n",
    "# tango\n",
    "from tango.prep import *\n",
    "\n",
    "# from tango.cnn import *\n",
    "from tango.model import *\n",
    "\n",
    "from pathlib import Path\n",
    "\n",
    "from PIL import Image\n",
    "\n",
    "# from matplotlib import pyplot as plt\n",
    "\n",
    "# from nbdev.showdoc import *\n",
    "\n",
    "from sklearn.cluster import KMeans\n",
    "from sklearn.metrics.pairwise import cosine_similarity"
   ]
  },
  {
   "cell_type": "code",
   "execution_count": 3,
   "metadata": {},
   "outputs": [
    {
     "data": {
      "text/plain": [
       "'1.7.0.dev20200702'"
      ]
     },
     "execution_count": 3,
     "metadata": {},
     "output_type": "execute_result"
    }
   ],
   "source": [
    "torch.__version__"
   ]
  },
  {
   "cell_type": "code",
   "execution_count": 4,
   "metadata": {},
   "outputs": [
    {
     "data": {
      "text/plain": [
       "[PosixPath('/tf/data/datasets/videos/art_and_design/ibis_paint/scenario1/video.mp4'),\n",
       " PosixPath('/tf/data/datasets/videos/art_and_design/ibis_paint/scenario2/video.mp4'),\n",
       " PosixPath('/tf/data/datasets/videos/art_and_design/pixel_art_paint/scenario1/video.mp4'),\n",
       " PosixPath('/tf/data/datasets/videos/art_and_design/pixel_art_paint/scenario2/video.mp4'),\n",
       " PosixPath('/tf/data/datasets/videos/auto_and_vehicles/car_part/scenario1/video.mp4'),\n",
       " PosixPath('/tf/data/datasets/videos/auto_and_vehicles/car_part/scenario2/video.mp4')]"
      ]
     },
     "execution_count": 4,
     "metadata": {},
     "output_type": "execute_result"
    }
   ],
   "source": [
    "path = Path(\"/tf/data/datasets/videos\")\n",
    "video_paths = sorted(path.glob(\"**/video.mp4\")); video_paths[:6]"
   ]
  },
  {
   "cell_type": "code",
   "execution_count": 5,
   "metadata": {},
   "outputs": [
    {
     "data": {
      "text/plain": [
       "(66261,\n",
       " [PosixPath('/tf/data/combined/data/0.jpg'),\n",
       "  PosixPath('/tf/data/combined/data/1.jpg'),\n",
       "  PosixPath('/tf/data/combined/data/10.jpg'),\n",
       "  PosixPath('/tf/data/combined/data/100.jpg'),\n",
       "  PosixPath('/tf/data/combined/data/1000.jpg')])"
      ]
     },
     "execution_count": 5,
     "metadata": {},
     "output_type": "execute_result"
    }
   ],
   "source": [
    "rico_path = Path('/tf/data/combined/data')\n",
    "img_paths = sorted(rico_path.glob('*.jpg'))\n",
    "len(img_paths), img_paths[:5]"
   ]
  },
  {
   "cell_type": "code",
   "execution_count": 22,
   "metadata": {},
   "outputs": [
    {
     "data": {
      "text/plain": [
       "10"
      ]
     },
     "execution_count": 22,
     "metadata": {},
     "output_type": "execute_result"
    }
   ],
   "source": [
    "from random import sample\n",
    "\n",
    "n = 10 # 10_000\n",
    "# sampled_imgs = [np.array(Image.open(img)) for img in sample(img_paths, n)]\n",
    "sampled_imgs = [Image.open(img) for img in sample(img_paths, n)]\n",
    "len(sampled_imgs)"
   ]
  },
  {
   "cell_type": "code",
   "execution_count": 23,
   "metadata": {},
   "outputs": [],
   "source": [
    "#export\n",
    "class Extractor(ABC):\n",
    "\n",
    "    def __init__(self, extractor):\n",
    "        self.extractor = extractor\n",
    "        super().__init__()\n",
    "    \n",
    "    @abstractmethod\n",
    "    def extract(self, img):\n",
    "        pass"
   ]
  },
  {
   "cell_type": "code",
   "execution_count": 24,
   "metadata": {},
   "outputs": [],
   "source": [
    "#export\n",
    "class SIFTExtractor(Extractor):\n",
    "    \n",
    "    '''Exposed SIFTExtractor class used for retrieving features.'''\n",
    "\n",
    "    def extract(self, img):\n",
    "        '''Given an image, extract features using SIFT. Returns the feature vector.'''\n",
    "#         print(type(img))\n",
    "        img = np.array(img)\n",
    "        _, features = self.extractor.detectAndCompute(img, None)\n",
    "#         features = features.ravel()\n",
    "#         features = np.expand_dims(features, axis=0)\n",
    "        return features\n",
    "    \n",
    "class CNNExtractor(Extractor):\n",
    "   \n",
    "    '''Exposed CNNExtractor class used for retrieving features.'''\n",
    "\n",
    "    def extract(self, img):\n",
    "        '''Given an image, extract features from the layers of a CNN. Returns the feature vector.'''\n",
    "        \n",
    "        return self.extractor.getFeatures(img)"
   ]
  },
  {
   "cell_type": "code",
   "execution_count": 28,
   "metadata": {},
   "outputs": [],
   "source": [
    "# export\n",
    "from torchvision import transforms\n",
    "\n",
    "def imagenet_normalize_transform():\n",
    "    return transforms.Normalize(mean=[0.485, 0.456, 0.406], std=[0.229, 0.224, 0.225])\n",
    "\n",
    "def get_transforms(size=224):\n",
    "    return transforms.Compose([\n",
    "        transforms.Resize(size=(size, size)),\n",
    "        transforms.ToTensor(),\n",
    "        imagenet_normalize_transform()\n",
    "    ])\n",
    "\n",
    "class SimCLRExtractor(Extractor):\n",
    "   \n",
    "    '''Exposed CNNExtractor class used for retrieving features.'''\n",
    "    def __init__(self, extractor):\n",
    "        super().__init__(extractor)\n",
    "        self.transforms = get_transforms()\n",
    "\n",
    "    def extract(self, img):\n",
    "        '''Given an image, extract features from the layers of a CNN. Returns the feature vector.'''\n",
    "        img = self.transforms(img).float()\n",
    "        img = img.unsqueeze(0)\n",
    "        return self.extractor(img).detach().numpy()"
   ]
  },
  {
   "cell_type": "code",
   "execution_count": 31,
   "metadata": {},
   "outputs": [],
   "source": [
    "model = SimCLRModel.load_from_checkpoint(checkpoint_path='/tf/data/models/simclr/checkpointepoch=98.ckpt').eval()\n",
    "simclr_extractor = SimCLRExtractor(model)"
   ]
  },
  {
   "cell_type": "code",
   "execution_count": 52,
   "metadata": {},
   "outputs": [],
   "source": [
    "features_0 = simclr_extractor.extract(sampled_imgs[7]).detach().numpy()\n",
    "features_1 = simclr_extractor.extract(sampled_imgs[9]).detach().numpy()"
   ]
  },
  {
   "cell_type": "code",
   "execution_count": 17,
   "metadata": {},
   "outputs": [],
   "source": [
    "imgs = get_rand_imgs(video_paths[0], 30_000, n = 100)"
   ]
  },
  {
   "cell_type": "code",
   "execution_count": 18,
   "metadata": {},
   "outputs": [],
   "source": [
    "#Three different extraction techniques\n",
    "# learn, linear_output_layer = trainPetsModel()\n",
    "# extractor = CNNExtractor(cnn.createExtractor(learn, linear_output_layer, 'resnet50', True))\n",
    "extractor = CNNExtractor(createExtractor(None, None, 'resnet50', False))\n",
    "# extractor = CNNExtractor(cnn.createLayeredExtractor())"
   ]
  },
  {
   "cell_type": "code",
   "execution_count": 24,
   "metadata": {
    "scrolled": true
   },
   "outputs": [
    {
     "data": {
      "text/plain": [
       "array([[[0, 0, 0],\n",
       "        [0, 0, 0],\n",
       "        [0, 0, 0],\n",
       "        [0, 0, 0],\n",
       "        ...,\n",
       "        [0, 0, 0],\n",
       "        [0, 0, 0],\n",
       "        [0, 0, 0],\n",
       "        [0, 0, 0]],\n",
       "\n",
       "       [[0, 0, 0],\n",
       "        [0, 0, 0],\n",
       "        [0, 0, 0],\n",
       "        [0, 0, 0],\n",
       "        ...,\n",
       "        [0, 0, 0],\n",
       "        [0, 0, 0],\n",
       "        [0, 0, 0],\n",
       "        [0, 0, 0]],\n",
       "\n",
       "       [[0, 0, 0],\n",
       "        [0, 0, 0],\n",
       "        [0, 0, 0],\n",
       "        [0, 0, 0],\n",
       "        ...,\n",
       "        [0, 0, 0],\n",
       "        [0, 0, 0],\n",
       "        [0, 0, 0],\n",
       "        [0, 0, 0]],\n",
       "\n",
       "       [[0, 0, 0],\n",
       "        [0, 0, 0],\n",
       "        [0, 0, 0],\n",
       "        [0, 0, 0],\n",
       "        ...,\n",
       "        [0, 0, 0],\n",
       "        [0, 0, 0],\n",
       "        [0, 0, 0],\n",
       "        [0, 0, 0]],\n",
       "\n",
       "       ...,\n",
       "\n",
       "       [[0, 0, 0],\n",
       "        [0, 0, 0],\n",
       "        [0, 0, 0],\n",
       "        [0, 0, 0],\n",
       "        ...,\n",
       "        [0, 0, 0],\n",
       "        [0, 0, 0],\n",
       "        [0, 0, 0],\n",
       "        [0, 0, 0]],\n",
       "\n",
       "       [[0, 0, 0],\n",
       "        [0, 0, 0],\n",
       "        [0, 0, 0],\n",
       "        [0, 0, 0],\n",
       "        ...,\n",
       "        [0, 0, 0],\n",
       "        [0, 0, 0],\n",
       "        [0, 0, 0],\n",
       "        [0, 0, 0]],\n",
       "\n",
       "       [[0, 0, 0],\n",
       "        [0, 0, 0],\n",
       "        [0, 0, 0],\n",
       "        [0, 0, 0],\n",
       "        ...,\n",
       "        [0, 0, 0],\n",
       "        [0, 0, 0],\n",
       "        [0, 0, 0],\n",
       "        [0, 0, 0]],\n",
       "\n",
       "       [[0, 0, 0],\n",
       "        [0, 0, 0],\n",
       "        [0, 0, 0],\n",
       "        [0, 0, 0],\n",
       "        ...,\n",
       "        [0, 0, 0],\n",
       "        [0, 0, 0],\n",
       "        [0, 0, 0],\n",
       "        [0, 0, 0]]], dtype=uint8)"
      ]
     },
     "execution_count": 24,
     "metadata": {},
     "output_type": "execute_result"
    }
   ],
   "source": [
    "sampled_imgs[0]"
   ]
  },
  {
   "cell_type": "code",
   "execution_count": 26,
   "metadata": {},
   "outputs": [],
   "source": [
    "#Using the extractor to extract the feature vector\n",
    "features = extractor.extract(sampled_imgs[0])"
   ]
  },
  {
   "cell_type": "code",
   "execution_count": 28,
   "metadata": {},
   "outputs": [],
   "source": [
    "#export\n",
    "def gen_vcodebook(imgs, extractor, vwords = 10_000):\n",
    "    \"\"\"\n",
    "        Constructs a visual codebook based on the given images.\n",
    "        You can change vwords to increase the vocabulary of the codebook.\n",
    "    \"\"\"\n",
    "    features_list = []\n",
    "    for img in imgs:\n",
    "        features = extractor.extract(img)\n",
    "        features_list.extend(features)\n",
    "        \n",
    "    features_list = np.asarray(features_list)\n",
    "    print(features_list.shape)\n",
    "    codebook = KMeans(n_clusters = vwords)\n",
    "    codebook.fit(features_list)\n",
    "    \n",
    "    return codebook"
   ]
  },
  {
   "cell_type": "code",
   "execution_count": null,
   "metadata": {},
   "outputs": [],
   "source": [
    "vwords = 1_000\n",
    "codebook = gen_vcodebook(sampled_imgs, extractor, vwords)"
   ]
  },
  {
   "cell_type": "code",
   "execution_count": null,
   "metadata": {},
   "outputs": [],
   "source": [
    "fname = f'/tf/data/models/cookbook_{len(sampled_imgs)}n_{vwords}vw.model'\n",
    "pickle.dump(codebook, open(fname, 'wb'))\n",
    "\n",
    "# load the model from disk\n",
    "# codebook = pickle.load(open(fname, 'rb'))"
   ]
  },
  {
   "cell_type": "code",
   "execution_count": null,
   "metadata": {
    "scrolled": false
   },
   "outputs": [
    {
     "data": {
      "text/plain": [
       "<BarContainer object of 20 artists>"
      ]
     },
     "execution_count": null,
     "metadata": {},
     "output_type": "execute_result"
    },
    {
     "data": {
      "image/png": "[encoded data removed]",
      "text/plain": [
       "<Figure size 432x288 with 1 Axes>"
      ]
     },
     "metadata": {
      "needs_background": "light"
     },
     "output_type": "display_data"
    }
   ],
   "source": [
    "#hide\n",
    "labels = codebook.predict(features)\n",
    "hist = np.histogram(labels, bins = range(vwords + 1))\n",
    "plt.bar(range(vwords), hist[0])"
   ]
  },
  {
   "cell_type": "code",
   "execution_count": null,
   "metadata": {},
   "outputs": [],
   "source": [
    "# #export\n",
    "# def get_df(imgs, extractor, codebook, vwords):\n",
    "#     \"\"\"Generates the document frequency for the visual words\"\"\"\n",
    "#     arr = []\n",
    "#     for img in imgs:\n",
    "#         features = extractor.extract(img)\n",
    "#         vw = codebook.predict(features)\n",
    "#         arr.extend(vw)\n",
    "#     arr = np.asarray(arr)\n",
    "    \n",
    "#     return np.histogram(arr, bins = range(vwords))"
   ]
  },
  {
   "cell_type": "code",
   "execution_count": null,
   "metadata": {},
   "outputs": [],
   "source": [
    "#export\n",
    "def get_df(imgs, extractor, codebook, vwords):\n",
    "    \"\"\"Generates the document frequency for the visual words\"\"\"\n",
    "    arr = []\n",
    "    for img in imgs:\n",
    "        features = extractor.extract(img)\n",
    "        vw = codebook.predict(features)\n",
    "        arr.extend(vw)\n",
    "    arr = np.asarray(arr)\n",
    "    \n",
    "    return np.histogram(arr, bins = range(vwords + 1))"
   ]
  },
  {
   "cell_type": "code",
   "execution_count": null,
   "metadata": {},
   "outputs": [],
   "source": [
    "df = get_df(imgs, extractor, codebook, vwords)"
   ]
  },
  {
   "cell_type": "code",
   "execution_count": null,
   "metadata": {},
   "outputs": [
    {
     "data": {
      "text/plain": [
       "array([  0,   0,   0,   0,   0,   0,   0,   0,   0,   0, 100,   0,   0,   0,   0,   0,   0,   0,   0,   0])"
      ]
     },
     "execution_count": null,
     "metadata": {},
     "output_type": "execute_result"
    }
   ],
   "source": [
    "#hide\n",
    "df"
   ]
  },
  {
   "cell_type": "code",
   "execution_count": null,
   "metadata": {
    "scrolled": false
   },
   "outputs": [
    {
     "data": {
      "image/png": "[encoded data removed]",
      "text/plain": [
       "<Figure size 432x288 with 1 Axes>"
      ]
     },
     "metadata": {
      "needs_background": "light"
     },
     "output_type": "display_data"
    }
   ],
   "source": [
    "#hide\n",
    "plt.bar(range(vwords), df)\n",
    "plt.show()"
   ]
  },
  {
   "cell_type": "code",
   "execution_count": null,
   "metadata": {},
   "outputs": [],
   "source": [
    "#export\n",
    "def get_bovw(vid_path, extractor, codebook, vwords, n = None):\n",
    "    \"\"\"Generates the bag of visual words (bovw) for an entire video.\"\"\"\n",
    "    vid = cv2.VideoCapture(str(vid_path))\n",
    "    if n is None: n = vid.get(cv2.CAP_PROP_FRAME_COUNT)\n",
    "    \n",
    "    # checks whether frames were extracted \n",
    "    success = 1\n",
    "    bovw = np.array([])\n",
    "    for i in progress_bar(range(n)):\n",
    "        # vid object calls read \n",
    "        # function extract frames \n",
    "        success, img = vid.read() \n",
    "        if success:\n",
    "            features = extractor.extract(img)\n",
    "            vw = codebook.predict(features)\n",
    "            bovw = np.concatenate((bovw, vw))\n",
    "    \n",
    "    hist = np.histogram(bovw, bins = range(vwords + 1))[0]\n",
    "    return hist, bovw"
   ]
  },
  {
   "cell_type": "code",
   "execution_count": null,
   "metadata": {},
   "outputs": [],
   "source": [
    "# #export\n",
    "# def new_get_bovw(vid, extractor, codebook, vwords, fps = 30, frames_to_keep = 1):\n",
    "#     bovw = []\n",
    "#     for i in range(0, len(vid), int(fps / frames_to_keep)):\n",
    "#         img = vid[i]\n",
    "#         if not img: continue\n",
    "#         features = extractor.extract(img)\n",
    "#         vw = codebook.predict(features)\n",
    "#         bovw.extend(vw)\n",
    "    \n",
    "#     bovw = np.array(bovw)\n",
    "#     bovw = np.histogram(bovw, bins = range(vwords + 1))[0]\n",
    "#     return bovw\n",
    "# #         bovw = np.concatenate((bovw, vw))"
   ]
  },
  {
   "cell_type": "code",
   "execution_count": null,
   "metadata": {},
   "outputs": [],
   "source": [
    "#export\n",
    "def extract_features(vid, extractor, fps = 30, frames_to_keep = 1):\n",
    "    extracted_features = []\n",
    "    for i in range(0, len(vid), int(fps / frames_to_keep)):\n",
    "        img = vid[i]\n",
    "        if not img: continue\n",
    "        extracted_features.append(extractor.extract(img))\n",
    "    \n",
    "    return extracted_features"
   ]
  },
  {
   "cell_type": "code",
   "execution_count": 84,
   "metadata": {},
   "outputs": [
    {
     "data": {
      "text/plain": [
       "[0, 4, 8, 12, 16, 20, 24, 28]"
      ]
     },
     "execution_count": 84,
     "metadata": {},
     "output_type": "execute_result"
    }
   ],
   "source": [
    "list(range(0, 30, 4))"
   ]
  },
  {
   "cell_type": "code",
   "execution_count": 88,
   "metadata": {},
   "outputs": [
    {
     "data": {
      "text/plain": [
       "[0, 4, 8, 12, 16, 20, 24]"
      ]
     },
     "execution_count": 88,
     "metadata": {},
     "output_type": "execute_result"
    }
   ],
   "source": [
    "[x * 4 for x in range(0, 7)]"
   ]
  },
  {
   "cell_type": "code",
   "execution_count": 86,
   "metadata": {},
   "outputs": [
    {
     "data": {
      "text/plain": [
       "7.5"
      ]
     },
     "execution_count": 86,
     "metadata": {},
     "output_type": "execute_result"
    }
   ],
   "source": [
    "30 / 4"
   ]
  },
  {
   "cell_type": "code",
   "execution_count": null,
   "metadata": {},
   "outputs": [],
   "source": [
    "#export\n",
    "def new_get_bovw(features, codebook, vwords):\n",
    "    bovw = []\n",
    "    for f in features:\n",
    "        vw = codebook.predict(f)\n",
    "        bovw.extend(vw)\n",
    "    \n",
    "    bovw = np.array(bovw)\n",
    "    bovw = np.histogram(bovw, bins = range(vwords + 1))[0]\n",
    "    return bovw"
   ]
  },
  {
   "cell_type": "code",
   "execution_count": null,
   "metadata": {},
   "outputs": [],
   "source": [
    "vid = Video(video_paths[3])\n",
    "features = extract_features(vid, extractor, fps = 30, frames_to_keep = 1)\n",
    "bovw = new_get_bovw(features, codebook, vwords, frames_to_keep = 2)"
   ]
  },
  {
   "cell_type": "code",
   "execution_count": null,
   "metadata": {},
   "outputs": [
    {
     "data": {
      "text/plain": [
       "26"
      ]
     },
     "execution_count": null,
     "metadata": {},
     "output_type": "execute_result"
    }
   ],
   "source": [
    "len(bovw)"
   ]
  },
  {
   "cell_type": "code",
   "execution_count": null,
   "metadata": {},
   "outputs": [
    {
     "data": {
      "image/png": "[encoded data removed]",
      "text/plain": [
       "<Figure size 432x288 with 1 Axes>"
      ]
     },
     "metadata": {
      "needs_background": "light"
     },
     "output_type": "display_data"
    },
    {
     "data": {
      "text/plain": [
       "array([ 1,  0,  1,  0,  0,  0,  0,  0,  0,  0,  0,  0,  0,  0,  0,  0,  0, 10,  0,  1])"
      ]
     },
     "execution_count": null,
     "metadata": {},
     "output_type": "execute_result"
    }
   ],
   "source": [
    "#hide\n",
    "plt.bar(range(vwords), hist)\n",
    "plt.show()\n",
    "hist"
   ]
  },
  {
   "cell_type": "code",
   "execution_count": null,
   "metadata": {},
   "outputs": [],
   "source": [
    "#export\n",
    "def calc_tf_idf(tfs, dfs):\n",
    "    tf_idf = np.array([])\n",
    "    for tf, df in zip(tfs, dfs):\n",
    "        tf = tf / np.sum(tfs)\n",
    "        idf = np.log(len(tfs) / (df + 1))\n",
    "        tf_idf = np.append(tf_idf, tf * idf)\n",
    "    \n",
    "    return tf_idf"
   ]
  },
  {
   "cell_type": "code",
   "execution_count": null,
   "metadata": {},
   "outputs": [],
   "source": [
    "tf_idf_pix2 = calc_tf_idf(hist, df)"
   ]
  },
  {
   "cell_type": "code",
   "execution_count": null,
   "metadata": {},
   "outputs": [],
   "source": [
    "#hide\n",
    "hist2, bovw2 = get_bovw(video_paths[2], extractor, codebook)\n",
    "tf_idf_pix1 = calc_tf_idf(hist2, df)"
   ]
  },
  {
   "cell_type": "code",
   "execution_count": null,
   "metadata": {},
   "outputs": [],
   "source": [
    "#hide\n",
    "hist3, bovw3 = get_bovw(video_paths[4], extractor, codebook)\n",
    "tf_idf_car1 = calc_tf_idf(hist3, df)"
   ]
  },
  {
   "cell_type": "code",
   "execution_count": null,
   "metadata": {},
   "outputs": [],
   "source": [
    "#hide\n",
    "hist4, bow4 = get_bovw(video_paths[5], extractor, codebook)\n",
    "tf_idf_car2 = calc_tf_idf(hist4, df)"
   ]
  },
  {
   "cell_type": "code",
   "execution_count": null,
   "metadata": {},
   "outputs": [],
   "source": [
    "#hide\n",
    "np.dot(tf_idf_pix1, tf_idf_pix2) / (np.linalg.norm(tf_idf_pix1) * np.linalg.norm(tf_idf_pix2))"
   ]
  },
  {
   "cell_type": "code",
   "execution_count": null,
   "metadata": {},
   "outputs": [],
   "source": [
    "#hide\n",
    "np.dot(tf_idf_car1, tf_idf_car2) / (np.linalg.norm(tf_idf_car1) * np.linalg.norm(tf_idf_car2))"
   ]
  },
  {
   "cell_type": "code",
   "execution_count": null,
   "metadata": {},
   "outputs": [],
   "source": [
    "#hide\n",
    "np.dot(tf_idf_pix1, tf_idf_car1) / (np.linalg.norm(tf_idf_pix1) * np.linalg.norm(tf_idf_car1))"
   ]
  },
  {
   "cell_type": "code",
   "execution_count": null,
   "metadata": {},
   "outputs": [],
   "source": [
    "#hide\n",
    "np.dot(tf_idf_pix2, tf_idf_car2) / (np.linalg.norm(tf_idf_pix2) * np.linalg.norm(tf_idf_car2))"
   ]
  },
  {
   "cell_type": "code",
   "execution_count": null,
   "metadata": {},
   "outputs": [],
   "source": [
    "#hide\n",
    "np.dot(tf_idf_pix1, tf_idf_pix1) / (np.linalg.norm(tf_idf_pix1) * np.linalg.norm(tf_idf_pix1))"
   ]
  },
  {
   "cell_type": "code",
   "execution_count": null,
   "metadata": {},
   "outputs": [],
   "source": [
    "#hide\n",
    "np.dot(tf_idf_car1, tf_idf_car1) / (np.linalg.norm(tf_idf_car1) * np.linalg.norm(tf_idf_car1))"
   ]
  },
  {
   "cell_type": "code",
   "execution_count": null,
   "metadata": {},
   "outputs": [],
   "source": [
    "#hide\n",
    "%%HTML\n",
    "<video width=\"420\" height=\"315\" controls autoplay>\n",
    "    <source src=\"../../data/datasets/videos/art_and_design/pixel_art_paint/scenario2/video.mp4\" type=\"video/mp4\"/>\n",
    "</video>"
   ]
  },
  {
   "cell_type": "code",
   "execution_count": null,
   "metadata": {},
   "outputs": [],
   "source": [
    "#hide\n",
    "%%HTML\n",
    "<video width=\"420\" height=\"315\" controls autoplay>\n",
    "    <source src=\"../../data/datasets/videos/art_and_design/pixel_art_paint/scenario1/video.mp4\" type=\"video/mp4\"/>\n",
    "</video>"
   ]
  },
  {
   "cell_type": "code",
   "execution_count": null,
   "metadata": {},
   "outputs": [],
   "source": [
    "#hide\n",
    "%%HTML\n",
    "<video width=\"420\" height=\"315\" controls autoplay>\n",
    "    <source src=\"../../data/datasets/videos/auto_and_vehicles/car_part/scenario1/video.mp4\" type=\"video/mp4\"/>\n",
    "</video>"
   ]
  },
  {
   "cell_type": "code",
   "execution_count": 83,
   "metadata": {},
   "outputs": [
    {
     "name": "stdout",
     "output_type": "stream",
     "text": [
      "Converted 00_prep.ipynb.\n",
      "Converted 01_features.ipynb.\n",
      "Converted 02_eval.ipynb.\n",
      "Converted 03_cnn.ipynb.\n",
      "This cell doesn't have an export destination and was ignored:\n",
      " \n",
      "Converted 04.0_experiments.ipynb.\n",
      "Converted 04.1_experiments.codebooks.ipynb.\n",
      "Converted 05_model.ipynb.\n",
      "Converted 06_approach.ipynb.\n",
      "Converted SimCLR.old.ipynb.\n",
      "Converted [Scratch 1] Tango SimCLR.ipynb.\n",
      "Converted [Scratch 2] Tango SimCLR.ipynb.\n",
      "Converted index.ipynb.\n",
      "Converted lesson1-pets.ipynb.\n"
     ]
    }
   ],
   "source": [
    "#hide\n",
    "from nbdev.export import notebook2script\n",
    "notebook2script()"
   ]
  },
  {
   "cell_type": "code",
   "execution_count": null,
   "metadata": {},
   "outputs": [],
   "source": []
  }
 ],
 "metadata": {
  "kernelspec": {
   "display_name": "Python 3",
   "language": "python",
   "name": "python3"
  },
  "language_info": {
   "codemirror_mode": {
    "name": "ipython",
    "version": 3
   },
   "file_extension": ".py",
   "mimetype": "text/x-python",
   "name": "python",
   "nbconvert_exporter": "python",
   "pygments_lexer": "ipython3",
   "version": "3.6.9"
  }
 },
 "nbformat": 4,
 "nbformat_minor": 2
}
