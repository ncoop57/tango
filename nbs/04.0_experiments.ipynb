{
 "cells": [
  {
   "cell_type": "code",
   "execution_count": 15,
   "metadata": {
    "scrolled": true
   },
   "outputs": [
    {
     "name": "stdout",
     "output_type": "stream",
     "text": [
      "Collecting opencv-python==3.4.1.15\n",
      "  Downloading opencv_python-3.4.1.15-cp36-cp36m-manylinux1_x86_64.whl (24.9 MB)\n",
      "\u001b[K     |████████████████████████████████| 24.9 MB 19.3 MB/s eta 0:00:01\n",
      "\u001b[?25hRequirement already satisfied, skipping upgrade: numpy>=1.11.3 in /usr/local/lib/python3.6/dist-packages (from opencv-python==3.4.1.15) (1.16.0)\n",
      "Installing collected packages: opencv-python\n",
      "  Attempting uninstall: opencv-python\n",
      "    Found existing installation: opencv-python 3.4.2.16\n",
      "    Uninstalling opencv-python-3.4.2.16:\n",
      "      Successfully uninstalled opencv-python-3.4.2.16\n",
      "Successfully installed opencv-python-3.4.1.15\n",
      "Collecting opencv-contrib-python==3.4.1.15\n",
      "  Downloading opencv_contrib_python-3.4.1.15-cp36-cp36m-manylinux1_x86_64.whl (30.3 MB)\n",
      "\u001b[K     |████████████████████████████████| 30.3 MB 4.0 MB/s eta 0:00:01\n",
      "\u001b[?25hRequirement already satisfied, skipping upgrade: numpy>=1.11.3 in /usr/local/lib/python3.6/dist-packages (from opencv-contrib-python==3.4.1.15) (1.16.0)\n",
      "Installing collected packages: opencv-contrib-python\n",
      "  Attempting uninstall: opencv-contrib-python\n",
      "    Found existing installation: opencv-contrib-python 3.4.2.16\n",
      "    Uninstalling opencv-contrib-python-3.4.2.16:\n",
      "      Successfully uninstalled opencv-contrib-python-3.4.2.16\n",
      "Successfully installed opencv-contrib-python-3.4.1.15\n"
     ]
    }
   ],
   "source": [
    "! pip install -U opencv-python==3.4.1.15\n",
    "! pip install -U opencv-contrib-python==3.4.1.15"
   ]
  },
  {
   "cell_type": "code",
   "execution_count": 1,
   "metadata": {},
   "outputs": [],
   "source": [
    "#hide\n",
    "%load_ext autoreload\n",
    "%autoreload 2\n",
    "%matplotlib inline"
   ]
  },
  {
   "cell_type": "markdown",
   "metadata": {},
   "source": [
    "# Experiments\n",
    "\n",
    "> This module contains all the code for running our experiments for Tango."
   ]
  },
  {
   "cell_type": "code",
   "execution_count": 1,
   "metadata": {},
   "outputs": [],
   "source": [
    "#hide\n",
    "import cv2\n",
    "import pickle\n",
    "\n",
    "import numpy as np\n",
    "\n",
    "from collections import defaultdict, OrderedDict\n",
    "\n",
    "from tqdm.auto import tqdm\n",
    "\n",
    "# tango\n",
    "from tango.prep import *\n",
    "from tango.features import *\n",
    "from tango.eval import *\n",
    "from tango.model import *\n",
    "\n",
    "from pathlib import Path\n",
    "from PIL import Image\n",
    "\n",
    "from pprint import pprint\n",
    "\n",
    "from matplotlib import pyplot as plt\n",
    "\n",
    "from nbdev.showdoc import *\n",
    "\n",
    "from sklearn.cluster import KMeans"
   ]
  },
  {
   "cell_type": "markdown",
   "metadata": {},
   "source": [
    "## Setup data"
   ]
  },
  {
   "cell_type": "code",
   "execution_count": 2,
   "metadata": {},
   "outputs": [
    {
     "data": {
      "text/plain": [
       "1000"
      ]
     },
     "execution_count": 2,
     "metadata": {},
     "output_type": "execute_result"
    }
   ],
   "source": [
    "from random import sample\n",
    "\n",
    "rico_path = Path('/tf/data/combined/data')\n",
    "img_paths = sorted(rico_path.glob('*.jpg'))\n",
    "\n",
    "n = 1_000\n",
    "sampled_imgs = [Image.open(img) for img in sample(img_paths, n)]\n",
    "len(sampled_imgs)"
   ]
  },
  {
   "cell_type": "code",
   "execution_count": 3,
   "metadata": {},
   "outputs": [
    {
     "data": {
      "text/plain": [
       "['car_part', 'king_james', 'remote']"
      ]
     },
     "execution_count": 3,
     "metadata": {},
     "output_type": "execute_result"
    }
   ],
   "source": [
    "path = Path(\"/tf/data/datasets/validation_videos\")\n",
    "vid_ds = VideoDataset.from_path(path).label_from_paths()\n",
    "vid_ds.get_labels()"
   ]
  },
  {
   "cell_type": "markdown",
   "metadata": {},
   "source": [
    "## Define different models to run experiments on:\n",
    "- SIFT baseline model - (M01)\n",
    "- CNN non-layered non-finetuned baseline model - (M02)\n",
    "- CNN non-layered finetuned baseline model - (M03)\n",
    "- CNN layered non-finetuned baseline model - (M04)\n",
    "- CNN layered finetuned baseline model - (M05)"
   ]
  },
  {
   "cell_type": "code",
   "execution_count": 4,
   "metadata": {},
   "outputs": [],
   "source": [
    "# SIFT based models:\n",
    "M00 = SIFTExtractor(cv2.xfeatures2d.SIFT_create())\n",
    "\n",
    "# CNN based models:\n",
    "model = SimCLRModel.load_from_checkpoint(checkpoint_path='/tf/data/models/simclr/checkpointepoch=98.ckpt').eval()\n",
    "M01 = SimCLRExtractor(model)\n",
    "# M01 = CNNExtractor(createExtractor(None, None, 'resnet50', False))\n",
    "# learn, linear_output_layer = cnn.trainPetsModel() # Need to change to training on android screenshots\n",
    "# M02 = CNNExtractor(cnn.createExtractor(learn, linear_output_layer, 'resnet50', True))\n",
    "# M03 = CNNExtractor(createLayeredExtractor()) # TODO: Rego over implementation as it doesn't seem to generate multiple visual codebooks\n",
    "# Need to create code for using finetuned layered cnn model M05\n",
    "\n",
    "models_under_study = [M00, M01] # [M01, M02, M04]"
   ]
  },
  {
   "cell_type": "code",
   "execution_count": 5,
   "metadata": {},
   "outputs": [],
   "source": [
    "def gen_all_codebooks(imgs, models, vw):\n",
    "    for i, model in enumerate(models):\n",
    "        codebook = gen_vcodebook(imgs, model, vw)\n",
    "        fname = f'/tf/data/models/cookbook_M{i:02}_{len(imgs)}n_{vw}vw.model'\n",
    "        pickle.dump(codebook, open(fname, 'wb'))"
   ]
  },
  {
   "cell_type": "code",
   "execution_count": 6,
   "metadata": {
    "scrolled": true
   },
   "outputs": [
    {
     "name": "stdout",
     "output_type": "stream",
     "text": [
      "(3009727, 128)\n",
      "(1000, 64)\n"
     ]
    }
   ],
   "source": [
    "vw = 100\n",
    "gen_all_codebooks(sampled_imgs, models_under_study, vw)"
   ]
  },
  {
   "cell_type": "markdown",
   "metadata": {},
   "source": [
    "## Experiment 01\n",
    "Ability for each model to detect duplicate bug report videos.\n",
    "\n",
    "**TODO:** Need to vary hyperparameters of different values such as number of visual words to include in codebooks"
   ]
  },
  {
   "cell_type": "code",
   "execution_count": 58,
   "metadata": {},
   "outputs": [],
   "source": [
    "def gen_tfidfs(vid_ds, mdl, vw, codebook, df, ftk):\n",
    "#     vid_tfids = results = defaultdict(\n",
    "#         lambda: defaultdict(list)\n",
    "#     )\n",
    "    vid_tfids = defaultdict(\n",
    "        lambda: defaultdict(list)\n",
    "    )\n",
    "    for app, reports in tqdm(vid_ds.labels.items()):\n",
    "        for i, (report, vids) in enumerate(reports.items()):\n",
    "            for vid in vids:\n",
    "                bovw = new_get_bovw(vid, mdl, codebook, vw, frames_to_keep = ftk)\n",
    "                vid_tfids[app][report].append(calc_tf_idf(bovw, df))\n",
    "    \n",
    "    return vid_tfids"
   ]
  },
  {
   "cell_type": "code",
   "execution_count": 64,
   "metadata": {},
   "outputs": [],
   "source": [
    "def get_results(vid_ds, imgs, mdls, vw, ftk):\n",
    "    results = {}\n",
    "    \n",
    "    for m, mdl in enumerate(mdls):\n",
    "        fname = f'/tf/data/models/cookbook_M{m:02}_{len(imgs)}n_{vw}vw.model'\n",
    "        codebook = pickle.load(open(fname, 'rb'))\n",
    "        results[f'M{m:02}-{vw}'] = {}\n",
    "        df = get_df(imgs, mdl, codebook, vw)\n",
    "        print(df)\n",
    "        vid_tfids = gen_tfidfs(vid_ds, mdl, vw, codebook, df, ftk)\n",
    "        for app, reports in vid_ds.labels.items():\n",
    "            results[f'M{m:02}-{vw}'][app] = {}\n",
    "            for report_i in reports:\n",
    "                results[f'M{m:02}-{vw}'][app][report_i] = {}\n",
    "                for report_j in reports:\n",
    "                    results[f'M{m:02}-{vw}'][app][report_i][report_j] = {}\n",
    "                    for k in range(len(vid_tfids[app][report_i])):\n",
    "                        results[f'M{m:02}-{vw}'][app][report_i][report_j][f'vid_{k}'] = {}\n",
    "                        for l in range(len(vid_tfids[app][report_j])):\n",
    "                            results[f'M{m:02}-{vw}'][app][report_i][report_j][f'vid_{k}'][f'vid_{l}'] = np.dot(vid_tfids[app][report_i][k], vid_tfids[app][report_j][l]) / (np.linalg.norm(vid_tfids[app][report_i][k]) * np.linalg.norm(vid_tfids[app][report_j][l]))\n",
    "    \n",
    "    return results"
   ]
  },
  {
   "cell_type": "code",
   "execution_count": 65,
   "metadata": {
    "scrolled": true
   },
   "outputs": [
    {
     "name": "stdout",
     "output_type": "stream",
     "text": [
      "(array([26233, 43038, 32635, 35807, 31230, 30390, 33935, 40805, 41342, 26798]), array([0. , 0.9, 1.8, 2.7, 3.6, 4.5, 5.4, 6.3, 7.2, 8.1, 9. ]))\n"
     ]
    },
    {
     "data": {
      "application/vnd.jupyter.widget-view+json": {
       "model_id": "304aea4ddf594945ae3cae5a35cb5b22",
       "version_major": 2,
       "version_minor": 0
      },
      "text/plain": [
       "HBox(children=(FloatProgress(value=0.0, max=3.0), HTML(value='')))"
      ]
     },
     "metadata": {},
     "output_type": "display_data"
    },
    {
     "name": "stdout",
     "output_type": "stream",
     "text": [
      "\n",
      "(array([10, 12, 12, 11,  3,  2, 31, 10,  7,  2]), array([0. , 0.9, 1.8, 2.7, 3.6, 4.5, 5.4, 6.3, 7.2, 8.1, 9. ]))\n"
     ]
    },
    {
     "data": {
      "application/vnd.jupyter.widget-view+json": {
       "model_id": "054b7622acb84161b305085cc53159d3",
       "version_major": 2,
       "version_minor": 0
      },
      "text/plain": [
       "HBox(children=(FloatProgress(value=0.0, max=3.0), HTML(value='')))"
      ]
     },
     "metadata": {},
     "output_type": "display_data"
    },
    {
     "name": "stdout",
     "output_type": "stream",
     "text": [
      "\n"
     ]
    }
   ],
   "source": [
    "results = get_results(vid_ds, sampled_imgs, models_under_study, vw, 1)"
   ]
  },
  {
   "cell_type": "code",
   "execution_count": 71,
   "metadata": {},
   "outputs": [],
   "source": [
    "def flatten_dict(d_in, d_out, parent_key):\n",
    "    for k, v in d_in.items():\n",
    "        if isinstance(v, dict):\n",
    "            flatten_dict(v, d_out, parent_key + (k,))\n",
    "        else:\n",
    "            d_out[parent_key + (k,)] = v"
   ]
  },
  {
   "cell_type": "code",
   "execution_count": 72,
   "metadata": {},
   "outputs": [],
   "source": [
    "def sort_results(results):\n",
    "    sorted_results = {}\n",
    "    for m in results:\n",
    "        sorted_results[m] = {}\n",
    "        for app in results[m]:\n",
    "            sorted_results[m][app] = {}\n",
    "            d_out = {}\n",
    "            flatten_dict(results[m][app], d_out, tuple())\n",
    "            sorted_results[m][app] = OrderedDict(\n",
    "                sorted(d_out.items(), key=lambda x: x[1], reverse = True)\n",
    "            )\n",
    "    \n",
    "    return sorted_results"
   ]
  },
  {
   "cell_type": "code",
   "execution_count": 66,
   "metadata": {},
   "outputs": [
    {
     "data": {
      "text/plain": [
       "{'M00-10': {'car_part': {'S01': {'S01': {'vid_0': {'vid_0': 1.0000000000000002,\n",
       "      'vid_1': 0.999929179640817,\n",
       "      'vid_2': 1.0000000000000002,\n",
       "      'vid_3': 0.9954642215340738,\n",
       "      'vid_4': 1.0000000000000002},\n",
       "     'vid_1': {'vid_0': 0.999929179640817,\n",
       "      'vid_1': 0.9999999999999999,\n",
       "      'vid_2': 0.999929179640817,\n",
       "      'vid_3': 0.9965259513657374,\n",
       "      'vid_4': 0.999929179640817},\n",
       "     'vid_2': {'vid_0': 1.0000000000000002,\n",
       "      'vid_1': 0.999929179640817,\n",
       "      'vid_2': 1.0000000000000002,\n",
       "      'vid_3': 0.9954642215340738,\n",
       "      'vid_4': 1.0000000000000002},\n",
       "     'vid_3': {'vid_0': 0.9954642215340738,\n",
       "      'vid_1': 0.9965259513657374,\n",
       "      'vid_2': 0.9954642215340738,\n",
       "      'vid_3': 1.0000000000000002,\n",
       "      'vid_4': 0.9954642215340738},\n",
       "     'vid_4': {'vid_0': 1.0000000000000002,\n",
       "      'vid_1': 0.999929179640817,\n",
       "      'vid_2': 1.0000000000000002,\n",
       "      'vid_3': 0.9954642215340738,\n",
       "      'vid_4': 1.0000000000000002}},\n",
       "    'S02': {'vid_0': {'vid_0': 0.9666949192959402},\n",
       "     'vid_1': {'vid_0': 0.969672318852902},\n",
       "     'vid_2': {'vid_0': 0.9666949192959402},\n",
       "     'vid_3': {'vid_0': 0.9866586728763327},\n",
       "     'vid_4': {'vid_0': 0.9666949192959402}},\n",
       "    'S03': {'vid_0': {'vid_0': 0.9995740016689671},\n",
       "     'vid_1': {'vid_0': 0.9998505548866943},\n",
       "     'vid_2': {'vid_0': 0.9995740016689671},\n",
       "     'vid_3': {'vid_0': 0.9978168018551699},\n",
       "     'vid_4': {'vid_0': 0.9995740016689671}}},\n",
       "   'S02': {'S01': {'vid_0': {'vid_0': 0.9666949192959402,\n",
       "      'vid_1': 0.969672318852902,\n",
       "      'vid_2': 0.9666949192959402,\n",
       "      'vid_3': 0.9866586728763327,\n",
       "      'vid_4': 0.9666949192959402}},\n",
       "    'S02': {'vid_0': {'vid_0': 1.0}},\n",
       "    'S03': {'vid_0': {'vid_0': 0.9737526931680499}}},\n",
       "   'S03': {'S01': {'vid_0': {'vid_0': 0.9995740016689671,\n",
       "      'vid_1': 0.9998505548866943,\n",
       "      'vid_2': 0.9995740016689671,\n",
       "      'vid_3': 0.9978168018551699,\n",
       "      'vid_4': 0.9995740016689671}},\n",
       "    'S02': {'vid_0': {'vid_0': 0.9737526931680499}},\n",
       "    'S03': {'vid_0': {'vid_0': 1.0000000000000002}}}},\n",
       "  'king_james': {'S01': {'S01': {'vid_0': {'vid_0': 1.0,\n",
       "      'vid_1': 0.9987799096698969,\n",
       "      'vid_2': 0.9984558763910734,\n",
       "      'vid_3': 0.9987799096698969,\n",
       "      'vid_4': 0.9994787642062632,\n",
       "      'vid_5': 0.9987799096698969},\n",
       "     'vid_1': {'vid_0': 0.9987799096698969,\n",
       "      'vid_1': 1.0,\n",
       "      'vid_2': 0.9999809289126662,\n",
       "      'vid_3': 1.0,\n",
       "      'vid_4': 0.9998535509048275,\n",
       "      'vid_5': 1.0},\n",
       "     'vid_2': {'vid_0': 0.9984558763910734,\n",
       "      'vid_1': 0.9999809289126662,\n",
       "      'vid_2': 1.0000000000000002,\n",
       "      'vid_3': 0.9999809289126662,\n",
       "      'vid_4': 0.9997287903715231,\n",
       "      'vid_5': 0.9999809289126662},\n",
       "     'vid_3': {'vid_0': 0.9987799096698969,\n",
       "      'vid_1': 1.0,\n",
       "      'vid_2': 0.9999809289126662,\n",
       "      'vid_3': 1.0,\n",
       "      'vid_4': 0.9998535509048275,\n",
       "      'vid_5': 1.0},\n",
       "     'vid_4': {'vid_0': 0.9994787642062632,\n",
       "      'vid_1': 0.9998535509048275,\n",
       "      'vid_2': 0.9997287903715231,\n",
       "      'vid_3': 0.9998535509048275,\n",
       "      'vid_4': 1.0,\n",
       "      'vid_5': 0.9998535509048275},\n",
       "     'vid_5': {'vid_0': 0.9987799096698969,\n",
       "      'vid_1': 1.0,\n",
       "      'vid_2': 0.9999809289126662,\n",
       "      'vid_3': 1.0,\n",
       "      'vid_4': 0.9998535509048275,\n",
       "      'vid_5': 1.0}},\n",
       "    'S02': {'vid_0': {'vid_0': 0.9999737351418152},\n",
       "     'vid_1': {'vid_0': 0.9991115904205878},\n",
       "     'vid_2': {'vid_0': 0.9988322652708509},\n",
       "     'vid_3': {'vid_0': 0.9991115904205878},\n",
       "     'vid_4': {'vid_0': 0.9996864911274742},\n",
       "     'vid_5': {'vid_0': 0.9991115904205878}},\n",
       "    'S03': {'vid_0': {'vid_0': 0.9970316955075472},\n",
       "     'vid_1': {'vid_0': 0.9996173412111611},\n",
       "     'vid_2': {'vid_0': 0.9997691136394677},\n",
       "     'vid_3': {'vid_0': 0.9996173412111611},\n",
       "     'vid_4': {'vid_0': 0.998997555259757},\n",
       "     'vid_5': {'vid_0': 0.9996173412111611}},\n",
       "    'S04': {'vid_0': {'vid_0': 0.9992705694144772},\n",
       "     'vid_1': {'vid_0': 0.9999372151714121},\n",
       "     'vid_2': {'vid_0': 0.9998489404855655},\n",
       "     'vid_3': {'vid_0': 0.9999372151714121},\n",
       "     'vid_4': {'vid_0': 0.9999825440842133},\n",
       "     'vid_5': {'vid_0': 0.9999372151714121}}},\n",
       "   'S02': {'S01': {'vid_0': {'vid_0': 0.9999737351418152,\n",
       "      'vid_1': 0.9991115904205878,\n",
       "      'vid_2': 0.9988322652708509,\n",
       "      'vid_3': 0.9991115904205878,\n",
       "      'vid_4': 0.9996864911274742,\n",
       "      'vid_5': 0.9991115904205878}},\n",
       "    'S02': {'vid_0': {'vid_0': 1.0}},\n",
       "    'S03': {'vid_0': {'vid_0': 0.9975635242621728}},\n",
       "    'S04': {'vid_0': {'vid_0': 0.999521099089468}}},\n",
       "   'S03': {'S01': {'vid_0': {'vid_0': 0.9970316955075472,\n",
       "      'vid_1': 0.9996173412111611,\n",
       "      'vid_2': 0.9997691136394677,\n",
       "      'vid_3': 0.9996173412111611,\n",
       "      'vid_4': 0.998997555259757,\n",
       "      'vid_5': 0.9996173412111611}},\n",
       "    'S02': {'vid_0': {'vid_0': 0.9975635242621728}},\n",
       "    'S03': {'vid_0': {'vid_0': 1.0}},\n",
       "    'S04': {'vid_0': {'vid_0': 0.9992446138567661}}},\n",
       "   'S04': {'S01': {'vid_0': {'vid_0': 0.9992705694144772,\n",
       "      'vid_1': 0.9999372151714121,\n",
       "      'vid_2': 0.9998489404855655,\n",
       "      'vid_3': 0.9999372151714121,\n",
       "      'vid_4': 0.9999825440842133,\n",
       "      'vid_5': 0.9999372151714121}},\n",
       "    'S02': {'vid_0': {'vid_0': 0.999521099089468}},\n",
       "    'S03': {'vid_0': {'vid_0': 0.9992446138567661}},\n",
       "    'S04': {'vid_0': {'vid_0': 1.0000000000000002}}}},\n",
       "  'remote': {'S01': {'S01': {'vid_0': {'vid_0': 0.9999999999999999,\n",
       "      'vid_1': 0.999331908361729,\n",
       "      'vid_2': 0.9985915393441231,\n",
       "      'vid_3': 0.999331908361729,\n",
       "      'vid_4': 0.999420135118083,\n",
       "      'vid_5': 0.999331908361729},\n",
       "     'vid_1': {'vid_0': 0.999331908361729,\n",
       "      'vid_1': 1.0,\n",
       "      'vid_2': 0.9959853126071831,\n",
       "      'vid_3': 1.0,\n",
       "      'vid_4': 0.9975079853266601,\n",
       "      'vid_5': 1.0},\n",
       "     'vid_2': {'vid_0': 0.9985915393441231,\n",
       "      'vid_1': 0.9959853126071831,\n",
       "      'vid_2': 1.0,\n",
       "      'vid_3': 0.9959853126071831,\n",
       "      'vid_4': 0.9998190404744526,\n",
       "      'vid_5': 0.9959853126071831},\n",
       "     'vid_3': {'vid_0': 0.999331908361729,\n",
       "      'vid_1': 1.0,\n",
       "      'vid_2': 0.9959853126071831,\n",
       "      'vid_3': 1.0,\n",
       "      'vid_4': 0.9975079853266601,\n",
       "      'vid_5': 1.0},\n",
       "     'vid_4': {'vid_0': 0.999420135118083,\n",
       "      'vid_1': 0.9975079853266601,\n",
       "      'vid_2': 0.9998190404744526,\n",
       "      'vid_3': 0.9975079853266601,\n",
       "      'vid_4': 1.0,\n",
       "      'vid_5': 0.9975079853266601},\n",
       "     'vid_5': {'vid_0': 0.999331908361729,\n",
       "      'vid_1': 1.0,\n",
       "      'vid_2': 0.9959853126071831,\n",
       "      'vid_3': 1.0,\n",
       "      'vid_4': 0.9975079853266601,\n",
       "      'vid_5': 1.0}},\n",
       "    'S02': {'vid_0': {'vid_0': 0.9999645929160167},\n",
       "     'vid_1': {'vid_0': 0.9989889742464251},\n",
       "     'vid_2': {'vid_0': 0.9990026504168807},\n",
       "     'vid_3': {'vid_0': 0.9989889742464251},\n",
       "     'vid_4': {'vid_0': 0.9996712796004215},\n",
       "     'vid_5': {'vid_0': 0.9989889742464251}},\n",
       "    'S03': {'vid_0': {'vid_0': 0.9998461818852077},\n",
       "     'vid_1': {'vid_0': 0.9985371864052156},\n",
       "     'vid_2': {'vid_0': 0.9993684808213922},\n",
       "     'vid_3': {'vid_0': 0.9985371864052156},\n",
       "     'vid_4': {'vid_0': 0.9998636029987492},\n",
       "     'vid_5': {'vid_0': 0.9985371864052156}},\n",
       "    'S04': {'vid_0': {'vid_0': 0.9990398547476762},\n",
       "     'vid_1': {'vid_0': 0.9967712263969868},\n",
       "     'vid_2': {'vid_0': 0.9999571609293075},\n",
       "     'vid_3': {'vid_0': 0.9967712263969868},\n",
       "     'vid_4': {'vid_0': 0.9999522917554204},\n",
       "     'vid_5': {'vid_0': 0.9967712263969868}}},\n",
       "   'S02': {'S01': {'vid_0': {'vid_0': 0.9999645929160167,\n",
       "      'vid_1': 0.9989889742464251,\n",
       "      'vid_2': 0.9990026504168807,\n",
       "      'vid_3': 0.9989889742464251,\n",
       "      'vid_4': 0.9996712796004215,\n",
       "      'vid_5': 0.9989889742464251}},\n",
       "    'S02': {'vid_0': {'vid_0': 1.0000000000000002}},\n",
       "    'S03': {'vid_0': {'vid_0': 0.9999583707028858}},\n",
       "    'S04': {'vid_0': {'vid_0': 0.9993731496485019}}},\n",
       "   'S03': {'S01': {'vid_0': {'vid_0': 0.9998461818852077,\n",
       "      'vid_1': 0.9985371864052156,\n",
       "      'vid_2': 0.9993684808213922,\n",
       "      'vid_3': 0.9985371864052156,\n",
       "      'vid_4': 0.9998636029987492,\n",
       "      'vid_5': 0.9985371864052156}},\n",
       "    'S02': {'vid_0': {'vid_0': 0.9999583707028858}},\n",
       "    'S03': {'vid_0': {'vid_0': 1.0000000000000002}},\n",
       "    'S04': {'vid_0': {'vid_0': 0.9996545734895416}}},\n",
       "   'S04': {'S01': {'vid_0': {'vid_0': 0.9990398547476762,\n",
       "      'vid_1': 0.9967712263969868,\n",
       "      'vid_2': 0.9999571609293075,\n",
       "      'vid_3': 0.9967712263969868,\n",
       "      'vid_4': 0.9999522917554204,\n",
       "      'vid_5': 0.9967712263969868}},\n",
       "    'S02': {'vid_0': {'vid_0': 0.9993731496485019}},\n",
       "    'S03': {'vid_0': {'vid_0': 0.9996545734895416}},\n",
       "    'S04': {'vid_0': {'vid_0': 1.0000000000000002}}}}},\n",
       " 'M01-10': {'car_part': {'S01': {'S01': {'vid_0': {'vid_0': 0.9999999999999999,\n",
       "      'vid_1': 1.0,\n",
       "      'vid_2': 0.9999999999999999,\n",
       "      'vid_3': 1.0,\n",
       "      'vid_4': 0.9999999999999999},\n",
       "     'vid_1': {'vid_0': 1.0,\n",
       "      'vid_1': 1.0,\n",
       "      'vid_2': 1.0,\n",
       "      'vid_3': 1.0000000000000002,\n",
       "      'vid_4': 1.0},\n",
       "     'vid_2': {'vid_0': 0.9999999999999999,\n",
       "      'vid_1': 1.0,\n",
       "      'vid_2': 0.9999999999999999,\n",
       "      'vid_3': 1.0,\n",
       "      'vid_4': 0.9999999999999999},\n",
       "     'vid_3': {'vid_0': 1.0,\n",
       "      'vid_1': 1.0000000000000002,\n",
       "      'vid_2': 1.0,\n",
       "      'vid_3': 1.0,\n",
       "      'vid_4': 1.0},\n",
       "     'vid_4': {'vid_0': 0.9999999999999999,\n",
       "      'vid_1': 1.0,\n",
       "      'vid_2': 0.9999999999999999,\n",
       "      'vid_3': 1.0,\n",
       "      'vid_4': 0.9999999999999999}},\n",
       "    'S02': {'vid_0': {'vid_0': 0.9701848034641165},\n",
       "     'vid_1': {'vid_0': 0.9701848034641164},\n",
       "     'vid_2': {'vid_0': 0.9701848034641165},\n",
       "     'vid_3': {'vid_0': 0.9701848034641165},\n",
       "     'vid_4': {'vid_0': 0.9701848034641165}},\n",
       "    'S03': {'vid_0': {'vid_0': 1.0000000000000002},\n",
       "     'vid_1': {'vid_0': 1.0000000000000002},\n",
       "     'vid_2': {'vid_0': 1.0000000000000002},\n",
       "     'vid_3': {'vid_0': 1.0000000000000002},\n",
       "     'vid_4': {'vid_0': 1.0000000000000002}}},\n",
       "   'S02': {'S01': {'vid_0': {'vid_0': 0.9701848034641165,\n",
       "      'vid_1': 0.9701848034641164,\n",
       "      'vid_2': 0.9701848034641165,\n",
       "      'vid_3': 0.9701848034641165,\n",
       "      'vid_4': 0.9701848034641165}},\n",
       "    'S02': {'vid_0': {'vid_0': 1.0000000000000002}},\n",
       "    'S03': {'vid_0': {'vid_0': 0.9701848034641165}}},\n",
       "   'S03': {'S01': {'vid_0': {'vid_0': 1.0000000000000002,\n",
       "      'vid_1': 1.0000000000000002,\n",
       "      'vid_2': 1.0000000000000002,\n",
       "      'vid_3': 1.0000000000000002,\n",
       "      'vid_4': 1.0000000000000002}},\n",
       "    'S02': {'vid_0': {'vid_0': 0.9701848034641165}},\n",
       "    'S03': {'vid_0': {'vid_0': 1.0000000000000002}}}},\n",
       "  'king_james': {'S01': {'S01': {'vid_0': {'vid_0': 1.0,\n",
       "      'vid_1': 1.0,\n",
       "      'vid_2': 1.0,\n",
       "      'vid_3': 1.0,\n",
       "      'vid_4': 0.9999999999999999,\n",
       "      'vid_5': 1.0},\n",
       "     'vid_1': {'vid_0': 1.0,\n",
       "      'vid_1': 1.0,\n",
       "      'vid_2': 1.0,\n",
       "      'vid_3': 1.0,\n",
       "      'vid_4': 1.0000000000000002,\n",
       "      'vid_5': 1.0},\n",
       "     'vid_2': {'vid_0': 1.0,\n",
       "      'vid_1': 1.0,\n",
       "      'vid_2': 1.0,\n",
       "      'vid_3': 1.0,\n",
       "      'vid_4': 1.0000000000000002,\n",
       "      'vid_5': 1.0},\n",
       "     'vid_3': {'vid_0': 1.0,\n",
       "      'vid_1': 1.0,\n",
       "      'vid_2': 1.0,\n",
       "      'vid_3': 1.0,\n",
       "      'vid_4': 1.0000000000000002,\n",
       "      'vid_5': 1.0},\n",
       "     'vid_4': {'vid_0': 0.9999999999999999,\n",
       "      'vid_1': 1.0000000000000002,\n",
       "      'vid_2': 1.0000000000000002,\n",
       "      'vid_3': 1.0000000000000002,\n",
       "      'vid_4': 1.0,\n",
       "      'vid_5': 1.0000000000000002},\n",
       "     'vid_5': {'vid_0': 1.0,\n",
       "      'vid_1': 1.0,\n",
       "      'vid_2': 1.0,\n",
       "      'vid_3': 1.0,\n",
       "      'vid_4': 1.0000000000000002,\n",
       "      'vid_5': 1.0}},\n",
       "    'S02': {'vid_0': {'vid_0': 0.9999999999999999},\n",
       "     'vid_1': {'vid_0': 0.9999999999999998},\n",
       "     'vid_2': {'vid_0': 1.0},\n",
       "     'vid_3': {'vid_0': 0.9999999999999998},\n",
       "     'vid_4': {'vid_0': 0.9999999999999998},\n",
       "     'vid_5': {'vid_0': 0.9999999999999998}},\n",
       "    'S03': {'vid_0': {'vid_0': 0.9701848034641164},\n",
       "     'vid_1': {'vid_0': 0.9701848034641164},\n",
       "     'vid_2': {'vid_0': 0.9701848034641165},\n",
       "     'vid_3': {'vid_0': 0.9701848034641164},\n",
       "     'vid_4': {'vid_0': 0.9701848034641165},\n",
       "     'vid_5': {'vid_0': 0.9701848034641164}},\n",
       "    'S04': {'vid_0': {'vid_0': 1.0},\n",
       "     'vid_1': {'vid_0': 1.0},\n",
       "     'vid_2': {'vid_0': 1.0},\n",
       "     'vid_3': {'vid_0': 1.0},\n",
       "     'vid_4': {'vid_0': 1.0},\n",
       "     'vid_5': {'vid_0': 1.0}}},\n",
       "   'S02': {'S01': {'vid_0': {'vid_0': 0.9999999999999999,\n",
       "      'vid_1': 0.9999999999999998,\n",
       "      'vid_2': 1.0,\n",
       "      'vid_3': 0.9999999999999998,\n",
       "      'vid_4': 0.9999999999999998,\n",
       "      'vid_5': 0.9999999999999998}},\n",
       "    'S02': {'vid_0': {'vid_0': 0.9999999999999999}},\n",
       "    'S03': {'vid_0': {'vid_0': 0.9701848034641164}},\n",
       "    'S04': {'vid_0': {'vid_0': 1.0}}},\n",
       "   'S03': {'S01': {'vid_0': {'vid_0': 0.9701848034641164,\n",
       "      'vid_1': 0.9701848034641164,\n",
       "      'vid_2': 0.9701848034641165,\n",
       "      'vid_3': 0.9701848034641164,\n",
       "      'vid_4': 0.9701848034641165,\n",
       "      'vid_5': 0.9701848034641164}},\n",
       "    'S02': {'vid_0': {'vid_0': 0.9701848034641164}},\n",
       "    'S03': {'vid_0': {'vid_0': 1.0}},\n",
       "    'S04': {'vid_0': {'vid_0': 0.9701848034641164}}},\n",
       "   'S04': {'S01': {'vid_0': {'vid_0': 1.0,\n",
       "      'vid_1': 1.0,\n",
       "      'vid_2': 1.0,\n",
       "      'vid_3': 1.0,\n",
       "      'vid_4': 1.0,\n",
       "      'vid_5': 1.0}},\n",
       "    'S02': {'vid_0': {'vid_0': 1.0}},\n",
       "    'S03': {'vid_0': {'vid_0': 0.9701848034641164}},\n",
       "    'S04': {'vid_0': {'vid_0': 1.0}}}},\n",
       "  'remote': {'S01': {'S01': {'vid_0': {'vid_0': 1.0,\n",
       "      'vid_1': 0.99922297569753,\n",
       "      'vid_2': 1.0,\n",
       "      'vid_3': 0.99922297569753,\n",
       "      'vid_4': 0.9999999999999998,\n",
       "      'vid_5': 0.99922297569753},\n",
       "     'vid_1': {'vid_0': 0.99922297569753,\n",
       "      'vid_1': 1.0,\n",
       "      'vid_2': 0.9992229756975298,\n",
       "      'vid_3': 1.0,\n",
       "      'vid_4': 0.9992229756975299,\n",
       "      'vid_5': 1.0},\n",
       "     'vid_2': {'vid_0': 1.0,\n",
       "      'vid_1': 0.9992229756975298,\n",
       "      'vid_2': 1.0,\n",
       "      'vid_3': 0.9992229756975298,\n",
       "      'vid_4': 1.0,\n",
       "      'vid_5': 0.9992229756975298},\n",
       "     'vid_3': {'vid_0': 0.99922297569753,\n",
       "      'vid_1': 1.0,\n",
       "      'vid_2': 0.9992229756975298,\n",
       "      'vid_3': 1.0,\n",
       "      'vid_4': 0.9992229756975299,\n",
       "      'vid_5': 1.0},\n",
       "     'vid_4': {'vid_0': 0.9999999999999998,\n",
       "      'vid_1': 0.9992229756975299,\n",
       "      'vid_2': 1.0,\n",
       "      'vid_3': 0.9992229756975299,\n",
       "      'vid_4': 1.0,\n",
       "      'vid_5': 0.9992229756975299},\n",
       "     'vid_5': {'vid_0': 0.99922297569753,\n",
       "      'vid_1': 1.0,\n",
       "      'vid_2': 0.9992229756975298,\n",
       "      'vid_3': 1.0,\n",
       "      'vid_4': 0.9992229756975299,\n",
       "      'vid_5': 1.0}},\n",
       "    'S02': {'vid_0': {'vid_0': 1.0000000000000002},\n",
       "     'vid_1': {'vid_0': 0.9992229756975298},\n",
       "     'vid_2': {'vid_0': 1.0},\n",
       "     'vid_3': {'vid_0': 0.9992229756975298},\n",
       "     'vid_4': {'vid_0': 1.0000000000000002},\n",
       "     'vid_5': {'vid_0': 0.9992229756975298}},\n",
       "    'S03': {'vid_0': {'vid_0': 1.0},\n",
       "     'vid_1': {'vid_0': 0.9992229756975297},\n",
       "     'vid_2': {'vid_0': 0.9999999999999998},\n",
       "     'vid_3': {'vid_0': 0.9992229756975297},\n",
       "     'vid_4': {'vid_0': 1.0000000000000002},\n",
       "     'vid_5': {'vid_0': 0.9992229756975297}},\n",
       "    'S04': {'vid_0': {'vid_0': 1.0},\n",
       "     'vid_1': {'vid_0': 0.9992229756975299},\n",
       "     'vid_2': {'vid_0': 0.9999999999999999},\n",
       "     'vid_3': {'vid_0': 0.9992229756975299},\n",
       "     'vid_4': {'vid_0': 1.0},\n",
       "     'vid_5': {'vid_0': 0.9992229756975299}}},\n",
       "   'S02': {'S01': {'vid_0': {'vid_0': 1.0000000000000002,\n",
       "      'vid_1': 0.9992229756975298,\n",
       "      'vid_2': 1.0,\n",
       "      'vid_3': 0.9992229756975298,\n",
       "      'vid_4': 1.0000000000000002,\n",
       "      'vid_5': 0.9992229756975298}},\n",
       "    'S02': {'vid_0': {'vid_0': 1.0000000000000002}},\n",
       "    'S03': {'vid_0': {'vid_0': 1.0000000000000002}},\n",
       "    'S04': {'vid_0': {'vid_0': 1.0000000000000002}}},\n",
       "   'S03': {'S01': {'vid_0': {'vid_0': 1.0,\n",
       "      'vid_1': 0.9992229756975297,\n",
       "      'vid_2': 0.9999999999999998,\n",
       "      'vid_3': 0.9992229756975297,\n",
       "      'vid_4': 1.0000000000000002,\n",
       "      'vid_5': 0.9992229756975297}},\n",
       "    'S02': {'vid_0': {'vid_0': 1.0000000000000002}},\n",
       "    'S03': {'vid_0': {'vid_0': 1.0}},\n",
       "    'S04': {'vid_0': {'vid_0': 1.0}}},\n",
       "   'S04': {'S01': {'vid_0': {'vid_0': 1.0,\n",
       "      'vid_1': 0.9992229756975299,\n",
       "      'vid_2': 0.9999999999999999,\n",
       "      'vid_3': 0.9992229756975299,\n",
       "      'vid_4': 1.0,\n",
       "      'vid_5': 0.9992229756975299}},\n",
       "    'S02': {'vid_0': {'vid_0': 1.0000000000000002}},\n",
       "    'S03': {'vid_0': {'vid_0': 1.0}},\n",
       "    'S04': {'vid_0': {'vid_0': 1.0000000000000002}}}}}}"
      ]
     },
     "execution_count": 66,
     "metadata": {},
     "output_type": "execute_result"
    }
   ],
   "source": [
    "sorted_results = sort_results(results)\n",
    "pprint(sorted_results['M01-10'])"
   ]
  },
  {
   "cell_type": "code",
   "execution_count": 75,
   "metadata": {},
   "outputs": [
    {
     "name": "stdout",
     "output_type": "stream",
     "text": [
      "M00-10 mAP: 0.8226391384193659\n",
      "M00-10 mRR: 1.0\n",
      "M01-10 mAP: 0.815679322853196\n",
      "M01-10 mRR: 0.7777777777777778\n"
     ]
    }
   ],
   "source": [
    "evaluate(sorted_results)"
   ]
  },
  {
   "cell_type": "code",
   "execution_count": null,
   "metadata": {},
   "outputs": [],
   "source": []
  },
  {
   "cell_type": "code",
   "execution_count": null,
   "metadata": {},
   "outputs": [],
   "source": []
  },
  {
   "cell_type": "code",
   "execution_count": null,
   "metadata": {},
   "outputs": [],
   "source": []
  },
  {
   "cell_type": "code",
   "execution_count": null,
   "metadata": {},
   "outputs": [],
   "source": []
  },
  {
   "cell_type": "code",
   "execution_count": null,
   "metadata": {},
   "outputs": [],
   "source": []
  },
  {
   "cell_type": "code",
   "execution_count": null,
   "metadata": {},
   "outputs": [],
   "source": []
  },
  {
   "cell_type": "code",
   "execution_count": null,
   "metadata": {},
   "outputs": [],
   "source": []
  },
  {
   "cell_type": "code",
   "execution_count": null,
   "metadata": {},
   "outputs": [],
   "source": []
  },
  {
   "cell_type": "code",
   "execution_count": null,
   "metadata": {},
   "outputs": [],
   "source": []
  },
  {
   "cell_type": "code",
   "execution_count": null,
   "metadata": {},
   "outputs": [],
   "source": []
  },
  {
   "cell_type": "code",
   "execution_count": null,
   "metadata": {},
   "outputs": [],
   "source": []
  },
  {
   "cell_type": "code",
   "execution_count": null,
   "metadata": {},
   "outputs": [],
   "source": []
  },
  {
   "cell_type": "code",
   "execution_count": null,
   "metadata": {},
   "outputs": [
    {
     "data": {
      "application/vnd.jupyter.widget-view+json": {
       "model_id": "cc326dae3f2f4f2d95576e630901321c",
       "version_major": 2,
       "version_minor": 0
      },
      "text/plain": [
       "HBox(children=(FloatProgress(value=0.0, max=1.0), HTML(value='')))"
      ]
     },
     "metadata": {},
     "output_type": "display_data"
    },
    {
     "data": {
      "application/vnd.jupyter.widget-view+json": {
       "model_id": "96d957be3e83491fb95aee25c99efa6f",
       "version_major": 2,
       "version_minor": 0
      },
      "text/plain": [
       "HBox(children=(FloatProgress(value=0.0, max=2.0), HTML(value='')))"
      ]
     },
     "metadata": {},
     "output_type": "display_data"
    },
    {
     "name": "stdout",
     "output_type": "stream",
     "text": [
      "\n",
      "\n"
     ]
    },
    {
     "name": "stderr",
     "output_type": "stream",
     "text": [
      "/tf/main/tango/features.py:73: ConvergenceWarning: Number of distinct clusters (29) found smaller than n_clusters (100). Possibly due to duplicate points in X.\n",
      "  codebook.fit(features_list)\n"
     ]
    }
   ],
   "source": [
    "model_codebooks = {}\n",
    "num_vwords = [100,]\n",
    "for vwords in tqdm(num_vwords):\n",
    "    for i, model in tqdm(enumerate(models_under_study), total = len(models_under_study)):\n",
    "        codebook = gen_vcodebook(imgs, model, vwords)\n",
    "        model_codebooks[f'M{i + 1:02}-{vwords}'] = codebook"
   ]
  },
  {
   "cell_type": "code",
   "execution_count": null,
   "metadata": {},
   "outputs": [],
   "source": [
    "def gen_tfidfs(vid_ds, df):\n",
    "    vid_tfids = results = defaultdict(\n",
    "        lambda: defaultdict(list)\n",
    "    )\n",
    "    for app, reports in tqdm(vid_ds.labels.items()):\n",
    "        for i, (report, vids) in enumerate(reports.items()):\n",
    "            for vid in vids:\n",
    "                bovw = new_get_bovw(vid.vid_path, model, codebook, vwords, n = 500)\n",
    "                vid_tfids[app][report].append(calc_tf_idf(hist, df))\n",
    "    \n",
    "    return vid_tfids"
   ]
  },
  {
   "cell_type": "code",
   "execution_count": null,
   "metadata": {},
   "outputs": [],
   "source": [
    "def get_results(vid_ds, imgs, models, model_codebooks, num_vwords):\n",
    "    results = {}\n",
    "    \n",
    "    for vwords in num_vwords:\n",
    "        for m, (model, (key, codebook)) in enumerate(zip(models, model_codebooks.items())):\n",
    "            results[f'M{m + 1:02}-{vwords}'] = {}\n",
    "            df = get_df(imgs, model, codebook, vwords)\n",
    "            vid_tfids = gen_tfidfs(vid_ds, df)\n",
    "            for app, reports in vid_ds.labels.items():\n",
    "                results[f'M{m + 1:02}-{vwords}'][app] = {}\n",
    "                for report_i in reports:\n",
    "                    results[f'M{m + 1:02}-{vwords}'][app][report_i] = {}\n",
    "                    for report_j in reports:\n",
    "                        results[f'M{m + 1:02}-{vwords}'][app][report_i][report_j] = {}\n",
    "                        for k in range(len(vid_tfids[app][report_i])):\n",
    "                            results[f'M{m + 1:02}-{vwords}'][app][report_i][report_j][f'vid_{k}'] = {}\n",
    "                            for l in range(len(vid_tfids[app][report_j])):\n",
    "                                results[f'M{m + 1:02}-{vwords}'][app][report_i][report_j][f'vid_{k}'][f'vid_{l}'] = np.dot(vid_tfids[app][report_i][k], vid_tfids[app][report_j][l]) / (np.linalg.norm(vid_tfids[app][report_i][k]) * np.linalg.norm(vid_tfids[app][report_j][l]))\n",
    "    \n",
    "    return results"
   ]
  },
  {
   "cell_type": "code",
   "execution_count": null,
   "metadata": {
    "scrolled": true
   },
   "outputs": [
    {
     "data": {
      "application/vnd.jupyter.widget-view+json": {
       "model_id": "fd9e240ea3314e2e8b892f07e649d127",
       "version_major": 2,
       "version_minor": 0
      },
      "text/plain": [
       "HBox(children=(FloatProgress(value=0.0, max=3.0), HTML(value='')))"
      ]
     },
     "metadata": {},
     "output_type": "display_data"
    },
    {
     "data": {
      "text/html": [
       "\n",
       "    <div>\n",
       "        <style>\n",
       "            /* Turns off some styling */\n",
       "            progress {\n",
       "                /* gets rid of default border in Firefox and Opera. */\n",
       "                border: none;\n",
       "                /* Needs to be in here for Safari polyfill so background images work as expected. */\n",
       "                background-size: auto;\n",
       "            }\n",
       "            .progress-bar-interrupted, .progress-bar-interrupted::-webkit-progress-bar {\n",
       "                background: #F44336;\n",
       "            }\n",
       "        </style>\n",
       "      <progress value='500' class='' max='500', style='width:300px; height:20px; vertical-align: middle;'></progress>\n",
       "      100.00% [500/500 04:48<00:00]\n",
       "    </div>\n",
       "    "
      ],
      "text/plain": [
       "<IPython.core.display.HTML object>"
      ]
     },
     "metadata": {},
     "output_type": "display_data"
    },
    {
     "data": {
      "text/html": [
       "\n",
       "    <div>\n",
       "        <style>\n",
       "            /* Turns off some styling */\n",
       "            progress {\n",
       "                /* gets rid of default border in Firefox and Opera. */\n",
       "                border: none;\n",
       "                /* Needs to be in here for Safari polyfill so background images work as expected. */\n",
       "                background-size: auto;\n",
       "            }\n",
       "            .progress-bar-interrupted, .progress-bar-interrupted::-webkit-progress-bar {\n",
       "                background: #F44336;\n",
       "            }\n",
       "        </style>\n",
       "      <progress value='500' class='' max='500', style='width:300px; height:20px; vertical-align: middle;'></progress>\n",
       "      100.00% [500/500 04:33<00:00]\n",
       "    </div>\n",
       "    "
      ],
      "text/plain": [
       "<IPython.core.display.HTML object>"
      ]
     },
     "metadata": {},
     "output_type": "display_data"
    },
    {
     "data": {
      "text/html": [
       "\n",
       "    <div>\n",
       "        <style>\n",
       "            /* Turns off some styling */\n",
       "            progress {\n",
       "                /* gets rid of default border in Firefox and Opera. */\n",
       "                border: none;\n",
       "                /* Needs to be in here for Safari polyfill so background images work as expected. */\n",
       "                background-size: auto;\n",
       "            }\n",
       "            .progress-bar-interrupted, .progress-bar-interrupted::-webkit-progress-bar {\n",
       "                background: #F44336;\n",
       "            }\n",
       "        </style>\n",
       "      <progress value='500' class='' max='500', style='width:300px; height:20px; vertical-align: middle;'></progress>\n",
       "      100.00% [500/500 04:47<00:00]\n",
       "    </div>\n",
       "    "
      ],
      "text/plain": [
       "<IPython.core.display.HTML object>"
      ]
     },
     "metadata": {},
     "output_type": "display_data"
    },
    {
     "data": {
      "text/html": [
       "\n",
       "    <div>\n",
       "        <style>\n",
       "            /* Turns off some styling */\n",
       "            progress {\n",
       "                /* gets rid of default border in Firefox and Opera. */\n",
       "                border: none;\n",
       "                /* Needs to be in here for Safari polyfill so background images work as expected. */\n",
       "                background-size: auto;\n",
       "            }\n",
       "            .progress-bar-interrupted, .progress-bar-interrupted::-webkit-progress-bar {\n",
       "                background: #F44336;\n",
       "            }\n",
       "        </style>\n",
       "      <progress value='500' class='' max='500', style='width:300px; height:20px; vertical-align: middle;'></progress>\n",
       "      100.00% [500/500 04:48<00:00]\n",
       "    </div>\n",
       "    "
      ],
      "text/plain": [
       "<IPython.core.display.HTML object>"
      ]
     },
     "metadata": {},
     "output_type": "display_data"
    },
    {
     "data": {
      "text/html": [
       "\n",
       "    <div>\n",
       "        <style>\n",
       "            /* Turns off some styling */\n",
       "            progress {\n",
       "                /* gets rid of default border in Firefox and Opera. */\n",
       "                border: none;\n",
       "                /* Needs to be in here for Safari polyfill so background images work as expected. */\n",
       "                background-size: auto;\n",
       "            }\n",
       "            .progress-bar-interrupted, .progress-bar-interrupted::-webkit-progress-bar {\n",
       "                background: #F44336;\n",
       "            }\n",
       "        </style>\n",
       "      <progress value='500' class='' max='500', style='width:300px; height:20px; vertical-align: middle;'></progress>\n",
       "      100.00% [500/500 04:47<00:00]\n",
       "    </div>\n",
       "    "
      ],
      "text/plain": [
       "<IPython.core.display.HTML object>"
      ]
     },
     "metadata": {},
     "output_type": "display_data"
    },
    {
     "data": {
      "text/html": [
       "\n",
       "    <div>\n",
       "        <style>\n",
       "            /* Turns off some styling */\n",
       "            progress {\n",
       "                /* gets rid of default border in Firefox and Opera. */\n",
       "                border: none;\n",
       "                /* Needs to be in here for Safari polyfill so background images work as expected. */\n",
       "                background-size: auto;\n",
       "            }\n",
       "            .progress-bar-interrupted, .progress-bar-interrupted::-webkit-progress-bar {\n",
       "                background: #F44336;\n",
       "            }\n",
       "        </style>\n",
       "      <progress value='500' class='' max='500', style='width:300px; height:20px; vertical-align: middle;'></progress>\n",
       "      100.00% [500/500 04:47<00:00]\n",
       "    </div>\n",
       "    "
      ],
      "text/plain": [
       "<IPython.core.display.HTML object>"
      ]
     },
     "metadata": {},
     "output_type": "display_data"
    },
    {
     "data": {
      "text/html": [
       "\n",
       "    <div>\n",
       "        <style>\n",
       "            /* Turns off some styling */\n",
       "            progress {\n",
       "                /* gets rid of default border in Firefox and Opera. */\n",
       "                border: none;\n",
       "                /* Needs to be in here for Safari polyfill so background images work as expected. */\n",
       "                background-size: auto;\n",
       "            }\n",
       "            .progress-bar-interrupted, .progress-bar-interrupted::-webkit-progress-bar {\n",
       "                background: #F44336;\n",
       "            }\n",
       "        </style>\n",
       "      <progress value='500' class='' max='500', style='width:300px; height:20px; vertical-align: middle;'></progress>\n",
       "      100.00% [500/500 04:48<00:00]\n",
       "    </div>\n",
       "    "
      ],
      "text/plain": [
       "<IPython.core.display.HTML object>"
      ]
     },
     "metadata": {},
     "output_type": "display_data"
    },
    {
     "data": {
      "text/html": [
       "\n",
       "    <div>\n",
       "        <style>\n",
       "            /* Turns off some styling */\n",
       "            progress {\n",
       "                /* gets rid of default border in Firefox and Opera. */\n",
       "                border: none;\n",
       "                /* Needs to be in here for Safari polyfill so background images work as expected. */\n",
       "                background-size: auto;\n",
       "            }\n",
       "            .progress-bar-interrupted, .progress-bar-interrupted::-webkit-progress-bar {\n",
       "                background: #F44336;\n",
       "            }\n",
       "        </style>\n",
       "      <progress value='500' class='' max='500', style='width:300px; height:20px; vertical-align: middle;'></progress>\n",
       "      100.00% [500/500 04:46<00:00]\n",
       "    </div>\n",
       "    "
      ],
      "text/plain": [
       "<IPython.core.display.HTML object>"
      ]
     },
     "metadata": {},
     "output_type": "display_data"
    },
    {
     "data": {
      "text/html": [
       "\n",
       "    <div>\n",
       "        <style>\n",
       "            /* Turns off some styling */\n",
       "            progress {\n",
       "                /* gets rid of default border in Firefox and Opera. */\n",
       "                border: none;\n",
       "                /* Needs to be in here for Safari polyfill so background images work as expected. */\n",
       "                background-size: auto;\n",
       "            }\n",
       "            .progress-bar-interrupted, .progress-bar-interrupted::-webkit-progress-bar {\n",
       "                background: #F44336;\n",
       "            }\n",
       "        </style>\n",
       "      <progress value='500' class='' max='500', style='width:300px; height:20px; vertical-align: middle;'></progress>\n",
       "      100.00% [500/500 04:47<00:00]\n",
       "    </div>\n",
       "    "
      ],
      "text/plain": [
       "<IPython.core.display.HTML object>"
      ]
     },
     "metadata": {},
     "output_type": "display_data"
    },
    {
     "data": {
      "text/html": [
       "\n",
       "    <div>\n",
       "        <style>\n",
       "            /* Turns off some styling */\n",
       "            progress {\n",
       "                /* gets rid of default border in Firefox and Opera. */\n",
       "                border: none;\n",
       "                /* Needs to be in here for Safari polyfill so background images work as expected. */\n",
       "                background-size: auto;\n",
       "            }\n",
       "            .progress-bar-interrupted, .progress-bar-interrupted::-webkit-progress-bar {\n",
       "                background: #F44336;\n",
       "            }\n",
       "        </style>\n",
       "      <progress value='500' class='' max='500', style='width:300px; height:20px; vertical-align: middle;'></progress>\n",
       "      100.00% [500/500 04:47<00:00]\n",
       "    </div>\n",
       "    "
      ],
      "text/plain": [
       "<IPython.core.display.HTML object>"
      ]
     },
     "metadata": {},
     "output_type": "display_data"
    },
    {
     "data": {
      "text/html": [
       "\n",
       "    <div>\n",
       "        <style>\n",
       "            /* Turns off some styling */\n",
       "            progress {\n",
       "                /* gets rid of default border in Firefox and Opera. */\n",
       "                border: none;\n",
       "                /* Needs to be in here for Safari polyfill so background images work as expected. */\n",
       "                background-size: auto;\n",
       "            }\n",
       "            .progress-bar-interrupted, .progress-bar-interrupted::-webkit-progress-bar {\n",
       "                background: #F44336;\n",
       "            }\n",
       "        </style>\n",
       "      <progress value='500' class='' max='500', style='width:300px; height:20px; vertical-align: middle;'></progress>\n",
       "      100.00% [500/500 04:48<00:00]\n",
       "    </div>\n",
       "    "
      ],
      "text/plain": [
       "<IPython.core.display.HTML object>"
      ]
     },
     "metadata": {},
     "output_type": "display_data"
    },
    {
     "data": {
      "text/html": [
       "\n",
       "    <div>\n",
       "        <style>\n",
       "            /* Turns off some styling */\n",
       "            progress {\n",
       "                /* gets rid of default border in Firefox and Opera. */\n",
       "                border: none;\n",
       "                /* Needs to be in here for Safari polyfill so background images work as expected. */\n",
       "                background-size: auto;\n",
       "            }\n",
       "            .progress-bar-interrupted, .progress-bar-interrupted::-webkit-progress-bar {\n",
       "                background: #F44336;\n",
       "            }\n",
       "        </style>\n",
       "      <progress value='500' class='' max='500', style='width:300px; height:20px; vertical-align: middle;'></progress>\n",
       "      100.00% [500/500 04:48<00:00]\n",
       "    </div>\n",
       "    "
      ],
      "text/plain": [
       "<IPython.core.display.HTML object>"
      ]
     },
     "metadata": {},
     "output_type": "display_data"
    },
    {
     "data": {
      "text/html": [
       "\n",
       "    <div>\n",
       "        <style>\n",
       "            /* Turns off some styling */\n",
       "            progress {\n",
       "                /* gets rid of default border in Firefox and Opera. */\n",
       "                border: none;\n",
       "                /* Needs to be in here for Safari polyfill so background images work as expected. */\n",
       "                background-size: auto;\n",
       "            }\n",
       "            .progress-bar-interrupted, .progress-bar-interrupted::-webkit-progress-bar {\n",
       "                background: #F44336;\n",
       "            }\n",
       "        </style>\n",
       "      <progress value='500' class='' max='500', style='width:300px; height:20px; vertical-align: middle;'></progress>\n",
       "      100.00% [500/500 04:48<00:00]\n",
       "    </div>\n",
       "    "
      ],
      "text/plain": [
       "<IPython.core.display.HTML object>"
      ]
     },
     "metadata": {},
     "output_type": "display_data"
    },
    {
     "data": {
      "text/html": [
       "\n",
       "    <div>\n",
       "        <style>\n",
       "            /* Turns off some styling */\n",
       "            progress {\n",
       "                /* gets rid of default border in Firefox and Opera. */\n",
       "                border: none;\n",
       "                /* Needs to be in here for Safari polyfill so background images work as expected. */\n",
       "                background-size: auto;\n",
       "            }\n",
       "            .progress-bar-interrupted, .progress-bar-interrupted::-webkit-progress-bar {\n",
       "                background: #F44336;\n",
       "            }\n",
       "        </style>\n",
       "      <progress value='500' class='' max='500', style='width:300px; height:20px; vertical-align: middle;'></progress>\n",
       "      100.00% [500/500 04:48<00:00]\n",
       "    </div>\n",
       "    "
      ],
      "text/plain": [
       "<IPython.core.display.HTML object>"
      ]
     },
     "metadata": {},
     "output_type": "display_data"
    },
    {
     "data": {
      "text/html": [
       "\n",
       "    <div>\n",
       "        <style>\n",
       "            /* Turns off some styling */\n",
       "            progress {\n",
       "                /* gets rid of default border in Firefox and Opera. */\n",
       "                border: none;\n",
       "                /* Needs to be in here for Safari polyfill so background images work as expected. */\n",
       "                background-size: auto;\n",
       "            }\n",
       "            .progress-bar-interrupted, .progress-bar-interrupted::-webkit-progress-bar {\n",
       "                background: #F44336;\n",
       "            }\n",
       "        </style>\n",
       "      <progress value='500' class='' max='500', style='width:300px; height:20px; vertical-align: middle;'></progress>\n",
       "      100.00% [500/500 04:48<00:00]\n",
       "    </div>\n",
       "    "
      ],
      "text/plain": [
       "<IPython.core.display.HTML object>"
      ]
     },
     "metadata": {},
     "output_type": "display_data"
    },
    {
     "data": {
      "text/html": [
       "\n",
       "    <div>\n",
       "        <style>\n",
       "            /* Turns off some styling */\n",
       "            progress {\n",
       "                /* gets rid of default border in Firefox and Opera. */\n",
       "                border: none;\n",
       "                /* Needs to be in here for Safari polyfill so background images work as expected. */\n",
       "                background-size: auto;\n",
       "            }\n",
       "            .progress-bar-interrupted, .progress-bar-interrupted::-webkit-progress-bar {\n",
       "                background: #F44336;\n",
       "            }\n",
       "        </style>\n",
       "      <progress value='500' class='' max='500', style='width:300px; height:20px; vertical-align: middle;'></progress>\n",
       "      100.00% [500/500 04:47<00:00]\n",
       "    </div>\n",
       "    "
      ],
      "text/plain": [
       "<IPython.core.display.HTML object>"
      ]
     },
     "metadata": {},
     "output_type": "display_data"
    },
    {
     "data": {
      "text/html": [
       "\n",
       "    <div>\n",
       "        <style>\n",
       "            /* Turns off some styling */\n",
       "            progress {\n",
       "                /* gets rid of default border in Firefox and Opera. */\n",
       "                border: none;\n",
       "                /* Needs to be in here for Safari polyfill so background images work as expected. */\n",
       "                background-size: auto;\n",
       "            }\n",
       "            .progress-bar-interrupted, .progress-bar-interrupted::-webkit-progress-bar {\n",
       "                background: #F44336;\n",
       "            }\n",
       "        </style>\n",
       "      <progress value='500' class='' max='500', style='width:300px; height:20px; vertical-align: middle;'></progress>\n",
       "      100.00% [500/500 04:48<00:00]\n",
       "    </div>\n",
       "    "
      ],
      "text/plain": [
       "<IPython.core.display.HTML object>"
      ]
     },
     "metadata": {},
     "output_type": "display_data"
    },
    {
     "data": {
      "text/html": [
       "\n",
       "    <div>\n",
       "        <style>\n",
       "            /* Turns off some styling */\n",
       "            progress {\n",
       "                /* gets rid of default border in Firefox and Opera. */\n",
       "                border: none;\n",
       "                /* Needs to be in here for Safari polyfill so background images work as expected. */\n",
       "                background-size: auto;\n",
       "            }\n",
       "            .progress-bar-interrupted, .progress-bar-interrupted::-webkit-progress-bar {\n",
       "                background: #F44336;\n",
       "            }\n",
       "        </style>\n",
       "      <progress value='500' class='' max='500', style='width:300px; height:20px; vertical-align: middle;'></progress>\n",
       "      100.00% [500/500 04:47<00:00]\n",
       "    </div>\n",
       "    "
      ],
      "text/plain": [
       "<IPython.core.display.HTML object>"
      ]
     },
     "metadata": {},
     "output_type": "display_data"
    },
    {
     "data": {
      "text/html": [
       "\n",
       "    <div>\n",
       "        <style>\n",
       "            /* Turns off some styling */\n",
       "            progress {\n",
       "                /* gets rid of default border in Firefox and Opera. */\n",
       "                border: none;\n",
       "                /* Needs to be in here for Safari polyfill so background images work as expected. */\n",
       "                background-size: auto;\n",
       "            }\n",
       "            .progress-bar-interrupted, .progress-bar-interrupted::-webkit-progress-bar {\n",
       "                background: #F44336;\n",
       "            }\n",
       "        </style>\n",
       "      <progress value='500' class='' max='500', style='width:300px; height:20px; vertical-align: middle;'></progress>\n",
       "      100.00% [500/500 04:48<00:00]\n",
       "    </div>\n",
       "    "
      ],
      "text/plain": [
       "<IPython.core.display.HTML object>"
      ]
     },
     "metadata": {},
     "output_type": "display_data"
    },
    {
     "data": {
      "text/html": [
       "\n",
       "    <div>\n",
       "        <style>\n",
       "            /* Turns off some styling */\n",
       "            progress {\n",
       "                /* gets rid of default border in Firefox and Opera. */\n",
       "                border: none;\n",
       "                /* Needs to be in here for Safari polyfill so background images work as expected. */\n",
       "                background-size: auto;\n",
       "            }\n",
       "            .progress-bar-interrupted, .progress-bar-interrupted::-webkit-progress-bar {\n",
       "                background: #F44336;\n",
       "            }\n",
       "        </style>\n",
       "      <progress value='500' class='' max='500', style='width:300px; height:20px; vertical-align: middle;'></progress>\n",
       "      100.00% [500/500 04:47<00:00]\n",
       "    </div>\n",
       "    "
      ],
      "text/plain": [
       "<IPython.core.display.HTML object>"
      ]
     },
     "metadata": {},
     "output_type": "display_data"
    },
    {
     "data": {
      "text/html": [
       "\n",
       "    <div>\n",
       "        <style>\n",
       "            /* Turns off some styling */\n",
       "            progress {\n",
       "                /* gets rid of default border in Firefox and Opera. */\n",
       "                border: none;\n",
       "                /* Needs to be in here for Safari polyfill so background images work as expected. */\n",
       "                background-size: auto;\n",
       "            }\n",
       "            .progress-bar-interrupted, .progress-bar-interrupted::-webkit-progress-bar {\n",
       "                background: #F44336;\n",
       "            }\n",
       "        </style>\n",
       "      <progress value='500' class='' max='500', style='width:300px; height:20px; vertical-align: middle;'></progress>\n",
       "      100.00% [500/500 04:48<00:00]\n",
       "    </div>\n",
       "    "
      ],
      "text/plain": [
       "<IPython.core.display.HTML object>"
      ]
     },
     "metadata": {},
     "output_type": "display_data"
    },
    {
     "data": {
      "text/html": [
       "\n",
       "    <div>\n",
       "        <style>\n",
       "            /* Turns off some styling */\n",
       "            progress {\n",
       "                /* gets rid of default border in Firefox and Opera. */\n",
       "                border: none;\n",
       "                /* Needs to be in here for Safari polyfill so background images work as expected. */\n",
       "                background-size: auto;\n",
       "            }\n",
       "            .progress-bar-interrupted, .progress-bar-interrupted::-webkit-progress-bar {\n",
       "                background: #F44336;\n",
       "            }\n",
       "        </style>\n",
       "      <progress value='500' class='' max='500', style='width:300px; height:20px; vertical-align: middle;'></progress>\n",
       "      100.00% [500/500 04:47<00:00]\n",
       "    </div>\n",
       "    "
      ],
      "text/plain": [
       "<IPython.core.display.HTML object>"
      ]
     },
     "metadata": {},
     "output_type": "display_data"
    },
    {
     "data": {
      "text/html": [
       "\n",
       "    <div>\n",
       "        <style>\n",
       "            /* Turns off some styling */\n",
       "            progress {\n",
       "                /* gets rid of default border in Firefox and Opera. */\n",
       "                border: none;\n",
       "                /* Needs to be in here for Safari polyfill so background images work as expected. */\n",
       "                background-size: auto;\n",
       "            }\n",
       "            .progress-bar-interrupted, .progress-bar-interrupted::-webkit-progress-bar {\n",
       "                background: #F44336;\n",
       "            }\n",
       "        </style>\n",
       "      <progress value='500' class='' max='500', style='width:300px; height:20px; vertical-align: middle;'></progress>\n",
       "      100.00% [500/500 04:47<00:00]\n",
       "    </div>\n",
       "    "
      ],
      "text/plain": [
       "<IPython.core.display.HTML object>"
      ]
     },
     "metadata": {},
     "output_type": "display_data"
    },
    {
     "data": {
      "text/html": [
       "\n",
       "    <div>\n",
       "        <style>\n",
       "            /* Turns off some styling */\n",
       "            progress {\n",
       "                /* gets rid of default border in Firefox and Opera. */\n",
       "                border: none;\n",
       "                /* Needs to be in here for Safari polyfill so background images work as expected. */\n",
       "                background-size: auto;\n",
       "            }\n",
       "            .progress-bar-interrupted, .progress-bar-interrupted::-webkit-progress-bar {\n",
       "                background: #F44336;\n",
       "            }\n",
       "        </style>\n",
       "      <progress value='500' class='' max='500', style='width:300px; height:20px; vertical-align: middle;'></progress>\n",
       "      100.00% [500/500 04:48<00:00]\n",
       "    </div>\n",
       "    "
      ],
      "text/plain": [
       "<IPython.core.display.HTML object>"
      ]
     },
     "metadata": {},
     "output_type": "display_data"
    },
    {
     "data": {
      "text/html": [
       "\n",
       "    <div>\n",
       "        <style>\n",
       "            /* Turns off some styling */\n",
       "            progress {\n",
       "                /* gets rid of default border in Firefox and Opera. */\n",
       "                border: none;\n",
       "                /* Needs to be in here for Safari polyfill so background images work as expected. */\n",
       "                background-size: auto;\n",
       "            }\n",
       "            .progress-bar-interrupted, .progress-bar-interrupted::-webkit-progress-bar {\n",
       "                background: #F44336;\n",
       "            }\n",
       "        </style>\n",
       "      <progress value='500' class='' max='500', style='width:300px; height:20px; vertical-align: middle;'></progress>\n",
       "      100.00% [500/500 04:48<00:00]\n",
       "    </div>\n",
       "    "
      ],
      "text/plain": [
       "<IPython.core.display.HTML object>"
      ]
     },
     "metadata": {},
     "output_type": "display_data"
    },
    {
     "name": "stdout",
     "output_type": "stream",
     "text": [
      "\n"
     ]
    },
    {
     "data": {
      "application/vnd.jupyter.widget-view+json": {
       "model_id": "03f67eecf7cb42919ee5f5b50fa06a15",
       "version_major": 2,
       "version_minor": 0
      },
      "text/plain": [
       "HBox(children=(FloatProgress(value=0.0, max=3.0), HTML(value='')))"
      ]
     },
     "metadata": {},
     "output_type": "display_data"
    },
    {
     "data": {
      "text/html": [
       "\n",
       "    <div>\n",
       "        <style>\n",
       "            /* Turns off some styling */\n",
       "            progress {\n",
       "                /* gets rid of default border in Firefox and Opera. */\n",
       "                border: none;\n",
       "                /* Needs to be in here for Safari polyfill so background images work as expected. */\n",
       "                background-size: auto;\n",
       "            }\n",
       "            .progress-bar-interrupted, .progress-bar-interrupted::-webkit-progress-bar {\n",
       "                background: #F44336;\n",
       "            }\n",
       "        </style>\n",
       "      <progress value='500' class='' max='500', style='width:300px; height:20px; vertical-align: middle;'></progress>\n",
       "      100.00% [500/500 04:47<00:00]\n",
       "    </div>\n",
       "    "
      ],
      "text/plain": [
       "<IPython.core.display.HTML object>"
      ]
     },
     "metadata": {},
     "output_type": "display_data"
    },
    {
     "data": {
      "text/html": [
       "\n",
       "    <div>\n",
       "        <style>\n",
       "            /* Turns off some styling */\n",
       "            progress {\n",
       "                /* gets rid of default border in Firefox and Opera. */\n",
       "                border: none;\n",
       "                /* Needs to be in here for Safari polyfill so background images work as expected. */\n",
       "                background-size: auto;\n",
       "            }\n",
       "            .progress-bar-interrupted, .progress-bar-interrupted::-webkit-progress-bar {\n",
       "                background: #F44336;\n",
       "            }\n",
       "        </style>\n",
       "      <progress value='500' class='' max='500', style='width:300px; height:20px; vertical-align: middle;'></progress>\n",
       "      100.00% [500/500 04:34<00:00]\n",
       "    </div>\n",
       "    "
      ],
      "text/plain": [
       "<IPython.core.display.HTML object>"
      ]
     },
     "metadata": {},
     "output_type": "display_data"
    },
    {
     "data": {
      "text/html": [
       "\n",
       "    <div>\n",
       "        <style>\n",
       "            /* Turns off some styling */\n",
       "            progress {\n",
       "                /* gets rid of default border in Firefox and Opera. */\n",
       "                border: none;\n",
       "                /* Needs to be in here for Safari polyfill so background images work as expected. */\n",
       "                background-size: auto;\n",
       "            }\n",
       "            .progress-bar-interrupted, .progress-bar-interrupted::-webkit-progress-bar {\n",
       "                background: #F44336;\n",
       "            }\n",
       "        </style>\n",
       "      <progress value='500' class='' max='500', style='width:300px; height:20px; vertical-align: middle;'></progress>\n",
       "      100.00% [500/500 04:47<00:00]\n",
       "    </div>\n",
       "    "
      ],
      "text/plain": [
       "<IPython.core.display.HTML object>"
      ]
     },
     "metadata": {},
     "output_type": "display_data"
    },
    {
     "data": {
      "text/html": [
       "\n",
       "    <div>\n",
       "        <style>\n",
       "            /* Turns off some styling */\n",
       "            progress {\n",
       "                /* gets rid of default border in Firefox and Opera. */\n",
       "                border: none;\n",
       "                /* Needs to be in here for Safari polyfill so background images work as expected. */\n",
       "                background-size: auto;\n",
       "            }\n",
       "            .progress-bar-interrupted, .progress-bar-interrupted::-webkit-progress-bar {\n",
       "                background: #F44336;\n",
       "            }\n",
       "        </style>\n",
       "      <progress value='500' class='' max='500', style='width:300px; height:20px; vertical-align: middle;'></progress>\n",
       "      100.00% [500/500 04:48<00:00]\n",
       "    </div>\n",
       "    "
      ],
      "text/plain": [
       "<IPython.core.display.HTML object>"
      ]
     },
     "metadata": {},
     "output_type": "display_data"
    },
    {
     "data": {
      "text/html": [
       "\n",
       "    <div>\n",
       "        <style>\n",
       "            /* Turns off some styling */\n",
       "            progress {\n",
       "                /* gets rid of default border in Firefox and Opera. */\n",
       "                border: none;\n",
       "                /* Needs to be in here for Safari polyfill so background images work as expected. */\n",
       "                background-size: auto;\n",
       "            }\n",
       "            .progress-bar-interrupted, .progress-bar-interrupted::-webkit-progress-bar {\n",
       "                background: #F44336;\n",
       "            }\n",
       "        </style>\n",
       "      <progress value='500' class='' max='500', style='width:300px; height:20px; vertical-align: middle;'></progress>\n",
       "      100.00% [500/500 04:47<00:00]\n",
       "    </div>\n",
       "    "
      ],
      "text/plain": [
       "<IPython.core.display.HTML object>"
      ]
     },
     "metadata": {},
     "output_type": "display_data"
    },
    {
     "data": {
      "text/html": [
       "\n",
       "    <div>\n",
       "        <style>\n",
       "            /* Turns off some styling */\n",
       "            progress {\n",
       "                /* gets rid of default border in Firefox and Opera. */\n",
       "                border: none;\n",
       "                /* Needs to be in here for Safari polyfill so background images work as expected. */\n",
       "                background-size: auto;\n",
       "            }\n",
       "            .progress-bar-interrupted, .progress-bar-interrupted::-webkit-progress-bar {\n",
       "                background: #F44336;\n",
       "            }\n",
       "        </style>\n",
       "      <progress value='500' class='' max='500', style='width:300px; height:20px; vertical-align: middle;'></progress>\n",
       "      100.00% [500/500 04:48<00:00]\n",
       "    </div>\n",
       "    "
      ],
      "text/plain": [
       "<IPython.core.display.HTML object>"
      ]
     },
     "metadata": {},
     "output_type": "display_data"
    },
    {
     "data": {
      "text/html": [
       "\n",
       "    <div>\n",
       "        <style>\n",
       "            /* Turns off some styling */\n",
       "            progress {\n",
       "                /* gets rid of default border in Firefox and Opera. */\n",
       "                border: none;\n",
       "                /* Needs to be in here for Safari polyfill so background images work as expected. */\n",
       "                background-size: auto;\n",
       "            }\n",
       "            .progress-bar-interrupted, .progress-bar-interrupted::-webkit-progress-bar {\n",
       "                background: #F44336;\n",
       "            }\n",
       "        </style>\n",
       "      <progress value='500' class='' max='500', style='width:300px; height:20px; vertical-align: middle;'></progress>\n",
       "      100.00% [500/500 04:48<00:00]\n",
       "    </div>\n",
       "    "
      ],
      "text/plain": [
       "<IPython.core.display.HTML object>"
      ]
     },
     "metadata": {},
     "output_type": "display_data"
    },
    {
     "data": {
      "text/html": [
       "\n",
       "    <div>\n",
       "        <style>\n",
       "            /* Turns off some styling */\n",
       "            progress {\n",
       "                /* gets rid of default border in Firefox and Opera. */\n",
       "                border: none;\n",
       "                /* Needs to be in here for Safari polyfill so background images work as expected. */\n",
       "                background-size: auto;\n",
       "            }\n",
       "            .progress-bar-interrupted, .progress-bar-interrupted::-webkit-progress-bar {\n",
       "                background: #F44336;\n",
       "            }\n",
       "        </style>\n",
       "      <progress value='500' class='' max='500', style='width:300px; height:20px; vertical-align: middle;'></progress>\n",
       "      100.00% [500/500 04:47<00:00]\n",
       "    </div>\n",
       "    "
      ],
      "text/plain": [
       "<IPython.core.display.HTML object>"
      ]
     },
     "metadata": {},
     "output_type": "display_data"
    },
    {
     "data": {
      "text/html": [
       "\n",
       "    <div>\n",
       "        <style>\n",
       "            /* Turns off some styling */\n",
       "            progress {\n",
       "                /* gets rid of default border in Firefox and Opera. */\n",
       "                border: none;\n",
       "                /* Needs to be in here for Safari polyfill so background images work as expected. */\n",
       "                background-size: auto;\n",
       "            }\n",
       "            .progress-bar-interrupted, .progress-bar-interrupted::-webkit-progress-bar {\n",
       "                background: #F44336;\n",
       "            }\n",
       "        </style>\n",
       "      <progress value='500' class='' max='500', style='width:300px; height:20px; vertical-align: middle;'></progress>\n",
       "      100.00% [500/500 04:47<00:00]\n",
       "    </div>\n",
       "    "
      ],
      "text/plain": [
       "<IPython.core.display.HTML object>"
      ]
     },
     "metadata": {},
     "output_type": "display_data"
    },
    {
     "data": {
      "text/html": [
       "\n",
       "    <div>\n",
       "        <style>\n",
       "            /* Turns off some styling */\n",
       "            progress {\n",
       "                /* gets rid of default border in Firefox and Opera. */\n",
       "                border: none;\n",
       "                /* Needs to be in here for Safari polyfill so background images work as expected. */\n",
       "                background-size: auto;\n",
       "            }\n",
       "            .progress-bar-interrupted, .progress-bar-interrupted::-webkit-progress-bar {\n",
       "                background: #F44336;\n",
       "            }\n",
       "        </style>\n",
       "      <progress value='500' class='' max='500', style='width:300px; height:20px; vertical-align: middle;'></progress>\n",
       "      100.00% [500/500 04:47<00:00]\n",
       "    </div>\n",
       "    "
      ],
      "text/plain": [
       "<IPython.core.display.HTML object>"
      ]
     },
     "metadata": {},
     "output_type": "display_data"
    },
    {
     "data": {
      "text/html": [
       "\n",
       "    <div>\n",
       "        <style>\n",
       "            /* Turns off some styling */\n",
       "            progress {\n",
       "                /* gets rid of default border in Firefox and Opera. */\n",
       "                border: none;\n",
       "                /* Needs to be in here for Safari polyfill so background images work as expected. */\n",
       "                background-size: auto;\n",
       "            }\n",
       "            .progress-bar-interrupted, .progress-bar-interrupted::-webkit-progress-bar {\n",
       "                background: #F44336;\n",
       "            }\n",
       "        </style>\n",
       "      <progress value='404' class='' max='500', style='width:300px; height:20px; vertical-align: middle;'></progress>\n",
       "      80.80% [404/500 03:52<00:55]\n",
       "    </div>\n",
       "    "
      ],
      "text/plain": [
       "<IPython.core.display.HTML object>"
      ]
     },
     "metadata": {},
     "output_type": "display_data"
    }
   ],
   "source": [
    "results = get_results(vid_ds, imgs, models_under_study, model_codebooks, num_vwords)"
   ]
  },
  {
   "cell_type": "code",
   "execution_count": 67,
   "metadata": {},
   "outputs": [],
   "source": [
    "def flatten_dict(d_in, d_out, parent_key):\n",
    "    for k, v in d_in.items():\n",
    "        if isinstance(v, dict):\n",
    "            flatten_dict(v, d_out, parent_key + (k,))\n",
    "        else:\n",
    "            d_out[parent_key + (k,)] = v"
   ]
  },
  {
   "cell_type": "code",
   "execution_count": 68,
   "metadata": {},
   "outputs": [],
   "source": [
    "def sort_results(results):\n",
    "    sorted_results = {}\n",
    "    for m in results:\n",
    "        sorted_results[m] = {}\n",
    "        for app in results[m]:\n",
    "            sorted_results[m][app] = {}\n",
    "            d_out = {}\n",
    "            flatten_dict(results[m][app], d_out, tuple())\n",
    "            sorted_results[m][app] = OrderedDict(\n",
    "                sorted(d_out.items(), key=lambda x: x[1], reverse = True)\n",
    "            )\n",
    "    \n",
    "    return sorted_results"
   ]
  },
  {
   "cell_type": "code",
   "execution_count": 70,
   "metadata": {},
   "outputs": [
    {
     "name": "stdout",
     "output_type": "stream",
     "text": [
      "{'car_part': OrderedDict([(('S01', 'S01', 'vid_1', 'vid_3'),\n",
      "                           1.0000000000000002),\n",
      "                          (('S01', 'S01', 'vid_3', 'vid_1'),\n",
      "                           1.0000000000000002),\n",
      "                          (('S01', 'S03', 'vid_0', 'vid_0'),\n",
      "                           1.0000000000000002),\n",
      "                          (('S01', 'S03', 'vid_1', 'vid_0'),\n",
      "                           1.0000000000000002),\n",
      "                          (('S01', 'S03', 'vid_2', 'vid_0'),\n",
      "                           1.0000000000000002),\n",
      "                          (('S01', 'S03', 'vid_3', 'vid_0'),\n",
      "                           1.0000000000000002),\n",
      "                          (('S01', 'S03', 'vid_4', 'vid_0'),\n",
      "                           1.0000000000000002),\n",
      "                          (('S02', 'S02', 'vid_0', 'vid_0'),\n",
      "                           1.0000000000000002),\n",
      "                          (('S03', 'S01', 'vid_0', 'vid_0'),\n",
      "                           1.0000000000000002),\n",
      "                          (('S03', 'S01', 'vid_0', 'vid_1'),\n",
      "                           1.0000000000000002),\n",
      "                          (('S03', 'S01', 'vid_0', 'vid_2'),\n",
      "                           1.0000000000000002),\n",
      "                          (('S03', 'S01', 'vid_0', 'vid_3'),\n",
      "                           1.0000000000000002),\n",
      "                          (('S03', 'S01', 'vid_0', 'vid_4'),\n",
      "                           1.0000000000000002),\n",
      "                          (('S03', 'S03', 'vid_0', 'vid_0'),\n",
      "                           1.0000000000000002),\n",
      "                          (('S01', 'S01', 'vid_0', 'vid_1'), 1.0),\n",
      "                          (('S01', 'S01', 'vid_0', 'vid_3'), 1.0),\n",
      "                          (('S01', 'S01', 'vid_1', 'vid_0'), 1.0),\n",
      "                          (('S01', 'S01', 'vid_1', 'vid_1'), 1.0),\n",
      "                          (('S01', 'S01', 'vid_1', 'vid_2'), 1.0),\n",
      "                          (('S01', 'S01', 'vid_1', 'vid_4'), 1.0),\n",
      "                          (('S01', 'S01', 'vid_2', 'vid_1'), 1.0),\n",
      "                          (('S01', 'S01', 'vid_2', 'vid_3'), 1.0),\n",
      "                          (('S01', 'S01', 'vid_3', 'vid_0'), 1.0),\n",
      "                          (('S01', 'S01', 'vid_3', 'vid_2'), 1.0),\n",
      "                          (('S01', 'S01', 'vid_3', 'vid_3'), 1.0),\n",
      "                          (('S01', 'S01', 'vid_3', 'vid_4'), 1.0),\n",
      "                          (('S01', 'S01', 'vid_4', 'vid_1'), 1.0),\n",
      "                          (('S01', 'S01', 'vid_4', 'vid_3'), 1.0),\n",
      "                          (('S01', 'S01', 'vid_0', 'vid_0'),\n",
      "                           0.9999999999999999),\n",
      "                          (('S01', 'S01', 'vid_0', 'vid_2'),\n",
      "                           0.9999999999999999),\n",
      "                          (('S01', 'S01', 'vid_0', 'vid_4'),\n",
      "                           0.9999999999999999),\n",
      "                          (('S01', 'S01', 'vid_2', 'vid_0'),\n",
      "                           0.9999999999999999),\n",
      "                          (('S01', 'S01', 'vid_2', 'vid_2'),\n",
      "                           0.9999999999999999),\n",
      "                          (('S01', 'S01', 'vid_2', 'vid_4'),\n",
      "                           0.9999999999999999),\n",
      "                          (('S01', 'S01', 'vid_4', 'vid_0'),\n",
      "                           0.9999999999999999),\n",
      "                          (('S01', 'S01', 'vid_4', 'vid_2'),\n",
      "                           0.9999999999999999),\n",
      "                          (('S01', 'S01', 'vid_4', 'vid_4'),\n",
      "                           0.9999999999999999),\n",
      "                          (('S01', 'S02', 'vid_0', 'vid_0'),\n",
      "                           0.9701848034641165),\n",
      "                          (('S01', 'S02', 'vid_2', 'vid_0'),\n",
      "                           0.9701848034641165),\n",
      "                          (('S01', 'S02', 'vid_3', 'vid_0'),\n",
      "                           0.9701848034641165),\n",
      "                          (('S01', 'S02', 'vid_4', 'vid_0'),\n",
      "                           0.9701848034641165),\n",
      "                          (('S02', 'S01', 'vid_0', 'vid_0'),\n",
      "                           0.9701848034641165),\n",
      "                          (('S02', 'S01', 'vid_0', 'vid_2'),\n",
      "                           0.9701848034641165),\n",
      "                          (('S02', 'S01', 'vid_0', 'vid_3'),\n",
      "                           0.9701848034641165),\n",
      "                          (('S02', 'S01', 'vid_0', 'vid_4'),\n",
      "                           0.9701848034641165),\n",
      "                          (('S02', 'S03', 'vid_0', 'vid_0'),\n",
      "                           0.9701848034641165),\n",
      "                          (('S03', 'S02', 'vid_0', 'vid_0'),\n",
      "                           0.9701848034641165),\n",
      "                          (('S01', 'S02', 'vid_1', 'vid_0'),\n",
      "                           0.9701848034641164),\n",
      "                          (('S02', 'S01', 'vid_0', 'vid_1'),\n",
      "                           0.9701848034641164)]),\n",
      " 'king_james': OrderedDict([(('S01', 'S01', 'vid_1', 'vid_4'),\n",
      "                             1.0000000000000002),\n",
      "                            (('S01', 'S01', 'vid_2', 'vid_4'),\n",
      "                             1.0000000000000002),\n",
      "                            (('S01', 'S01', 'vid_3', 'vid_4'),\n",
      "                             1.0000000000000002),\n",
      "                            (('S01', 'S01', 'vid_4', 'vid_1'),\n",
      "                             1.0000000000000002),\n",
      "                            (('S01', 'S01', 'vid_4', 'vid_2'),\n",
      "                             1.0000000000000002),\n",
      "                            (('S01', 'S01', 'vid_4', 'vid_3'),\n",
      "                             1.0000000000000002),\n",
      "                            (('S01', 'S01', 'vid_4', 'vid_5'),\n",
      "                             1.0000000000000002),\n",
      "                            (('S01', 'S01', 'vid_5', 'vid_4'),\n",
      "                             1.0000000000000002),\n",
      "                            (('S01', 'S01', 'vid_0', 'vid_0'), 1.0),\n",
      "                            (('S01', 'S01', 'vid_0', 'vid_1'), 1.0),\n",
      "                            (('S01', 'S01', 'vid_0', 'vid_2'), 1.0),\n",
      "                            (('S01', 'S01', 'vid_0', 'vid_3'), 1.0),\n",
      "                            (('S01', 'S01', 'vid_0', 'vid_5'), 1.0),\n",
      "                            (('S01', 'S01', 'vid_1', 'vid_0'), 1.0),\n",
      "                            (('S01', 'S01', 'vid_1', 'vid_1'), 1.0),\n",
      "                            (('S01', 'S01', 'vid_1', 'vid_2'), 1.0),\n",
      "                            (('S01', 'S01', 'vid_1', 'vid_3'), 1.0),\n",
      "                            (('S01', 'S01', 'vid_1', 'vid_5'), 1.0),\n",
      "                            (('S01', 'S01', 'vid_2', 'vid_0'), 1.0),\n",
      "                            (('S01', 'S01', 'vid_2', 'vid_1'), 1.0),\n",
      "                            (('S01', 'S01', 'vid_2', 'vid_2'), 1.0),\n",
      "                            (('S01', 'S01', 'vid_2', 'vid_3'), 1.0),\n",
      "                            (('S01', 'S01', 'vid_2', 'vid_5'), 1.0),\n",
      "                            (('S01', 'S01', 'vid_3', 'vid_0'), 1.0),\n",
      "                            (('S01', 'S01', 'vid_3', 'vid_1'), 1.0),\n",
      "                            (('S01', 'S01', 'vid_3', 'vid_2'), 1.0),\n",
      "                            (('S01', 'S01', 'vid_3', 'vid_3'), 1.0),\n",
      "                            (('S01', 'S01', 'vid_3', 'vid_5'), 1.0),\n",
      "                            (('S01', 'S01', 'vid_4', 'vid_4'), 1.0),\n",
      "                            (('S01', 'S01', 'vid_5', 'vid_0'), 1.0),\n",
      "                            (('S01', 'S01', 'vid_5', 'vid_1'), 1.0),\n",
      "                            (('S01', 'S01', 'vid_5', 'vid_2'), 1.0),\n",
      "                            (('S01', 'S01', 'vid_5', 'vid_3'), 1.0),\n",
      "                            (('S01', 'S01', 'vid_5', 'vid_5'), 1.0),\n",
      "                            (('S01', 'S02', 'vid_2', 'vid_0'), 1.0),\n",
      "                            (('S01', 'S04', 'vid_0', 'vid_0'), 1.0),\n",
      "                            (('S01', 'S04', 'vid_1', 'vid_0'), 1.0),\n",
      "                            (('S01', 'S04', 'vid_2', 'vid_0'), 1.0),\n",
      "                            (('S01', 'S04', 'vid_3', 'vid_0'), 1.0),\n",
      "                            (('S01', 'S04', 'vid_4', 'vid_0'), 1.0),\n",
      "                            (('S01', 'S04', 'vid_5', 'vid_0'), 1.0),\n",
      "                            (('S02', 'S01', 'vid_0', 'vid_2'), 1.0),\n",
      "                            (('S02', 'S04', 'vid_0', 'vid_0'), 1.0),\n",
      "                            (('S03', 'S03', 'vid_0', 'vid_0'), 1.0),\n",
      "                            (('S04', 'S01', 'vid_0', 'vid_0'), 1.0),\n",
      "                            (('S04', 'S01', 'vid_0', 'vid_1'), 1.0),\n",
      "                            (('S04', 'S01', 'vid_0', 'vid_2'), 1.0),\n",
      "                            (('S04', 'S01', 'vid_0', 'vid_3'), 1.0),\n",
      "                            (('S04', 'S01', 'vid_0', 'vid_4'), 1.0),\n",
      "                            (('S04', 'S01', 'vid_0', 'vid_5'), 1.0),\n",
      "                            (('S04', 'S02', 'vid_0', 'vid_0'), 1.0),\n",
      "                            (('S04', 'S04', 'vid_0', 'vid_0'), 1.0),\n",
      "                            (('S01', 'S01', 'vid_0', 'vid_4'),\n",
      "                             0.9999999999999999),\n",
      "                            (('S01', 'S01', 'vid_4', 'vid_0'),\n",
      "                             0.9999999999999999),\n",
      "                            (('S01', 'S02', 'vid_0', 'vid_0'),\n",
      "                             0.9999999999999999),\n",
      "                            (('S02', 'S01', 'vid_0', 'vid_0'),\n",
      "                             0.9999999999999999),\n",
      "                            (('S02', 'S02', 'vid_0', 'vid_0'),\n",
      "                             0.9999999999999999),\n",
      "                            (('S01', 'S02', 'vid_1', 'vid_0'),\n",
      "                             0.9999999999999998),\n",
      "                            (('S01', 'S02', 'vid_3', 'vid_0'),\n",
      "                             0.9999999999999998),\n",
      "                            (('S01', 'S02', 'vid_4', 'vid_0'),\n",
      "                             0.9999999999999998),\n",
      "                            (('S01', 'S02', 'vid_5', 'vid_0'),\n",
      "                             0.9999999999999998),\n",
      "                            (('S02', 'S01', 'vid_0', 'vid_1'),\n",
      "                             0.9999999999999998),\n",
      "                            (('S02', 'S01', 'vid_0', 'vid_3'),\n",
      "                             0.9999999999999998),\n",
      "                            (('S02', 'S01', 'vid_0', 'vid_4'),\n",
      "                             0.9999999999999998),\n",
      "                            (('S02', 'S01', 'vid_0', 'vid_5'),\n",
      "                             0.9999999999999998),\n",
      "                            (('S01', 'S03', 'vid_2', 'vid_0'),\n",
      "                             0.9701848034641165),\n",
      "                            (('S01', 'S03', 'vid_4', 'vid_0'),\n",
      "                             0.9701848034641165),\n",
      "                            (('S03', 'S01', 'vid_0', 'vid_2'),\n",
      "                             0.9701848034641165),\n",
      "                            (('S03', 'S01', 'vid_0', 'vid_4'),\n",
      "                             0.9701848034641165),\n",
      "                            (('S01', 'S03', 'vid_0', 'vid_0'),\n",
      "                             0.9701848034641164),\n",
      "                            (('S01', 'S03', 'vid_1', 'vid_0'),\n",
      "                             0.9701848034641164),\n",
      "                            (('S01', 'S03', 'vid_3', 'vid_0'),\n",
      "                             0.9701848034641164),\n",
      "                            (('S01', 'S03', 'vid_5', 'vid_0'),\n",
      "                             0.9701848034641164),\n",
      "                            (('S02', 'S03', 'vid_0', 'vid_0'),\n",
      "                             0.9701848034641164),\n",
      "                            (('S03', 'S01', 'vid_0', 'vid_0'),\n",
      "                             0.9701848034641164),\n",
      "                            (('S03', 'S01', 'vid_0', 'vid_1'),\n",
      "                             0.9701848034641164),\n",
      "                            (('S03', 'S01', 'vid_0', 'vid_3'),\n",
      "                             0.9701848034641164),\n",
      "                            (('S03', 'S01', 'vid_0', 'vid_5'),\n",
      "                             0.9701848034641164),\n",
      "                            (('S03', 'S02', 'vid_0', 'vid_0'),\n",
      "                             0.9701848034641164),\n",
      "                            (('S03', 'S04', 'vid_0', 'vid_0'),\n",
      "                             0.9701848034641164),\n",
      "                            (('S04', 'S03', 'vid_0', 'vid_0'),\n",
      "                             0.9701848034641164)]),\n",
      " 'remote': OrderedDict([(('S01', 'S02', 'vid_0', 'vid_0'), 1.0000000000000002),\n",
      "                        (('S01', 'S02', 'vid_4', 'vid_0'), 1.0000000000000002),\n",
      "                        (('S01', 'S03', 'vid_4', 'vid_0'), 1.0000000000000002),\n",
      "                        (('S02', 'S01', 'vid_0', 'vid_0'), 1.0000000000000002),\n",
      "                        (('S02', 'S01', 'vid_0', 'vid_4'), 1.0000000000000002),\n",
      "                        (('S02', 'S02', 'vid_0', 'vid_0'), 1.0000000000000002),\n",
      "                        (('S02', 'S03', 'vid_0', 'vid_0'), 1.0000000000000002),\n",
      "                        (('S02', 'S04', 'vid_0', 'vid_0'), 1.0000000000000002),\n",
      "                        (('S03', 'S01', 'vid_0', 'vid_4'), 1.0000000000000002),\n",
      "                        (('S03', 'S02', 'vid_0', 'vid_0'), 1.0000000000000002),\n",
      "                        (('S04', 'S02', 'vid_0', 'vid_0'), 1.0000000000000002),\n",
      "                        (('S04', 'S04', 'vid_0', 'vid_0'), 1.0000000000000002),\n",
      "                        (('S01', 'S01', 'vid_0', 'vid_0'), 1.0),\n",
      "                        (('S01', 'S01', 'vid_0', 'vid_2'), 1.0),\n",
      "                        (('S01', 'S01', 'vid_1', 'vid_1'), 1.0),\n",
      "                        (('S01', 'S01', 'vid_1', 'vid_3'), 1.0),\n",
      "                        (('S01', 'S01', 'vid_1', 'vid_5'), 1.0),\n",
      "                        (('S01', 'S01', 'vid_2', 'vid_0'), 1.0),\n",
      "                        (('S01', 'S01', 'vid_2', 'vid_2'), 1.0),\n",
      "                        (('S01', 'S01', 'vid_2', 'vid_4'), 1.0),\n",
      "                        (('S01', 'S01', 'vid_3', 'vid_1'), 1.0),\n",
      "                        (('S01', 'S01', 'vid_3', 'vid_3'), 1.0),\n",
      "                        (('S01', 'S01', 'vid_3', 'vid_5'), 1.0),\n",
      "                        (('S01', 'S01', 'vid_4', 'vid_2'), 1.0),\n",
      "                        (('S01', 'S01', 'vid_4', 'vid_4'), 1.0),\n",
      "                        (('S01', 'S01', 'vid_5', 'vid_1'), 1.0),\n",
      "                        (('S01', 'S01', 'vid_5', 'vid_3'), 1.0),\n",
      "                        (('S01', 'S01', 'vid_5', 'vid_5'), 1.0),\n",
      "                        (('S01', 'S02', 'vid_2', 'vid_0'), 1.0),\n",
      "                        (('S01', 'S03', 'vid_0', 'vid_0'), 1.0),\n",
      "                        (('S01', 'S04', 'vid_0', 'vid_0'), 1.0),\n",
      "                        (('S01', 'S04', 'vid_4', 'vid_0'), 1.0),\n",
      "                        (('S02', 'S01', 'vid_0', 'vid_2'), 1.0),\n",
      "                        (('S03', 'S01', 'vid_0', 'vid_0'), 1.0),\n",
      "                        (('S03', 'S03', 'vid_0', 'vid_0'), 1.0),\n",
      "                        (('S03', 'S04', 'vid_0', 'vid_0'), 1.0),\n",
      "                        (('S04', 'S01', 'vid_0', 'vid_0'), 1.0),\n",
      "                        (('S04', 'S01', 'vid_0', 'vid_4'), 1.0),\n",
      "                        (('S04', 'S03', 'vid_0', 'vid_0'), 1.0),\n",
      "                        (('S01', 'S04', 'vid_2', 'vid_0'), 0.9999999999999999),\n",
      "                        (('S04', 'S01', 'vid_0', 'vid_2'), 0.9999999999999999),\n",
      "                        (('S01', 'S01', 'vid_0', 'vid_4'), 0.9999999999999998),\n",
      "                        (('S01', 'S01', 'vid_4', 'vid_0'), 0.9999999999999998),\n",
      "                        (('S01', 'S03', 'vid_2', 'vid_0'), 0.9999999999999998),\n",
      "                        (('S03', 'S01', 'vid_0', 'vid_2'), 0.9999999999999998),\n",
      "                        (('S01', 'S01', 'vid_0', 'vid_1'), 0.99922297569753),\n",
      "                        (('S01', 'S01', 'vid_0', 'vid_3'), 0.99922297569753),\n",
      "                        (('S01', 'S01', 'vid_0', 'vid_5'), 0.99922297569753),\n",
      "                        (('S01', 'S01', 'vid_1', 'vid_0'), 0.99922297569753),\n",
      "                        (('S01', 'S01', 'vid_3', 'vid_0'), 0.99922297569753),\n",
      "                        (('S01', 'S01', 'vid_5', 'vid_0'), 0.99922297569753),\n",
      "                        (('S01', 'S01', 'vid_1', 'vid_4'), 0.9992229756975299),\n",
      "                        (('S01', 'S01', 'vid_3', 'vid_4'), 0.9992229756975299),\n",
      "                        (('S01', 'S01', 'vid_4', 'vid_1'), 0.9992229756975299),\n",
      "                        (('S01', 'S01', 'vid_4', 'vid_3'), 0.9992229756975299),\n",
      "                        (('S01', 'S01', 'vid_4', 'vid_5'), 0.9992229756975299),\n",
      "                        (('S01', 'S01', 'vid_5', 'vid_4'), 0.9992229756975299),\n",
      "                        (('S01', 'S04', 'vid_1', 'vid_0'), 0.9992229756975299),\n",
      "                        (('S01', 'S04', 'vid_3', 'vid_0'), 0.9992229756975299),\n",
      "                        (('S01', 'S04', 'vid_5', 'vid_0'), 0.9992229756975299),\n",
      "                        (('S04', 'S01', 'vid_0', 'vid_1'), 0.9992229756975299),\n",
      "                        (('S04', 'S01', 'vid_0', 'vid_3'), 0.9992229756975299),\n",
      "                        (('S04', 'S01', 'vid_0', 'vid_5'), 0.9992229756975299),\n",
      "                        (('S01', 'S01', 'vid_1', 'vid_2'), 0.9992229756975298),\n",
      "                        (('S01', 'S01', 'vid_2', 'vid_1'), 0.9992229756975298),\n",
      "                        (('S01', 'S01', 'vid_2', 'vid_3'), 0.9992229756975298),\n",
      "                        (('S01', 'S01', 'vid_2', 'vid_5'), 0.9992229756975298),\n",
      "                        (('S01', 'S01', 'vid_3', 'vid_2'), 0.9992229756975298),\n",
      "                        (('S01', 'S01', 'vid_5', 'vid_2'), 0.9992229756975298),\n",
      "                        (('S01', 'S02', 'vid_1', 'vid_0'), 0.9992229756975298),\n",
      "                        (('S01', 'S02', 'vid_3', 'vid_0'), 0.9992229756975298),\n",
      "                        (('S01', 'S02', 'vid_5', 'vid_0'), 0.9992229756975298),\n",
      "                        (('S02', 'S01', 'vid_0', 'vid_1'), 0.9992229756975298),\n",
      "                        (('S02', 'S01', 'vid_0', 'vid_3'), 0.9992229756975298),\n",
      "                        (('S02', 'S01', 'vid_0', 'vid_5'), 0.9992229756975298),\n",
      "                        (('S01', 'S03', 'vid_1', 'vid_0'), 0.9992229756975297),\n",
      "                        (('S01', 'S03', 'vid_3', 'vid_0'), 0.9992229756975297),\n",
      "                        (('S01', 'S03', 'vid_5', 'vid_0'), 0.9992229756975297),\n",
      "                        (('S03', 'S01', 'vid_0', 'vid_1'), 0.9992229756975297),\n",
      "                        (('S03', 'S01', 'vid_0', 'vid_3'), 0.9992229756975297),\n",
      "                        (('S03', 'S01', 'vid_0', 'vid_5'),\n",
      "                         0.9992229756975297)])}\n"
     ]
    }
   ],
   "source": [
    "sorted_results = sort_results(results)\n",
    "pprint(sorted_results['M01-10'])"
   ]
  },
  {
   "cell_type": "code",
   "execution_count": null,
   "metadata": {},
   "outputs": [
    {
     "ename": "NameError",
     "evalue": "name 'evaluate' is not defined",
     "output_type": "error",
     "traceback": [
      "\u001b[0;31m---------------------------------------------------------------------------\u001b[0m",
      "\u001b[0;31mNameError\u001b[0m                                 Traceback (most recent call last)",
      "\u001b[0;32m<ipython-input-112-b60246aff56a>\u001b[0m in \u001b[0;36m<module>\u001b[0;34m\u001b[0m\n\u001b[0;32m----> 1\u001b[0;31m \u001b[0mevaluate\u001b[0m\u001b[0;34m(\u001b[0m\u001b[0msorted_results\u001b[0m\u001b[0;34m)\u001b[0m\u001b[0;34m\u001b[0m\u001b[0;34m\u001b[0m\u001b[0m\n\u001b[0m",
      "\u001b[0;31mNameError\u001b[0m: name 'evaluate' is not defined"
     ]
    }
   ],
   "source": [
    "evaluate(sorted_results)"
   ]
  },
  {
   "cell_type": "code",
   "execution_count": null,
   "metadata": {},
   "outputs": [
    {
     "name": "stdout",
     "output_type": "stream",
     "text": [
      "M01-100 mAP: 0.8471109251649777\n",
      "M01-100 mRR: 1.0\n",
      "M02-100 mAP: 0.8345413475487371\n",
      "M02-100 mRR: 1.0\n"
     ]
    }
   ],
   "source": [
    "for model in sorted_results:\n",
    "    rs = []\n",
    "    for app in sorted_results[model]:\n",
    "        r = []\n",
    "        for labels, score in sorted_results[model][app].items():\n",
    "            if labels[0] == 'S01':\n",
    "                if labels[2] != labels[3]:\n",
    "                    if labels[0] == labels[1]: r.append(1)\n",
    "                    else: r.append(0)\n",
    "        rs.append(r)\n",
    "    \n",
    "    print(f'{model} mAP:', mean_average_precision(rs))\n",
    "    print(f'{model} mRR:', mean_reciprocal_rank(rs))"
   ]
  },
  {
   "cell_type": "code",
   "execution_count": null,
   "metadata": {},
   "outputs": [
    {
     "data": {
      "text/plain": [
       "1.0"
      ]
     },
     "execution_count": null,
     "metadata": {},
     "output_type": "execute_result"
    }
   ],
   "source": [
    "mean_reciprocal_rank(rs)"
   ]
  },
  {
   "cell_type": "code",
   "execution_count": null,
   "metadata": {},
   "outputs": [
    {
     "data": {
      "text/plain": [
       "1.0"
      ]
     },
     "execution_count": null,
     "metadata": {},
     "output_type": "execute_result"
    }
   ],
   "source": [
    "mean_reciprocal_rank(rs)"
   ]
  },
  {
   "cell_type": "code",
   "execution_count": null,
   "metadata": {},
   "outputs": [
    {
     "data": {
      "text/plain": [
       "0.8345413475487371"
      ]
     },
     "execution_count": null,
     "metadata": {},
     "output_type": "execute_result"
    }
   ],
   "source": [
    "mean_average_precision(rs)"
   ]
  },
  {
   "cell_type": "code",
   "execution_count": null,
   "metadata": {},
   "outputs": [
    {
     "data": {
      "text/plain": [
       "0.8471109251649777"
      ]
     },
     "execution_count": null,
     "metadata": {},
     "output_type": "execute_result"
    }
   ],
   "source": [
    "mean_average_precision(rs)"
   ]
  },
  {
   "cell_type": "code",
   "execution_count": null,
   "metadata": {},
   "outputs": [],
   "source": []
  },
  {
   "cell_type": "code",
   "execution_count": null,
   "metadata": {},
   "outputs": [],
   "source": []
  },
  {
   "cell_type": "code",
   "execution_count": null,
   "metadata": {},
   "outputs": [],
   "source": []
  },
  {
   "cell_type": "code",
   "execution_count": null,
   "metadata": {},
   "outputs": [],
   "source": [
    "r1, r2, r3 = [], [], []\n",
    "for labels, score in sorted_results['M01-100']['car_part'].items():\n",
    "    if labels[0] == 'S01':\n",
    "        if labels[2] != labels[3]:\n",
    "            if labels[0] == labels[1]: r1.append(1)\n",
    "            else: r1.append(0)"
   ]
  },
  {
   "cell_type": "code",
   "execution_count": null,
   "metadata": {},
   "outputs": [
    {
     "data": {
      "text/plain": [
       "0.27293913256842317"
      ]
     },
     "execution_count": null,
     "metadata": {},
     "output_type": "execute_result"
    }
   ],
   "source": [
    "mean_average_precision([r1, r2, r3])"
   ]
  },
  {
   "cell_type": "code",
   "execution_count": null,
   "metadata": {},
   "outputs": [
    {
     "data": {
      "text/plain": [
       "(0.8188173977052695, 0.0, 0.0)"
      ]
     },
     "execution_count": null,
     "metadata": {},
     "output_type": "execute_result"
    }
   ],
   "source": [
    "average_precision(r1), average_precision(r2), average_precision(r3)"
   ]
  },
  {
   "cell_type": "code",
   "execution_count": null,
   "metadata": {},
   "outputs": [
    {
     "data": {
      "text/plain": [
       "0.8603504307990683"
      ]
     },
     "execution_count": null,
     "metadata": {},
     "output_type": "execute_result"
    }
   ],
   "source": [
    "average_precision(r)"
   ]
  },
  {
   "cell_type": "code",
   "execution_count": null,
   "metadata": {},
   "outputs": [
    {
     "data": {
      "text/plain": [
       "([0, 0, 0, 0], [0, 0, 0, 0])"
      ]
     },
     "execution_count": null,
     "metadata": {},
     "output_type": "execute_result"
    }
   ],
   "source": [
    "r2, r3"
   ]
  },
  {
   "cell_type": "code",
   "execution_count": null,
   "metadata": {},
   "outputs": [
    {
     "name": "stdout",
     "output_type": "stream",
     "text": [
      "('S02', 'S02', 'vid_0', 'vid_0')\n",
      "('S02', 'S01', 'vid_0', 'vid_0')\n",
      "('S02', 'S01', 'vid_0', 'vid_2')\n",
      "('S02', 'S01', 'vid_0', 'vid_4')\n",
      "('S02', 'S01', 'vid_0', 'vid_3')\n",
      "('S02', 'S03', 'vid_0', 'vid_0')\n",
      "('S02', 'S01', 'vid_0', 'vid_1')\n"
     ]
    }
   ],
   "source": [
    "for labels, score in sorted_results['M01-100']['car_part'].items():\n",
    "    if labels[0] == 'S02':\n",
    "        print(labels)"
   ]
  },
  {
   "cell_type": "code",
   "execution_count": null,
   "metadata": {
    "scrolled": true
   },
   "outputs": [
    {
     "data": {
      "text/plain": [
       "OrderedDict([(('S01', 'S01', 'vid_3', 'vid_3'), 1.0000000000000002),\n",
       "             (('S03', 'S03', 'vid_0', 'vid_0'), 1.0000000000000002),\n",
       "             (('S01', 'S01', 'vid_1', 'vid_1'), 1.0),\n",
       "             (('S02', 'S02', 'vid_0', 'vid_0'), 1.0),\n",
       "             (('S01', 'S01', 'vid_0', 'vid_0'), 0.9999999999999999),\n",
       "             (('S01', 'S01', 'vid_0', 'vid_2'), 0.9999999999999999),\n",
       "             (('S01', 'S01', 'vid_0', 'vid_4'), 0.9999999999999999),\n",
       "             (('S01', 'S01', 'vid_2', 'vid_0'), 0.9999999999999999),\n",
       "             (('S01', 'S01', 'vid_2', 'vid_2'), 0.9999999999999999),\n",
       "             (('S01', 'S01', 'vid_2', 'vid_4'), 0.9999999999999999),\n",
       "             (('S01', 'S01', 'vid_4', 'vid_0'), 0.9999999999999999),\n",
       "             (('S01', 'S01', 'vid_4', 'vid_2'), 0.9999999999999999),\n",
       "             (('S01', 'S01', 'vid_4', 'vid_4'), 0.9999999999999999),\n",
       "             (('S01', 'S02', 'vid_0', 'vid_0'), 0.99998685910322),\n",
       "             (('S01', 'S02', 'vid_2', 'vid_0'), 0.99998685910322),\n",
       "             (('S01', 'S02', 'vid_4', 'vid_0'), 0.99998685910322),\n",
       "             (('S02', 'S01', 'vid_0', 'vid_0'), 0.99998685910322),\n",
       "             (('S02', 'S01', 'vid_0', 'vid_2'), 0.99998685910322),\n",
       "             (('S02', 'S01', 'vid_0', 'vid_4'), 0.99998685910322),\n",
       "             (('S01', 'S03', 'vid_3', 'vid_0'), 0.9999816898742376),\n",
       "             (('S03', 'S01', 'vid_0', 'vid_3'), 0.9999816898742376),\n",
       "             (('S01', 'S01', 'vid_0', 'vid_3'), 0.9957921935849146),\n",
       "             (('S01', 'S01', 'vid_2', 'vid_3'), 0.9957921935849146),\n",
       "             (('S01', 'S01', 'vid_3', 'vid_0'), 0.9957921935849146),\n",
       "             (('S01', 'S01', 'vid_3', 'vid_2'), 0.9957921935849146),\n",
       "             (('S01', 'S01', 'vid_3', 'vid_4'), 0.9957921935849146),\n",
       "             (('S01', 'S01', 'vid_4', 'vid_3'), 0.9957921935849146),\n",
       "             (('S01', 'S02', 'vid_3', 'vid_0'), 0.9957708119209178),\n",
       "             (('S02', 'S01', 'vid_0', 'vid_3'), 0.9957708119209178),\n",
       "             (('S01', 'S03', 'vid_0', 'vid_0'), 0.9952881845503411),\n",
       "             (('S01', 'S03', 'vid_2', 'vid_0'), 0.9952881845503411),\n",
       "             (('S01', 'S03', 'vid_4', 'vid_0'), 0.9952881845503411),\n",
       "             (('S03', 'S01', 'vid_0', 'vid_0'), 0.9952881845503411),\n",
       "             (('S03', 'S01', 'vid_0', 'vid_2'), 0.9952881845503411),\n",
       "             (('S03', 'S01', 'vid_0', 'vid_4'), 0.9952881845503411),\n",
       "             (('S02', 'S03', 'vid_0', 'vid_0'), 0.9952663279950402),\n",
       "             (('S03', 'S02', 'vid_0', 'vid_0'), 0.9952663279950402),\n",
       "             (('S01', 'S01', 'vid_0', 'vid_1'), 0.0),\n",
       "             (('S01', 'S01', 'vid_1', 'vid_0'), 0.0),\n",
       "             (('S01', 'S01', 'vid_1', 'vid_2'), 0.0),\n",
       "             (('S01', 'S01', 'vid_1', 'vid_3'), 0.0),\n",
       "             (('S01', 'S01', 'vid_1', 'vid_4'), 0.0),\n",
       "             (('S01', 'S01', 'vid_2', 'vid_1'), 0.0),\n",
       "             (('S01', 'S01', 'vid_3', 'vid_1'), 0.0),\n",
       "             (('S01', 'S01', 'vid_4', 'vid_1'), 0.0),\n",
       "             (('S01', 'S02', 'vid_1', 'vid_0'), 0.0),\n",
       "             (('S01', 'S03', 'vid_1', 'vid_0'), 0.0),\n",
       "             (('S02', 'S01', 'vid_0', 'vid_1'), 0.0),\n",
       "             (('S03', 'S01', 'vid_0', 'vid_1'), 0.0)])"
      ]
     },
     "execution_count": null,
     "metadata": {},
     "output_type": "execute_result"
    }
   ],
   "source": [
    "sorted_results['M01-100']['car_part']"
   ]
  },
  {
   "cell_type": "code",
   "execution_count": null,
   "metadata": {},
   "outputs": [],
   "source": []
  },
  {
   "cell_type": "code",
   "execution_count": null,
   "metadata": {},
   "outputs": [],
   "source": []
  },
  {
   "cell_type": "code",
   "execution_count": null,
   "metadata": {},
   "outputs": [],
   "source": []
  },
  {
   "cell_type": "code",
   "execution_count": null,
   "metadata": {},
   "outputs": [],
   "source": [
    "# export\n",
    "def mean_reciprocal_rank(rs):\n",
    "    \"\"\"Score is reciprocal of the rank of the first relevant item\n",
    "\n",
    "    First element is 'rank 1'.  Relevance is binary (nonzero is relevant).\n",
    "\n",
    "    Example from http://en.wikipedia.org/wiki/Mean_reciprocal_rank\n",
    "    >>> rs = [[0, 0, 1], [0, 1, 0], [1, 0, 0]]\n",
    "    >>> mean_reciprocal_rank(rs)\n",
    "    0.61111111111111105\n",
    "    >>> rs = np.array([[0, 0, 0], [0, 1, 0], [1, 0, 0]])\n",
    "    >>> mean_reciprocal_rank(rs)\n",
    "    0.5\n",
    "    >>> rs = [[0, 0, 0, 1], [1, 0, 0], [1, 0, 0]]\n",
    "    >>> mean_reciprocal_rank(rs)\n",
    "    0.75\n",
    "\n",
    "    Args:\n",
    "        rs: Iterator of relevance scores (list or numpy) in rank order\n",
    "            (first element is the first item)\n",
    "\n",
    "    Returns:\n",
    "        Mean reciprocal rank\n",
    "    \"\"\"\n",
    "    rs = (np.asarray(r).nonzero()[0] for r in rs)\n",
    "    return np.mean([1. / (r[0] + 1) if r.size else 0. for r in rs])\n",
    "\n",
    "def r_precision(r):\n",
    "    \"\"\"Score is precision after all relevant documents have been retrieved\n",
    "\n",
    "    Relevance is binary (nonzero is relevant).\n",
    "\n",
    "    >>> r = [0, 0, 1]\n",
    "    >>> r_precision(r)\n",
    "    0.33333333333333331\n",
    "    >>> r = [0, 1, 0]\n",
    "    >>> r_precision(r)\n",
    "    0.5\n",
    "    >>> r = [1, 0, 0]\n",
    "    >>> r_precision(r)\n",
    "    1.0\n",
    "\n",
    "    Args:\n",
    "        r: Relevance scores (list or numpy) in rank order\n",
    "            (first element is the first item)\n",
    "\n",
    "    Returns:\n",
    "        R Precision\n",
    "    \"\"\"\n",
    "    r = np.asarray(r) != 0\n",
    "    z = r.nonzero()[0]\n",
    "    if not z.size:\n",
    "        return 0.\n",
    "    return np.mean(r[:z[-1] + 1])\n",
    "\n",
    "\n",
    "def precision_at_k(r, k):\n",
    "    \"\"\"Score is precision @ k\n",
    "\n",
    "    Relevance is binary (nonzero is relevant).\n",
    "\n",
    "    >>> r = [0, 0, 1]\n",
    "    >>> precision_at_k(r, 1)\n",
    "    0.0\n",
    "    >>> precision_at_k(r, 2)\n",
    "    0.0\n",
    "    >>> precision_at_k(r, 3)\n",
    "    0.33333333333333331\n",
    "    >>> precision_at_k(r, 4)\n",
    "    Traceback (most recent call last):\n",
    "        File \"<stdin>\", line 1, in ?\n",
    "    ValueError: Relevance score length < k\n",
    "\n",
    "\n",
    "    Args:\n",
    "        r: Relevance scores (list or numpy) in rank order\n",
    "            (first element is the first item)\n",
    "\n",
    "    Returns:\n",
    "        Precision @ k\n",
    "\n",
    "    Raises:\n",
    "        ValueError: len(r) must be >= k\n",
    "    \"\"\"\n",
    "    assert k >= 1\n",
    "    r = np.asarray(r)[:k] != 0\n",
    "    if r.size != k:\n",
    "        raise ValueError('Relevance score length < k')\n",
    "    return np.mean(r)\n",
    "\n",
    "\n",
    "def average_precision(r):\n",
    "    \"\"\"Score is average precision (area under PR curve)\n",
    "\n",
    "    Relevance is binary (nonzero is relevant).\n",
    "\n",
    "    >>> r = [1, 1, 0, 1, 0, 1, 0, 0, 0, 1]\n",
    "    >>> delta_r = 1. / sum(r)\n",
    "    >>> sum([sum(r[:x + 1]) / (x + 1.) * delta_r for x, y in enumerate(r) if y])\n",
    "    0.7833333333333333\n",
    "    >>> average_precision(r)\n",
    "    0.78333333333333333\n",
    "\n",
    "    Args:\n",
    "        r: Relevance scores (list or numpy) in rank order\n",
    "            (first element is the first item)\n",
    "\n",
    "    Returns:\n",
    "        Average precision\n",
    "    \"\"\"\n",
    "    r = np.asarray(r) != 0\n",
    "    out = [precision_at_k(r, k + 1) for k in range(r.size) if r[k]]\n",
    "    if not out:\n",
    "        return 0.\n",
    "    return np.mean(out)\n",
    "\n",
    "\n",
    "def mean_average_precision(rs):\n",
    "    \"\"\"Score is mean average precision\n",
    "\n",
    "    Relevance is binary (nonzero is relevant).\n",
    "\n",
    "    >>> rs = [[1, 1, 0, 1, 0, 1, 0, 0, 0, 1]]\n",
    "    >>> mean_average_precision(rs)\n",
    "    0.78333333333333333\n",
    "    >>> rs = [[1, 1, 0, 1, 0, 1, 0, 0, 0, 1], [0]]\n",
    "    >>> mean_average_precision(rs)\n",
    "    0.39166666666666666\n",
    "\n",
    "    Args:\n",
    "        rs: Iterator of relevance scores (list or numpy) in rank order\n",
    "            (first element is the first item)\n",
    "\n",
    "    Returns:\n",
    "        Mean average precision\n",
    "    \"\"\"\n",
    "    return np.mean([average_precision(r) for r in rs])\n"
   ]
  },
  {
   "cell_type": "code",
   "execution_count": null,
   "metadata": {},
   "outputs": [],
   "source": []
  },
  {
   "cell_type": "code",
   "execution_count": null,
   "metadata": {},
   "outputs": [],
   "source": []
  },
  {
   "cell_type": "code",
   "execution_count": null,
   "metadata": {},
   "outputs": [
    {
     "data": {
      "text/html": [
       "<div>\n",
       "<style scoped>\n",
       "    .dataframe tbody tr th:only-of-type {\n",
       "        vertical-align: middle;\n",
       "    }\n",
       "\n",
       "    .dataframe tbody tr th {\n",
       "        vertical-align: top;\n",
       "    }\n",
       "\n",
       "    .dataframe thead th {\n",
       "        text-align: right;\n",
       "    }\n",
       "</style>\n",
       "<table border=\"1\" class=\"dataframe\">\n",
       "  <thead>\n",
       "    <tr style=\"text-align: right;\">\n",
       "      <th></th>\n",
       "      <th>S01</th>\n",
       "      <th>S02</th>\n",
       "      <th>S03</th>\n",
       "    </tr>\n",
       "  </thead>\n",
       "  <tbody>\n",
       "    <tr>\n",
       "      <th>vid_0</th>\n",
       "      <td>{'vid_0': 1.0, 'vid_1': 0.9952221132818684, 'v...</td>\n",
       "      <td>{'vid_0': 0.9708095769094802}</td>\n",
       "      <td>{'vid_0': 0.9734365052512393}</td>\n",
       "    </tr>\n",
       "    <tr>\n",
       "      <th>vid_1</th>\n",
       "      <td>{'vid_0': 0.9952221132818684, 'vid_1': 1.0, 'v...</td>\n",
       "      <td>{'vid_0': 0.960270188297443}</td>\n",
       "      <td>{'vid_0': 0.9605124346621617}</td>\n",
       "    </tr>\n",
       "    <tr>\n",
       "      <th>vid_2</th>\n",
       "      <td>{'vid_0': 1.0, 'vid_1': 0.9952221132818684, 'v...</td>\n",
       "      <td>{'vid_0': 0.9708095769094802}</td>\n",
       "      <td>{'vid_0': 0.9734365052512393}</td>\n",
       "    </tr>\n",
       "    <tr>\n",
       "      <th>vid_3</th>\n",
       "      <td>{'vid_0': 0.9973006427455489, 'vid_1': 0.99945...</td>\n",
       "      <td>{'vid_0': 0.9648970227613424}</td>\n",
       "      <td>{'vid_0': 0.965622793408852}</td>\n",
       "    </tr>\n",
       "    <tr>\n",
       "      <th>vid_4</th>\n",
       "      <td>{'vid_0': 1.0, 'vid_1': 0.9952221132818684, 'v...</td>\n",
       "      <td>{'vid_0': 0.9708095769094802}</td>\n",
       "      <td>{'vid_0': 0.9734365052512393}</td>\n",
       "    </tr>\n",
       "  </tbody>\n",
       "</table>\n",
       "</div>"
      ],
      "text/plain": [
       "                                                     S01  \\\n",
       "vid_0  {'vid_0': 1.0, 'vid_1': 0.9952221132818684, 'v...   \n",
       "vid_1  {'vid_0': 0.9952221132818684, 'vid_1': 1.0, 'v...   \n",
       "vid_2  {'vid_0': 1.0, 'vid_1': 0.9952221132818684, 'v...   \n",
       "vid_3  {'vid_0': 0.9973006427455489, 'vid_1': 0.99945...   \n",
       "vid_4  {'vid_0': 1.0, 'vid_1': 0.9952221132818684, 'v...   \n",
       "\n",
       "                                 S02                            S03  \n",
       "vid_0  {'vid_0': 0.9708095769094802}  {'vid_0': 0.9734365052512393}  \n",
       "vid_1   {'vid_0': 0.960270188297443}  {'vid_0': 0.9605124346621617}  \n",
       "vid_2  {'vid_0': 0.9708095769094802}  {'vid_0': 0.9734365052512393}  \n",
       "vid_3  {'vid_0': 0.9648970227613424}   {'vid_0': 0.965622793408852}  \n",
       "vid_4  {'vid_0': 0.9708095769094802}  {'vid_0': 0.9734365052512393}  "
      ]
     },
     "execution_count": null,
     "metadata": {},
     "output_type": "execute_result"
    }
   ],
   "source": [
    "pd.DataFrame.from_dict(results['M02-100']['car_part']['S01'])"
   ]
  },
  {
   "cell_type": "code",
   "execution_count": null,
   "metadata": {},
   "outputs": [
    {
     "data": {
      "text/plain": [
       "{'S01': {'vid_0': {'vid_0': 1.0,\n",
       "   'vid_1': 0.9952221132818684,\n",
       "   'vid_2': 1.0,\n",
       "   'vid_3': 0.9973006427455489,\n",
       "   'vid_4': 1.0},\n",
       "  'vid_1': {'vid_0': 0.9952221132818684,\n",
       "   'vid_1': 1.0,\n",
       "   'vid_2': 0.9952221132818684,\n",
       "   'vid_3': 0.9994501965866164,\n",
       "   'vid_4': 0.9952221132818684},\n",
       "  'vid_2': {'vid_0': 1.0,\n",
       "   'vid_1': 0.9952221132818684,\n",
       "   'vid_2': 1.0,\n",
       "   'vid_3': 0.9973006427455489,\n",
       "   'vid_4': 1.0},\n",
       "  'vid_3': {'vid_0': 0.9973006427455489,\n",
       "   'vid_1': 0.9994501965866164,\n",
       "   'vid_2': 0.9973006427455489,\n",
       "   'vid_3': 1.0000000000000002,\n",
       "   'vid_4': 0.9973006427455489},\n",
       "  'vid_4': {'vid_0': 1.0,\n",
       "   'vid_1': 0.9952221132818684,\n",
       "   'vid_2': 1.0,\n",
       "   'vid_3': 0.9973006427455489,\n",
       "   'vid_4': 1.0}},\n",
       " 'S02': {'vid_0': {'vid_0': 0.9708095769094802},\n",
       "  'vid_1': {'vid_0': 0.960270188297443},\n",
       "  'vid_2': {'vid_0': 0.9708095769094802},\n",
       "  'vid_3': {'vid_0': 0.9648970227613424},\n",
       "  'vid_4': {'vid_0': 0.9708095769094802}},\n",
       " 'S03': {'vid_0': {'vid_0': 0.9734365052512393},\n",
       "  'vid_1': {'vid_0': 0.9605124346621617},\n",
       "  'vid_2': {'vid_0': 0.9734365052512393},\n",
       "  'vid_3': {'vid_0': 0.965622793408852},\n",
       "  'vid_4': {'vid_0': 0.9734365052512393}}}"
      ]
     },
     "execution_count": null,
     "metadata": {},
     "output_type": "execute_result"
    }
   ],
   "source": [
    "results['M02-100']['car_part']['S01']"
   ]
  },
  {
   "cell_type": "code",
   "execution_count": null,
   "metadata": {},
   "outputs": [
    {
     "name": "stdout",
     "output_type": "stream",
     "text": [
      "('S01', 'S01', 'vid_3', 'vid_3') 1.0000000000000002\n",
      "('S01', 'S01', 'vid_1', 'vid_1') 1.0\n",
      "('S01', 'S01', 'vid_0', 'vid_0') 0.9999999999999999\n",
      "('S01', 'S01', 'vid_0', 'vid_2') 0.9999999999999999\n",
      "('S01', 'S01', 'vid_0', 'vid_4') 0.9999999999999999\n",
      "('S01', 'S01', 'vid_2', 'vid_0') 0.9999999999999999\n",
      "('S01', 'S01', 'vid_2', 'vid_2') 0.9999999999999999\n",
      "('S01', 'S01', 'vid_2', 'vid_4') 0.9999999999999999\n",
      "('S01', 'S01', 'vid_4', 'vid_0') 0.9999999999999999\n",
      "('S01', 'S01', 'vid_4', 'vid_2') 0.9999999999999999\n",
      "('S01', 'S01', 'vid_4', 'vid_4') 0.9999999999999999\n",
      "('S01', 'S02', 'vid_0', 'vid_0') 0.99998685910322\n",
      "('S01', 'S02', 'vid_2', 'vid_0') 0.99998685910322\n",
      "('S01', 'S02', 'vid_4', 'vid_0') 0.99998685910322\n",
      "('S01', 'S03', 'vid_3', 'vid_0') 0.9999816898742376\n",
      "('S01', 'S01', 'vid_0', 'vid_3') 0.9957921935849146\n",
      "('S01', 'S01', 'vid_2', 'vid_3') 0.9957921935849146\n",
      "('S01', 'S01', 'vid_3', 'vid_0') 0.9957921935849146\n",
      "('S01', 'S01', 'vid_3', 'vid_2') 0.9957921935849146\n",
      "('S01', 'S01', 'vid_3', 'vid_4') 0.9957921935849146\n",
      "('S01', 'S01', 'vid_4', 'vid_3') 0.9957921935849146\n",
      "('S01', 'S02', 'vid_3', 'vid_0') 0.9957708119209178\n",
      "('S01', 'S03', 'vid_0', 'vid_0') 0.9952881845503411\n",
      "('S01', 'S03', 'vid_2', 'vid_0') 0.9952881845503411\n",
      "('S01', 'S03', 'vid_4', 'vid_0') 0.9952881845503411\n",
      "('S01', 'S01', 'vid_0', 'vid_1') 0.0\n",
      "('S01', 'S01', 'vid_1', 'vid_0') 0.0\n",
      "('S01', 'S01', 'vid_1', 'vid_2') 0.0\n",
      "('S01', 'S01', 'vid_1', 'vid_3') 0.0\n",
      "('S01', 'S01', 'vid_1', 'vid_4') 0.0\n",
      "('S01', 'S01', 'vid_2', 'vid_1') 0.0\n",
      "('S01', 'S01', 'vid_3', 'vid_1') 0.0\n",
      "('S01', 'S01', 'vid_4', 'vid_1') 0.0\n",
      "('S01', 'S02', 'vid_1', 'vid_0') 0.0\n",
      "('S01', 'S03', 'vid_1', 'vid_0') 0.0\n"
     ]
    }
   ],
   "source": []
  },
  {
   "cell_type": "code",
   "execution_count": null,
   "metadata": {},
   "outputs": [
    {
     "data": {
      "text/plain": [
       "0.7981741318870876"
      ]
     },
     "execution_count": null,
     "metadata": {},
     "output_type": "execute_result"
    }
   ],
   "source": []
  },
  {
   "cell_type": "code",
   "execution_count": null,
   "metadata": {},
   "outputs": [],
   "source": [
    "# TODO Reduce frames per second (try difference numbers)"
   ]
  },
  {
   "cell_type": "code",
   "execution_count": null,
   "metadata": {},
   "outputs": [
    {
     "name": "stdout",
     "output_type": "stream",
     "text": [
      "OrderedDict([(('S01', 'S01', 'vid_3', 'vid_3'), 1.0000000000000002),\n",
      "             (('S03', 'S03', 'vid_0', 'vid_0'), 1.0000000000000002),\n",
      "             (('S01', 'S01', 'vid_1', 'vid_1'), 1.0),\n",
      "             (('S02', 'S02', 'vid_0', 'vid_0'), 1.0),\n",
      "             (('S01', 'S01', 'vid_0', 'vid_0'), 0.9999999999999999),\n",
      "             (('S01', 'S01', 'vid_0', 'vid_2'), 0.9999999999999999),\n",
      "             (('S01', 'S01', 'vid_0', 'vid_4'), 0.9999999999999999),\n",
      "             (('S01', 'S01', 'vid_2', 'vid_0'), 0.9999999999999999),\n",
      "             (('S01', 'S01', 'vid_2', 'vid_2'), 0.9999999999999999),\n",
      "             (('S01', 'S01', 'vid_2', 'vid_4'), 0.9999999999999999),\n",
      "             (('S01', 'S01', 'vid_4', 'vid_0'), 0.9999999999999999),\n",
      "             (('S01', 'S01', 'vid_4', 'vid_2'), 0.9999999999999999),\n",
      "             (('S01', 'S01', 'vid_4', 'vid_4'), 0.9999999999999999),\n",
      "             (('S01', 'S02', 'vid_0', 'vid_0'), 0.99998685910322),\n",
      "             (('S01', 'S02', 'vid_2', 'vid_0'), 0.99998685910322),\n",
      "             (('S01', 'S02', 'vid_4', 'vid_0'), 0.99998685910322),\n",
      "             (('S02', 'S01', 'vid_0', 'vid_0'), 0.99998685910322),\n",
      "             (('S02', 'S01', 'vid_0', 'vid_2'), 0.99998685910322),\n",
      "             (('S02', 'S01', 'vid_0', 'vid_4'), 0.99998685910322),\n",
      "             (('S01', 'S03', 'vid_3', 'vid_0'), 0.9999816898742376),\n",
      "             (('S03', 'S01', 'vid_0', 'vid_3'), 0.9999816898742376),\n",
      "             (('S01', 'S01', 'vid_0', 'vid_3'), 0.9957921935849146),\n",
      "             (('S01', 'S01', 'vid_2', 'vid_3'), 0.9957921935849146),\n",
      "             (('S01', 'S01', 'vid_3', 'vid_0'), 0.9957921935849146),\n",
      "             (('S01', 'S01', 'vid_3', 'vid_2'), 0.9957921935849146),\n",
      "             (('S01', 'S01', 'vid_3', 'vid_4'), 0.9957921935849146),\n",
      "             (('S01', 'S01', 'vid_4', 'vid_3'), 0.9957921935849146),\n",
      "             (('S01', 'S02', 'vid_3', 'vid_0'), 0.9957708119209178),\n",
      "             (('S02', 'S01', 'vid_0', 'vid_3'), 0.9957708119209178),\n",
      "             (('S01', 'S03', 'vid_0', 'vid_0'), 0.9952881845503411),\n",
      "             (('S01', 'S03', 'vid_2', 'vid_0'), 0.9952881845503411),\n",
      "             (('S01', 'S03', 'vid_4', 'vid_0'), 0.9952881845503411),\n",
      "             (('S03', 'S01', 'vid_0', 'vid_0'), 0.9952881845503411),\n",
      "             (('S03', 'S01', 'vid_0', 'vid_2'), 0.9952881845503411),\n",
      "             (('S03', 'S01', 'vid_0', 'vid_4'), 0.9952881845503411),\n",
      "             (('S02', 'S03', 'vid_0', 'vid_0'), 0.9952663279950402),\n",
      "             (('S03', 'S02', 'vid_0', 'vid_0'), 0.9952663279950402),\n",
      "             (('S01', 'S01', 'vid_0', 'vid_1'), 0.0),\n",
      "             (('S01', 'S01', 'vid_1', 'vid_0'), 0.0),\n",
      "             (('S01', 'S01', 'vid_1', 'vid_2'), 0.0),\n",
      "             (('S01', 'S01', 'vid_1', 'vid_3'), 0.0),\n",
      "             (('S01', 'S01', 'vid_1', 'vid_4'), 0.0),\n",
      "             (('S01', 'S01', 'vid_2', 'vid_1'), 0.0),\n",
      "             (('S01', 'S01', 'vid_3', 'vid_1'), 0.0),\n",
      "             (('S01', 'S01', 'vid_4', 'vid_1'), 0.0),\n",
      "             (('S01', 'S02', 'vid_1', 'vid_0'), 0.0),\n",
      "             (('S01', 'S03', 'vid_1', 'vid_0'), 0.0),\n",
      "             (('S02', 'S01', 'vid_0', 'vid_1'), 0.0),\n",
      "             (('S03', 'S01', 'vid_0', 'vid_1'), 0.0)])\n"
     ]
    }
   ],
   "source": [
    "# sorted_results = sort_results(results)\n",
    "pprint(sorted_results['M01-100']['car_part'])"
   ]
  },
  {
   "cell_type": "code",
   "execution_count": null,
   "metadata": {},
   "outputs": [
    {
     "name": "stdout",
     "output_type": "stream",
     "text": [
      "{'car_part': OrderedDict([(('S02', 'S02', 'vid_0', 'vid_0'),\n",
      "                           1.0000000000000002),\n",
      "                          (('S01', 'S01', 'vid_0', 'vid_0'), 1.0),\n",
      "                          (('S01', 'S01', 'vid_0', 'vid_2'), 1.0),\n",
      "                          (('S01', 'S01', 'vid_0', 'vid_4'), 1.0),\n",
      "                          (('S01', 'S01', 'vid_1', 'vid_1'), 1.0),\n",
      "                          (('S01', 'S01', 'vid_2', 'vid_0'), 1.0),\n",
      "                          (('S01', 'S01', 'vid_2', 'vid_2'), 1.0),\n",
      "                          (('S01', 'S01', 'vid_2', 'vid_4'), 1.0),\n",
      "                          (('S01', 'S01', 'vid_4', 'vid_0'), 1.0),\n",
      "                          (('S01', 'S01', 'vid_4', 'vid_2'), 1.0),\n",
      "                          (('S01', 'S01', 'vid_4', 'vid_4'), 1.0),\n",
      "                          (('S03', 'S03', 'vid_0', 'vid_0'), 1.0),\n",
      "                          (('S01', 'S01', 'vid_3', 'vid_3'),\n",
      "                           0.9999999999999998),\n",
      "                          (('S01', 'S02', 'vid_0', 'vid_0'),\n",
      "                           0.9999868591032202),\n",
      "                          (('S01', 'S02', 'vid_2', 'vid_0'),\n",
      "                           0.9999868591032202),\n",
      "                          (('S01', 'S02', 'vid_4', 'vid_0'),\n",
      "                           0.9999868591032202),\n",
      "                          (('S02', 'S01', 'vid_0', 'vid_0'),\n",
      "                           0.9999868591032202),\n",
      "                          (('S02', 'S01', 'vid_0', 'vid_2'),\n",
      "                           0.9999868591032202),\n",
      "                          (('S02', 'S01', 'vid_0', 'vid_4'),\n",
      "                           0.9999868591032202),\n",
      "                          (('S01', 'S03', 'vid_3', 'vid_0'), 0.999981679606359),\n",
      "                          (('S03', 'S01', 'vid_0', 'vid_3'), 0.999981679606359),\n",
      "                          (('S01', 'S01', 'vid_0', 'vid_3'),\n",
      "                           0.9967801366632026),\n",
      "                          (('S01', 'S01', 'vid_2', 'vid_3'),\n",
      "                           0.9967801366632026),\n",
      "                          (('S01', 'S01', 'vid_3', 'vid_0'),\n",
      "                           0.9967801366632026),\n",
      "                          (('S01', 'S01', 'vid_3', 'vid_2'),\n",
      "                           0.9967801366632026),\n",
      "                          (('S01', 'S01', 'vid_3', 'vid_4'),\n",
      "                           0.9967801366632026),\n",
      "                          (('S01', 'S01', 'vid_4', 'vid_3'),\n",
      "                           0.9967801366632026),\n",
      "                          (('S01', 'S02', 'vid_3', 'vid_0'),\n",
      "                           0.9967587337860783),\n",
      "                          (('S02', 'S01', 'vid_0', 'vid_3'),\n",
      "                           0.9967587337860783),\n",
      "                          (('S01', 'S03', 'vid_0', 'vid_0'), 0.996285818434217),\n",
      "                          (('S01', 'S03', 'vid_2', 'vid_0'), 0.996285818434217),\n",
      "                          (('S01', 'S03', 'vid_4', 'vid_0'), 0.996285818434217),\n",
      "                          (('S03', 'S01', 'vid_0', 'vid_0'), 0.996285818434217),\n",
      "                          (('S03', 'S01', 'vid_0', 'vid_2'), 0.996285818434217),\n",
      "                          (('S03', 'S01', 'vid_0', 'vid_4'), 0.996285818434217),\n",
      "                          (('S02', 'S03', 'vid_0', 'vid_0'),\n",
      "                           0.9962639399708494),\n",
      "                          (('S03', 'S02', 'vid_0', 'vid_0'),\n",
      "                           0.9962639399708494),\n",
      "                          (('S01', 'S01', 'vid_0', 'vid_1'), 0.0),\n",
      "                          (('S01', 'S01', 'vid_1', 'vid_0'), 0.0),\n",
      "                          (('S01', 'S01', 'vid_1', 'vid_2'), 0.0),\n",
      "                          (('S01', 'S01', 'vid_1', 'vid_3'), 0.0),\n",
      "                          (('S01', 'S01', 'vid_1', 'vid_4'), 0.0),\n",
      "                          (('S01', 'S01', 'vid_2', 'vid_1'), 0.0),\n",
      "                          (('S01', 'S01', 'vid_3', 'vid_1'), 0.0),\n",
      "                          (('S01', 'S01', 'vid_4', 'vid_1'), 0.0),\n",
      "                          (('S01', 'S02', 'vid_1', 'vid_0'), 0.0),\n",
      "                          (('S01', 'S03', 'vid_1', 'vid_0'), 0.0),\n",
      "                          (('S02', 'S01', 'vid_0', 'vid_1'), 0.0),\n",
      "                          (('S03', 'S01', 'vid_0', 'vid_1'), 0.0)]),\n",
      " 'king_james': OrderedDict([(('S03', 'S03', 'vid_0', 'vid_0'),\n",
      "                             1.0000000000000002),\n",
      "                            (('S01', 'S01', 'vid_0', 'vid_0'), 1.0),\n",
      "                            (('S01', 'S01', 'vid_1', 'vid_1'), 1.0),\n",
      "                            (('S01', 'S01', 'vid_1', 'vid_3'), 1.0),\n",
      "                            (('S01', 'S01', 'vid_1', 'vid_5'), 1.0),\n",
      "                            (('S01', 'S01', 'vid_2', 'vid_2'), 1.0),\n",
      "                            (('S01', 'S01', 'vid_3', 'vid_1'), 1.0),\n",
      "                            (('S01', 'S01', 'vid_3', 'vid_3'), 1.0),\n",
      "                            (('S01', 'S01', 'vid_3', 'vid_5'), 1.0),\n",
      "                            (('S01', 'S01', 'vid_4', 'vid_4'), 1.0),\n",
      "                            (('S01', 'S01', 'vid_5', 'vid_1'), 1.0),\n",
      "                            (('S01', 'S01', 'vid_5', 'vid_3'), 1.0),\n",
      "                            (('S01', 'S01', 'vid_5', 'vid_5'), 1.0),\n",
      "                            (('S02', 'S02', 'vid_0', 'vid_0'), 1.0),\n",
      "                            (('S04', 'S04', 'vid_0', 'vid_0'),\n",
      "                             0.9999999999999999),\n",
      "                            (('S02', 'S03', 'vid_0', 'vid_0'),\n",
      "                             0.9607051609459927),\n",
      "                            (('S03', 'S02', 'vid_0', 'vid_0'),\n",
      "                             0.9607051609459927),\n",
      "                            (('S03', 'S04', 'vid_0', 'vid_0'),\n",
      "                             0.956911845517092),\n",
      "                            (('S04', 'S03', 'vid_0', 'vid_0'),\n",
      "                             0.956911845517092),\n",
      "                            (('S02', 'S04', 'vid_0', 'vid_0'),\n",
      "                             0.9226342361427149),\n",
      "                            (('S04', 'S02', 'vid_0', 'vid_0'),\n",
      "                             0.9226342361427149),\n",
      "                            (('S01', 'S01', 'vid_0', 'vid_4'),\n",
      "                             0.8789869107527692),\n",
      "                            (('S01', 'S01', 'vid_4', 'vid_0'),\n",
      "                             0.8789869107527692),\n",
      "                            (('S01', 'S01', 'vid_0', 'vid_2'),\n",
      "                             0.49673584151016525),\n",
      "                            (('S01', 'S01', 'vid_2', 'vid_0'),\n",
      "                             0.49673584151016525),\n",
      "                            (('S01', 'S01', 'vid_1', 'vid_2'),\n",
      "                             0.4294192231338917),\n",
      "                            (('S01', 'S01', 'vid_2', 'vid_1'),\n",
      "                             0.4294192231338917),\n",
      "                            (('S01', 'S01', 'vid_2', 'vid_3'),\n",
      "                             0.4294192231338917),\n",
      "                            (('S01', 'S01', 'vid_2', 'vid_5'),\n",
      "                             0.4294192231338917),\n",
      "                            (('S01', 'S01', 'vid_3', 'vid_2'),\n",
      "                             0.4294192231338917),\n",
      "                            (('S01', 'S01', 'vid_5', 'vid_2'),\n",
      "                             0.4294192231338917),\n",
      "                            (('S01', 'S02', 'vid_2', 'vid_0'),\n",
      "                             0.327026900545123),\n",
      "                            (('S02', 'S01', 'vid_0', 'vid_2'),\n",
      "                             0.327026900545123),\n",
      "                            (('S01', 'S03', 'vid_2', 'vid_0'),\n",
      "                             0.3237645966822284),\n",
      "                            (('S03', 'S01', 'vid_0', 'vid_2'),\n",
      "                             0.3237645966822284),\n",
      "                            (('S01', 'S04', 'vid_2', 'vid_0'),\n",
      "                             0.30874819617349786),\n",
      "                            (('S04', 'S01', 'vid_0', 'vid_2'),\n",
      "                             0.30874819617349786),\n",
      "                            (('S01', 'S01', 'vid_0', 'vid_1'),\n",
      "                             0.2856090263204655),\n",
      "                            (('S01', 'S01', 'vid_0', 'vid_3'),\n",
      "                             0.2856090263204655),\n",
      "                            (('S01', 'S01', 'vid_0', 'vid_5'),\n",
      "                             0.2856090263204655),\n",
      "                            (('S01', 'S01', 'vid_1', 'vid_0'),\n",
      "                             0.2856090263204655),\n",
      "                            (('S01', 'S01', 'vid_3', 'vid_0'),\n",
      "                             0.2856090263204655),\n",
      "                            (('S01', 'S01', 'vid_5', 'vid_0'),\n",
      "                             0.2856090263204655),\n",
      "                            (('S01', 'S03', 'vid_1', 'vid_0'),\n",
      "                             0.1781889520280023),\n",
      "                            (('S01', 'S03', 'vid_3', 'vid_0'),\n",
      "                             0.1781889520280023),\n",
      "                            (('S01', 'S03', 'vid_5', 'vid_0'),\n",
      "                             0.1781889520280023),\n",
      "                            (('S03', 'S01', 'vid_0', 'vid_1'),\n",
      "                             0.1781889520280023),\n",
      "                            (('S03', 'S01', 'vid_0', 'vid_3'),\n",
      "                             0.1781889520280023),\n",
      "                            (('S03', 'S01', 'vid_0', 'vid_5'),\n",
      "                             0.1781889520280023),\n",
      "                            (('S01', 'S02', 'vid_1', 'vid_0'),\n",
      "                             0.1718024916110576),\n",
      "                            (('S01', 'S02', 'vid_3', 'vid_0'),\n",
      "                             0.1718024916110576),\n",
      "                            (('S01', 'S02', 'vid_5', 'vid_0'),\n",
      "                             0.1718024916110576),\n",
      "                            (('S02', 'S01', 'vid_0', 'vid_1'),\n",
      "                             0.1718024916110576),\n",
      "                            (('S02', 'S01', 'vid_0', 'vid_3'),\n",
      "                             0.1718024916110576),\n",
      "                            (('S02', 'S01', 'vid_0', 'vid_5'),\n",
      "                             0.1718024916110576),\n",
      "                            (('S01', 'S04', 'vid_1', 'vid_0'),\n",
      "                             0.1710565431544331),\n",
      "                            (('S01', 'S04', 'vid_3', 'vid_0'),\n",
      "                             0.1710565431544331),\n",
      "                            (('S01', 'S04', 'vid_5', 'vid_0'),\n",
      "                             0.1710565431544331),\n",
      "                            (('S04', 'S01', 'vid_0', 'vid_1'),\n",
      "                             0.1710565431544331),\n",
      "                            (('S04', 'S01', 'vid_0', 'vid_3'),\n",
      "                             0.1710565431544331),\n",
      "                            (('S04', 'S01', 'vid_0', 'vid_5'),\n",
      "                             0.1710565431544331),\n",
      "                            (('S01', 'S01', 'vid_1', 'vid_4'),\n",
      "                             0.11430438715632789),\n",
      "                            (('S01', 'S01', 'vid_3', 'vid_4'),\n",
      "                             0.11430438715632789),\n",
      "                            (('S01', 'S01', 'vid_4', 'vid_1'),\n",
      "                             0.11430438715632789),\n",
      "                            (('S01', 'S01', 'vid_4', 'vid_3'),\n",
      "                             0.11430438715632789),\n",
      "                            (('S01', 'S01', 'vid_4', 'vid_5'),\n",
      "                             0.11430438715632789),\n",
      "                            (('S01', 'S01', 'vid_5', 'vid_4'),\n",
      "                             0.11430438715632789),\n",
      "                            (('S01', 'S03', 'vid_4', 'vid_0'),\n",
      "                             0.08757205261241173),\n",
      "                            (('S03', 'S01', 'vid_0', 'vid_4'),\n",
      "                             0.08757205261241173),\n",
      "                            (('S01', 'S02', 'vid_0', 'vid_0'),\n",
      "                             0.08577264121869203),\n",
      "                            (('S02', 'S01', 'vid_0', 'vid_0'),\n",
      "                             0.08577264121869203),\n",
      "                            (('S01', 'S02', 'vid_4', 'vid_0'),\n",
      "                             0.0844724128196311),\n",
      "                            (('S02', 'S01', 'vid_0', 'vid_4'),\n",
      "                             0.0844724128196311),\n",
      "                            (('S01', 'S04', 'vid_4', 'vid_0'),\n",
      "                             0.08404428766164546),\n",
      "                            (('S04', 'S01', 'vid_0', 'vid_4'),\n",
      "                             0.08404428766164546),\n",
      "                            (('S01', 'S03', 'vid_0', 'vid_0'),\n",
      "                             0.06944449030481675),\n",
      "                            (('S03', 'S01', 'vid_0', 'vid_0'),\n",
      "                             0.06944449030481675),\n",
      "                            (('S01', 'S04', 'vid_0', 'vid_0'),\n",
      "                             0.06648690553573285),\n",
      "                            (('S04', 'S01', 'vid_0', 'vid_0'),\n",
      "                             0.06648690553573285),\n",
      "                            (('S01', 'S01', 'vid_2', 'vid_4'),\n",
      "                             0.060052731907977615),\n",
      "                            (('S01', 'S01', 'vid_4', 'vid_2'),\n",
      "                             0.060052731907977615)]),\n",
      " 'remote': OrderedDict([(('S01', 'S01', 'vid_4', 'vid_4'), 1.0000000000000002),\n",
      "                        (('S02', 'S02', 'vid_0', 'vid_0'), 1.0000000000000002),\n",
      "                        (('S01', 'S01', 'vid_0', 'vid_0'), 1.0),\n",
      "                        (('S01', 'S01', 'vid_2', 'vid_2'), 1.0),\n",
      "                        (('S03', 'S03', 'vid_0', 'vid_0'), 1.0),\n",
      "                        (('S04', 'S04', 'vid_0', 'vid_0'), 1.0),\n",
      "                        (('S01', 'S01', 'vid_1', 'vid_1'), 0.9999999999999999),\n",
      "                        (('S01', 'S01', 'vid_1', 'vid_3'), 0.9999999999999999),\n",
      "                        (('S01', 'S01', 'vid_1', 'vid_5'), 0.9999999999999999),\n",
      "                        (('S01', 'S01', 'vid_3', 'vid_1'), 0.9999999999999999),\n",
      "                        (('S01', 'S01', 'vid_3', 'vid_3'), 0.9999999999999999),\n",
      "                        (('S01', 'S01', 'vid_3', 'vid_5'), 0.9999999999999999),\n",
      "                        (('S01', 'S01', 'vid_5', 'vid_1'), 0.9999999999999999),\n",
      "                        (('S01', 'S01', 'vid_5', 'vid_3'), 0.9999999999999999),\n",
      "                        (('S01', 'S01', 'vid_5', 'vid_5'), 0.9999999999999999),\n",
      "                        (('S02', 'S03', 'vid_0', 'vid_0'), 0.9999713715524305),\n",
      "                        (('S03', 'S02', 'vid_0', 'vid_0'), 0.9999713715524305),\n",
      "                        (('S01', 'S04', 'vid_4', 'vid_0'), 0.9981826898782464),\n",
      "                        (('S04', 'S01', 'vid_0', 'vid_4'), 0.9981826898782464),\n",
      "                        (('S03', 'S04', 'vid_0', 'vid_0'), 0.9940230099687442),\n",
      "                        (('S04', 'S03', 'vid_0', 'vid_0'), 0.9940230099687442),\n",
      "                        (('S02', 'S04', 'vid_0', 'vid_0'), 0.9940227833461018),\n",
      "                        (('S04', 'S02', 'vid_0', 'vid_0'), 0.9940227833461018),\n",
      "                        (('S01', 'S03', 'vid_4', 'vid_0'), 0.9916464292442424),\n",
      "                        (('S03', 'S01', 'vid_0', 'vid_4'), 0.9916464292442424),\n",
      "                        (('S01', 'S02', 'vid_4', 'vid_0'), 0.991641610520958),\n",
      "                        (('S02', 'S01', 'vid_0', 'vid_4'), 0.991641610520958),\n",
      "                        (('S01', 'S01', 'vid_1', 'vid_2'), 0.982154413815708),\n",
      "                        (('S01', 'S01', 'vid_2', 'vid_1'), 0.982154413815708),\n",
      "                        (('S01', 'S01', 'vid_2', 'vid_3'), 0.982154413815708),\n",
      "                        (('S01', 'S01', 'vid_2', 'vid_5'), 0.982154413815708),\n",
      "                        (('S01', 'S01', 'vid_3', 'vid_2'), 0.982154413815708),\n",
      "                        (('S01', 'S01', 'vid_5', 'vid_2'), 0.982154413815708),\n",
      "                        (('S01', 'S01', 'vid_0', 'vid_1'), 0.9727763680919801),\n",
      "                        (('S01', 'S01', 'vid_0', 'vid_3'), 0.9727763680919801),\n",
      "                        (('S01', 'S01', 'vid_0', 'vid_5'), 0.9727763680919801),\n",
      "                        (('S01', 'S01', 'vid_1', 'vid_0'), 0.9727763680919801),\n",
      "                        (('S01', 'S01', 'vid_3', 'vid_0'), 0.9727763680919801),\n",
      "                        (('S01', 'S01', 'vid_5', 'vid_0'), 0.9727763680919801),\n",
      "                        (('S01', 'S01', 'vid_0', 'vid_2'), 0.911830694214143),\n",
      "                        (('S01', 'S01', 'vid_2', 'vid_0'), 0.911830694214143),\n",
      "                        (('S01', 'S03', 'vid_2', 'vid_0'), 0.7582036151975514),\n",
      "                        (('S03', 'S01', 'vid_0', 'vid_2'), 0.7582036151975514),\n",
      "                        (('S01', 'S02', 'vid_2', 'vid_0'), 0.753307820042125),\n",
      "                        (('S02', 'S01', 'vid_0', 'vid_2'), 0.753307820042125),\n",
      "                        (('S01', 'S04', 'vid_2', 'vid_0'), 0.7512095034519436),\n",
      "                        (('S04', 'S01', 'vid_0', 'vid_2'), 0.7512095034519436),\n",
      "                        (('S01', 'S01', 'vid_2', 'vid_4'), 0.7498140374642236),\n",
      "                        (('S01', 'S01', 'vid_4', 'vid_2'), 0.7498140374642236),\n",
      "                        (('S01', 'S03', 'vid_1', 'vid_0'), 0.6220439001163218),\n",
      "                        (('S01', 'S03', 'vid_3', 'vid_0'), 0.6220439001163218),\n",
      "                        (('S01', 'S03', 'vid_5', 'vid_0'), 0.6220439001163218),\n",
      "                        (('S03', 'S01', 'vid_0', 'vid_1'), 0.6220439001163218),\n",
      "                        (('S03', 'S01', 'vid_0', 'vid_3'), 0.6220439001163218),\n",
      "                        (('S03', 'S01', 'vid_0', 'vid_5'), 0.6220439001163218),\n",
      "                        (('S01', 'S02', 'vid_1', 'vid_0'), 0.6161729919224026),\n",
      "                        (('S01', 'S02', 'vid_3', 'vid_0'), 0.6161729919224026),\n",
      "                        (('S01', 'S02', 'vid_5', 'vid_0'), 0.6161729919224026),\n",
      "                        (('S02', 'S01', 'vid_0', 'vid_1'), 0.6161729919224026),\n",
      "                        (('S02', 'S01', 'vid_0', 'vid_3'), 0.6161729919224026),\n",
      "                        (('S02', 'S01', 'vid_0', 'vid_5'), 0.6161729919224026),\n",
      "                        (('S01', 'S04', 'vid_1', 'vid_0'), 0.6153690279685404),\n",
      "                        (('S01', 'S04', 'vid_3', 'vid_0'), 0.6153690279685404),\n",
      "                        (('S01', 'S04', 'vid_5', 'vid_0'), 0.6153690279685404),\n",
      "                        (('S04', 'S01', 'vid_0', 'vid_1'), 0.6153690279685404),\n",
      "                        (('S04', 'S01', 'vid_0', 'vid_3'), 0.6153690279685404),\n",
      "                        (('S04', 'S01', 'vid_0', 'vid_5'), 0.6153690279685404),\n",
      "                        (('S01', 'S01', 'vid_1', 'vid_4'), 0.6143787994488532),\n",
      "                        (('S01', 'S01', 'vid_3', 'vid_4'), 0.6143787994488532),\n",
      "                        (('S01', 'S01', 'vid_4', 'vid_1'), 0.6143787994488532),\n",
      "                        (('S01', 'S01', 'vid_4', 'vid_3'), 0.6143787994488532),\n",
      "                        (('S01', 'S01', 'vid_4', 'vid_5'), 0.6143787994488532),\n",
      "                        (('S01', 'S01', 'vid_5', 'vid_4'), 0.6143787994488532),\n",
      "                        (('S01', 'S03', 'vid_0', 'vid_0'), 0.423656694091562),\n",
      "                        (('S03', 'S01', 'vid_0', 'vid_0'), 0.423656694091562),\n",
      "                        (('S01', 'S04', 'vid_0', 'vid_0'), 0.41770367499121414),\n",
      "                        (('S04', 'S01', 'vid_0', 'vid_0'), 0.41770367499121414),\n",
      "                        (('S01', 'S01', 'vid_0', 'vid_4'), 0.41726150808573004),\n",
      "                        (('S01', 'S01', 'vid_4', 'vid_0'), 0.41726150808573004),\n",
      "                        (('S01', 'S02', 'vid_0', 'vid_0'), 0.4168731847839976),\n",
      "                        (('S02', 'S01', 'vid_0', 'vid_0'),\n",
      "                         0.4168731847839976)])}\n"
     ]
    }
   ],
   "source": [
    "pprint(sorted_results['M02-100'])"
   ]
  },
  {
   "cell_type": "code",
   "execution_count": null,
   "metadata": {},
   "outputs": [],
   "source": []
  },
  {
   "cell_type": "code",
   "execution_count": null,
   "metadata": {},
   "outputs": [],
   "source": []
  },
  {
   "cell_type": "code",
   "execution_count": null,
   "metadata": {},
   "outputs": [],
   "source": []
  },
  {
   "cell_type": "code",
   "execution_count": null,
   "metadata": {},
   "outputs": [],
   "source": []
  },
  {
   "cell_type": "code",
   "execution_count": null,
   "metadata": {},
   "outputs": [],
   "source": []
  },
  {
   "cell_type": "code",
   "execution_count": null,
   "metadata": {},
   "outputs": [],
   "source": []
  },
  {
   "cell_type": "code",
   "execution_count": null,
   "metadata": {},
   "outputs": [],
   "source": []
  },
  {
   "cell_type": "code",
   "execution_count": null,
   "metadata": {},
   "outputs": [],
   "source": [
    "def get_results(vid_ds, imgs, models, model_codebooks, num_vwords):\n",
    "    results = defaultdict(\n",
    "        lambda: defaultdict(\n",
    "            lambda: defaultdict(\n",
    "                lambda: defaultdict(\n",
    "                    lambda: defaultdict(\n",
    "                        lambda: defaultdict(float)\n",
    "                    )\n",
    "                )\n",
    "            )\n",
    "        )\n",
    "    )\n",
    "    \n",
    "    for vwords in num_vwords:\n",
    "        for i, (model, (key, codebook)) in enumerate(zip(models, model_codebooks.items())):\n",
    "            df = get_df(imgs, model, codebook, vwords)\n",
    "            for app, reports in vid_ds.labels.items():\n",
    "                for report_i, vids_i in reports.items():\n",
    "                    for report_j, vids_j in reports.items():\n",
    "                        for j, vid_i in enumerate(vids_i):\n",
    "                            for k, vid_j in enumerate(vids_j):\n",
    "                                hist_1, bovw_1 = get_bovw(vid_i.vid_path, model, codebook, vwords, n = 100)\n",
    "                                tf_idf_1 = calc_tf_idf(hist_1, df)\n",
    "                                hist_2, bovw_2 = get_bovw(vid_j.vid_path, model, codebook, vwords, n = 100)\n",
    "                                tf_idf_2 = calc_tf_idf(hist_2, df)\n",
    "                                results[f'M{i + 1:02}-{vwords}'][app][report_i][report_j][f'vid_{j}'][f'vid_{k}'] = np.dot(tf_idf_1, tf_idf_2) / (np.linalg.norm(tf_idf_1) * np.linalg.norm(tf_idf_2))\n",
    "    \n",
    "    return results"
   ]
  },
  {
   "cell_type": "code",
   "execution_count": null,
   "metadata": {},
   "outputs": [],
   "source": [
    "results = get_results(vid_ds, imgs, models_under_study, model_codebooks, num_vwords); results"
   ]
  },
  {
   "cell_type": "code",
   "execution_count": null,
   "metadata": {},
   "outputs": [],
   "source": [
    "results['M01-100']['king_james']['S01']"
   ]
  },
  {
   "cell_type": "code",
   "execution_count": null,
   "metadata": {},
   "outputs": [],
   "source": []
  },
  {
   "cell_type": "code",
   "execution_count": null,
   "metadata": {},
   "outputs": [],
   "source": []
  },
  {
   "cell_type": "code",
   "execution_count": null,
   "metadata": {},
   "outputs": [],
   "source": []
  },
  {
   "cell_type": "code",
   "execution_count": null,
   "metadata": {},
   "outputs": [],
   "source": [
    "hist, bovw = get_bovw(vid_ds['king_james']['S01'][0].vid_path, M01, model_codebooks['00-100'], 100, 100)"
   ]
  },
  {
   "cell_type": "code",
   "execution_count": null,
   "metadata": {},
   "outputs": [],
   "source": [
    "#hide\n",
    "plt.bar(range(vwords), hist)\n",
    "plt.show()"
   ]
  },
  {
   "cell_type": "code",
   "execution_count": null,
   "metadata": {},
   "outputs": [],
   "source": []
  }
 ],
 "metadata": {
  "kernelspec": {
   "display_name": "Python 3",
   "language": "python",
   "name": "python3"
  },
  "language_info": {
   "codemirror_mode": {
    "name": "ipython",
    "version": 3
   },
   "file_extension": ".py",
   "mimetype": "text/x-python",
   "name": "python",
   "nbconvert_exporter": "python",
   "pygments_lexer": "ipython3",
   "version": "3.6.9"
  }
 },
 "nbformat": 4,
 "nbformat_minor": 2
}
