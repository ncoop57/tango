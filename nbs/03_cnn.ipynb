{
 "cells": [
  {
   "cell_type": "code",
   "execution_count": null,
   "metadata": {},
   "outputs": [],
   "source": [
    "#default_exp cnn"
   ]
  },
  {
   "cell_type": "code",
   "execution_count": null,
   "metadata": {},
   "outputs": [],
   "source": [
    "#hide\n",
    "%reload_ext autoreload\n",
    "%autoreload 2\n",
    "%matplotlib inline"
   ]
  },
  {
   "cell_type": "markdown",
   "metadata": {},
   "source": [
    "# CNN\n",
    "\n",
    "\n",
    "> This module contains all the code for training and extracting features from CNNs."
   ]
  },
  {
   "cell_type": "code",
   "execution_count": null,
   "metadata": {},
   "outputs": [],
   "source": [
    "#export\n",
    "from fastai.vision import *\n",
    "from fastai.metrics import error_rate\n",
    "import torch\n",
    "import torch.nn as nn\n",
    "from torchvision import models\n",
    "from torch.autograd import Variable\n",
    "import cv2\n",
    "from nbdev.showdoc import *"
   ]
  },
  {
   "cell_type": "code",
   "execution_count": null,
   "metadata": {},
   "outputs": [],
   "source": [
    "#export\n",
    "class Hook():\n",
    "    \"Create a hook on `m` with `hook_func`.\"\n",
    "    def __init__(self, m:nn.Module, hook_func:HookFunc, is_forward:bool=True, detach:bool=True):\n",
    "        self.hook_func,self.detach,self.stored = hook_func,detach,None\n",
    "        f = m.register_forward_hook if is_forward else m.register_backward_hook\n",
    "        self.hook = f(self.hook_fn)\n",
    "        self.removed = False\n",
    "\n",
    "    def hook_fn(self, module:nn.Module, input:Tensors, output:Tensors):\n",
    "        \"Applies `hook_func` to `module`, `input`, `output`.\"\n",
    "        if self.detach:\n",
    "            input  = (o.detach() for o in input ) if is_listy(input ) else input.detach()\n",
    "            output = (o.detach() for o in output) if is_listy(output) else output.detach()\n",
    "        self.stored = self.hook_func(module, input, output)\n",
    "\n",
    "    def remove(self):\n",
    "        \"Remove the hook from the model.\"\n",
    "        if not self.removed:\n",
    "            self.hook.remove()\n",
    "            self.removed=True\n",
    "\n",
    "    def __enter__(self, *args): return self\n",
    "    def __exit__(self, *args): self.remove()"
   ]
  },
  {
   "cell_type": "code",
   "execution_count": null,
   "metadata": {},
   "outputs": [],
   "source": [
    "#export\n",
    "def get_output(module, input_value, output):\n",
    "    return output.flatten(1)\n",
    "\n",
    "def get_input(module, input_value, output):\n",
    "    return list(input_value)[0]\n",
    "\n",
    "def get_named_module_from_model(model, name):\n",
    "    for n, m in model.named_modules():\n",
    "        if n == name:\n",
    "            return m\n",
    "    return None"
   ]
  },
  {
   "cell_type": "code",
   "execution_count": null,
   "metadata": {},
   "outputs": [],
   "source": [
    "#export\n",
    "def trainPetsModel():\n",
    "    '''Fine tunes a pretrained ResNet50 model to detect pet breeds \n",
    "    and returns the resulting model in learn as well as the last layer\n",
    "    in linear_output_layer for subsequent feature extraction.'''\n",
    "    \n",
    "    bs = 16\n",
    "    np.random.seed(2)\n",
    "    \n",
    "    path = untar_data(URLs.PETS)\n",
    "    path_img = path/'images'\n",
    "    fnames = get_image_files(path_img)\n",
    "    pat = pat = r'/([^/]+)_\\d+.jpg$'\n",
    "    data = ImageDataBunch.from_name_re(path_img, fnames, pat, ds_tfms=get_transforms(), size=224, bs=bs\n",
    "                                  ).normalize(imagenet_stats)\n",
    "    learn = cnn_learner(data, models.resnet34, metrics=error_rate)\n",
    "    learn.fit_one_cycle(4)\n",
    "\n",
    "    linear_output_layer = get_named_module_from_model(learn.model, '1.4')\n",
    "    return learn, linear_output_layer"
   ]
  },
  {
   "cell_type": "code",
   "execution_count": null,
   "metadata": {},
   "outputs": [],
   "source": [
    "#export\n",
    "def getFeaturesResNet50(img):\n",
    "    '''Directly gets a feature vector from the last layer of ResNet50\n",
    "    without any fine tuning.'''\n",
    "    \n",
    "    model = models.resnet50(pretrained=True)\n",
    "    modules = list(model.children())[:-1]\n",
    "    resNet50 = nn.Sequential(*modules)\n",
    "    imgVar = Variable(img)\n",
    "    featuresVar = resNet50.eval()(imgVar)\n",
    "    features = featuresVar.data\n",
    "    \n",
    "    return features\n",
    "    "
   ]
  },
  {
   "cell_type": "code",
   "execution_count": null,
   "metadata": {},
   "outputs": [],
   "source": [
    "#export\n",
    "def trainAsModel():\n",
    "    '''Fine tunes a pretrained ResNet50 model to detect Google Play store  \n",
    "    categories of Android screenshots and returns the resulting model in learn \n",
    "    as well as the last layer in linear_output_layer for subsequent feature extraction.'''\n",
    "    \n",
    "    bs = 16\n",
    "    np.random.seed(2)\n",
    "    \n",
    "    path = \"/tf/GP-Labeled-Dataset/\"\n",
    "    data = ImageDataBunch.from_folder(path, ds_tfms=get_transforms(), size=299, bs=bs).normalize(imagenet_stats)\n",
    "    learn = cnn_learner(data, models.resnet50, metrics=error_rate)\n",
    "    learn.load('/tf/models/Android_ResNet50_16Epochs')\n",
    "    \n",
    "    linear_output_layer = get_named_module_from_model(learn.model, '1.4')\n",
    "    return learn, linear_output_layer"
   ]
  },
  {
   "cell_type": "code",
   "execution_count": null,
   "metadata": {},
   "outputs": [],
   "source": [
    "#export\n",
    "class Extractor():\n",
    "    \n",
    "    '''Low level implementation of Extractor class for non-layered models only.'''\n",
    "    \n",
    "    def __init__(self, learn, linear_output_layer, model, isFT):\n",
    "        self.models = {'resnet50'}\n",
    "        self.learn = learn\n",
    "        self.linear_output_layer = linear_output_layer\n",
    "        self.model = model\n",
    "        self.isFT = isFT\n",
    "        \n",
    "        if self.model not in self.models:\n",
    "            raise Exception(\"Invalid architecture: \" + self.model)\n",
    "    \n",
    "    def getFeatures(self, img):\n",
    "        if self.model == 'resnet50':\n",
    "            resized_img = cv2.resize(img, (224, 224))\n",
    "        final_img = np.expand_dims(np.transpose(resized_img, [2, 0, 1]), axis=0)\n",
    "        tensor = torch.from_numpy(final_img)\n",
    "        \n",
    "        img_repr = []\n",
    "        if self.isFT:\n",
    "            floatTensor = tensor.type(torch.cuda.FloatTensor)\n",
    "            with Hook(self.linear_output_layer, get_output, True, True) as hook:\n",
    "                result = self.learn.model.eval()(floatTensor)\n",
    "                img_repr = hook.stored.cpu().numpy()\n",
    "        else:\n",
    "            floatTensor = tensor.type(torch.FloatTensor)\n",
    "            img_repr = getFeaturesResNet50(floatTensor).numpy().reshape(1, -1)\n",
    "        \n",
    "        return img_repr\n",
    "    "
   ]
  },
  {
   "cell_type": "code",
   "execution_count": null,
   "metadata": {},
   "outputs": [],
   "source": [
    "#export\n",
    "class LayeredExtractor():\n",
    "    \n",
    "    '''Low level implementation of Extractor class for layered models only.'''\n",
    "    \n",
    "    def __init__(self):\n",
    "        self.features = []\n",
    "        \n",
    "    def hook_fn(self, module, input, output):\n",
    "        output_flat = output.detach().flatten()\n",
    "        self.features = np.hstack((self.features, output_flat))\n",
    "\n",
    "    def getFeatures(self, img):\n",
    "        self.features = []\n",
    "        \n",
    "        resized_img = cv2.resize(img, (224, 224))\n",
    "        final_img = np.expand_dims(np.transpose(resized_img, [2, 0, 1]), axis=0)\n",
    "        tensor = torch.from_numpy(final_img)\n",
    "        floatTensor = tensor.type(torch.FloatTensor)\n",
    "        \n",
    "        model = models.resnet50(pretrained=True)\n",
    "        for n, m in model.named_modules():\n",
    "            if 'pool' in n:\n",
    "                m.register_forward_hook(self.hook_fn)\n",
    "        model.eval()(floatTensor)\n",
    "        self.features = self.features.reshape(1, -1)\n",
    "        return self.features\n",
    "    "
   ]
  },
  {
   "cell_type": "code",
   "execution_count": null,
   "metadata": {},
   "outputs": [],
   "source": [
    "#export\n",
    "def createExtractor(learn, linear_output_layer, model, isFT):\n",
    "    return Extractor(learn, linear_output_layer, model, isFT)\n",
    "def createLayeredExtractor():\n",
    "    return LayeredExtractor()"
   ]
  },
  {
   "cell_type": "code",
   "execution_count": null,
   "metadata": {},
   "outputs": [
    {
     "name": "stdout",
     "output_type": "stream",
     "text": [
      "Converted 00_prep.ipynb.\n",
      "Converted 01_features.ipynb.\n",
      "Converted 02_eval.ipynb.\n",
      "Converted 03_cnn.ipynb.\n",
      "Converted index.ipynb.\n",
      "Converted lesson1-pets.ipynb.\n"
     ]
    }
   ],
   "source": [
    "#hide\n",
    "from nbdev.export import notebook2script\n",
    "notebook2script()"
   ]
  },
  {
   "cell_type": "code",
   "execution_count": null,
   "metadata": {},
   "outputs": [],
   "source": []
  }
 ],
 "metadata": {
  "kernelspec": {
   "display_name": "Python 3",
   "language": "python",
   "name": "python3"
  },
  "language_info": {
   "codemirror_mode": {
    "name": "ipython",
    "version": 3
   },
   "file_extension": ".py",
   "mimetype": "text/x-python",
   "name": "python",
   "nbconvert_exporter": "python",
   "pygments_lexer": "ipython3",
   "version": "3.6.9"
  }
 },
 "nbformat": 4,
 "nbformat_minor": 2
}
