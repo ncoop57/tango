{
 "cells": [
  {
   "cell_type": "code",
   "execution_count": null,
   "metadata": {},
   "outputs": [],
   "source": [
    "# default_exp prep"
   ]
  },
  {
   "cell_type": "markdown",
   "metadata": {},
   "source": [
    "# Prep\n",
    "\n",
    "> This module contains all the necessary functions for loading and preprocessing videos into a standard format to be used in the rest of the pipeline."
   ]
  },
  {
   "cell_type": "code",
   "execution_count": 1,
   "metadata": {},
   "outputs": [],
   "source": [
    "#export\n",
    "import concurrent.futures\n",
    "import csv\n",
    "import cv2\n",
    "import ffmpeg\n",
    "import json\n",
    "import ntpath\n",
    "import numpy\n",
    "import os\n",
    "import pprint\n",
    "import pytesseract\n",
    "import random\n",
    "\n",
    "import matplotlib.pyplot as plt\n",
    "import more_itertools as mit\n",
    "import pandas as pd\n",
    "\n",
    "from collections import defaultdict, OrderedDict\n",
    "from pathlib import Path\n",
    "from PIL import Image\n",
    "from two_to_tango.utils import *\n",
    "from shutil import copyfile\n",
    "from tqdm.auto import tqdm"
   ]
  },
  {
   "cell_type": "code",
   "execution_count": null,
   "metadata": {},
   "outputs": [],
   "source": [
    "#hide\n",
    "from nbdev.showdoc import *"
   ]
  },
  {
   "cell_type": "code",
   "execution_count": null,
   "metadata": {},
   "outputs": [],
   "source": [
    "#export\n",
    "def get_rand_imgs(vid_path, max_msecs, n = 10):\n",
    "    vid = cv2.VideoCapture(str(vid_path))\n",
    "    \n",
    "    imgs = []\n",
    "    while len(imgs) < n:\n",
    "        msec = random.randrange(1_000, max_msecs, 1_000)\n",
    "        vid.set(cv2.CAP_PROP_POS_MSEC, msec)\n",
    "        \n",
    "        success, img = vid.read()\n",
    "        if success:\n",
    "            imgs.append(img)\n",
    "    \n",
    "    return imgs"
   ]
  },
  {
   "cell_type": "code",
   "execution_count": null,
   "metadata": {},
   "outputs": [],
   "source": [
    "#export\n",
    "def vid_from_frames(frames, output = None, fr = 30):\n",
    "    \"\"\"Generate video from list of frame paths.\"\"\"\n",
    "    if not output: output = frames.parent\n",
    "    \n",
    "    try:\n",
    "        stream = ffmpeg.input(frames/'%04d.jpg')\n",
    "        stream = ffmpeg.output(stream, str(output/\"gen_vid.mp4\"), r = fr)\n",
    "        out, err = ffmpeg.run(stream)\n",
    "    except Exception as e:\n",
    "        print(\"Error occured:\", e)"
   ]
  },
  {
   "cell_type": "code",
   "execution_count": null,
   "metadata": {},
   "outputs": [],
   "source": [
    "test_path = Path(\"<path>\")\n",
    "vid_from_frames(test_path, Path('.'))"
   ]
  },
  {
   "cell_type": "code",
   "execution_count": null,
   "metadata": {},
   "outputs": [],
   "source": [
    "# export\n",
    "class Video:\n",
    "    def __init__(self, vid_path, fr = None, overwrite = False):\n",
    "        self.video = cv2.VideoCapture(str(vid_path))\n",
    "        self.vid_path = vid_path\n",
    "        self.fr = eval(ffmpeg.probe(vid_path)[\"streams\"][0][\"avg_frame_rate\"])\n",
    "        if fr is not None:\n",
    "            self.fr = fr\n",
    "            self.vid_path = self._fix_framerate(vid_path, fr, overwrite)\n",
    "            \n",
    "    def show_frame(self, i):\n",
    "        plt.imshow(self[i])\n",
    "        plt.show()\n",
    "\n",
    "    def _fix_framerate(self, vid_path, fr, overwrite):\n",
    "        \"\"\"\n",
    "            Fixes each video in the list of video paths to a certain frame rate.\n",
    "        \"\"\"\n",
    "        output_path = str(vid_path) if overwrite else str(vid_path.parent/f'{vid_path.stem}_fixed_{fr}.mp4')\n",
    "        stream = ffmpeg.input(vid_path)\n",
    "        stream = ffmpeg.output(stream, output_path, r = fr)\n",
    "        stream = ffmpeg.overwrite_output(stream)\n",
    "        out, err = ffmpeg.run(stream)\n",
    "\n",
    "        return Path(output_path)\n",
    "    \n",
    "    def __len__(self):\n",
    "        return int(self.video.get(cv2.CAP_PROP_FRAME_COUNT))\n",
    "    \n",
    "    def __getitem__(self, i):\n",
    "        if i >= len(self) or i < 0:\n",
    "            raise Exception(f'Frame index is not in the proper range (0, {len(self) - 1}).')\n",
    "        self.video.set(cv2.CAP_PROP_POS_FRAMES, i)\n",
    "        suc, frame = self.video.read()\n",
    "        if not suc: return None\n",
    "        return Image.fromarray(frame)"
   ]
  },
  {
   "cell_type": "code",
   "execution_count": null,
   "metadata": {},
   "outputs": [],
   "source": [
    "vid_path = Path(\"<path>\"); vid_path"
   ]
  },
  {
   "cell_type": "code",
   "execution_count": null,
   "metadata": {},
   "outputs": [],
   "source": [
    "vid = Video(vid_path)"
   ]
  },
  {
   "cell_type": "markdown",
   "metadata": {},
   "source": [
    "View a single frame of a video"
   ]
  },
  {
   "cell_type": "code",
   "execution_count": null,
   "metadata": {},
   "outputs": [],
   "source": [
    "vid.show_frame(80)"
   ]
  },
  {
   "cell_type": "markdown",
   "metadata": {},
   "source": [
    "Get the number of frames in a video"
   ]
  },
  {
   "cell_type": "markdown",
   "metadata": {},
   "source": [
    "len(vid)"
   ]
  },
  {
   "cell_type": "code",
   "execution_count": null,
   "metadata": {},
   "outputs": [],
   "source": [
    "# export\n",
    "class VideoDataset:\n",
    "    def __init__(self, videos):\n",
    "        self.videos = videos\n",
    "        self.labels = None\n",
    "        self.data = None\n",
    "    \n",
    "    def label_from_paths(self):\n",
    "        self.labels = defaultdict(\n",
    "            lambda: defaultdict(dict)\n",
    "        )\n",
    "        for vid in self.videos:\n",
    "            self.labels[vid.vid_path.parent.parent.name][vid.vid_path.parent.name][vid.vid_path.parent.parent.parent.name] = vid\n",
    "        \n",
    "        return self\n",
    "    \n",
    "    def get_labels(self):\n",
    "        return list(self.labels.keys())\n",
    "    \n",
    "    @staticmethod\n",
    "    def from_path(path, extract_frames = False, fr = None, overwrite = False):\n",
    "        videos = []\n",
    "        fixed_vid_paths = sorted(path.rglob(f\"*fixed_{fr}.mp4\"))\n",
    "        if len(fixed_vid_paths) > 0:\n",
    "            for vid_path in fixed_vid_paths:\n",
    "                videos.append(Video(vid_path, overwrite = overwrite))\n",
    "        else:\n",
    "            vid_paths = sorted(path.rglob('*.mp4'))\n",
    "            for vid_path in vid_paths:\n",
    "                videos.append(Video(vid_path, fr = fr, overwrite = overwrite))\n",
    "        \n",
    "        return VideoDataset(videos)\n",
    "    \n",
    "    def __getitem__(self, label):\n",
    "        return self.labels[label]"
   ]
  },
  {
   "cell_type": "code",
   "execution_count": null,
   "metadata": {},
   "outputs": [],
   "source": [
    "vid_ds = VideoDataset.from_path(vid_path).label_from_paths()"
   ]
  },
  {
   "cell_type": "markdown",
   "metadata": {},
   "source": [
    "Get all apps contained in the dataset"
   ]
  },
  {
   "cell_type": "code",
   "execution_count": null,
   "metadata": {},
   "outputs": [],
   "source": [
    "vid_ds.get_labels()"
   ]
  },
  {
   "cell_type": "markdown",
   "metadata": {},
   "source": [
    "Access all videos that belong to a particular bug"
   ]
  },
  {
   "cell_type": "code",
   "execution_count": null,
   "metadata": {},
   "outputs": [],
   "source": [
    "vid_ds['app']['bug']"
   ]
  },
  {
   "cell_type": "code",
   "execution_count": null,
   "metadata": {},
   "outputs": [],
   "source": [
    "# export\n",
    "def get_rico_imgs(path, n = None):\n",
    "    rico_path = path/'rico-images/data'\n",
    "    img_paths = sorted(rico_path.glob('*.jpg'))\n",
    "    if n == None: n = len(img_paths)\n",
    "    \n",
    "    return [Image.open(img) for img in random.sample(img_paths, n)]"
   ]
  },
  {
   "cell_type": "code",
   "execution_count": null,
   "metadata": {},
   "outputs": [],
   "source": [
    "# export\n",
    "def read_video_data(file_path):\n",
    "    with open(file_path) as csv_file:\n",
    "        csv_reader = csv.DictReader(csv_file, delimiter=';')\n",
    "        data = list(csv_reader)\n",
    "\n",
    "        idx_data = {}\n",
    "        apps, bugs, app_bugs, users = set(), set(), set(), set()\n",
    "        for row in data:\n",
    "            app = row['app']\n",
    "            bug = row['bug']\n",
    "            app_bug = row['app_bug']\n",
    "            user = row['final_assignment']\n",
    "\n",
    "            apps.add(app)\n",
    "            bugs.add(bug)\n",
    "            app_bugs.add(app_bug)\n",
    "            users.add(user)\n",
    "\n",
    "            if app not in idx_data:\n",
    "                idx_data[app] = {}\n",
    "            bugs_for_app = idx_data[app]\n",
    "            if bug not in bugs_for_app:\n",
    "                bugs_for_app[bug] = []\n",
    "            users_for_bug = bugs_for_app[bug]\n",
    "            users_for_bug.append((user, app_bug + \"-\" + user))\n",
    "\n",
    "    result = {\n",
    "        'idx_data': idx_data,\n",
    "        'apps': apps,\n",
    "        'bugs': bugs,\n",
    "        'app_bugs': app_bugs,\n",
    "        'users': users,\n",
    "        'data': data,\n",
    "    }\n",
    "    return result\n",
    "\n",
    "def get_non_duplicate_corpus(bugs, bug_idx, app_bugs, br_idx, bugs_to_exclude=[]):\n",
    "    if bug_idx == 0:\n",
    "        other_bugs = bugs[bug_idx + 1:len(bugs)]\n",
    "    elif bug_idx == len(bugs) - 1:\n",
    "        other_bugs = bugs[0:bug_idx]\n",
    "    else:\n",
    "        other_bugs = bugs[bug_idx + 1:len(bugs)]\n",
    "        other_bugs.extend(bugs[0:bug_idx])\n",
    "\n",
    "    assert len(other_bugs) == 9, \"The list of non-duplicate bugs is different than 9\"\n",
    "    # print(other_bugs)\n",
    "    bug_reports = []\n",
    "    for bug in other_bugs:\n",
    "        if bug not in bugs_to_exclude:\n",
    "            bug_report = app_bugs[bug][br_idx]\n",
    "            bug_reports.append(bug_report[1])\n",
    "    return bug_reports\n",
    "\n",
    "def generate_setting2(data, out_path):\n",
    "    Path(out_path).mkdir(parents=True, exist_ok=True)\n",
    "    apps = data['apps']\n",
    "    idx_data = data['idx_data']\n",
    "\n",
    "    retrieval_runs = []\n",
    "    run_id = 1\n",
    "\n",
    "    # for each app\n",
    "    for app in apps:\n",
    "\n",
    "        app_data = idx_data[app]\n",
    "        pprint.pprint(app_data)\n",
    "\n",
    "        # for each bug\n",
    "        bugs = list(idx_data[app].keys())\n",
    "        for bug_idx in range(len(bugs)):\n",
    "            bug = bugs[bug_idx]\n",
    "            bug_reports = idx_data[app][bug]\n",
    "\n",
    "            # for each other bug\n",
    "            other_bugs_idxes = [i for i in range(len(bugs)) if i != bug_idx]\n",
    "            for bug_idx2 in other_bugs_idxes:\n",
    "\n",
    "                next_bug = bugs[bug_idx2]\n",
    "                next_bug_reports = idx_data[app][next_bug]\n",
    "\n",
    "                # for each bug report\n",
    "                for br_idx in range(3):\n",
    "                    query = bug_reports[br_idx][1]\n",
    "\n",
    "                    duplicate_corpus = [bug_reports[(br_idx + 1) % 3][1], bug_reports[(br_idx + 2) % 3][1]]\n",
    "                    ground_truth = duplicate_corpus.copy()\n",
    "                    duplicate_corpus.extend([l[1] for l in next_bug_reports])\n",
    "\n",
    "                    # for each user\n",
    "                    for br_idx2 in range(3):\n",
    "                        # get the non-duplicate corpus for each user and all other bugs except current one\n",
    "                        non_duplicate_corpus = get_non_duplicate_corpus(bugs, bug_idx, app_data, br_idx2, [next_bug])\n",
    "\n",
    "                        retrieval_job = {\n",
    "                            'run_id': run_id,\n",
    "                            'query': query,\n",
    "                            'corpus_size': len(duplicate_corpus) + len(non_duplicate_corpus),\n",
    "                            'dup_corpus': duplicate_corpus,\n",
    "                            'non_dup_corpus': non_duplicate_corpus,\n",
    "                            'gnd_trh': ground_truth\n",
    "                        }\n",
    "                        run_id += 1\n",
    "                        retrieval_runs.append(retrieval_job)\n",
    "    \n",
    "    write_json_line_by_line(retrieval_runs, out_path/'setting2.json')"
   ]
  },
  {
   "cell_type": "code",
   "execution_count": null,
   "metadata": {},
   "outputs": [],
   "source": [
    "path = Path('/tf/data/')\n",
    "csv_file_path = path/'artifacts/user_assignment.csv'\n",
    "video_data = read_video_data(csv_file_path)\n",
    "generate_setting2(video_data, path/'outputs/evaluation_settings')"
   ]
  },
  {
   "cell_type": "code",
   "execution_count": 17,
   "metadata": {},
   "outputs": [],
   "source": [
    "# export\n",
    "def get_all_texts(vid_ds, out_path, fps):\n",
    "    Path(out_path).mkdir(parents=True, exist_ok=True)\n",
    "\n",
    "    video_output_path = os.path.join(out_path, \"text_\" + str(fps))\n",
    "    Path(video_output_path).mkdir(parents=True, exist_ok=True)\n",
    "\n",
    "    videos = [vid.vid_path for vid in vid_ds.videos]\n",
    "    for video_path in videos:\n",
    "        video_path_obj = Path(video_path)\n",
    "\n",
    "        file_name = ntpath.basename(video_path).split(\".\")[0]\n",
    "        video_name = file_name + \"-\" + str(video_path_obj.parent.parent.parent.stem)\n",
    "\n",
    "        frame_path = os.path.join(out_path, \"frames_\" + str(fps), video_name)\n",
    "        Path(frame_path).mkdir(parents=True, exist_ok=True)\n",
    "\n",
    "        frames = find_file(\"*.jpeg\", frame_path)\n",
    "        if not frames:\n",
    "            extract_frames(video_path_obj, frame_path, fps)\n",
    "        frames = find_file(\"*.jpeg\", frame_path)\n",
    "\n",
    "        frames_text = []\n",
    "        with concurrent.futures.ThreadPoolExecutor(max_workers=12) as executor:\n",
    "            futures = []\n",
    "            for frame in frames:\n",
    "                futures.append(executor.submit(process_frame, frame))\n",
    "            for future in concurrent.futures.as_completed(futures):\n",
    "                frames_text.append(future.result())\n",
    "\n",
    "        frames_text = sorted(frames_text, key=lambda t: t[\"f\"])\n",
    "\n",
    "        out_file = os.path.join(video_output_path, video_name + '.json')\n",
    "        write_json_line_by_line(frames_text, out_file)\n",
    "\n",
    "        print(\"done: \" + video_name)"
   ]
  },
  {
   "cell_type": "code",
   "execution_count": 14,
   "metadata": {
    "scrolled": true
   },
   "outputs": [
    {
     "name": "stdout",
     "output_type": "stream",
     "text": [
      "hi\n"
     ]
    },
    {
     "ename": "KeyboardInterrupt",
     "evalue": "",
     "output_type": "error",
     "traceback": [
      "\u001b[0;31m---------------------------------------------------------------------------\u001b[0m",
      "\u001b[0;31mKeyboardInterrupt\u001b[0m                         Traceback (most recent call last)",
      "\u001b[0;32m<ipython-input-14-62326d4b9df1>\u001b[0m in \u001b[0;36m<module>\u001b[0;34m\u001b[0m\n\u001b[1;32m      2\u001b[0m \u001b[0mvid_path\u001b[0m \u001b[0;34m=\u001b[0m \u001b[0mpath\u001b[0m\u001b[0;34m/\u001b[0m\u001b[0;34m'artifacts/videos'\u001b[0m\u001b[0;34m\u001b[0m\u001b[0;34m\u001b[0m\u001b[0m\n\u001b[1;32m      3\u001b[0m \u001b[0mout_path\u001b[0m \u001b[0;34m=\u001b[0m \u001b[0mpath\u001b[0m\u001b[0;34m/\u001b[0m\u001b[0;34m'artifacts/extracted_text'\u001b[0m\u001b[0;34m\u001b[0m\u001b[0;34m\u001b[0m\u001b[0m\n\u001b[0;32m----> 4\u001b[0;31m \u001b[0mget_all_texts\u001b[0m\u001b[0;34m(\u001b[0m\u001b[0mvid_path\u001b[0m\u001b[0;34m,\u001b[0m \u001b[0mout_path\u001b[0m\u001b[0;34m,\u001b[0m \u001b[0;36m1\u001b[0m\u001b[0;34m)\u001b[0m\u001b[0;34m\u001b[0m\u001b[0;34m\u001b[0m\u001b[0m\n\u001b[0m",
      "\u001b[0;32m<ipython-input-13-7444f5f93873>\u001b[0m in \u001b[0;36mget_all_texts\u001b[0;34m(vid_path, out_path, fps)\u001b[0m\n\u001b[1;32m     28\u001b[0m             \u001b[0;32mfor\u001b[0m \u001b[0mframe\u001b[0m \u001b[0;32min\u001b[0m \u001b[0mframes\u001b[0m\u001b[0;34m:\u001b[0m\u001b[0;34m\u001b[0m\u001b[0;34m\u001b[0m\u001b[0m\n\u001b[1;32m     29\u001b[0m                 \u001b[0mfutures\u001b[0m\u001b[0;34m.\u001b[0m\u001b[0mappend\u001b[0m\u001b[0;34m(\u001b[0m\u001b[0mexecutor\u001b[0m\u001b[0;34m.\u001b[0m\u001b[0msubmit\u001b[0m\u001b[0;34m(\u001b[0m\u001b[0mprocess_frame\u001b[0m\u001b[0;34m,\u001b[0m \u001b[0mframe\u001b[0m\u001b[0;34m)\u001b[0m\u001b[0;34m)\u001b[0m\u001b[0;34m\u001b[0m\u001b[0;34m\u001b[0m\u001b[0m\n\u001b[0;32m---> 30\u001b[0;31m             \u001b[0;32mfor\u001b[0m \u001b[0mfuture\u001b[0m \u001b[0;32min\u001b[0m \u001b[0mconcurrent\u001b[0m\u001b[0;34m.\u001b[0m\u001b[0mfutures\u001b[0m\u001b[0;34m.\u001b[0m\u001b[0mas_completed\u001b[0m\u001b[0;34m(\u001b[0m\u001b[0mfutures\u001b[0m\u001b[0;34m)\u001b[0m\u001b[0;34m:\u001b[0m\u001b[0;34m\u001b[0m\u001b[0;34m\u001b[0m\u001b[0m\n\u001b[0m\u001b[1;32m     31\u001b[0m                 \u001b[0mframes_text\u001b[0m\u001b[0;34m.\u001b[0m\u001b[0mappend\u001b[0m\u001b[0;34m(\u001b[0m\u001b[0mfuture\u001b[0m\u001b[0;34m.\u001b[0m\u001b[0mresult\u001b[0m\u001b[0;34m(\u001b[0m\u001b[0;34m)\u001b[0m\u001b[0;34m)\u001b[0m\u001b[0;34m\u001b[0m\u001b[0;34m\u001b[0m\u001b[0m\n\u001b[1;32m     32\u001b[0m \u001b[0;34m\u001b[0m\u001b[0m\n",
      "\u001b[0;32m~usr/lib/python3.6/concurrent/futures/_base.py\u001b[0m in \u001b[0;36mas_completed\u001b[0;34m(fs, timeout)\u001b[0m\n\u001b[1;32m    238\u001b[0m                             len(pending), total_futures))\n\u001b[1;32m    239\u001b[0m \u001b[0;34m\u001b[0m\u001b[0m\n\u001b[0;32m--> 240\u001b[0;31m             \u001b[0mwaiter\u001b[0m\u001b[0;34m.\u001b[0m\u001b[0mevent\u001b[0m\u001b[0;34m.\u001b[0m\u001b[0mwait\u001b[0m\u001b[0;34m(\u001b[0m\u001b[0mwait_timeout\u001b[0m\u001b[0;34m)\u001b[0m\u001b[0;34m\u001b[0m\u001b[0;34m\u001b[0m\u001b[0m\n\u001b[0m\u001b[1;32m    241\u001b[0m \u001b[0;34m\u001b[0m\u001b[0m\n\u001b[1;32m    242\u001b[0m             \u001b[0;32mwith\u001b[0m \u001b[0mwaiter\u001b[0m\u001b[0;34m.\u001b[0m\u001b[0mlock\u001b[0m\u001b[0;34m:\u001b[0m\u001b[0;34m\u001b[0m\u001b[0;34m\u001b[0m\u001b[0m\n",
      "\u001b[0;32m~usr/lib/python3.6/threading.py\u001b[0m in \u001b[0;36mwait\u001b[0;34m(self, timeout)\u001b[0m\n\u001b[1;32m    549\u001b[0m             \u001b[0msignaled\u001b[0m \u001b[0;34m=\u001b[0m \u001b[0mself\u001b[0m\u001b[0;34m.\u001b[0m\u001b[0m_flag\u001b[0m\u001b[0;34m\u001b[0m\u001b[0;34m\u001b[0m\u001b[0m\n\u001b[1;32m    550\u001b[0m             \u001b[0;32mif\u001b[0m \u001b[0;32mnot\u001b[0m \u001b[0msignaled\u001b[0m\u001b[0;34m:\u001b[0m\u001b[0;34m\u001b[0m\u001b[0;34m\u001b[0m\u001b[0m\n\u001b[0;32m--> 551\u001b[0;31m                 \u001b[0msignaled\u001b[0m \u001b[0;34m=\u001b[0m \u001b[0mself\u001b[0m\u001b[0;34m.\u001b[0m\u001b[0m_cond\u001b[0m\u001b[0;34m.\u001b[0m\u001b[0mwait\u001b[0m\u001b[0;34m(\u001b[0m\u001b[0mtimeout\u001b[0m\u001b[0;34m)\u001b[0m\u001b[0;34m\u001b[0m\u001b[0;34m\u001b[0m\u001b[0m\n\u001b[0m\u001b[1;32m    552\u001b[0m             \u001b[0;32mreturn\u001b[0m \u001b[0msignaled\u001b[0m\u001b[0;34m\u001b[0m\u001b[0;34m\u001b[0m\u001b[0m\n\u001b[1;32m    553\u001b[0m \u001b[0;34m\u001b[0m\u001b[0m\n",
      "\u001b[0;32m~usr/lib/python3.6/threading.py\u001b[0m in \u001b[0;36mwait\u001b[0;34m(self, timeout)\u001b[0m\n\u001b[1;32m    293\u001b[0m         \u001b[0;32mtry\u001b[0m\u001b[0;34m:\u001b[0m    \u001b[0;31m# restore state no matter what (e.g., KeyboardInterrupt)\u001b[0m\u001b[0;34m\u001b[0m\u001b[0;34m\u001b[0m\u001b[0m\n\u001b[1;32m    294\u001b[0m             \u001b[0;32mif\u001b[0m \u001b[0mtimeout\u001b[0m \u001b[0;32mis\u001b[0m \u001b[0;32mNone\u001b[0m\u001b[0;34m:\u001b[0m\u001b[0;34m\u001b[0m\u001b[0;34m\u001b[0m\u001b[0m\n\u001b[0;32m--> 295\u001b[0;31m                 \u001b[0mwaiter\u001b[0m\u001b[0;34m.\u001b[0m\u001b[0macquire\u001b[0m\u001b[0;34m(\u001b[0m\u001b[0;34m)\u001b[0m\u001b[0;34m\u001b[0m\u001b[0;34m\u001b[0m\u001b[0m\n\u001b[0m\u001b[1;32m    296\u001b[0m                 \u001b[0mgotit\u001b[0m \u001b[0;34m=\u001b[0m \u001b[0;32mTrue\u001b[0m\u001b[0;34m\u001b[0m\u001b[0;34m\u001b[0m\u001b[0m\n\u001b[1;32m    297\u001b[0m             \u001b[0;32melse\u001b[0m\u001b[0;34m:\u001b[0m\u001b[0;34m\u001b[0m\u001b[0;34m\u001b[0m\u001b[0m\n",
      "\u001b[0;31mKeyboardInterrupt\u001b[0m: "
     ]
    }
   ],
   "source": [
    "path = Path('/tf/main/tango_reproduction_package')\n",
    "vid_path = path/'artifacts/videos'\n",
    "out_path = path/'artifacts/extracted_text'\n",
    "get_all_texts(vid_path, out_path, 1)"
   ]
  },
  {
   "cell_type": "code",
   "execution_count": null,
   "metadata": {},
   "outputs": [],
   "source": []
  },
  {
   "cell_type": "code",
   "execution_count": 2,
   "metadata": {},
   "outputs": [
    {
     "name": "stdout",
     "output_type": "stream",
     "text": [
      "Converted 00_prep.ipynb.\n",
      "Converted 01_features.ipynb.\n",
      "Converted 02_eval.ipynb.\n",
      "Converted 03_model.ipynb.\n",
      "Converted 04_approach.ipynb.\n",
      "Converted 05_cli.ipynb.\n",
      "Converted 06_results.ipynb.\n",
      "Converted 07_utils.ipynb.\n",
      "Converted 08_combo.ipynb.\n",
      "Converted index.ipynb.\n"
     ]
    }
   ],
   "source": [
    "from nbdev.export import notebook2script\n",
    "notebook2script()"
   ]
  },
  {
   "cell_type": "code",
   "execution_count": null,
   "metadata": {},
   "outputs": [],
   "source": []
  }
 ],
 "metadata": {
  "kernelspec": {
   "display_name": "Python 3",
   "language": "python",
   "name": "python3"
  },
  "language_info": {
   "codemirror_mode": {
    "name": "ipython",
    "version": 3
   },
   "file_extension": ".py",
   "mimetype": "text/x-python",
   "name": "python",
   "nbconvert_exporter": "python",
   "pygments_lexer": "ipython3",
   "version": "3.6.9"
  }
 },
 "nbformat": 4,
 "nbformat_minor": 2
}
