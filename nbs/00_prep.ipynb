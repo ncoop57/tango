{
 "cells": [
  {
   "cell_type": "code",
   "execution_count": null,
   "metadata": {},
   "outputs": [],
   "source": [
    "# default_exp prep"
   ]
  },
  {
   "cell_type": "markdown",
   "metadata": {},
   "source": [
    "# Prep\n",
    "\n",
    "> This module contains all the necessary functions for loading and preprocessing videos into a standard format to be used in the rest of the pipeline."
   ]
  },
  {
   "cell_type": "code",
   "execution_count": null,
   "metadata": {},
   "outputs": [],
   "source": [
    "#export\n",
    "import cv2\n",
    "import ffmpeg\n",
    "import numpy\n",
    "import random\n",
    "import scenedetect\n",
    "\n",
    "# scenedetect\n",
    "from scenedetect.video_manager import VideoManager\n",
    "from scenedetect.scene_manager import SceneManager\n",
    "from scenedetect.frame_timecode import FrameTimecode\n",
    "from scenedetect.stats_manager import StatsManager\n",
    "from scenedetect.detectors import ContentDetector\n",
    "from scenedetect.video_splitter import is_ffmpeg_available, split_video_ffmpeg\n",
    "\n",
    "from pathlib import Path"
   ]
  },
  {
   "cell_type": "code",
   "execution_count": null,
   "metadata": {},
   "outputs": [],
   "source": [
    "#hide\n",
    "from nbdev.showdoc import *"
   ]
  },
  {
   "cell_type": "code",
   "execution_count": null,
   "metadata": {},
   "outputs": [],
   "source": [
    "#export\n",
    "def fix_frame_rate(video_paths, fr = 30):\n",
    "    \"\"\"\n",
    "        Fixes each video in the list of video paths to a certain frame rate\n",
    "        \n",
    "        Returns a list of paths to the new fixed frame rate videos\n",
    "    \"\"\"\n",
    "    fixed_paths = []\n",
    "    for vp in video_paths:\n",
    "        try:\n",
    "            stream = ffmpeg.input(vp)\n",
    "            stream = ffmpeg.output(stream, str(vp.parent/\"fixed.mp4\"), r = fr)\n",
    "            stream = ffmpeg.overwrite_output(stream)\n",
    "            out, err = ffmpeg.run(stream)\n",
    "            \n",
    "            fixed_paths.append(vp.parent/\"fixed.mp4\")\n",
    "        except Exception as e:\n",
    "            print(\"Error occured:\", e)\n",
    "    \n",
    "    return fixed_paths"
   ]
  },
  {
   "cell_type": "code",
   "execution_count": null,
   "metadata": {},
   "outputs": [],
   "source": [
    "path = Path(\"/tf/data/datasets/videos\")\n",
    "video_paths = sorted(path.glob(\"**/video.mp4\")); video_paths[:6]"
   ]
  },
  {
   "cell_type": "code",
   "execution_count": null,
   "metadata": {},
   "outputs": [],
   "source": [
    "fr = 30.0\n",
    "fixed_paths = fix_frame_rate(video_paths[4:6], fr)"
   ]
  },
  {
   "cell_type": "code",
   "execution_count": null,
   "metadata": {},
   "outputs": [],
   "source": [
    "for fp in fixed_paths[:2]:\n",
    "    assert fr == eval(ffmpeg.probe(fp)[\"streams\"][0][\"avg_frame_rate\"])"
   ]
  },
  {
   "cell_type": "code",
   "execution_count": null,
   "metadata": {},
   "outputs": [],
   "source": [
    "#export\n",
    "def chunk_videos(vid_paths):\n",
    "    \"\"\"Chunks videos into different scenes based on their content for later processing.\"\"\"\n",
    "    \n",
    "    for vp in vid_paths:\n",
    "        try:\n",
    "            # Setup the different managers for chunking the scenes.\n",
    "            video_manager = VideoManager([str(vp)])\n",
    "            stats_manager = StatsManager()\n",
    "            scene_manager = SceneManager(stats_manager)\n",
    "\n",
    "            # Add ContentDetector algorithm (constructor takes detector options like threshold).\n",
    "            scene_manager.add_detector(ContentDetector())\n",
    "            base_timecode = video_manager.get_base_timecode()\n",
    "\n",
    "            # Set downscale factor to improve processing speed (no args means default).\n",
    "            video_manager.set_downscale_factor()\n",
    "\n",
    "            # Set the duration to be however long the video is and start the video manager.\n",
    "            video_manager.set_duration()\n",
    "            video_manager.start()\n",
    "\n",
    "            # Perform scene detection on video_manager and grab the scenes.\n",
    "            scene_manager.detect_scenes(frame_source=video_manager)\n",
    "            scene_list = scene_manager.get_scene_list(base_timecode)\n",
    "\n",
    "            # If the output dir of the chunked videos does not exist, create it.\n",
    "            if not (vp.parent/\"chunks\").exists():\n",
    "                (vp.parent/\"chunks\").mkdir()\n",
    "                \n",
    "            # Split the video into chunks based on the scene list and save to the \"chunks\" folder.\n",
    "            split_video_ffmpeg([vp], scene_list,\n",
    "                               str(vp.parent/\"chunks/$VIDEO_NAME-$SCENE_NUMBER.mp4\"),\n",
    "                               \"chunk\"#, arg_override = args\n",
    "                              )\n",
    "            with open(\"stats.csv\", 'w') as stats_file:\n",
    "                stats_manager.save_to_csv(stats_file, base_timecode)\n",
    "        finally:\n",
    "            # Close out the video_manager.\n",
    "            video_manager.release()"
   ]
  },
  {
   "cell_type": "code",
   "execution_count": null,
   "metadata": {},
   "outputs": [],
   "source": [
    "chunk_videos(fixed_paths[:1])"
   ]
  },
  {
   "cell_type": "code",
   "execution_count": null,
   "metadata": {},
   "outputs": [],
   "source": [
    "stream = ffmpeg.input(video_paths[4])"
   ]
  },
  {
   "cell_type": "code",
   "execution_count": null,
   "metadata": {},
   "outputs": [],
   "source": [
    "stream = ffmpeg.filter(stream, \"decimate\")"
   ]
  },
  {
   "cell_type": "code",
   "execution_count": null,
   "metadata": {},
   "outputs": [],
   "source": [
    "stream = ffmpeg.output(stream, 'output.mp4')"
   ]
  },
  {
   "cell_type": "code",
   "execution_count": null,
   "metadata": {},
   "outputs": [],
   "source": [
    "out, err = ffmpeg.run(stream)"
   ]
  },
  {
   "cell_type": "code",
   "execution_count": null,
   "metadata": {},
   "outputs": [],
   "source": [
    "#export\n",
    "def get_rand_imgs(vid_path, max_msecs, n = 10):\n",
    "    vid = cv2.VideoCapture(str(vid_path))\n",
    "    \n",
    "    imgs = []\n",
    "    while len(imgs) < n:\n",
    "        msec = random.randrange(1_000, max_msecs, 1_000)\n",
    "        vid.set(cv2.CAP_PROP_POS_MSEC, msec)\n",
    "        \n",
    "        success, img = vid.read()\n",
    "        if success:\n",
    "            imgs.append(img)\n",
    "    \n",
    "    return imgs"
   ]
  },
  {
   "cell_type": "code",
   "execution_count": null,
   "metadata": {},
   "outputs": [],
   "source": [
    "imgs = get_rand_imgs(video_paths[0], 30_000, n = 5)"
   ]
  },
  {
   "cell_type": "code",
   "execution_count": null,
   "metadata": {},
   "outputs": [],
   "source": [
    "for img in imgs:\n",
    "    plt.imshow(img)\n",
    "    plt.show()"
   ]
  },
  {
   "cell_type": "code",
   "execution_count": null,
   "metadata": {},
   "outputs": [],
   "source": []
  },
  {
   "cell_type": "code",
   "execution_count": null,
   "metadata": {},
   "outputs": [],
   "source": [
    "#export\n",
    "def vid_from_frames(frames, output = None, fr = 30):\n",
    "    \"\"\"Generate video from list of frame paths.\"\"\"\n",
    "    if not output: output = frames.parent\n",
    "    \n",
    "    try:\n",
    "        stream = ffmpeg.input(test_path/'%04d.jpg')\n",
    "        stream = ffmpeg.output(stream, str(output/\"gen_vid.mp4\"), r = fr)\n",
    "        out, err = ffmpeg.run(stream)\n",
    "    except Exception as e:\n",
    "        print(\"Error occured:\", e)"
   ]
  },
  {
   "cell_type": "code",
   "execution_count": null,
   "metadata": {},
   "outputs": [],
   "source": [
    "test_path = Path(\"/tf/data/v2s/android-video-based-record-replay/Code/Video2Scenario/data/videos/v2s-1/extracted_frames\")\n",
    "vid_from_frames(test_path, Path('.'))"
   ]
  },
  {
   "cell_type": "code",
   "execution_count": null,
   "metadata": {},
   "outputs": [
    {
     "data": {
      "text/plain": [
       "'30/1'"
      ]
     },
     "execution_count": null,
     "metadata": {},
     "output_type": "execute_result"
    }
   ],
   "source": [
    "ffmpeg.probe('gen_vid.mp4')[\"streams\"][0][\"avg_frame_rate\"]"
   ]
  },
  {
   "cell_type": "code",
   "execution_count": null,
   "metadata": {},
   "outputs": [
    {
     "data": {
      "text/html": [
       "<video width=\"420\" height=\"315\" controls autoplay>\n",
       "    <source src=\"gen_vid.mp4\" type=\"video/mp4\"/>\n",
       "</video>\n"
      ],
      "text/plain": [
       "<IPython.core.display.HTML object>"
      ]
     },
     "metadata": {},
     "output_type": "display_data"
    }
   ],
   "source": [
    "%%HTML\n",
    "<video width=\"420\" height=\"315\" controls autoplay>\n",
    "    <source src=\"gen_vid.mp4\" type=\"video/mp4\"/>\n",
    "</video>"
   ]
  },
  {
   "cell_type": "code",
   "execution_count": null,
   "metadata": {},
   "outputs": [],
   "source": []
  },
  {
   "cell_type": "code",
   "execution_count": null,
   "metadata": {},
   "outputs": [],
   "source": [
    "from nbdev.export import notebook2script\n",
    "notebook2script()"
   ]
  },
  {
   "cell_type": "code",
   "execution_count": null,
   "metadata": {},
   "outputs": [],
   "source": []
  }
 ],
 "metadata": {
  "kernelspec": {
   "display_name": "Python 3",
   "language": "python",
   "name": "python3"
  }
 },
 "nbformat": 4,
 "nbformat_minor": 2
}
